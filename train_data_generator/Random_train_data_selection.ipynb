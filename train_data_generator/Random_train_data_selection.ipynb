{
 "cells": [
  {
   "cell_type": "code",
   "execution_count": 1,
   "metadata": {
    "collapsed": true
   },
   "outputs": [],
   "source": [
    "import sys\n",
    "\n",
    "sys.path.insert(0, '/home/jianx/search-exposure/')\n",
    "import faiss\n",
    "import numpy as np\n",
    "import forward_ranker.load_data as load_data\n",
    "from forward_ranker.utils import print_message\n",
    "from forward_ranker.utils import timestamp\n",
    "obj_reader = load_data.obj_reader\n",
    "obj_writer = load_data.obj_writer\n",
    "import random"
   ]
  },
  {
   "cell_type": "code",
   "execution_count": null,
   "outputs": [],
   "source": [
    "TRAIN_SIZE = 200_000\n",
    "TEST_SIZE = 20_000\n",
    "N_QUERIES = 250_000\n",
    "\n",
    "all_lcs = set(random.sample(range(8841823), TRAIN_SIZE+TEST_SIZE))\n",
    "test_lcs = set(random.sample(all_lcs, TEST_SIZE))\n",
    "train_lcs = all_lcs - test_lcs\n",
    "print(len(test_lcs),len(train_lcs))\n",
    "print(test_lcs)"
   ],
   "metadata": {
    "collapsed": false,
    "pycharm": {
     "name": "#%%\n"
    }
   }
  },
  {
   "cell_type": "code",
   "execution_count": null,
   "outputs": [],
   "source": [
    "INPUT_PATH = \"/datadrive/jianx/data/train_data/ance_training_rank100_nqueries250000_8841823.csv\"\n",
    "TRAIN_PATH = \"/datadrive/jianx/data/train_data/ance_training_rank100_nqueries{}_{}_random_{}.csv\".format(N_QUERIES,TRAIN_SIZE, timestamp())\n",
    "TEST_PATH = \"/datadrive/jianx/data/train_data/ance_testing_rank100_nqueries{}_{}_random_{}.csv\".format(N_QUERIES, TEST_SIZE, timestamp())"
   ],
   "metadata": {
    "collapsed": false,
    "pycharm": {
     "name": "#%%\n"
    }
   }
  },
  {
   "cell_type": "code",
   "execution_count": null,
   "outputs": [],
   "source": [
    "with open(TRAIN_PATH, \"w+\") as f:\n",
    "    f.write(\"\")\n",
    "with open(TEST_PATH, \"w+\") as f:\n",
    "    f.write(\"\")\n",
    "\n",
    "with open(INPUT_PATH, \"r\") as f:\n",
    "    lc = 0\n",
    "    for line in f:\n",
    "        if lc//100 in train_lcs:\n",
    "            pid = line.split(\",\")[0]\n",
    "            qid = line.split(\",\")[1]\n",
    "            rank = line.split(\",\")[2]\n",
    "            with open(TRAIN_PATH, \"a\") as outf:\n",
    "                outf.write(\"{},{},{}\".format(pid,qid,rank))\n",
    "        elif lc//100 in test_lcs:\n",
    "            pid = line.split(\",\")[0]\n",
    "            qid = line.split(\",\")[1]\n",
    "            rank = line.split(\",\")[2]\n",
    "            with open(TEST_PATH, \"a\") as outf:\n",
    "                outf.write(\"{},{},{}\".format(pid,qid,rank))\n",
    "        lc += 1"
   ],
   "metadata": {
    "collapsed": false,
    "pycharm": {
     "name": "#%%\n"
    }
   }
  },
  {
   "cell_type": "code",
   "execution_count": null,
   "outputs": [],
   "source": [
    "print(\"Finished\")"
   ],
   "metadata": {
    "collapsed": false,
    "pycharm": {
     "name": "#%%\n"
    }
   }
  },
  {
   "cell_type": "code",
   "execution_count": null,
   "outputs": [],
   "source": [
    "train_pos = obj_reader(\"/datadrive/ruohan/data/train_pos_dict.pb\")\n",
    "train_neg = obj_reader(\"/datadrive/ruohan/data/train_neg_dict.pb\")\n",
    "test_all = obj_reader(\"/datadrive/ruohan/data/test_rank_dict.pb\")\n",
    "print(len(train_neg.keys()))\n",
    "print(len(test_all.keys()))"
   ],
   "metadata": {
    "collapsed": false,
    "pycharm": {
     "name": "#%%\n"
    }
   }
  },
  {
   "cell_type": "code",
   "execution_count": null,
   "outputs": [],
   "source": [
    "TRAIN_PATH = \"/datadrive/jianx/data/train_data/ance_training_rank100_nqueries{}_{}_random_{}.csv\".format(\"full\",TRAIN_SIZE, timestamp())\n",
    "TEST_PATH = \"/datadrive/jianx/data/train_data/ance_testing_rank100_nqueries{}_{}_random_{}.csv\".format(\"full\", TEST_SIZE, timestamp())\n",
    "with open(TRAIN_PATH, \"w+\") as f:\n",
    "    f.write(\"\")\n",
    "with open(TEST_PATH, \"w+\") as f:\n",
    "    f.write(\"\")\n",
    "print(TRAIN_PATH,TEST_PATH)"
   ],
   "metadata": {
    "collapsed": false,
    "pycharm": {
     "name": "#%%\n"
    }
   }
  },
  {
   "cell_type": "code",
   "execution_count": null,
   "outputs": [],
   "source": [
    "# RECOVER\n",
    "with open(\"/datadrive/jianx/data/train_data/ance_training_rank100_8841823.csv\", \"r\") as f:\n",
    "    for line in f:\n",
    "        if int(line.split(\",\")[0]) in train_neg.keys():\n",
    "            with open(TRAIN_PATH, \"a\") as outf:\n",
    "                outf.write(line)\n",
    "        if int(line.split(\",\")[0]) in test_all.keys():\n",
    "            with open(TEST_PATH, \"a\") as outf:\n",
    "                outf.write(line)"
   ],
   "metadata": {
    "collapsed": false,
    "pycharm": {
     "name": "#%%\n"
    }
   }
  },
  {
   "cell_type": "code",
   "execution_count": null,
   "outputs": [],
   "source": [
    "WHOLE_PATH = \"/datadrive/jianx/data/train_data/ance_training_rank100_8841823.csv\"\n",
    "TEST_PATH = \"/datadrive/jianx/data/train_data/ance_testing_rank100_nqueries250000_20000_random_Aug_24_19:43:52.csv\"\n",
    "OUT_PATH = \"/datadrive/jianx/data/train_data/ance_baseline_rank100_nqueries250000_20000_random_Aug_24_19:43:52.csv\"\n",
    "pids = set({})\n",
    "with open(TEST_PATH, \"r\") as f:\n",
    "    for line in f:\n",
    "        if int(line.split(\",\")[0]) not in pids:\n",
    "            pids.add(int(line.split(\",\")[0]))\n",
    "with open(OUT_PATH, \"w+\") as out:\n",
    "    with open(WHOLE_PATH, \"r\") as f:\n",
    "        for line in f:\n",
    "            if int(line.split(\",\")[0]) in pids:\n",
    "                out.write(line)"
   ],
   "metadata": {
    "collapsed": false,
    "pycharm": {
     "name": "#%%\n"
    }
   }
  },
  {
   "cell_type": "code",
   "execution_count": 2,
   "outputs": [
    {
     "ename": "PermissionError",
     "evalue": "[Errno 13] Permission denied: '/datadrive/ruohan/data/top1000_train.dict'",
     "output_type": "error",
     "traceback": [
      "\u001B[0;31m---------------------------------------------------------------------------\u001B[0m",
      "\u001B[0;31mPermissionError\u001B[0m                           Traceback (most recent call last)",
      "\u001B[0;32m<ipython-input-2-1bb14b7c619c>\u001B[0m in \u001B[0;36m<module>\u001B[0;34m\u001B[0m\n\u001B[1;32m      6\u001B[0m             \u001B[0mtop_1000\u001B[0m\u001B[0;34m[\u001B[0m\u001B[0mint\u001B[0m\u001B[0;34m(\u001B[0m\u001B[0msplit\u001B[0m\u001B[0;34m[\u001B[0m\u001B[0;36m0\u001B[0m\u001B[0;34m]\u001B[0m\u001B[0;34m)\u001B[0m\u001B[0;34m]\u001B[0m \u001B[0;34m=\u001B[0m \u001B[0;34m[\u001B[0m\u001B[0;34m]\u001B[0m\u001B[0;34m\u001B[0m\u001B[0;34m\u001B[0m\u001B[0m\n\u001B[1;32m      7\u001B[0m         \u001B[0mtop_1000\u001B[0m\u001B[0;34m[\u001B[0m\u001B[0mint\u001B[0m\u001B[0;34m(\u001B[0m\u001B[0msplit\u001B[0m\u001B[0;34m[\u001B[0m\u001B[0;36m0\u001B[0m\u001B[0;34m]\u001B[0m\u001B[0;34m)\u001B[0m\u001B[0;34m]\u001B[0m\u001B[0;34m.\u001B[0m\u001B[0mappend\u001B[0m\u001B[0;34m(\u001B[0m\u001B[0mint\u001B[0m\u001B[0;34m(\u001B[0m\u001B[0msplit\u001B[0m\u001B[0;34m[\u001B[0m\u001B[0;36m1\u001B[0m\u001B[0;34m]\u001B[0m\u001B[0;34m)\u001B[0m\u001B[0;34m)\u001B[0m\u001B[0;34m\u001B[0m\u001B[0;34m\u001B[0m\u001B[0m\n\u001B[0;32m----> 8\u001B[0;31m \u001B[0mobj_writer\u001B[0m\u001B[0;34m(\u001B[0m\u001B[0mtop_1000\u001B[0m\u001B[0;34m,\u001B[0m\u001B[0;34m\"/datadrive/ruohan/data/top1000_train.dict\"\u001B[0m \u001B[0;34m)\u001B[0m\u001B[0;34m\u001B[0m\u001B[0;34m\u001B[0m\u001B[0m\n\u001B[0m",
      "\u001B[0;32m~/search-exposure/forward_ranker/load_data.py\u001B[0m in \u001B[0;36mobj_writer\u001B[0;34m(obj, path)\u001B[0m\n\u001B[1;32m     17\u001B[0m \u001B[0;34m\u001B[0m\u001B[0m\n\u001B[1;32m     18\u001B[0m \u001B[0;32mdef\u001B[0m \u001B[0mobj_writer\u001B[0m\u001B[0;34m(\u001B[0m\u001B[0mobj\u001B[0m\u001B[0;34m,\u001B[0m \u001B[0mpath\u001B[0m\u001B[0;34m)\u001B[0m\u001B[0;34m:\u001B[0m\u001B[0;34m\u001B[0m\u001B[0;34m\u001B[0m\u001B[0m\n\u001B[0;32m---> 19\u001B[0;31m     \u001B[0;32mwith\u001B[0m \u001B[0mopen\u001B[0m\u001B[0;34m(\u001B[0m\u001B[0mpath\u001B[0m\u001B[0;34m,\u001B[0m \u001B[0;34m'wb'\u001B[0m\u001B[0;34m)\u001B[0m \u001B[0;32mas\u001B[0m \u001B[0mhandle\u001B[0m\u001B[0;34m:\u001B[0m\u001B[0;34m\u001B[0m\u001B[0;34m\u001B[0m\u001B[0m\n\u001B[0m\u001B[1;32m     20\u001B[0m         \u001B[0mpickle\u001B[0m\u001B[0;34m.\u001B[0m\u001B[0mdump\u001B[0m\u001B[0;34m(\u001B[0m\u001B[0mobj\u001B[0m\u001B[0;34m,\u001B[0m \u001B[0mhandle\u001B[0m\u001B[0;34m,\u001B[0m \u001B[0mprotocol\u001B[0m\u001B[0;34m=\u001B[0m\u001B[0mpickle\u001B[0m\u001B[0;34m.\u001B[0m\u001B[0mHIGHEST_PROTOCOL\u001B[0m\u001B[0;34m)\u001B[0m\u001B[0;34m\u001B[0m\u001B[0;34m\u001B[0m\u001B[0m\n\u001B[1;32m     21\u001B[0m \u001B[0;34m\u001B[0m\u001B[0m\n",
      "\u001B[0;31mPermissionError\u001B[0m: [Errno 13] Permission denied: '/datadrive/ruohan/data/top1000_train.dict'"
     ]
    }
   ],
   "source": [
    "top_1000 = {}\n",
    "with open(\"/datadrive/ruohan/data/top1000.train.txt\", \"r\") as f:\n",
    "    for line in f:\n",
    "        split = line.split(\"\\t\")\n",
    "        if int(split[0]) not in top_1000:\n",
    "            top_1000[int(split[0])] = []\n",
    "        top_1000[int(split[0])].append(int(split[1]))"
   ],
   "metadata": {
    "collapsed": false,
    "pycharm": {
     "name": "#%%\n"
    }
   }
  },
  {
   "cell_type": "code",
   "execution_count": 5,
   "outputs": [],
   "source": [
    "obj_writer(top_1000,\"/datadrive/jianx/data/top1000_train.dict\" )\n"
   ],
   "metadata": {
    "collapsed": false,
    "pycharm": {
     "name": "#%%\n"
    }
   }
  }
 ],
 "metadata": {
  "kernelspec": {
   "name": "conda-env-py37_pytorch-py",
   "language": "python",
   "display_name": "Python [conda env:py37_pytorch]"
  },
  "language_info": {
   "codemirror_mode": {
    "name": "ipython",
    "version": 2
   },
   "file_extension": ".py",
   "mimetype": "text/x-python",
   "name": "python",
   "nbconvert_exporter": "python",
   "pygments_lexer": "ipython2",
   "version": "2.7.6"
  }
 },
 "nbformat": 4,
 "nbformat_minor": 0
}
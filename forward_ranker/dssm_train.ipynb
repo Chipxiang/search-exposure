{
 "cells": [
  {
   "cell_type": "markdown",
   "metadata": {},
   "source": [
    "DSSM Training"
   ]
  },
  {
   "cell_type": "code",
   "execution_count": 8,
   "metadata": {
    "pycharm": {
     "name": "#%%\n"
    }
   },
   "outputs": [],
   "source": [
    "import pandas as pd\n",
    "import torch\n",
    "import torch.nn as nn\n",
    "import torch.nn.functional as F\n",
    "import torch.optim as optim"
   ]
  },
  {
   "cell_type": "code",
   "execution_count": 22,
   "outputs": [
    {
     "data": {
      "text/plain": "              0                          1\n0        121352                 1924 2363 \n1        634306         29570 321 193 198 \n2        920825       131 8242 1880 36968 \n3        510633                4711 38 31 \n4        737889                  39755 99 \n...         ...                        ...\n808726   633855          752 703 2420 321 \n808727  1059728            6398 36572 136 \n808728   210839                   1087 22 \n808729   908165           4 685 45818 233 \n808730    50393  294 3136 11405 1704 1424 \n\n[808731 rows x 2 columns]",
      "text/html": "<div>\n<style scoped>\n    .dataframe tbody tr th:only-of-type {\n        vertical-align: middle;\n    }\n\n    .dataframe tbody tr th {\n        vertical-align: top;\n    }\n\n    .dataframe thead th {\n        text-align: right;\n    }\n</style>\n<table border=\"1\" class=\"dataframe\">\n  <thead>\n    <tr style=\"text-align: right;\">\n      <th></th>\n      <th>0</th>\n      <th>1</th>\n    </tr>\n  </thead>\n  <tbody>\n    <tr>\n      <th>0</th>\n      <td>121352</td>\n      <td>1924 2363</td>\n    </tr>\n    <tr>\n      <th>1</th>\n      <td>634306</td>\n      <td>29570 321 193 198</td>\n    </tr>\n    <tr>\n      <th>2</th>\n      <td>920825</td>\n      <td>131 8242 1880 36968</td>\n    </tr>\n    <tr>\n      <th>3</th>\n      <td>510633</td>\n      <td>4711 38 31</td>\n    </tr>\n    <tr>\n      <th>4</th>\n      <td>737889</td>\n      <td>39755 99</td>\n    </tr>\n    <tr>\n      <th>...</th>\n      <td>...</td>\n      <td>...</td>\n    </tr>\n    <tr>\n      <th>808726</th>\n      <td>633855</td>\n      <td>752 703 2420 321</td>\n    </tr>\n    <tr>\n      <th>808727</th>\n      <td>1059728</td>\n      <td>6398 36572 136</td>\n    </tr>\n    <tr>\n      <th>808728</th>\n      <td>210839</td>\n      <td>1087 22</td>\n    </tr>\n    <tr>\n      <th>808729</th>\n      <td>908165</td>\n      <td>4 685 45818 233</td>\n    </tr>\n    <tr>\n      <th>808730</th>\n      <td>50393</td>\n      <td>294 3136 11405 1704 1424</td>\n    </tr>\n  </tbody>\n</table>\n<p>808731 rows × 2 columns</p>\n</div>"
     },
     "metadata": {},
     "output_type": "display_data"
    },
    {
     "data": {
      "text/plain": "0        0\n1    15181\ndtype: int64"
     },
     "execution_count": 22,
     "metadata": {},
     "output_type": "execute_result"
    }
   ],
   "source": [
    "query = pd.read_csv(\"~/data/queries_train_indices.csv\", header = None)\n",
    "display(query)\n",
    "query.isnull().sum()"
   ],
   "metadata": {
    "collapsed": false,
    "pycharm": {
     "name": "#%%\n"
    }
   }
  },
  {
   "cell_type": "code",
   "execution_count": 2,
   "metadata": {
    "pycharm": {
     "name": "#%%\n"
    }
   },
   "outputs": [],
   "source": [
    "def sparse_to_dense(idx, vocab_len):\n",
    "    index_tensor = torch.LongTensor([idx])\n",
    "    value_tensor = torch.Tensor([1]*len(idx))\n",
    "    dense_tensor = torch.sparse.FloatTensor(index_tensor, value_tensor, torch.Size([vocab_len,])).to_dense()\n",
    "    return dense_tensor"
   ]
  },
  {
   "cell_type": "code",
   "execution_count": 1,
   "outputs": [],
   "source": [
    "# test case:\n",
    "top_dict = {1:[11,12,13,14], 2:[21,22,23,24]}\n",
    "rating_dict = {1:{11:3,12:2,13:1}, 2:{21:2,23:1}}\n",
    "query_test_dict = {1:[0,5,2], 2:[1,3,4]}\n",
    "passage_dict = {11:[0,1,2,3,4], 12:[0,3,3,4], 13:[0,1], 14:[1,1,3],21:[1,2,1], 22:[0,2,5], 23:[1,2,2], 24:[0,0,5]}\n",
    "result_dict = {1:{11:0.9, 12: 0, 13:0.5, 14:0.1}, 2:{21:0.3, 22: 0.6, 23:0.9, 24:0}}"
   ],
   "metadata": {
    "collapsed": false,
    "pycharm": {
     "name": "#%%\n"
    }
   }
  },
  {
   "cell_type": "code",
   "execution_count": 28,
   "outputs": [],
   "source": [
    "import math\n",
    "def get_ndcg_precision_rr(true_dict, test_dict, rank):\n",
    "    sorted_result = sorted(test_dict.items(), key=lambda x: (x[1], [-1,1][random.randrange(2)]), reverse=True)\n",
    "    original_rank = rank\n",
    "    rank = min(rank, len(sorted_result))\n",
    "    cumulative_gain = 0\n",
    "    ideal_dict = {}\n",
    "    num_positive = 0\n",
    "    rr = float(\"NaN\")\n",
    "    for i in range(len(sorted_result)):\n",
    "        pid = sorted_result[i][0]\n",
    "        if pid in true_dict:\n",
    "            rr = 1 / (i + 1)\n",
    "            break\n",
    "    for i in range(rank):\n",
    "        pid = sorted_result[i][0]\n",
    "        if pid in true_dict:\n",
    "            num_positive += 1\n",
    "    sorted_result = sorted(test_dict.items(), key=lambda x: x[1], reverse=True)\n",
    "    for i in range(rank):\n",
    "        pid = sorted_result[i][0]\n",
    "        relevance = 0\n",
    "        if pid in true_dict:\n",
    "            relevance = true_dict[pid]\n",
    "        ideal_dict[pid] = relevance\n",
    "        discounted_gain = relevance / math.log2(2 + i)\n",
    "        cumulative_gain += discounted_gain\n",
    "    sorted_ideal = sorted(ideal_dict.items(), key=lambda x: x[1], reverse=True)\n",
    "    ideal_gain = 0\n",
    "    for i in range(rank):\n",
    "        relevance = sorted_ideal[i][1]\n",
    "        discounted_gain = relevance / math.log2(2 + i)\n",
    "        ideal_gain += discounted_gain\n",
    "    ndcg = 0\n",
    "    if ideal_gain != 0:\n",
    "         ndcg = cumulative_gain / ideal_gain\n",
    "    return ndcg, num_positive / original_rank, rr"
   ],
   "metadata": {
    "collapsed": false,
    "pycharm": {
     "name": "#%%\n"
    }
   }
  },
  {
   "cell_type": "code",
   "execution_count": 29,
   "outputs": [
    {
     "data": {
      "text/plain": "(0.9608081943360617, 0.8333333333333334, 1.0)"
     },
     "execution_count": 29,
     "metadata": {},
     "output_type": "execute_result"
    }
   ],
   "source": [
    "import random\n",
    "result_dict = {1:10, 2:9, 3:8, 4:7, 5:6, 6:5}\n",
    "rating_dict = {1:3, 2:2, 3:3, 5:1, 6:2, 7:3, 8:2}\n",
    "get_ndcg_precision_rr(rating_dict, result_dict, 6)"
   ],
   "metadata": {
    "collapsed": false,
    "pycharm": {
     "name": "#%%\n"
    }
   }
  },
  {
   "cell_type": "code",
   "execution_count": 71,
   "outputs": [
    {
     "data": {
      "text/plain": "tensor([0.])"
     },
     "execution_count": 71,
     "metadata": {},
     "output_type": "execute_result"
    }
   ],
   "source": [
    "import torch\n",
    "torch.cosine_similarity(torch.FloatTensor([0,1,0]).unsqueeze(0),torch.FloatTensor([1,0,0]).unsqueeze(0))"
   ],
   "metadata": {
    "collapsed": false,
    "pycharm": {
     "name": "#%%\n"
    }
   }
  },
  {
   "cell_type": "code",
   "execution_count": 4,
   "outputs": [],
   "source": [
    "import sys\n",
    "import os\n",
    "import torch\n",
    "sys.path.insert(0, '/home/jianx/search-exposure/')\n",
    "from load_data import obj_reader\n",
    "from load_data import obj_writer\n",
    "\n",
    "CURRENT_GPU = 0\n",
    "if not os.path.exists(GPU_ROOT):\n",
    "    obj_writer([0,0,0,0], GPU_ROOT)"
   ],
   "metadata": {
    "collapsed": false,
    "pycharm": {
     "name": "#%%\n"
    }
   }
  },
  {
   "cell_type": "code",
   "execution_count": 31,
   "outputs": [
    {
     "name": "stdout",
     "output_type": "stream",
     "text": [
      "[4, 3, 3, 3]\n",
      "0\n",
      "Tesla P100-PCIE-16GB\n"
     ]
    }
   ],
   "source": [
    "def select_device():\n",
    "    argmin = -1\n",
    "    if not torch.cuda.is_available():\n",
    "        device = torch.device(\"cpu\")\n",
    "    else:\n",
    "        gpu_usage_list = obj_reader(GPU_ROOT)\n",
    "        min = 100000\n",
    "        argmin = 0\n",
    "        for i, count in enumerate(gpu_usage_list):\n",
    "            if count < min:\n",
    "                argmin = i\n",
    "                min = count\n",
    "        gpu_usage_list[argmin] += 1\n",
    "        print(gpu_usage_list)\n",
    "        device = torch.device(\"cuda:\" + str(argmin))\n",
    "        obj_writer(gpu_usage_list, GPU_ROOT)\n",
    "    return device,argmin\n",
    "\n",
    "def cleanup_gpu_list():\n",
    "    gpu_usage_list = obj_reader(GPU_ROOT)\n",
    "    gpu_usage_list[CURRENT_GPU] -=1\n",
    "    obj_writer(gpu_usage_list, GPU_ROOT)\n",
    "device,CURRENT_GPU = select_device()\n",
    "print(CURRENT_GPU)\n",
    "print(torch.cuda.get_device_name(device))"
   ],
   "metadata": {
    "collapsed": false,
    "pycharm": {
     "name": "#%%\n"
    }
   }
  },
  {
   "cell_type": "code",
   "execution_count": 29,
   "outputs": [],
   "source": [
    "cleanup_gpu_list()\n",
    "\n",
    "\n",
    "\n",
    "\n",
    "def evaluate_results(results, qrels):\n",
    "    mrr = 0\n",
    "    ncg = 0\n",
    "    ndcg = 0\n",
    "    for qid, docs in results.items():\n",
    "        if qid not in qrels:\n",
    "            continue\n",
    "        qrels_q = qrels[qid]\n",
    "        gains = [qrels_q.get(doc[0], 0) for doc in docs]\n",
    "        ideal_gains = sorted(list(qrels_q.values()), reverse=True)\n",
    "        max_metric_pos_disc = min(len(gains), 10)\n",
    "        max_metric_pos = min(len(gains), 100 if task_docs else 1000)\n",
    "        ideal_max_metric_pos_disc = min(len(ideal_gains), 10)\n",
    "        ideal_max_metric_pos = min(len(ideal_gains), 100 if task_docs else 1000)\n",
    "        cg = sum([gains[i] for i in range(max_metric_pos)])\n",
    "        dcg = sum([gains[i] / math.log2(i + 2) for i in range(max_metric_pos_disc)])\n",
    "        ideal_cg = sum([ideal_gains[i] for i in range(ideal_max_metric_pos)])\n",
    "        ideal_dcg = sum([ideal_gains[i] / math.log2(i + 2) for i in range(ideal_max_metric_pos_disc)])\n",
    "        ncg += cg / ideal_cg if ideal_cg > 0 else 0\n",
    "        ndcg += dcg / ideal_dcg if ideal_dcg > 0 else 0\n",
    "        try:\n",
    "            if task_docs:\n",
    "                mrr += 1 / ([1 if gain > 1 else 0 for gain in gains].index(1) + 1)\n",
    "            else:\n",
    "                mrr += 1 / ([min(gain, 1) for gain in gains].index(1) + 1)\n",
    "        except Exception:\n",
    "            pass\n",
    "    mrr /= len(qrels)\n",
    "    ncg /= len(qrels)\n",
    "    ndcg /= len(qrels)\n",
    "    return mrr, ncg, ndcg"
   ],
   "metadata": {
    "collapsed": false,
    "pycharm": {
     "name": "#%%\n"
    }
   }
  },
  {
   "cell_type": "code",
   "execution_count": 1,
   "outputs": [],
   "source": [
    "import sys\n",
    "sys.path.insert(0, '/home/jianx/search-exposure/forward_ranker/')\n",
    "import torch\n",
    "from train import generate_sparse\n",
    "from load_data import obj_reader\n",
    "import network\n",
    "from annoy import AnnoyIndex"
   ],
   "metadata": {
    "collapsed": false,
    "pycharm": {
     "name": "#%%\n"
    }
   }
  },
  {
   "cell_type": "code",
   "execution_count": 2,
   "outputs": [],
   "source": [
    "MODEL_PATH = \"/home/jianx/data/results/100_1000_1000_0.001_256_10.model\"\n",
    "DEVICE = torch.device(\"cuda:1\")\n",
    "EMBED_SIZE = 256"
   ],
   "metadata": {
    "collapsed": false,
    "pycharm": {
     "name": "#%%\n"
    }
   }
  },
  {
   "cell_type": "code",
   "execution_count": 3,
   "outputs": [
    {
     "data": {
      "text/plain": "DSSM(\n  (model): Sequential(\n    (0): Linear(in_features=100000, out_features=64, bias=True)\n    (1): ReLU()\n    (2): LayerNorm((64,), eps=1e-05, elementwise_affine=True)\n    (3): Dropout(p=0.1, inplace=False)\n    (4): Linear(in_features=64, out_features=64, bias=True)\n    (5): ReLU()\n    (6): LayerNorm((64,), eps=1e-05, elementwise_affine=True)\n    (7): Dropout(p=0.1, inplace=False)\n    (8): Linear(in_features=64, out_features=64, bias=True)\n    (9): ReLU()\n    (10): LayerNorm((64,), eps=1e-05, elementwise_affine=True)\n    (11): Dropout(p=0.1, inplace=False)\n    (12): Linear(in_features=64, out_features=256, bias=True)\n  )\n)"
     },
     "execution_count": 3,
     "metadata": {},
     "output_type": "execute_result"
    }
   ],
   "source": [
    "NET = network.DSSM(embed_size=EMBED_SIZE)\n",
    "NET.load_state_dict(torch.load(MODEL_PATH))\n",
    "NET.to(DEVICE)\n",
    "NET.eval()"
   ],
   "metadata": {
    "collapsed": false,
    "pycharm": {
     "name": "#%%\n"
    }
   }
  },
  {
   "cell_type": "code",
   "execution_count": null,
   "outputs": [],
   "source": [
    "EMBEDDING_PATH = \"/home/jianx/data/results/passage_embeddings.dict\"\n",
    "passage_embeddings = obj_reader(EMBEDDING_PATH)"
   ],
   "metadata": {
    "collapsed": false,
    "pycharm": {
     "name": "#%%\n"
    }
   }
  },
  {
   "cell_type": "code",
   "execution_count": null,
   "outputs": [],
   "source": [
    "print(len(passage_embeddings[0]))"
   ],
   "metadata": {
    "collapsed": false,
    "pycharm": {
     "name": "#%%\n"
    }
   }
  },
  {
   "cell_type": "code",
   "execution_count": 4,
   "outputs": [],
   "source": [
    "QUERY_TEST_DICT = obj_reader(\"/home/jianx/data/queries_test.dict\")\n",
    "PASSAGE_DICT = obj_reader(\"/home/jianx/data/passages.dict\")"
   ],
   "metadata": {
    "collapsed": false,
    "pycharm": {
     "name": "#%%\n"
    }
   }
  },
  {
   "cell_type": "code",
   "execution_count": 5,
   "outputs": [],
   "source": [
    "RATING_DICT = obj_reader(\"/home/jianx/data/rel_scores.dict\")"
   ],
   "metadata": {
    "collapsed": false,
    "pycharm": {
     "name": "#%%\n"
    }
   }
  },
  {
   "cell_type": "markdown",
   "source": [
    "### Brute Force Full Retrieval"
   ],
   "metadata": {
    "collapsed": false
   }
  },
  {
   "cell_type": "code",
   "execution_count": 12,
   "outputs": [
    {
     "data": {
      "text/plain": "torch.Size([43, 1, 256])"
     },
     "execution_count": 12,
     "metadata": {},
     "output_type": "execute_result"
    }
   ],
   "source": [
    "QIDS = list(RATING_DICT.keys())\n",
    "QUERY_EMBEDDINGS = []\n",
    "for qid in QIDS:\n",
    "    q_seq = QUERY_TEST_DICT[qid]\n",
    "    QUERY_EMBEDDINGS.append(NET(generate_sparse(q_seq).to(DEVICE)).detach())\n",
    "QUERY_EMBEDDING_TENSOR = torch.stack(QUERY_EMBEDDINGS, dim=0).unsqueeze(dim=1)\n",
    "QUERY_EMBEDDING_TENSOR.shape"
   ],
   "metadata": {
    "collapsed": false,
    "pycharm": {
     "name": "#%%\n"
    }
   }
  },
  {
   "cell_type": "code",
   "execution_count": 14,
   "outputs": [
    {
     "name": "stdout",
     "output_type": "stream",
     "text": [
      "19335\n"
     ]
    },
    {
     "data": {
      "text/plain": "tensor([True, True, True, True, True, True, True, True, True, True, True, True,\n        True, True, True, True, True, True, True, True, True, True, True, True,\n        True, True, True, True, True, True, True, True, True, True, True, True,\n        True, True, True, True, True, True, True, True, True, True, True, True,\n        True, True, True, True, True, True, True, True, True, True, True, True,\n        True, True, True, True, True, True, True, True, True, True, True, True,\n        True, True, True, True, True, True, True, True, True, True, True, True,\n        True, True, True, True, True, True, True, True, True, True, True, True,\n        True, True, True, True, True, True, True, True, True, True, True, True,\n        True, True, True, True, True, True, True, True, True, True, True, True,\n        True, True, True, True, True, True, True, True, True, True, True, True,\n        True, True, True, True, True, True, True, True, True, True, True, True,\n        True, True, True, True, True, True, True, True, True, True, True, True,\n        True, True, True, True, True, True, True, True, True, True, True, True,\n        True, True, True, True, True, True, True, True, True, True, True, True,\n        True, True, True, True, True, True, True, True, True, True, True, True,\n        True, True, True, True, True, True, True, True, True, True, True, True,\n        True, True, True, True, True, True, True, True, True, True, True, True,\n        True, True, True, True, True, True, True, True, True, True, True, True,\n        True, True, True, True, True, True, True, True, True, True, True, True,\n        True, True, True, True, True, True, True, True, True, True, True, True,\n        True, True, True, True], device='cuda:1')"
     },
     "execution_count": 14,
     "metadata": {},
     "output_type": "execute_result"
    }
   ],
   "source": [
    "print(QIDS[0])"
   ],
   "metadata": {
    "collapsed": false,
    "pycharm": {
     "name": "#%%\n"
    }
   }
  },
  {
   "cell_type": "code",
   "execution_count": 46,
   "outputs": [
    {
     "name": "stdout",
     "output_type": "stream",
     "text": [
      "tensor([], size=(3, 0))\n",
      "tensor([[1., 1., 1.],\n",
      "        [2., 2., 2.],\n",
      "        [3., 3., 3.]])\n",
      "tensor([[1., 1., 1., 4., 4., 4.],\n",
      "        [2., 2., 2., 2., 2., 2.],\n",
      "        [3., 3., 3., 3., 3., 3.]])\n",
      "tensor(1.)\n"
     ]
    }
   ],
   "source": [
    "empty = torch.empty([3,0])\n",
    "print(empty)\n",
    "q = torch.FloatTensor([[1,1,1],[2,2,2],[3,3,3]])\n",
    "print(q)\n",
    "p = torch.FloatTensor([[4,4,4],[2,2,2],[3,3,3]])\n",
    "r = torch.cat([empty,q],dim=1)\n",
    "r = torch.cat([r,p],dim=1)\n",
    "print(r)\n",
    "print(r[0].data)"
   ],
   "metadata": {
    "collapsed": false,
    "pycharm": {
     "name": "#%%\n"
    }
   }
  },
  {
   "cell_type": "code",
   "execution_count": 29,
   "outputs": [
    {
     "name": "stdout",
     "output_type": "stream",
     "text": [
      "[[1, 2, 3], [4, 5, 6], [7, 8, 9], [10]]\n"
     ]
    }
   ],
   "source": [
    "pids = [1,2,3,4,5,6,7,8,9,10]\n",
    "pids_2d = []\n",
    "slice_idx = 0\n",
    "while slice_idx + 3 < len(pids):\n",
    "    pid_batch = pids[slice_idx:(slice_idx + 3)]\n",
    "    slice_idx += 3\n",
    "    pids_2d.append(pid_batch)\n",
    "pids_2d.append(pids[slice_idx:])\n",
    "print(pids_2d)"
   ],
   "metadata": {
    "collapsed": false,
    "pycharm": {
     "name": "#%%\n"
    }
   }
  },
  {
   "cell_type": "code",
   "execution_count": 49,
   "outputs": [
    {
     "name": "stdout",
     "output_type": "stream",
     "text": [
      "[Jul 09, 04:26:21] hello\n",
      "100000000\n"
     ]
    }
   ],
   "source": [
    "from datetime import datetime, timezone, timedelta\n",
    "print(\"[{}] {}\".format(datetime.now(timezone(timedelta(hours=-4))).strftime(\"%b %d, %H:%M:%S\"), \"hello\"), flush=True)"
   ],
   "metadata": {
    "collapsed": false,
    "pycharm": {
     "name": "#%%\n"
    }
   }
  },
  {
   "cell_type": "code",
   "execution_count": 8,
   "outputs": [
    {
     "data": {
      "text/plain": "{'three': 3, 'four': 4}"
     },
     "execution_count": 8,
     "metadata": {},
     "output_type": "execute_result"
    }
   ],
   "source": [
    "import random\n",
    "test_dict = {\"one\":1, \"two\":2, \"three\":3, \"four\":4}\n",
    "dict(random.sample(list(test_dict.items()), 2))"
   ],
   "metadata": {
    "collapsed": false,
    "pycharm": {
     "name": "#%%\n"
    }
   }
  },
  {
   "cell_type": "code",
   "execution_count": 14,
   "outputs": [
    {
     "data": {
      "text/plain": "<Figure size 432x288 with 1 Axes>",
      "image/png": "[encoded data removed]"
     },
     "metadata": {
      "needs_background": "light"
     },
     "output_type": "display_data"
    }
   ],
   "source": [
    "import numpy as np\n",
    "import matplotlib.pyplot as plt\n",
    "test_array = np.array([[1,2,3], [4,5,6]])\n",
    "test_array.flatten()\n",
    "plt.hist(test_array)\n",
    "plt.show()"
   ],
   "metadata": {
    "collapsed": false,
    "pycharm": {
     "name": "#%%\n"
    }
   }
  },
  {
   "cell_type": "code",
   "execution_count": 4,
   "outputs": [],
   "source": [
    "import sys\n",
    "sys.path.insert(0, '/home/jianx/search-exposure/forward_ranker/')\n",
    "import torch\n",
    "from train import generate_sparse\n",
    "from load_data import obj_reader\n",
    "import network\n",
    "from annoy import AnnoyIndex\n",
    "import matplotlib.pyplot as plt"
   ],
   "metadata": {
    "collapsed": false,
    "pycharm": {
     "name": "#%%\n"
    }
   }
  },
  {
   "cell_type": "code",
   "execution_count": 5,
   "outputs": [
    {
     "name": "stdout",
     "output_type": "stream",
     "text": [
      "[[ 0  0  0 ...  0  0  0]\n",
      " [ 0  0  0 ...  0  0  0]\n",
      " [56  0  0 ...  0  0  0]\n",
      " ...\n",
      " [ 3 15 32 ...  0  0  0]\n",
      " [18 21 95 ...  0  0  0]\n",
      " [10  8  0 ...  0  0  0]]\n"
     ]
    },
    {
     "data": {
      "text/plain": "<Figure size 432x288 with 1 Axes>",
      "image/png": "[encoded data removed]"
     },
     "metadata": {
      "needs_background": "light"
     },
     "output_type": "display_data"
    }
   ],
   "source": [
    "rankings = obj_reader(\"/home/jianx/data/train_data/test_rankings.np\")\n",
    "print(rankings)\n",
    "plt.hist(rankings[rankings!=0].flatten(),bins=100)\n",
    "plt.show()"
   ],
   "metadata": {
    "collapsed": false,
    "pycharm": {
     "name": "#%%\n"
    }
   }
  },
  {
   "cell_type": "code",
   "execution_count": null,
   "outputs": [],
   "source": [
    "rankings = obj_reader(\"/home/jianx/data/train_data/test_rankings.np\")\n",
    "print(rankings)\n",
    "plt.hist(rankings[rankings!=0].flatten(),bins=100)\n",
    "plt.show()"
   ],
   "metadata": {
    "collapsed": false,
    "pycharm": {
     "name": "#%%\n",
     "is_executing": true
    }
   }
  },
  {
   "cell_type": "code",
   "execution_count": 25,
   "outputs": [
    {
     "name": "stdout",
     "output_type": "stream",
     "text": [
      "48.70746791131855\n"
     ]
    }
   ],
   "source": [
    "mean_ranking = np.mean(rankings[rankings!=0])\n",
    "print(mean_ranking)"
   ],
   "metadata": {
    "collapsed": false,
    "pycharm": {
     "name": "#%%\n"
    }
   }
  },
  {
   "cell_type": "code",
   "execution_count": 27,
   "outputs": [
    {
     "name": "stdout",
     "output_type": "stream",
     "text": [
      "[82.0, 79.0, 56.0, 66.0, 53.714285714285715, 30.5, 54.888888888888886, 76.0, 53.142857142857146, 39.68518518518518, 46.63636363636363, 63.0, 85.66666666666667, 71.0, 61.77777777777778, 57.25, 49.9375, 68.33333333333333, 72.33333333333333, 55.55555555555556, 50.07692307692308, 78.0, 48.666666666666664, 54.08695652173913, 42.142857142857146, 27.6, 18.5, 57.51851851851852, 54.916666666666664, 53.0, 47.31578947368421, 48.0, 52.666666666666664, 60.72727272727273, 44.0, 41.333333333333336, 42.0, 29.0, 63.0, 47.333333333333336, 49.8, 49.0, 42.8, 68.125, 59.714285714285715, 41.375, 48.0, 78.4, 32.38461538461539, 74.5, 60.0, 57.6, 32.333333333333336, 60.0, 29.0, 54.42857142857143, 44.15384615384615, 65.0, 49.72727272727273, 97.0, 64.14285714285714, 28.0, 56.0, 41.142857142857146, 38.76086956521739, 47.5, 49.42857142857143, 57.0, 44.1, 62.9, 48.59375, 54.333333333333336, 39.54347826086956, 65.88888888888889, 85.66666666666667, 57.5, 40.5, 51.785714285714285, 51.93877551020408, 65.25, 48.0, 42.68421052631579, 49.38297872340426, 52.38235294117647, 55.2, 68.0, 58.5, 68.5, 50.73076923076923, 38.0, 53.857142857142854, 41.0, 53.666666666666664, 60.5, 50.25, 31.0, 45.73684210526316, 54.111111111111114, 47.5, 53.57142857142857, 71.66666666666667, 54.714285714285715, 41.40909090909091, 74.0, 45.4, 51.40909090909091, 49.083333333333336, 56.0, 20.0, 42.285714285714285, 62.758620689655174, 77.0, 67.0, 40.125, 20.666666666666668, 52.76190476190476, 44.333333333333336, 93.5, 20.0, 50.0, 29.5, 39.333333333333336, 78.5, 53.0, 70.16666666666667, 41.22222222222222, 75.66666666666667, 34.857142857142854, 50.1875, 66.14285714285714, 70.5, 49.5, 48.45161290322581, 19.0, 44.48717948717949, 66.0, 39.75, 50.5625, 62.57142857142857, 32.0, 36.333333333333336, 54.0, 93.0, 35.8, 40.42857142857143, 15.0, 50.38461538461539, 61.666666666666664, 45.30769230769231, 37.0, 53.583333333333336, 45.666666666666664, 52.0, 44.75, 44.214285714285715, 47.333333333333336, 46.1578947368421, 57.90909090909091, 61.0625, 52.5, 44.0, 64.2, 34.63636363636363, 61.857142857142854, 65.33333333333333, 40.5, 56.6, 45.5, 73.66666666666667, 45.4, 61.0, 61.666666666666664, 75.5, 39.0, 38.04, 50.166666666666664, 6.0, 79.33333333333333, 52.625, 29.25, 30.0, 52.64705882352941, 34.12359550561798, 46.666666666666664, 67.2, 49.11764705882353, 40.0, 58.0, 74.625, 50.875, 49.714285714285715, 45.45945945945946, 53.5, 27.5, 55.0, 38.25, 40.457142857142856, 70.75, 48.73913043478261, 77.6, 87.0, 50.8, 22.0, 63.0, 20.0, 42.666666666666664, 57.666666666666664, 59.69230769230769, 42.648148148148145, 66.33333333333333, 38.333333333333336, 11.0, 72.75, 53.41379310344828, 52.5, 49.205128205128204, 35.72727272727273, 36.3, 51.2, 29.4, 49.4, 76.0, 48.88235294117647, 46.23529411764706, 49.25, 54.76923076923077, 30.428571428571427, 18.0, 52.18181818181818, 36.0, 64.0, 49.72727272727273, 48.54545454545455, 61.36363636363637, 36.38461538461539, 49.25, 39.833333333333336, 94.0, 54.57142857142857, 40.0, 63.5, 36.0, 58.666666666666664, 30.0, 57.21739130434783, 18.0, 62.5, 63.25, 68.0, 37.888888888888886, 65.0, 63.0, 56.1, 23.0, 74.0, 47.625, 61.0, 29.0, 45.30769230769231, 38.59090909090909, 38.55555555555556, 74.0, 75.0, 22.5, 37.55555555555556, 43.775510204081634, 89.0, 44.7, 28.0, 41.0, 47.1764705882353, 28.0, 51.44444444444444, 59.642857142857146, 55.0, 53.333333333333336, 71.0, 57.04545454545455, 44.25, 50.125, 53.04081632653061, 50.17857142857143, 62.5, 49.375, 43.77777777777778, 45.4, 53.5, 48.0, 59.53846153846154, 54.8, 78.14285714285714, 68.0, 39.0, 54.5, 60.76923076923077, 43.46875, 43.5, 53.8125, 63.0, 39.2, 46.111111111111114, 35.0, 48.53333333333333, 43.5, 41.0, 48.25, 53.09090909090909, 24.0, 4.0, 38.0, 46.666666666666664, 41.142857142857146, 39.5, 45.25, 52.333333333333336, 21.5, 3.0, 46.333333333333336, 20.5, 50.5, 44.666666666666664, 64.66666666666667, 28.5, 53.0, 51.04761904761905, 58.0, 90.5, 61.5, 4.0, 61.5, 49.77777777777778, 35.666666666666664, 38.142857142857146, 46.94444444444444, 53.6, 63.0, 64.8, 45.0, 42.75, 36.333333333333336, 56.666666666666664, 61.57142857142857, 48.43478260869565, 43.0, 35.5, 60.484848484848484, 36.0, 53.0, 39.57142857142857, 34.3, 68.5, 65.0, 31.333333333333332, 55.5, 33.6, 58.5, 32.0, 36.0, 59.30769230769231, 41.0, 49.6, 62.625, 45.7, 53.359375, 56.0, 81.0, 49.285714285714285, 30.88888888888889, 38.8, 42.23076923076923, 51.96551724137931, 69.5, 60.0, 57.15151515151515, 43.714285714285715, 62.666666666666664, 79.0, 42.470588235294116, 59.733333333333334, 57.888888888888886, 51.166666666666664, 58.0, 51.92857142857143, 58.666666666666664, 48.214285714285715, 87.0, 43.93333333333333, 55.5, 49.0, 41.0, 33.0, 34.0, 42.666666666666664, 72.33333333333333, 47.5, 62.0, 43.0, 43.857142857142854, 39.90909090909091, 59.0, 33.0, 54.6, 49.78125, 37.4, 45.25, 54.0, 39.333333333333336, 56.0, 40.0, 44.0, 54.1, 26.0, 33.86666666666667, 44.492063492063494, 61.96153846153846, 63.5, 60.416666666666664, 46.38709677419355, 39.8, 54.75, 90.0, 38.625, 52.77777777777778, 44.0, 52.625, 51.833333333333336, 57.5, 96.0, 41.583333333333336, 25.0, 40.27272727272727, 43.0, 38.333333333333336, 46.708333333333336, 59.666666666666664, 47.0, 89.5, 37.5, 41.69230769230769, 47.89473684210526, 74.0, 55.142857142857146, 73.63636363636364, 69.5, 58.333333333333336, 86.0, 57.0, 68.25, 46.0, 54.833333333333336, 51.34615384615385, 49.5, 97.0, 50.18518518518518, 100.0, 48.0, 37.0, 50.666666666666664, 52.10526315789474, 33.666666666666664, 39.2, 47.666666666666664, 58.666666666666664, 16.0, 55.10526315789474, 56.18181818181818, 58.27777777777778, 48.0, 17.0, 41.8, 85.0, 40.25, 55.8, 37.94285714285714, 37.86363636363637, 39.5, 43.5, 21.0, 91.0, 50.86363636363637, 34.4, 35.57142857142857, 49.142857142857146, 31.0, 40.44615384615385, 43.5, 38.0, 20.0, 39.65853658536585, 42.0, 62.142857142857146, 62.0, 43.86666666666667, 39.23076923076923, 49.333333333333336, 46.0, 39.5, 64.0, 25.5, 68.83333333333333, 90.0, 59.0, 7.0, 62.18181818181818, 37.0, 44.8, 42.111111111111114, 39.375, 57.0, 50.45454545454545, 40.94736842105263, 34.64, 74.66666666666667, 52.333333333333336, 97.0, 54.4, 49.36363636363637, 8.0, 29.8, 60.333333333333336, 84.0, 19.0, 38.714285714285715, 40.5, 33.666666666666664, 90.0, 44.666666666666664, 47.0, 40.0, 48.888888888888886, 47.24242424242424, 42.0, 26.333333333333332, 43.77777777777778, 55.888888888888886, 53.42857142857143, 59.0, 36.8, 44.25, 35.75, 69.0, 50.9375, 35.333333333333336, 53.666666666666664, 53.0, 42.0, 77.5, 63.5, 49.25, 61.55555555555556, 65.0, 63.5, 48.6, 53.875, 52.5, 57.0, 85.5, 47.513513513513516, 40.5, 66.5, 49.0, 98.0, 84.0, 52.06666666666667, 36.666666666666664, 49.54054054054054, 43.325581395348834, 54.111111111111114, 39.03703703703704, 53.6, 56.25, 43.4, 57.5, 43.0, 27.5, 54.44444444444444, 47.0, 66.33333333333333, 57.5, 49.08, 48.38461538461539, 59.64705882352941, 58.90909090909091, 51.42857142857143, 51.125, 47.333333333333336, 54.0, 32.5, 59.0, 41.666666666666664, 57.5, 50.166666666666664, 67.0, 61.5, 62.25, 64.0, 63.0, 58.0, 47.075, 57.0, 38.0, 80.5, 56.09090909090909, 59.125, 83.0, 65.0, 56.666666666666664, 38.47826086956522, 54.0, 48.5, 54.8421052631579, 37.75, 58.8, 64.35714285714286, 40.0, 50.875, 69.66666666666667, 54.166666666666664, 81.5, 33.0, 64.2, 39.42857142857143, 51.0, 58.5, 64.2, 39.09230769230769, 20.0, 77.8, 51.0, 38.666666666666664, 45.0, 49.027027027027025, 63.76470588235294, 59.714285714285715, 48.63461538461539, 58.333333333333336, 67.28571428571429, 67.0, 56.5, 46.285714285714285, 24.0, 91.0, 40.8, 31.0, 60.63414634146341, 46.0, 49.5, 39.0, 68.0, 64.125, 44.857142857142854, 42.0, 57.333333333333336, 47.714285714285715, 57.18181818181818, 73.0, 73.0, 50.4, 48.5, 92.0, 54.0, 69.2, 82.5, 58.0, 41.0, 17.0, 1.0, 25.5, 78.0, 27.0, 45.2, 56.625, 69.22222222222223, 47.8, 31.5, 22.0, 31.5, 48.16216216216216, 48.666666666666664, 45.5, 43.2, 41.0, 51.42857142857143, 52.55555555555556, 43.30769230769231, 28.0, 77.5, 8.0, 58.083333333333336, 46.0, 11.0, 59.142857142857146, 46.44, 26.5, 43.345238095238095, 41.0, 65.5, 47.857142857142854, 58.0, 75.0, 10.5, 47.4, 53.75, 72.25, 49.0, 42.75, 50.45454545454545, 46.9, 52.54545454545455, 38.04545454545455, 50.333333333333336, 80.5, 78.0, 53.285714285714285, 58.23076923076923, 79.0, 59.5, 40.55172413793103, 62.5, 60.0, 47.0, 65.0, 34.0, 32.5, 63.333333333333336, 71.33333333333333, 51.13333333333333, 46.6875, 51.148148148148145, 63.4, 73.5, 46.857142857142854, 19.0, 45.8, 60.0, 22.0, 36.0, 51.56666666666667, 13.0, 65.33333333333333, 58.5, 72.5, 7.0, 60.166666666666664, 20.0, 65.9090909090909, 32.0, 22.0, 33.77777777777778, 67.0, 41.5, 44.0, 40.12, 75.5, 60.666666666666664, 52.875, 37.5, 35.25, 68.0, 56.333333333333336, 67.66666666666667, 46.0, 64.75, 57.666666666666664, 84.0, 38.44444444444444, 45.666666666666664, 66.66666666666667, 66.5, 52.0, 45.5, 63.57142857142857, 44.18421052631579, 31.666666666666668, 41.6, 35.5, 48.90909090909091, 36.0, 49.0, 40.5, 87.0, 21.0, 68.5, 49.2, 58.0, 71.0, 56.4, 45.54545454545455, 41.588235294117645, 74.5, 47.6, 56.5, 66.5, 17.0, 37.0, 45.0, 38.0, 49.5625, 51.61290322580645, 70.66666666666667, 28.5, 40.4, 71.375, 56.15384615384615, 51.4, 56.578947368421055, 48.142857142857146, 44.0, 53.23076923076923, 47.375, 35.0, 17.25, 55.57142857142857, 41.0, 26.0, 51.38461538461539, 35.8, 10.0, 47.2, 69.0, 41.77777777777778, 63.90909090909091, 53.0, 87.5, 85.5, 29.0, 44.5, 44.666666666666664, 42.166666666666664, 54.4, 39.57142857142857, 39.4, 52.11764705882353, 49.75, 57.92307692307692, 40.0, 54.8, 61.0, 63.0, 46.833333333333336, 44.9, 47.0, 48.095238095238095, 52.666666666666664, 44.5, 47.0, 63.375, 51.0, 47.04347826086956, 39.75, 83.0, 30.333333333333332, 25.5, 54.925925925925924, 92.0, 14.0, 53.666666666666664, 56.8, 1.0, 47.80555555555556, 52.25, 45.5, 85.0, 40.5, 60.0, 47.94736842105263, 74.0, 29.8, 69.0, 31.5, 73.5, 46.25, 56.0, 50.0, 50.09090909090909, 38.1875, 30.0, 46.46153846153846, 57.7, 53.5, 36.57692307692308, 49.25, 35.8, 34.75, 43.0, 36.666666666666664, 71.75, 48.666666666666664, 53.0, 58.0, 49.0, 49.25, 63.0, 33.7, 44.5, 66.33333333333333, 21.0, 62.0, 25.8, 48.4, 70.0, 49.333333333333336, 56.142857142857146, 57.5, 69.0, 89.0, 53.916666666666664, 53.0, 57.8] [1, 1, 1, 2, 0, 14, 4, 9, 1, 7, 0, 54, 11, 2, 3, 1, 9, 0, 4, 32, 3, 3, 9, 26, 1, 12, 23, 7, 5, 2, 27, 12, 2, 0, 19, 0, 1, 6, 11, 0, 2, 6, 26, 7, 2, 9, 20, 2, 10, 8, 7, 8, 12, 5, 91, 2, 2, 5, 3, 3, 4, 7, 13, 2, 11, 1, 7, 7, 14, 14, 46, 6, 7, 5, 10, 10, 32, 3, 46, 9, 0, 0, 6, 4, 2, 14, 0, 49, 0, 4, 2, 0, 38, 47, 34, 5, 4, 2, 2, 26, 8, 0, 21, 1, 3, 2, 4, 1, 19, 9, 10, 7, 6, 0, 28, 66, 1, 5, 22, 12, 0, 1, 1, 0, 14, 29, 1, 7, 8, 3, 21, 3, 2, 2, 4, 2, 3, 2, 1, 6, 9, 6, 7, 16, 7, 2, 10, 31, 1, 39, 1, 4, 16, 7, 2, 3, 0, 9, 1, 5, 7, 1, 0, 13, 9, 26, 14, 36, 6, 5, 4, 14, 6, 19, 22, 16, 0, 4, 2, 0, 5, 11, 0, 7, 12, 4, 20, 2, 3, 30, 1, 3, 2, 2, 75, 12, 1, 6, 0, 8, 4, 7, 17, 89, 3, 10, 0, 34, 1, 5, 8, 16, 7, 37, 6, 0, 8, 17, 0, 4, 35, 8, 23, 5, 1, 5, 2, 2, 2, 0, 0, 3, 3, 13, 54, 6, 3, 8, 4, 29, 2, 39, 0, 11, 10, 5, 5, 15, 0, 7, 17, 34, 4, 13, 14, 2, 11, 4, 1, 11, 11, 11, 13, 0, 4, 6, 2, 0, 7, 3, 4, 2, 3, 0, 3, 23, 1, 4, 4, 3, 9, 1, 1, 10, 2, 1, 8, 6, 2, 13, 44, 0, 9, 2, 1, 2, 9, 49, 1, 10, 1, 5, 34, 1, 9, 14, 3, 12, 2, 22, 20, 8, 49, 56, 4, 16, 9, 5, 2, 5, 13, 5, 7, 1, 2, 2, 13, 32, 8, 16, 2, 5, 9, 2, 15, 0, 6, 1, 4, 11, 1, 1, 3, 6, 0, 14, 0, 2, 4, 3, 2, 1, 0, 3, 4, 2, 3, 0, 9, 4, 0, 3, 21, 0, 7, 2, 4, 1, 6, 9, 6, 7, 18, 5, 2, 10, 4, 4, 9, 9, 7, 23, 2, 2, 33, 0, 0, 6, 1, 7, 10, 2, 5, 3, 2, 5, 0, 2, 3, 1, 13, 1, 5, 8, 10, 64, 11, 0, 1, 14, 9, 5, 13, 29, 4, 3, 33, 7, 3, 1, 17, 15, 9, 12, 6, 14, 3, 14, 2, 15, 10, 2, 1, 5, 3, 3, 3, 8, 2, 1, 7, 11, 1, 6, 5, 32, 5, 4, 9, 3, 6, 1, 1, 10, 2, 15, 63, 26, 2, 12, 31, 5, 8, 1, 8, 9, 0, 1, 8, 18, 2, 1, 12, 4, 0, 11, 1, 54, 24, 6, 9, 2, 2, 13, 19, 1, 7, 11, 2, 3, 2, 13, 4, 3, 6, 26, 2, 1, 27, 1, 11, 1, 3, 19, 3, 5, 6, 3, 1, 19, 11, 18, 1, 1, 5, 1, 4, 5, 0, 35, 22, 18, 2, 2, 2, 0, 22, 5, 7, 7, 2, 65, 2, 9, 0, 3, 41, 1, 0, 21, 2, 15, 13, 3, 4, 2, 3, 4, 6, 1, 0, 1, 1, 0, 0, 22, 2, 10, 9, 8, 4, 11, 0, 19, 0, 25, 3, 12, 1, 15, 11, 1, 5, 3, 2, 0, 1, 7, 4, 6, 1, 6, 1, 5, 18, 33, 5, 0, 3, 18, 27, 7, 7, 5, 4, 0, 4, 1, 16, 6, 3, 2, 3, 4, 4, 4, 9, 1, 2, 5, 0, 8, 4, 10, 2, 37, 2, 4, 1, 2, 1, 15, 0, 3, 37, 43, 9, 27, 5, 0, 0, 4, 5, 2, 3, 2, 27, 3, 3, 2, 50, 39, 17, 11, 7, 8, 6, 9, 2, 2, 36, 2, 6, 1, 4, 4, 0, 1, 1, 1, 40, 3, 0, 2, 2, 11, 8, 1, 2, 0, 3, 23, 1, 2, 0, 19, 4, 5, 14, 1, 8, 3, 6, 2, 1, 20, 7, 2, 2, 5, 65, 2, 5, 3, 24, 5, 37, 17, 7, 52, 3, 7, 1, 2, 7, 0, 1, 2, 10, 7, 41, 1, 14, 3, 3, 8, 7, 2, 6, 14, 11, 3, 1, 15, 4, 3, 3, 10, 4, 10, 1, 1, 1, 2, 2, 0, 2, 5, 24, 9, 20, 6, 0, 2, 2, 0, 37, 12, 6, 5, 1, 7, 9, 13, 1, 2, 1, 12, 1, 1, 7, 50, 2, 0, 84, 4, 2, 14, 2, 1, 2, 15, 8, 4, 4, 40, 11, 10, 11, 22, 3, 2, 1, 7, 13, 2, 4, 29, 4, 3, 12, 4, 3, 4, 3, 3, 15, 16, 27, 5, 2, 7, 1, 20, 12, 1, 15, 30, 1, 3, 6, 2, 0, 1, 6, 4, 11, 7, 1, 9, 8, 0, 2, 1, 25, 0, 0, 0, 2, 0, 3, 16, 2, 0, 4, 0, 7, 3, 3, 4, 4, 3, 1, 9, 3, 6, 8, 2, 2, 14, 38, 6, 5, 10, 0, 22, 0, 3, 3, 0, 2, 1, 2, 2, 10, 0, 5, 1, 5, 11, 17, 2, 5, 2, 4, 2, 7, 3, 4, 16, 31, 3, 2, 10, 8, 0, 13, 5, 19, 7, 2, 13, 16, 2, 4, 7, 3, 0, 1, 13, 5, 1, 5, 2, 9, 0, 11, 3, 2, 2, 22, 2, 3, 30, 5, 7, 0, 5, 17, 4, 13, 2, 5, 2, 1, 12, 10, 3, 21, 0, 3, 4, 0, 3, 8, 19, 23, 4, 1, 6, 4, 54, 1, 1, 3, 5, 1, 36, 4, 4, 1, 0, 2, 2, 19, 3, 5, 2, 2, 2, 4, 21, 2, 44, 16, 3, 13, 20, 4, 52, 8, 5, 4, 9, 9, 4, 3, 1, 3, 1, 4, 4, 10, 2, 18, 1, 0, 1, 5, 25, 1, 6, 7, 0, 8, 1, 1, 12, 6, 15]\n"
     ]
    }
   ],
   "source": [
    "all_means = []\n",
    "all_nonzero = []\n",
    "for i in range(rankings.shape[0]):\n",
    "    temp_list = rankings[i,:]\n",
    "    temp_list = temp_list[temp_list != 0]\n",
    "    all_nonzero.append(len(temp_list))\n",
    "    if len(temp_list) != 0:\n",
    "        all_means.append(np.mean(temp_list))\n",
    "print(all_means, all_nonzero)"
   ],
   "metadata": {
    "collapsed": false,
    "pycharm": {
     "name": "#%%\n"
    }
   }
  },
  {
   "cell_type": "code",
   "execution_count": 29,
   "outputs": [
    {
     "data": {
      "text/plain": "<Figure size 432x288 with 1 Axes>",
      "image/png": "[encoded data removed]"
     },
     "metadata": {
      "needs_background": "light"
     },
     "output_type": "display_data"
    },
    {
     "data": {
      "text/plain": "<Figure size 432x288 with 1 Axes>",
      "image/png": "[encoded data removed]"
     },
     "metadata": {
      "needs_background": "light"
     },
     "output_type": "display_data"
    }
   ],
   "source": [
    "plt.hist(all_means, bins=100)\n",
    "plt.show()\n",
    "plt.hist(all_nonzero, bins=100)\n",
    "plt.show()"
   ],
   "metadata": {
    "collapsed": false,
    "pycharm": {
     "name": "#%%\n"
    }
   }
  },
  {
   "cell_type": "code",
   "execution_count": 35,
   "outputs": [
    {
     "name": "stdout",
     "output_type": "stream",
     "text": [
      "91\n"
     ]
    }
   ],
   "source": [
    "count_zero = 0\n",
    "for i, c in enumerate(all_nonzero):\n",
    "    if c == 0:\n",
    "        count_zero += 1\n",
    "print(count_zero)"
   ],
   "metadata": {
    "collapsed": false,
    "pycharm": {
     "name": "#%%\n"
    }
   }
  },
  {
   "cell_type": "code",
   "execution_count": 38,
   "outputs": [
    {
     "name": "stdout",
     "output_type": "stream",
     "text": [
      "/home/jianx/data/train_data/256_20000_100_100_training.csv\n"
     ]
    }
   ],
   "source": [
    "with open(\"/home/jianx/data/temp.txt\",\"w+\") as f:\n",
    "    f.write(\"\")\n",
    "for i in range(10):\n",
    "    with open(\"/home/jianx/data/temp.txt\",\"a\") as f:\n",
    "        f.write(str(i)+\"\\n\")"
   ],
   "metadata": {
    "collapsed": false,
    "pycharm": {
     "name": "#%%\n"
    }
   }
  }
 ],
 "metadata": {
  "kernelspec": {
   "name": "python3",
   "language": "python",
   "display_name": "Python 3"
  },
  "language_info": {
   "codemirror_mode": {
    "name": "ipython",
    "version": 3
   },
   "file_extension": ".py",
   "mimetype": "text/x-python",
   "name": "python",
   "nbconvert_exporter": "python",
   "pygments_lexer": "ipython3",
   "version": "3.7.7"
  }
 },
 "nbformat": 4,
 "nbformat_minor": 1
}
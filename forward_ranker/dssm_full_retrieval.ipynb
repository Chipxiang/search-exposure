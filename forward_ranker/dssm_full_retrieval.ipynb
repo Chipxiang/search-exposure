{
 "cells": [
  {
   "cell_type": "code",
   "execution_count": 5,
   "outputs": [],
   "source": [
    "import sys\n",
    "sys.path.insert(0, '/home/jianx/search-exposure/forward_ranker/')\n",
    "import torch\n",
    "from train import generate_sparse\n",
    "from load_data import obj_reader\n",
    "import network"
   ],
   "metadata": {
    "collapsed": false,
    "pycharm": {
     "name": "#%%\n"
    }
   }
  },
  {
   "cell_type": "code",
   "execution_count": null,
   "outputs": [],
   "source": [
    "PASSAGE_EMBEDDING = obj_reader(\"/home/jianx/data/results/passage_embeddings.dict\")\n",
    "print(PASSAGE_EMBEDDING)"
   ],
   "metadata": {
    "collapsed": false,
    "pycharm": {
     "name": "#%%\n",
     "is_executing": true
    }
   }
  },
  {
   "cell_type": "code",
   "execution_count": null,
   "outputs": [],
   "source": [
    "MODEL_PATH = \"/home/jianx/data/results/100_1000_1000_0.001_256_10.model\"\n",
    "DEVICE = torch.device(\"cuda:0\")\n",
    "EMBED_SIZE = 256"
   ],
   "metadata": {
    "collapsed": false,
    "pycharm": {
     "name": "#%%\n"
    }
   }
  },
  {
   "cell_type": "code",
   "execution_count": null,
   "outputs": [],
   "source": [
    "NET = network.DSSM(embed_size=EMBED_SIZE)\n",
    "NET.load_state_dict(torch.load(MODEL_PATH))\n",
    "NET.to(DEVICE)\n",
    "NET.eval()"
   ],
   "metadata": {
    "collapsed": false,
    "pycharm": {
     "name": "#%%\n"
    }
   }
  },
  {
   "cell_type": "code",
   "execution_count": null,
   "outputs": [],
   "source": [
    "qids = []\n",
    "queries = []\n",
    "while len(qids) < test_batch:\n",
    "    qid = random.sample(qid_list, 1)[0]\n",
    "    q_seq = query_test_dict[qid]\n",
    "    if q_seq != [] and qid not in qids:\n",
    "        qids.append(qid)\n",
    "        queries.append(generate_sparse(q_seq).to(device))\n",
    "# compute cosine similarity\n",
    "result_dict = {}\n",
    "for i, qid in enumerate(qids):\n",
    "    top_list = top_dict[qid]\n",
    "    q_embed = net(queries[i]).detach()\n",
    "    q_results = {}\n",
    "    for j, pid in enumerate(top_list):\n",
    "        p_seq = passage_dict[pid]\n",
    "        if not p_seq:\n",
    "            score = -1\n",
    "        else:\n",
    "            p_embed = net(generate_sparse(p_seq).to(device)).detach()\n",
    "            score = torch.cosine_similarity(q_embed.unsqueeze(0), p_embed.unsqueeze(0)).item()\n",
    "        q_results[pid] = score\n",
    "    result_dict[qid] = q_results\n",
    "print(sorted(result_dict[qid].items(), key=lambda x: (x[1], [-1, 1][random.randrange(2)]), reverse=True))"
   ],
   "metadata": {
    "collapsed": false,
    "pycharm": {
     "name": "#%%\n"
    }
   }
  }
 ],
 "metadata": {
  "kernelspec": {
   "display_name": "Python 3",
   "language": "python",
   "name": "python3"
  },
  "language_info": {
   "codemirror_mode": {
    "name": "ipython",
    "version": 2
   },
   "file_extension": ".py",
   "mimetype": "text/x-python",
   "name": "python",
   "nbconvert_exporter": "python",
   "pygments_lexer": "ipython2",
   "version": "2.7.6"
  }
 },
 "nbformat": 4,
 "nbformat_minor": 0
}
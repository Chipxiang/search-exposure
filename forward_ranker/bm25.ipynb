{
 "cells": [
  {
   "cell_type": "code",
   "execution_count": 1,
   "metadata": {
    "collapsed": true
   },
   "outputs": [],
   "source": [
    "from rank_bm25 import BM25Okapi\n",
    "import sys\n",
    "sys.path.insert(0, '/home/jianx/search-exposure/forward_ranker/')\n",
    "from load_data import obj_reader"
   ]
  },
  {
   "cell_type": "code",
   "execution_count": 22,
   "outputs": [],
   "source": [
    "COLLECTION_PATH = \"/home/jianx/data/collection.tsv\"\n",
    "corpus = []\n",
    "id_mapping = {}\n",
    "with open(COLLECTION_PATH, \"r\") as f:\n",
    "    line = f.readline()\n",
    "    while line:\n",
    "        corpus.append(line.split(\"\\t\")[1])\n",
    "        id_mapping[line.split(\"\\t\")[1]] = int(line.split(\"\\t\")[0])\n",
    "        line = f.readline()\n",
    "tokenized_corpus = [doc.split(\" \") for doc in corpus]"
   ],
   "metadata": {
    "collapsed": false,
    "pycharm": {
     "name": "#%%\n"
    }
   }
  },
  {
   "cell_type": "code",
   "execution_count": 3,
   "outputs": [],
   "source": [
    "bm25 = BM25Okapi(tokenized_corpus)"
   ],
   "metadata": {
    "collapsed": false,
    "pycharm": {
     "name": "#%%\n"
    }
   }
  },
  {
   "cell_type": "code",
   "execution_count": 13,
   "outputs": [],
   "source": [
    "initial_ranking = obj_reader(\"/home/jianx/data/initial_ranking.dict\")"
   ],
   "metadata": {
    "collapsed": false,
    "pycharm": {
     "name": "#%%\n"
    }
   }
  },
  {
   "cell_type": "code",
   "execution_count": 36,
   "outputs": [
    {
     "name": "stdout",
     "output_type": "stream",
     "text": [
      "200\n"
     ]
    }
   ],
   "source": [
    "QUERY_TEST_PATH = \"/home/jianx/data/msmarco-test2019-queries.tsv\"\n",
    "query_test = {}\n",
    "with open(QUERY_TEST_PATH,\"r\") as f:\n",
    "    line = f.readline()\n",
    "    while line:\n",
    "        query_test[int(line.split(\"\\t\")[0])] = line.split(\"\\t\")[1]\n",
    "        line = f.readline()\n",
    "print(len(query_test))"
   ],
   "metadata": {
    "collapsed": false,
    "pycharm": {
     "name": "#%%\n"
    }
   }
  },
  {
   "cell_type": "code",
   "execution_count": 39,
   "outputs": [
    {
     "name": "stdout",
     "output_type": "stream",
     "text": [
      "dict_keys([19335, 47923, 87181, 87452, 104861, 130510, 131843, 146187, 148538, 156493, 168216, 182539, 183378, 207786, 264014, 359349, 405717, 443396, 451602, 489204, 490595, 527433, 573724, 833860, 855410, 915593, 962179, 1037798, 1063750, 1103812, 1106007, 1110199, 1112341, 1113437, 1114646, 1114819, 1115776, 1117099, 1121402, 1121709, 1124210, 1129237, 1133167])\n"
     ]
    }
   ],
   "source": [
    "rating_dict = obj_reader(\"/home/jianx/data/rel_scores.dict\")\n",
    "print(rating_dict.keys())"
   ],
   "metadata": {
    "collapsed": false,
    "pycharm": {
     "name": "#%%\n"
    }
   }
  },
  {
   "cell_type": "code",
   "execution_count": 41,
   "outputs": [],
   "source": [
    "result_dict = {}\n",
    "for qid, query in query_test.items():\n",
    "    if qid not in rating_dict.keys():\n",
    "        continue\n",
    "    scores = bm25.get_scores(query.split(\" \"))\n",
    "    score_dict = {}\n",
    "    count = 0\n",
    "    for i, score in enumerate(scores):\n",
    "        count += 1\n",
    "        score_dict[i] = score\n",
    "    result_list = [k for k, v in sorted(score_dict.items(), key=lambda item: item[1])]\n",
    "    result_list.append(result_list[:1000])\n",
    "    result_dict[qid] = result_list"
   ],
   "metadata": {
    "collapsed": false,
    "pycharm": {
     "name": "#%%\n"
    }
   }
  },
  {
   "cell_type": "code",
   "execution_count": null,
   "outputs": [],
   "source": [
    "from test import get_ndcg_precision_rr\n",
    "import numpy as np\n",
    "rating_dict = obj_reader(\"/home/jianx/data/rel_scores.dict\")\n",
    "rank = 10\n",
    "\n",
    "qids = list(result_dict.keys())\n",
    "result_ndcg = []\n",
    "result_prec = []\n",
    "result_rr = []\n",
    "for qid in qids:\n",
    "    if qid in rating_dict:\n",
    "        ndcg, prec, rr = get_ndcg_precision_rr(rating_dict[qid], result_dict[qid], rank)\n",
    "        result_ndcg.append(ndcg)\n",
    "        result_prec.append(prec)\n",
    "        result_rr.append(rr)\n",
    "avg_ndcg = np.nanmean(result_ndcg)\n",
    "avg_prec = np.nanmean(result_prec)\n",
    "avg_rr = np.nanmean(result_rr)\n",
    "print(avg_ndcg, avg_prec, avg_rr)\n"
   ],
   "metadata": {
    "collapsed": false,
    "pycharm": {
     "name": "#%%\n"
    }
   }
  }
 ],
 "metadata": {
  "kernelspec": {
   "display_name": "Python 3",
   "language": "python",
   "name": "python3"
  },
  "language_info": {
   "codemirror_mode": {
    "name": "ipython",
    "version": 2
   },
   "file_extension": ".py",
   "mimetype": "text/x-python",
   "name": "python",
   "nbconvert_exporter": "python",
   "pygments_lexer": "ipython2",
   "version": "2.7.6"
  }
 },
 "nbformat": 4,
 "nbformat_minor": 0
}
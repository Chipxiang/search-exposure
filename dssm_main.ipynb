{
 "cells": [
  {
   "cell_type": "code",
   "execution_count": 35,
   "metadata": {
    "collapsed": true
   },
   "outputs": [],
   "source": [
    "import sys\n",
    "sys.path.insert(0, '/home/jianx/search-exposure/')\n",
    "from network import DSSM\n",
    "from train import train\n",
    "from load_data import load\n",
    "from gpu_allocator import select_device\n",
    "from gpu_allocator import cleanup_gpu_list\n",
    "import torch\n",
    "import csv\n",
    "from test import test\n",
    "from test import test_loader\n",
    "from test import get_ndcg_precision_rr\n",
    "import random\n",
    "from train import generate_sparse"
   ]
  },
  {
   "cell_type": "code",
   "execution_count": 8,
   "outputs": [
    {
     "name": "stdout",
     "output_type": "stream",
     "text": [
      "Num of epochs: 2\n",
      "Epoch size: 100\n",
      "Batch size: 100\n",
      "Learning rate: 0.1\n",
      "Embedding size: 128\n"
     ]
    }
   ],
   "source": [
    "num_epochs = 2\n",
    "epoch_size = 100\n",
    "batch_size = 100\n",
    "learning_rate = 0.1\n",
    "embed_size = 128\n",
    "\n",
    "print(\"Num of epochs:\", num_epochs)\n",
    "print(\"Epoch size:\", epoch_size)\n",
    "print(\"Batch size:\", batch_size)\n",
    "print(\"Learning rate:\", learning_rate)\n",
    "print(\"Embedding size:\", embed_size)\n",
    "rank = 10\n",
    "test_batch =43\n",
    "MODEL_PATH = \"/home/jianx/data/results/\""
   ],
   "metadata": {
    "collapsed": false,
    "pycharm": {
     "name": "#%%\n"
    }
   }
  },
  {
   "cell_type": "code",
   "execution_count": 4,
   "outputs": [
    {
     "name": "stdout",
     "output_type": "stream",
     "text": [
      "Loading data\n",
      "Data successfully loaded.\n",
      "Positive Negative Pair dict size: 400782\n",
      "Num of queries: 808731\n",
      "Num of passages: 8841823\n"
     ]
    }
   ],
   "source": [
    "print(\"Loading data\")\n",
    "pos_neg_dict, query_dict, passage_dict, top_dict, rating_dict, query_test_dict = load()\n",
    "print(\"Data successfully loaded.\")\n",
    "print(\"Positive Negative Pair dict size: \" + str(len(pos_neg_dict)))\n",
    "print(\"Num of queries: \" + str(len(query_dict)))\n",
    "print(\"Num of passages: \" + str(len(passage_dict)))"
   ],
   "metadata": {
    "collapsed": false,
    "pycharm": {
     "name": "#%%\n"
    }
   }
  },
  {
   "cell_type": "code",
   "execution_count": 31,
   "outputs": [],
   "source": [
    "CURRENT_DEVICE = torch.device(\"cuda:0\")\n",
    "net = torch.load(\"/home/jianx/data/results/100_1500_1000_0.1_512.model\").to(CURRENT_DEVICE)"
   ],
   "metadata": {
    "collapsed": false,
    "pycharm": {
     "name": "#%%\n"
    }
   }
  },
  {
   "cell_type": "code",
   "execution_count": 32,
   "outputs": [],
   "source": [
    "result_dict = test_loader(net, CURRENT_DEVICE, test_batch, top_dict, query_test_dict, passage_dict, rating_dict)\n",
    "qids = list(result_dict.keys())"
   ],
   "metadata": {
    "collapsed": false,
    "pycharm": {
     "name": "#%%\n"
    }
   }
  },
  {
   "cell_type": "code",
   "execution_count": 33,
   "outputs": [
    {
     "data": {
      "text/plain": "(array([935.,   3.,   4.,   1.,   1.,   2.,   0.,   0.,   2.,  52.]),\n array([-9.99984205e-01, -7.99987060e-01, -5.99989915e-01, -3.99992770e-01,\n        -1.99995625e-01,  1.51991844e-06,  1.99998665e-01,  3.99995810e-01,\n         5.99992955e-01,  7.99990100e-01,  9.99987245e-01]),\n <a list of 10 Patch objects>)"
     },
     "execution_count": 33,
     "metadata": {},
     "output_type": "execute_result"
    },
    {
     "data": {
      "text/plain": "<Figure size 432x288 with 1 Axes>",
      "image/png": "[encoded data removed]"
     },
     "metadata": {
      "needs_background": "light"
     },
     "output_type": "display_data"
    }
   ],
   "source": [
    "import pandas as pd\n",
    "import matplotlib.pyplot as plt\n",
    "\n",
    "result0 = pd.DataFrame.from_dict(sorted(result_dict[qids[4]].items(), key=lambda x: (x[1], [-1, 1][random.randrange(2)]), reverse=True))\n",
    "plt.hist(result0[1])"
   ],
   "metadata": {
    "collapsed": false,
    "pycharm": {
     "name": "#%%\n"
    }
   }
  },
  {
   "cell_type": "code",
   "execution_count": 34,
   "outputs": [
    {
     "name": "stdout",
     "output_type": "stream",
     "text": [
      "0.5865700222609527 0.12325581395348839 0.24886663230533868\n"
     ]
    }
   ],
   "source": [
    "import numpy as np\n",
    "result_ndcg = []\n",
    "result_prec = []\n",
    "result_rr = []\n",
    "for qid in qids:\n",
    "    ndcg, prec, rr = get_ndcg_precision_rr(rating_dict[qid], result_dict[qid], rank)\n",
    "    result_ndcg.append(ndcg)\n",
    "    result_prec.append(prec)\n",
    "    result_rr.append(rr)\n",
    "avg_ndcg = np.nanmean(result_ndcg)\n",
    "avg_prec = np.nanmean(result_prec)\n",
    "avg_rr = np.nanmean(result_rr)\n",
    "print(avg_ndcg,avg_prec,avg_rr)"
   ],
   "metadata": {
    "collapsed": false,
    "pycharm": {
     "name": "#%%\n"
    }
   }
  },
  {
   "cell_type": "code",
   "execution_count": 40,
   "outputs": [
    {
     "name": "stdout",
     "output_type": "stream",
     "text": [
      "-0.9994208216667175\n",
      "tensor([-1.0751e+04,  4.6317e+02, -1.2200e+03,  1.8497e+04,  1.8291e+04,\n",
      "         1.5264e+04,  2.0334e+03, -1.2133e+04, -2.1925e+03, -8.8389e+03,\n",
      "        -2.0581e+04,  2.4678e+03, -1.8493e+04, -1.5827e+03, -1.8489e+04,\n",
      "         2.1828e+03,  1.2090e+04, -1.3956e+03, -8.8870e+02, -5.2778e+03,\n",
      "         1.7776e+01, -1.2572e+04, -7.6011e+03,  9.5940e+01,  7.7317e+02,\n",
      "        -1.8547e+04,  1.5836e+04, -2.2948e+04,  2.1258e+04, -4.5492e+01,\n",
      "         7.7882e+01, -1.7072e+04, -2.2376e+04,  1.7240e+03,  2.5023e+02,\n",
      "         9.6065e+02,  3.4993e+03,  1.0552e+04, -3.6850e+02, -2.0624e+03,\n",
      "         3.3472e+03,  1.4395e+02,  5.0876e+03,  6.3516e+03, -8.5871e+03,\n",
      "         8.8725e+02,  1.6944e+04,  3.5645e+03,  1.1952e+03, -3.9966e+03,\n",
      "        -8.6056e+03, -2.1117e+04, -1.2178e+02,  1.4957e+04, -7.1066e+03,\n",
      "        -8.1498e+03,  1.9317e+04,  4.1564e+02,  1.7988e+03, -2.0500e+04,\n",
      "         1.0768e+04, -3.1889e-01, -2.4680e+03, -2.6547e+03,  2.8252e+03,\n",
      "         8.8649e+02,  6.7671e+03,  8.1583e+03, -9.5788e+03,  1.5067e+01,\n",
      "         6.6627e+03, -1.3780e+04, -9.4869e+03,  6.8209e+03,  1.3584e+04,\n",
      "        -3.7617e+01, -1.6843e+03,  6.8667e+03, -7.8898e+03, -5.7565e+02,\n",
      "        -7.3169e+03,  2.4953e+03,  1.0340e+04, -9.5329e+03, -1.5284e+04,\n",
      "        -1.4307e+03, -2.0352e+04, -1.5700e+04, -9.8547e+00, -3.4499e+03,\n",
      "         2.3661e+02,  1.4138e+03, -1.9767e+03,  9.7803e+03,  9.1961e+03,\n",
      "         3.7662e+03, -2.4959e+03,  5.5935e+03,  2.3045e+04, -8.8059e+03,\n",
      "         4.4873e+03, -1.0058e+03, -1.7530e+04,  1.5925e+04, -1.4692e+04,\n",
      "         1.1928e+04, -1.0538e+04,  1.0983e+04,  1.9819e+03, -1.3406e+04,\n",
      "         9.2350e+02,  1.3627e+03, -1.8002e+04,  1.6323e+03,  3.9799e+01,\n",
      "        -1.9413e+04,  1.5642e+03, -9.9031e+03, -1.5897e+04,  3.1795e+03,\n",
      "        -2.1915e+04, -2.2422e+03,  1.6650e+04, -1.8616e+04,  2.4802e+03,\n",
      "         8.9440e+00, -2.0786e+04, -2.8038e+03,  5.7995e+03, -1.6216e+04,\n",
      "        -2.0477e+04, -1.5798e+04,  1.3805e+04, -8.0557e+03, -8.6792e+03,\n",
      "        -5.4826e+03, -1.7414e+04, -1.8404e+03, -3.8563e+03, -1.7402e+03,\n",
      "         1.9147e+03, -8.7681e+03, -1.0858e+02,  1.2447e+04, -1.4929e+03,\n",
      "        -1.3837e+04,  4.4891e+02, -2.4672e+03,  4.0652e+03, -1.4724e+03,\n",
      "        -1.2143e+03, -3.2900e+02,  7.0803e+03,  1.2599e+02, -2.4322e+03,\n",
      "        -8.4895e+01,  3.4335e+03,  1.0473e+03,  5.4858e+01,  7.7820e+03,\n",
      "         2.5442e+03, -1.7285e+03, -1.7454e+03,  2.0683e+04, -1.4269e+04,\n",
      "        -5.7825e+03, -3.5286e+03,  1.8087e+03, -1.6717e+04, -1.2073e+04,\n",
      "         1.5377e+04,  5.0799e+03,  9.4874e+01,  7.4050e+03,  1.6641e+04,\n",
      "         2.1119e+04, -2.6306e+03, -1.3212e+03,  1.7023e+03, -2.0688e+01,\n",
      "         1.8985e+04, -2.8441e+03, -1.5318e+03, -7.9493e+03,  3.0005e+02,\n",
      "         7.2074e+03, -2.0515e+04, -1.7887e+03,  1.6418e+04, -3.2608e+03,\n",
      "        -1.8944e+00, -6.8020e+03, -1.1449e+02, -1.7507e+04, -1.1097e+04,\n",
      "        -9.7415e+03,  1.3683e+04, -1.0416e+04,  1.4287e+03,  2.1062e+04,\n",
      "        -1.6365e+02, -9.6760e+02,  1.7499e+03, -1.1829e+04,  7.4551e+03,\n",
      "         1.9378e+04, -2.1468e+04,  1.5811e+04, -9.5965e+03, -2.0696e+04,\n",
      "         5.3152e+02, -5.5493e+03, -5.8880e+03, -1.9974e+04,  1.8300e+03,\n",
      "         2.2010e+04,  9.9450e+01, -1.6537e+03, -3.0291e+03,  4.8260e+03,\n",
      "         3.2306e+03,  1.3034e+03, -1.0235e+03, -1.4930e+04,  1.1039e+04,\n",
      "         1.8957e+03, -2.0667e+04,  1.7925e+04, -4.4368e+03, -7.6448e+02,\n",
      "        -7.4691e+02, -4.6641e+03,  5.9661e+03,  1.2616e+02,  3.5559e+03,\n",
      "        -8.8731e+03,  2.3441e+03,  8.8616e+00,  8.5362e+03, -2.0420e+01,\n",
      "         9.5801e+02, -6.7324e+03, -2.0122e+04, -4.5867e+01, -1.1013e+03,\n",
      "        -1.4113e+01, -7.9204e+03, -4.9816e+03, -1.3675e+03,  5.8556e+03,\n",
      "        -1.3029e+04, -1.0070e+04, -9.8160e+03, -4.2642e+03,  1.5790e+04,\n",
      "         1.4300e+03, -1.8237e+02, -1.3013e+04,  1.3792e+04,  1.3457e+04,\n",
      "        -3.2051e+03,  1.3180e+04, -2.2523e+03, -1.0154e+04,  5.2120e+00,\n",
      "         1.2619e+04, -7.0725e+03,  6.8584e+03,  4.0657e+03, -1.4254e+04,\n",
      "         2.1598e+03,  1.8457e+04, -2.3741e+02,  4.3903e+03, -3.0805e+03,\n",
      "         2.0181e+04,  2.2820e+03, -2.3834e+03,  2.1033e+04,  6.2172e+03,\n",
      "         1.4778e+03, -8.2254e+03, -1.7426e+04,  9.5982e+03, -1.0753e+04,\n",
      "         1.2450e+03, -2.1465e+04, -1.5638e+04,  1.8849e+04,  1.0499e+04,\n",
      "        -9.2477e+03,  1.6685e+04,  5.7529e+03, -2.9062e+03,  1.3126e+04,\n",
      "        -1.4313e+03, -2.4584e+01, -1.1994e+03,  1.9755e+04, -1.4267e+02,\n",
      "        -1.7088e+04, -9.9003e+02,  8.6350e+02, -1.6649e+04, -1.2926e+04,\n",
      "        -3.5035e+03,  4.0147e+02,  1.5964e+04,  2.1295e+03, -2.7278e+01,\n",
      "         2.1533e+04,  4.3539e+02,  6.0391e+03, -1.9226e+03,  1.7410e+04,\n",
      "        -1.0875e+02,  1.4420e+02, -1.0716e+04,  7.0840e+03, -1.5119e+04,\n",
      "        -1.9126e+03,  5.4816e+03,  1.7940e+04, -2.1587e+04,  3.8574e+03,\n",
      "         4.3849e+03, -9.7907e+02, -1.5881e+04,  7.2945e+03, -9.4157e+03,\n",
      "         1.5014e+04,  2.0911e+03, -1.9184e+04, -3.0528e+03,  1.1484e+03,\n",
      "        -3.2725e+01, -5.8968e+03,  1.3095e+03,  1.4785e+04, -1.0452e+03,\n",
      "        -1.9674e+04, -1.2504e+03,  2.5295e+03, -1.7124e+03,  4.6406e+03,\n",
      "        -2.4640e+03, -1.2954e+04,  2.1597e+04, -4.3807e+03,  1.5220e+03,\n",
      "         5.6285e+02, -1.1226e+04, -2.9476e+03,  5.0710e+03,  1.3383e+04,\n",
      "        -7.6934e+01,  1.0742e+04, -8.9283e+03, -1.2751e+04, -4.1464e+03,\n",
      "        -5.7465e+03,  1.7380e+04, -4.6750e+03, -1.5080e+04, -1.3273e+04,\n",
      "        -1.0643e+04,  2.3995e+03, -4.6889e+03, -1.9771e+03,  2.0201e+03,\n",
      "        -1.0305e+03,  1.7945e+03, -7.8744e+02, -1.4702e+02,  1.2403e+03,\n",
      "        -1.6526e+04,  1.6762e+03, -7.7577e+03, -6.8261e+03, -1.1485e+03,\n",
      "         9.0779e+03, -5.8991e+02, -4.3020e+02, -6.0382e+03, -1.3964e+03,\n",
      "        -3.0534e+03,  1.9640e+03, -2.0342e+04,  8.1871e+01,  7.0117e+03,\n",
      "         8.1795e+01, -2.6060e+02, -2.0064e+02,  1.2659e+04,  1.3208e+04,\n",
      "         8.7035e+02,  1.6205e+03, -1.3364e+04, -9.9499e+03,  2.2521e+03,\n",
      "        -8.2523e+03,  1.0498e+04,  7.9891e+03,  1.9448e+03, -5.3327e+00,\n",
      "        -3.5505e+02,  4.3546e+03,  2.0366e+04,  1.7278e+04,  1.9508e+03,\n",
      "         7.6591e+02, -1.1653e+04, -1.3168e+04,  6.2570e+03, -6.9833e+03,\n",
      "         2.0273e+03, -1.0453e+04,  1.7321e+03,  3.5775e+02,  1.8360e+04,\n",
      "         9.9807e+03, -4.0868e+03, -1.7882e+04,  7.1234e+03, -1.2279e+04,\n",
      "         1.5963e+04, -3.1952e+03, -9.6801e+03,  1.4350e+04, -1.2684e+03,\n",
      "        -8.2352e+03,  3.3397e+02, -1.2759e+04,  1.3600e+02, -5.2096e+03,\n",
      "        -3.2276e+03,  1.3443e+02, -4.1088e+03,  1.2507e+04, -8.3663e+02,\n",
      "         4.6904e+00,  1.5457e+04,  1.0418e+03, -6.8267e+01,  1.0678e+02,\n",
      "         3.1103e+03, -1.9167e+04,  3.6252e+03, -1.9968e+04,  4.9612e+03,\n",
      "        -1.6391e+04, -1.3937e+04,  1.1124e+04,  4.2866e+03,  1.9395e+04,\n",
      "        -2.0332e+03,  1.8650e+04,  1.9681e+04,  1.0080e+04, -1.0181e+04,\n",
      "         1.7740e+03,  6.8486e+03,  4.3747e+03,  3.8585e+02,  8.7311e+02,\n",
      "        -2.6444e+03,  2.7867e+03, -1.7631e+04,  9.1924e+03, -2.6019e+03,\n",
      "         2.2890e+03,  1.9779e+03, -2.1547e+04,  1.4415e+03, -1.2169e+04,\n",
      "        -4.1170e+02, -8.1567e+03,  2.9181e+03, -1.4894e+04,  2.0661e+04,\n",
      "         2.0181e+04, -6.1507e+03,  3.9931e+03, -3.5801e+01,  3.9047e+03,\n",
      "        -3.6940e+03,  9.8988e+03, -1.2888e+03,  6.9496e+03,  2.0868e+04,\n",
      "        -4.5465e+03, -1.9613e+03, -1.9581e+04, -4.4987e+02, -2.7418e+03,\n",
      "        -2.2696e+01,  2.1468e+04,  8.9657e+03, -5.7824e+03,  1.7907e+03,\n",
      "         2.7325e+03,  9.8578e+03, -1.8787e+01, -1.3498e+04,  7.8294e+03,\n",
      "         2.7166e+03,  1.6308e+04, -6.2026e+03, -4.1158e+03, -8.6688e+03,\n",
      "         4.2415e+03,  1.0801e+04], device='cuda:0')\n",
      "tensor([ 1.2668e+05, -1.3869e+04,  1.3351e+04, -2.1495e+05, -2.1573e+05,\n",
      "        -1.7720e+05, -2.3391e+04,  1.4117e+05,  2.5355e+04,  1.0864e+05,\n",
      "         2.4253e+05, -2.1854e+04,  2.1632e+05,  1.8228e+04,  2.1486e+05,\n",
      "        -2.5015e+04, -1.3683e+05,  1.5842e+04,  1.6315e+04,  6.0493e+04,\n",
      "        -7.1005e+02,  1.4693e+05,  8.3284e+04, -1.0261e+03, -1.1622e+04,\n",
      "         2.1775e+05, -1.8189e+05,  2.6862e+05, -2.4897e+05, -9.0713e+03,\n",
      "        -9.8179e+02,  2.0302e+05,  2.6187e+05, -2.0941e+04, -3.5819e+03,\n",
      "        -1.9751e+04, -4.3102e+04, -1.2580e+05,  4.3753e+03,  1.5972e+04,\n",
      "        -4.5309e+04, -1.5883e+03, -5.4402e+04, -6.8777e+04,  9.9165e+04,\n",
      "        -1.4532e+04, -1.9583e+05, -3.6770e+04, -8.3591e+03,  5.2939e+04,\n",
      "         1.0533e+05,  2.4871e+05,  5.3096e+03, -1.7747e+05,  8.1864e+04,\n",
      "         9.8504e+04, -2.2394e+05, -5.1898e+03, -1.3499e+04,  2.4034e+05,\n",
      "        -1.2972e+05, -7.9492e+00,  3.8932e+04,  2.4538e+04, -4.2443e+04,\n",
      "        -4.4580e+03, -8.3260e+04, -9.8580e+04,  1.1582e+05, -1.0497e+02,\n",
      "        -7.9862e+04,  1.6430e+05,  1.0553e+05, -7.6771e+04, -1.5798e+05,\n",
      "         3.5363e+02,  1.9348e+04, -8.0994e+04,  9.5414e+04,  7.4326e+02,\n",
      "         8.1289e+04, -3.7751e+04, -1.1760e+05,  1.0679e+05,  1.7530e+05,\n",
      "         1.6394e+04,  2.3784e+05,  1.8145e+05,  4.0233e+01,  3.2545e+04,\n",
      "         5.2711e+03, -1.6299e+04,  3.1936e+04, -1.1910e+05, -1.0397e+05,\n",
      "        -5.3008e+04,  3.8038e+04, -6.0219e+04, -2.6991e+05,  9.9650e+04,\n",
      "        -5.1953e+04,  1.1642e+04,  2.0651e+05, -1.8666e+05,  1.7010e+05,\n",
      "        -1.4509e+05,  1.1862e+05, -1.2553e+05, -2.9973e+04,  1.5285e+05,\n",
      "        -4.6518e+03, -1.5717e+04,  2.0906e+05, -2.0451e+04, -5.3795e+02,\n",
      "         2.2664e+05, -1.8021e+04,  1.1950e+05,  1.8357e+05, -3.6928e+04,\n",
      "         2.5595e+05,  3.3497e+04, -1.9334e+05,  2.1808e+05, -2.9446e+04,\n",
      "        -4.3047e+01,  2.4311e+05,  4.0616e+04, -6.9428e+04,  1.8920e+05,\n",
      "         2.4087e+05,  1.8392e+05, -1.6083e+05,  9.4196e+04,  9.7787e+04,\n",
      "         6.4200e+04,  2.0141e+05,  2.1191e+04,  5.0264e+04,  2.0041e+04,\n",
      "        -2.4705e+04,  1.0762e+05,  3.8620e+03, -1.4363e+05,  9.7622e+03,\n",
      "         1.6536e+05, -4.5752e+03,  2.8212e+04, -5.4394e+04,  1.6444e+04,\n",
      "         1.3541e+04,  3.9150e+03, -9.0544e+04, -1.3874e+03,  2.9357e+04,\n",
      "         1.0636e+03, -3.9816e+04, -7.0882e+03, -5.5049e+02, -9.4998e+04,\n",
      "        -2.6760e+04,  2.4650e+04,  2.0762e+04, -2.4233e+05,  1.6394e+05,\n",
      "         6.1797e+04,  4.3062e+04, -2.5689e+04,  1.9661e+05,  1.4082e+05,\n",
      "        -1.8021e+05, -6.6532e+04, -1.0278e+03, -8.1829e+04, -1.9733e+05,\n",
      "        -2.4600e+05,  2.8567e+04,  1.1043e+04, -1.9598e+04,  1.6507e+02,\n",
      "        -2.2255e+05,  2.7275e+04,  2.4033e+04,  9.5341e+04, -1.0446e+04,\n",
      "        -7.7387e+04,  2.4033e+05,  2.0433e+04, -1.9300e+05,  3.1554e+04,\n",
      "        -1.2107e+01,  8.5601e+04,  1.2509e+03,  2.0790e+05,  1.3022e+05,\n",
      "         1.1083e+05, -1.6272e+05,  1.2669e+05, -1.7066e+04, -2.4643e+05,\n",
      "         1.9825e+03,  1.0684e+04, -2.3935e+04,  1.3501e+05, -8.2423e+04,\n",
      "        -2.2733e+05,  2.5211e+05, -1.8617e+05,  1.1456e+05,  2.4355e+05,\n",
      "        -1.4934e+04,  5.8244e+04,  7.4474e+04,  2.3488e+05, -2.1073e+04,\n",
      "        -2.5664e+05, -1.0669e+03,  2.7383e+04,  3.9681e+04, -6.4673e+04,\n",
      "        -4.5575e+04, -1.5041e+04,  1.1845e+04,  1.7699e+05, -1.2456e+05,\n",
      "        -3.2500e+04,  2.4055e+05, -2.1050e+05,  5.7587e+04,  1.7221e+04,\n",
      "         7.8932e+03,  6.2380e+04, -6.8241e+04, -1.3787e+03, -4.6498e+04,\n",
      "         1.1127e+05, -3.4141e+04, -4.2255e+01, -1.0275e+05,  1.6216e+02,\n",
      "        -1.1326e+04,  7.8644e+04,  2.3377e+05,  4.4747e+02,  1.2735e+04,\n",
      "         9.5004e+01,  9.6925e+04,  6.0212e+04,  1.5771e+04, -7.3709e+04,\n",
      "         1.5605e+05,  1.1380e+05,  1.1219e+05,  5.7701e+04, -1.8326e+05,\n",
      "        -1.6441e+04,  1.2794e+03,  1.5123e+05, -1.6431e+05, -1.5740e+05,\n",
      "         4.0562e+04, -1.5850e+05,  2.7014e+04,  1.1474e+05, -9.4137e+00,\n",
      "        -1.5220e+05,  9.0210e+04, -8.1897e+04, -3.9529e+04,  1.7077e+05,\n",
      "        -3.3270e+04, -2.1465e+05,  1.0844e+04, -5.2085e+04,  4.3168e+04,\n",
      "        -2.3772e+05, -3.5252e+04,  3.4887e+04, -2.4543e+05, -8.0512e+04,\n",
      "        -1.7031e+04,  9.8495e+04,  2.0602e+05, -1.1686e+05,  1.2239e+05,\n",
      "        -1.7776e+04,  2.4970e+05,  1.8312e+05, -2.2163e+05, -1.1980e+05,\n",
      "         1.0498e+05, -1.9788e+05, -7.3555e+04,  3.8886e+04, -1.5619e+05,\n",
      "         2.4589e+04,  2.0772e+02,  1.4635e+04, -2.3007e+05,  1.0747e+04,\n",
      "         2.0256e+05,  1.2999e+04, -8.9630e+03,  1.9477e+05,  1.4943e+05,\n",
      "         4.2815e+04, -4.7576e+03, -1.8445e+05, -2.4750e+04,  2.3754e+02,\n",
      "        -2.5016e+05, -5.1523e+03, -6.9557e+04,  2.1163e+04, -2.0437e+05,\n",
      "         1.1752e+03, -1.5958e+03,  1.2783e+05, -7.7458e+04,  1.7408e+05,\n",
      "         2.1122e+04, -6.9749e+04, -2.1213e+05,  2.5104e+05, -5.3656e+04,\n",
      "        -5.0509e+04,  1.7826e+04,  1.8266e+05, -9.1556e+04,  1.1695e+05,\n",
      "        -1.7573e+05, -2.4042e+04,  2.2625e+05,  4.2315e+04, -1.3153e+04,\n",
      "         2.9843e+02,  6.8163e+04, -2.2460e+04, -1.7193e+05,  1.8439e+04,\n",
      "         2.2957e+05,  1.4438e+04, -2.4009e+04,  2.0065e+04, -6.0276e+04,\n",
      "         3.2855e+04,  1.5489e+05, -2.5208e+05,  5.9562e+04, -1.7537e+04,\n",
      "        -6.6597e+03,  1.3094e+05,  4.1405e+04, -6.4757e+04, -1.5290e+05,\n",
      "         8.0534e+02, -1.2800e+05,  1.0911e+05,  1.4739e+05,  5.6207e+04,\n",
      "         7.2768e+04, -2.0227e+05,  4.7234e+04,  1.7961e+05,  1.5308e+05,\n",
      "         1.2264e+05, -2.0574e+04,  4.9675e+04,  3.0359e+04, -2.3148e+04,\n",
      "         1.1925e+04, -2.4209e+04,  8.2600e+02,  1.6254e+03, -1.4890e+04,\n",
      "         1.9594e+05, -2.5382e+04,  9.6308e+04,  8.5179e+04,  1.3275e+04,\n",
      "        -1.1037e+05,  6.7602e+03,  4.5969e+03,  6.7439e+04,  1.0775e+04,\n",
      "         3.1876e+04, -1.5265e+04,  2.3827e+05, -8.6258e+02, -8.6670e+04,\n",
      "        -8.6171e+02, -3.1686e+03,  2.4147e+03, -1.4927e+05, -1.5334e+05,\n",
      "        -1.0088e+04, -2.7002e+04,  1.5317e+05,  1.1292e+05, -2.8641e+04,\n",
      "         9.5613e+04, -1.2247e+05, -9.3211e+04, -2.1309e+04,  1.0408e+01,\n",
      "         5.5459e+03, -5.0886e+04, -2.3677e+05, -1.9977e+05, -3.0431e+04,\n",
      "        -8.8876e+03,  1.3131e+05,  1.5225e+05, -7.5214e+04,  8.9661e+04,\n",
      "        -2.3329e+04,  1.2749e+05, -2.8688e+04, -3.6885e+03, -2.1373e+05,\n",
      "        -1.1777e+05,  5.5405e+04,  2.0629e+05, -8.9754e+04,  1.4611e+05,\n",
      "        -1.8624e+05,  3.8853e+04,  1.1256e+05, -1.6523e+05,  1.4261e+04,\n",
      "         9.9972e+04, -3.9730e+03,  1.5179e+05, -1.5024e+03,  6.6963e+04,\n",
      "         4.6230e+04, -1.4844e+03,  5.4203e+04, -1.4227e+05,  9.7005e+03,\n",
      "        -5.2233e+00, -1.7673e+05, -1.1763e+04,  7.0505e+02, -1.1655e+03,\n",
      "        -4.1441e+04,  2.2666e+05, -4.8621e+04,  2.3267e+05, -5.7832e+04,\n",
      "         1.9193e+05,  1.6009e+05, -1.2703e+05, -4.3073e+04, -2.2683e+05,\n",
      "         1.8972e+04, -2.1591e+05, -2.2944e+05, -1.2179e+05,  1.1659e+05,\n",
      "        -2.0436e+04, -8.8225e+04, -5.9491e+04, -3.9030e+03, -9.6678e+03,\n",
      "         2.9457e+04, -3.1742e+04,  2.0403e+05, -1.0604e+05,  3.9181e+04,\n",
      "        -2.0253e+04, -2.4100e+04,  2.5257e+05, -1.5588e+04,  1.4613e+05,\n",
      "         4.8756e+03,  1.0300e+05, -3.9285e+04,  1.7347e+05, -2.4088e+05,\n",
      "        -2.3710e+05,  7.0430e+04, -5.5760e+04,  3.3309e+02, -3.9782e+04,\n",
      "         4.3284e+04, -1.2076e+05,  1.4875e+04, -7.6523e+04, -2.4304e+05,\n",
      "         6.0806e+04,  3.0427e+04,  2.2887e+05,  1.3898e+04,  4.2252e+04,\n",
      "         1.8697e+02, -2.5198e+05, -1.0750e+05,  7.5869e+04, -1.1566e+04,\n",
      "        -3.2897e+04, -1.1388e+05,  1.4452e+02,  1.5749e+05, -9.2324e+04,\n",
      "        -3.1826e+04, -1.9320e+05,  6.7665e+04,  5.6777e+04,  1.0783e+05,\n",
      "        -4.9292e+04, -1.2785e+05], device='cuda:0')\n"
     ]
    }
   ],
   "source": [
    "test_qid = 1133167\n",
    "test_pid = 6112590\n",
    "test_q_embed = net(generate_sparse(query_test_dict[test_qid]).to(CURRENT_DEVICE)).detach()\n",
    "test_p_embed = net(generate_sparse(passage_dict[test_pid]).to(CURRENT_DEVICE)).detach()\n",
    "test_score = torch.cosine_similarity(test_q_embed.unsqueeze(0), test_p_embed.unsqueeze(0)).item()\n",
    "print(test_score)\n",
    "print(test_p_embed)\n",
    "\n",
    "print(test_q_embed)"
   ],
   "metadata": {
    "collapsed": false,
    "pycharm": {
     "name": "#%%\n"
    }
   }
  }
 ],
 "metadata": {
  "kernelspec": {
   "display_name": "Python 3",
   "language": "python",
   "name": "python3"
  },
  "language_info": {
   "codemirror_mode": {
    "name": "ipython",
    "version": 2
   },
   "file_extension": ".py",
   "mimetype": "text/x-python",
   "name": "python",
   "nbconvert_exporter": "python",
   "pygments_lexer": "ipython2",
   "version": "2.7.6"
  }
 },
 "nbformat": 4,
 "nbformat_minor": 0
}
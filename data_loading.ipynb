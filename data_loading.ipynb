{
 "cells": [
  {
   "cell_type": "code",
   "execution_count": 157,
   "metadata": {
    "collapsed": true
   },
   "outputs": [],
   "source": [
    "import csv"
   ]
  },
  {
   "cell_type": "code",
   "execution_count": 158,
   "outputs": [],
   "source": [
    "PASSAGE_PATH = \"/home/jianx/data/passage_indices.csv\"\n",
    "QUERY_TRAIN_PATH = \"/home/jianx/data/queries.train.tsv\"\n",
    "TRAIN_TRIPLE_PATH = \"/home/jianx/data/qidpidtriples.train.full.2.tsv\""
   ],
   "metadata": {
    "collapsed": false,
    "pycharm": {
     "name": "#%%\n"
    }
   }
  },
  {
   "cell_type": "code",
   "execution_count": 159,
   "outputs": [],
   "source": [
    "def id_content_reader(path):\n",
    "    reader = csv.reader(open(path))\n",
    "    result = {}\n",
    "    for row in reader:\n",
    "        result[int(row[0])] = list(map(int, row[1].split()))\n",
    "    return result"
   ],
   "metadata": {
    "collapsed": false,
    "pycharm": {
     "name": "#%%\n"
    }
   }
  },
  {
   "cell_type": "code",
   "execution_count": 160,
   "outputs": [],
   "source": [
    "def pos_neg_dict_reader(path):\n",
    "    file = open(path)\n",
    "    line = file.readline()\n",
    "    pos_dict = {}\n",
    "    neg_dict = {}\n",
    "    while line:\n",
    "        ids = list(map(int, line.split()))\n",
    "        pos_dict[ids[0]] = ids[1]\n",
    "        neg_dict[ids[0]] = [ids[2]]\n",
    "        current_id = ids[0]\n",
    "        line = file.readline()\n",
    "        ids = list(map(int, line.split()))\n",
    "        while line and current_id == ids[0]:\n",
    "            neg_dict[current_id].append(int(ids[2]))\n",
    "            line = file.readline()\n",
    "            ids = list(map(int, line.split()))\n",
    "    return pos_dict,neg_dict"
   ],
   "metadata": {
    "collapsed": false,
    "pycharm": {
     "name": "#%%\n"
    }
   }
  },
  {
   "cell_type": "code",
   "execution_count": 161,
   "outputs": [],
   "source": [
    "positive, negative = pos_neg_dict_reader(TRAIN_TRIPLE_PATH)\n"
   ],
   "metadata": {
    "collapsed": false,
    "pycharm": {
     "name": "#%%\n"
    }
   }
  }
 ],
 "metadata": {
  "kernelspec": {
   "display_name": "Python 3",
   "language": "python",
   "name": "python3"
  },
  "language_info": {
   "codemirror_mode": {
    "name": "ipython",
    "version": 2
   },
   "file_extension": ".py",
   "mimetype": "text/x-python",
   "name": "python",
   "nbconvert_exporter": "python",
   "pygments_lexer": "ipython2",
   "version": "2.7.6"
  }
 },
 "nbformat": 4,
 "nbformat_minor": 0
}
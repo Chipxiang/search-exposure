{
 "cells": [
  {
   "cell_type": "code",
   "execution_count": 9,
   "metadata": {
    "collapsed": true
   },
   "outputs": [],
   "source": [
    "import csv"
   ]
  },
  {
   "cell_type": "code",
   "execution_count": 10,
   "outputs": [],
   "source": [
    "PASSAGE_PATH = \"/home/jianx/data/passage_indices.csv\"\n",
    "QUERY_TRAIN_PATH = \"/home/jianx/data/queries_train_indices.csv\"\n",
    "QUERY_EVAL_PATH = \"/home/jianx/data/queries_eval_indices.csv\"\n",
    "QUERY_DEV_PATH = \"/home/jianx/data/queries_dev_indices.csv\"\n",
    "TRAIN_TRIPLE_PATH = \"/home/jianx/data/qidpidtriples.train.full.2.tsv\""
   ],
   "metadata": {
    "collapsed": false,
    "pycharm": {
     "name": "#%%\n"
    }
   }
  },
  {
   "cell_type": "code",
   "execution_count": 11,
   "outputs": [],
   "source": [
    "def id_content_reader(path):\n",
    "    with open(path) as f:\n",
    "        reader = csv.reader(f)\n",
    "        result = {}\n",
    "        for row in reader:\n",
    "            result[int(row[0])] = list(map(int, row[1].split()))\n",
    "        return result"
   ],
   "metadata": {
    "collapsed": false,
    "pycharm": {
     "name": "#%%\n"
    }
   }
  },
  {
   "cell_type": "code",
   "execution_count": 20,
   "outputs": [],
   "source": [
    "def pos_neg_dict_reader(path):\n",
    "    with open(path) as file:\n",
    "        line = file.readline()\n",
    "        pos_neg_dict = {}\n",
    "        while line:\n",
    "            ids = list(map(int, line.split()))\n",
    "            pos_neg_dict[ids[0]] = [[ids[1], ids[2]]]\n",
    "            current_id = ids[0]\n",
    "            line = file.readline()\n",
    "            ids = list(map(int, line.split()))\n",
    "            while line and current_id == ids[0]:\n",
    "                pos_neg_dict[current_id].append([int(ids[1]), int(ids[2])])\n",
    "                line = file.readline()\n",
    "                ids = list(map(int, line.split()))\n",
    "    return pos_neg_dict"
   ],
   "metadata": {
    "collapsed": false,
    "pycharm": {
     "name": "#%%\n"
    }
   }
  },
  {
   "cell_type": "code",
   "execution_count": 23,
   "outputs": [],
   "source": [
    "positive_negative = pos_neg_dict_reader(TRAIN_TRIPLE_PATH)"
   ],
   "metadata": {
    "collapsed": false,
    "pycharm": {
     "name": "#%%\n"
    }
   }
  },
  {
   "cell_type": "code",
   "execution_count": null,
   "outputs": [],
   "source": [
    "passages = id_content_reader(PASSAGE_PATH)\n",
    "queries_train = id_content_reader(QUERY_TRAIN_PATH)\n",
    "queries_eval = id_content_reader(QUERY_EVAL_PATH)\n",
    "queries_dev = id_content_reader(QUERY_DEV_PATH)"
   ],
   "metadata": {
    "collapsed": false,
    "pycharm": {
     "name": "#%%\n"
    }
   }
  },
  {
   "cell_type": "code",
   "execution_count": 25,
   "outputs": [],
   "source": [
    "import pickle\n",
    "\n",
    "def obj_writer(obj, path):\n",
    "    with open(path, 'wb') as handle:\n",
    "        pickle.dump(obj, handle)\n",
    "\n",
    "def obj_reader(path):\n",
    "    with open(path, 'rb') as handle:\n",
    "        return pickle.loads(handle.read())"
   ],
   "metadata": {
    "collapsed": false,
    "pycharm": {
     "name": "#%%\n"
    }
   }
  },
  {
   "cell_type": "code",
   "execution_count": null,
   "outputs": [],
   "source": [
    "obj_writer(passages, \"/home/jianx/data/passages.dict\")\n",
    "obj_writer(queries_train, \"/home/jianx/data/queries_train.dict\")\n",
    "obj_writer(queries_eval, \"/home/jianx/data/queries_eval.dict\")\n",
    "obj_writer(queries_dev, \"/home/jianx/data/queries_dev.dict\")"
   ],
   "metadata": {
    "collapsed": false,
    "pycharm": {
     "name": "#%%\n"
    }
   }
  },
  {
   "cell_type": "code",
   "execution_count": 26,
   "outputs": [],
   "source": [
    "obj_writer(positive_negative, \"/home/jianx/data/qid_pos_neg.dict\")"
   ],
   "metadata": {
    "collapsed": false,
    "pycharm": {
     "name": "#%%\n"
    }
   }
  },
  {
   "cell_type": "code",
   "execution_count": null,
   "outputs": [],
   "source": [
    "neg = obj_reader(\"/home/jianx/data/negative_qid_pid.dict\")\n",
    "neg == negative"
   ],
   "metadata": {
    "collapsed": false,
    "pycharm": {
     "name": "#%%\n"
    }
   }
  },
  {
   "cell_type": "code",
   "execution_count": 38,
   "outputs": [
    {
     "name": "stdout",
     "output_type": "stream",
     "text": [
      "[[1108465, 6672110]]\n",
      "1108465 6672110\n"
     ]
    }
   ],
   "source": [
    "import random\n",
    "\n",
    "pos_neg_pair = random.sample(positive_negative[999511], 1)\n",
    "print(pos_neg_pair)\n",
    "pos_pid = pos_neg_pair[0][0]\n",
    "neg_pid = pos_neg_pair[0][1]\n",
    "print(pos_pid,neg_pid)"
   ],
   "metadata": {
    "collapsed": false,
    "pycharm": {
     "name": "#%%\n"
    }
   }
  }
 ],
 "metadata": {
  "kernelspec": {
   "display_name": "Python 3",
   "language": "python",
   "name": "python3"
  },
  "language_info": {
   "codemirror_mode": {
    "name": "ipython",
    "version": 2
   },
   "file_extension": ".py",
   "mimetype": "text/x-python",
   "name": "python",
   "nbconvert_exporter": "python",
   "pygments_lexer": "ipython2",
   "version": "2.7.6"
  }
 },
 "nbformat": 4,
 "nbformat_minor": 0
}
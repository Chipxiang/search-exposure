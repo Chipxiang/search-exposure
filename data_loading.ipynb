{
 "cells": [
  {
   "cell_type": "code",
   "execution_count": 9,
   "metadata": {
    "collapsed": true
   },
   "outputs": [],
   "source": [
    "import csv"
   ]
  },
  {
   "cell_type": "code",
   "execution_count": 10,
   "outputs": [],
   "source": [
    "PASSAGE_PATH = \"/home/jianx/data/passage_indices.csv\"\n",
    "QUERY_TRAIN_PATH = \"/home/jianx/data/queries_train_indices.csv\"\n",
    "QUERY_EVAL_PATH = \"/home/jianx/data/queries_eval_indices.csv\"\n",
    "QUERY_DEV_PATH = \"/home/jianx/data/queries_dev_indices.csv\"\n",
    "TRAIN_TRIPLE_PATH = \"/home/jianx/data/qidpidtriples.train.full.2.tsv\""
   ],
   "metadata": {
    "collapsed": false,
    "pycharm": {
     "name": "#%%\n"
    }
   }
  },
  {
   "cell_type": "code",
   "execution_count": 11,
   "outputs": [],
   "source": [
    "def id_content_reader(path):\n",
    "    with open(path) as f:\n",
    "        reader = csv.reader(f)\n",
    "        result = {}\n",
    "        for row in reader:\n",
    "            result[int(row[0])] = list(map(int, row[1].split()))\n",
    "        return result"
   ],
   "metadata": {
    "collapsed": false,
    "pycharm": {
     "name": "#%%\n"
    }
   }
  },
  {
   "cell_type": "code",
   "execution_count": 18,
   "outputs": [],
   "source": [
    "def pos_neg_dict_reader(path):\n",
    "    with open(path) as file:\n",
    "        line = file.readline()\n",
    "        pos_dict = {}\n",
    "        neg_dict = {}\n",
    "        total_count = 0\n",
    "        while line:\n",
    "            ids = list(map(int, line.split()))\n",
    "            pos_dict[ids[0]] = ids[1]\n",
    "            neg_dict[ids[0]] = [ids[2]]\n",
    "            current_id = ids[0]\n",
    "            pos_id = ids[1]\n",
    "            line = file.readline()\n",
    "            ids = list(map(int, line.split()))\n",
    "            difference_count = 0\n",
    "            while line and current_id == ids[0]:\n",
    "                if ids[1] != pos_id:\n",
    "                    difference_count += 1\n",
    "                    pos_id = ids[1]\n",
    "                neg_dict[current_id].append(int(ids[2]))\n",
    "                line = file.readline()\n",
    "                ids = list(map(int, line.split()))\n",
    "            if difference_count != 0:\n",
    "                total_count += 1\n",
    "        print(total_count)\n",
    "    return pos_dict,neg_dict"
   ],
   "metadata": {
    "collapsed": false,
    "pycharm": {
     "name": "#%%\n"
    }
   }
  },
  {
   "cell_type": "code",
   "execution_count": 19,
   "outputs": [
    {
     "name": "stdout",
     "output_type": "stream",
     "text": [
      "15323\n"
     ]
    }
   ],
   "source": [
    "positive, negative = pos_neg_dict_reader(TRAIN_TRIPLE_PATH)"
   ],
   "metadata": {
    "collapsed": false,
    "pycharm": {
     "name": "#%%\n"
    }
   }
  },
  {
   "cell_type": "code",
   "execution_count": null,
   "outputs": [],
   "source": [
    "passages = id_content_reader(PASSAGE_PATH)\n",
    "queries_train = id_content_reader(QUERY_TRAIN_PATH)\n",
    "queries_eval = id_content_reader(QUERY_EVAL_PATH)\n",
    "queries_dev = id_content_reader(QUERY_DEV_PATH)"
   ],
   "metadata": {
    "collapsed": false,
    "pycharm": {
     "name": "#%%\n"
    }
   }
  },
  {
   "cell_type": "code",
   "execution_count": null,
   "outputs": [],
   "source": [
    "import pickle\n",
    "\n",
    "def obj_writer(obj, path):\n",
    "    with open(path, 'wb') as handle:\n",
    "        pickle.dump(obj, handle)\n",
    "\n",
    "def obj_reader(path):\n",
    "    with open(path, 'rb') as handle:\n",
    "        return pickle.loads(handle.read())"
   ],
   "metadata": {
    "collapsed": false,
    "pycharm": {
     "name": "#%%\n"
    }
   }
  },
  {
   "cell_type": "code",
   "execution_count": null,
   "outputs": [],
   "source": [
    "obj_writer(positive, \"/home/jianx/data/positive_qid_pid.dict\")\n",
    "obj_writer(negative, \"/home/jianx/data/negative_qid_pid.dict\")\n",
    "obj_writer(passages, \"/home/jianx/data/passages.dict\")\n",
    "obj_writer(queries_train, \"/home/jianx/data/queries_train.dict\")\n",
    "obj_writer(queries_eval, \"/home/jianx/data/queries_eval.dict\")\n",
    "obj_writer(queries_dev, \"/home/jianx/data/queries_dev.dict\")"
   ],
   "metadata": {
    "collapsed": false,
    "pycharm": {
     "name": "#%%\n"
    }
   }
  },
  {
   "cell_type": "code",
   "execution_count": null,
   "outputs": [],
   "source": [
    "neg = obj_reader(\"/home/jianx/data/negative_qid_pid.dict\")\n",
    "neg == negative\n"
   ],
   "metadata": {
    "collapsed": false,
    "pycharm": {
     "name": "#%%\n"
    }
   }
  },
  {
   "cell_type": "code",
   "execution_count": 20,
   "outputs": [],
   "source": [
    "neg = obj_reader(\"/home/jianx/data/negative_qid_pid.dict\")\n",
    "neg == negative\n"
   ],
   "metadata": {
    "collapsed": false,
    "pycharm": {
     "name": "#%%\n"
    }
   }
  },
  {
   "cell_type": "code",
   "execution_count": 12,
   "outputs": [],
   "source": [
    "import pickle\n",
    "\n",
    "def obj_writer(obj, path):\n",
    "    with open(path, 'wb') as handle:\n",
    "        pickle.dump(obj, handle)\n",
    "\n",
    "def obj_reader(path):\n",
    "    with open(path, 'rb') as handle:\n",
    "        return pickle.loads(handle.read())"
   ],
   "metadata": {
    "collapsed": false,
    "pycharm": {
     "name": "#%%\n"
    }
   }
  },
  {
   "cell_type": "code",
   "execution_count": 21,
   "outputs": [],
   "source": [
    "obj_writer(positive, \"/home/jianx/data/positive_qid_pid.dict\")\n",
    "obj_writer(negative, \"/home/jianx/data/negative_qid_pid.dict\")\n",
    "obj_writer(passages, \"/home/jianx/data/passages.dict\")\n",
    "obj_writer(queries_train, \"/home/jianx/data/queries_train.dict\")\n",
    "obj_writer(queries_eval, \"/home/jianx/data/queries_eval.dict\")\n",
    "obj_writer(queries_dev, \"/home/jianx/data/queries_dev.dict\")"
   ],
   "metadata": {
    "collapsed": false,
    "pycharm": {
     "name": "#%%\n"
    }
   }
  },
  {
   "cell_type": "code",
   "execution_count": 15,
   "outputs": [
    {
     "data": {
      "text/plain": "True"
     },
     "execution_count": 15,
     "metadata": {},
     "output_type": "execute_result"
    }
   ],
   "source": [
    "neg = obj_reader(\"/home/jianx/data/negative_qid_pid.dict\")\n",
    "neg == negative\n"
   ],
   "metadata": {
    "collapsed": false,
    "pycharm": {
     "name": "#%%\n"
    }
   }
  }
 ],
 "metadata": {
  "kernelspec": {
   "display_name": "Python 3",
   "language": "python",
   "name": "python3"
  },
  "language_info": {
   "codemirror_mode": {
    "name": "ipython",
    "version": 2
   },
   "file_extension": ".py",
   "mimetype": "text/x-python",
   "name": "python",
   "nbconvert_exporter": "python",
   "pygments_lexer": "ipython2",
   "version": "2.7.6"
  }
 },
 "nbformat": 4,
 "nbformat_minor": 0
}
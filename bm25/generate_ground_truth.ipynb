{
 "cells": [
  {
   "cell_type": "code",
   "execution_count": 68,
   "metadata": {},
   "outputs": [],
   "source": [
    "import sys\n",
    "sys.path.insert(0, '../active_metric_learning/')\n",
    "import faiss\n",
    "import random\n",
    "import numpy as np\n",
    "import os\n",
    "import forward_ranker.load_data as load_data\n",
    "from forward_ranker.utils import print_message\n",
    "from forward_ranker.utils import timestamp\n",
    "from opts import get_opts_active_learning\n",
    "from testing import load_model, transform_np_transformation\n",
    "\n",
    "obj_reader = load_data.obj_reader\n",
    "obj_writer = load_data.obj_writer"
   ]
  },
  {
   "cell_type": "code",
   "execution_count": 29,
   "metadata": {},
   "outputs": [],
   "source": [
    "def load_without_filter(path, all_results):\n",
    "    with open(path, \"r\") as f:\n",
    "        for line in f:\n",
    "            split_line = line.split(\"\\t\")\n",
    "            qid = int(split_line[0])\n",
    "            pid = int(split_line[1])\n",
    "            if qid not in all_results:\n",
    "                all_results[qid] = []\n",
    "            all_results[qid].append(pid)"
   ]
  },
  {
   "cell_type": "code",
   "execution_count": 66,
   "metadata": {},
   "outputs": [],
   "source": [
    "def load_ground_truth(path, all_qids, all_pids, all_results, n=100, sep=\"\\t\"):\n",
    "    with open(path, \"r\") as f:\n",
    "        for line in f:\n",
    "            split_line = line.split(sep)\n",
    "            qid = int(split_line[0])\n",
    "            if qid not in all_qids:\n",
    "                continue\n",
    "            pid = int(split_line[1])\n",
    "            if pid not in all_pids:\n",
    "                continue\n",
    "            if qid not in all_results:\n",
    "                all_results[qid] = []\n",
    "            if len(all_results[qid]) < n: \n",
    "                all_results[qid].append(pid)"
   ]
  },
  {
   "cell_type": "code",
   "execution_count": 58,
   "metadata": {},
   "outputs": [],
   "source": [
    "def filter_data(all_results, all_qids, all_pids):\n",
    "    new_results = {}\n",
    "    for qid in all_qids:\n",
    "        if qid not in all_results:\n",
    "            print(\"{} not exist\".format(qid))\n",
    "        else:\n",
    "            new_results[qid] = all_results[qid]"
   ]
  },
  {
   "cell_type": "code",
   "execution_count": 59,
   "metadata": {},
   "outputs": [],
   "source": [
    "def write_data(all_results,output_path,n=100):\n",
    "    for qid, pids in all_results.items():\n",
    "        if len(pids) != n:\n",
    "            print(\"Not enough pids for query {}. Only {} passages ranked.\".format(qid, len(pids)))\n",
    "        for i, pid in enumerate(pids):\n",
    "            with open(output_path, \"a\") as f:\n",
    "                f.write(\"{},{},{}\\n\".format(qid, pid, i + 1))"
   ]
  },
  {
   "cell_type": "code",
   "execution_count": 61,
   "metadata": {},
   "outputs": [],
   "source": [
    "def add_particular_query(output_path,input_path,all_qids,all_pids,n=100):\n",
    "    all_results = {}\n",
    "    load_ground_truth(input_path, all_qids, all_pids, all_results)\n",
    "    print(len(all_results))\n",
    "    write_data(all_results,output_path,n)"
   ]
  },
  {
   "cell_type": "code",
   "execution_count": 40,
   "metadata": {},
   "outputs": [],
   "source": [
    "pid_mapping = obj_reader(\"/datadrive/jianx/data/annoy/100_ance_passage_map.dict\")\n",
    "query_train_mapping = obj_reader(\"/datadrive/jianx/data/annoy/100_ance_query_train_map.dict\")"
   ]
  },
  {
   "cell_type": "code",
   "execution_count": 41,
   "metadata": {},
   "outputs": [],
   "source": [
    "all_pids = set(list(pid_mapping.values()))\n",
    "all_qids = set(list(query_train_mapping.values()))"
   ]
  },
  {
   "cell_type": "code",
   "execution_count": 43,
   "metadata": {},
   "outputs": [
    {
     "name": "stdout",
     "output_type": "stream",
     "text": [
      "run.train7.tsv\n",
      "62340\n",
      "run.train0.tsv\n",
      "124734\n",
      "run.train3.tsv\n",
      "186972\n",
      "run.train2.tsv\n",
      "248917\n",
      "run.train6.tsv\n",
      "311045\n",
      "run.train1.tsv\n",
      "373244\n",
      "run.train4.tsv\n",
      "435309\n",
      "run.train5.tsv\n",
      "497467\n",
      "run.train8.tsv\n",
      "502930\n"
     ]
    }
   ],
   "source": [
    "folder_path = \"/datadrive/jianx/data/anserini/\"\n",
    "all_paths = os.listdir(folder_path)\n",
    "all_results = {}\n",
    "for path in all_paths:\n",
    "    print(path)\n",
    "    load_ground_truth(folder_path + path, all_qids, all_pids, all_results)\n",
    "    print(len(all_results))"
   ]
  },
  {
   "cell_type": "code",
   "execution_count": 45,
   "metadata": {},
   "outputs": [
    {
     "name": "stdout",
     "output_type": "stream",
     "text": [
      "9\n",
      "{48509, 1078982, 140329, 502557, 205266, 129844, 522517, 197820, 56573}\n"
     ]
    }
   ],
   "source": [
    "found_set = set(list(all_results.keys()))\n",
    "diff_set = all_qids - found_set\n",
    "print(len(diff_set))\n",
    "print(diff_set)"
   ]
  },
  {
   "cell_type": "code",
   "execution_count": 64,
   "metadata": {},
   "outputs": [
    {
     "name": "stdout",
     "output_type": "stream",
     "text": [
      "{2}\n"
     ]
    }
   ],
   "source": [
    "xset = {1,2,3}\n",
    "yset = {2}\n",
    "print(xset.intersection(yset))"
   ]
  },
  {
   "cell_type": "code",
   "execution_count": 54,
   "metadata": {},
   "outputs": [
    {
     "name": "stdout",
     "output_type": "stream",
     "text": [
      "Not enough pids for query 1081460. Only 20 passages ranked.\n",
      "Not enough pids for query 403317. Only 40 passages ranked.\n",
      "Not enough pids for query 409689. Only 66 passages ranked.\n",
      "Not enough pids for query 445386. Only 12 passages ranked.\n",
      "Not enough pids for query 413914. Only 32 passages ranked.\n",
      "Not enough pids for query 1184859. Only 30 passages ranked.\n",
      "Not enough pids for query 537503. Only 78 passages ranked.\n",
      "Not enough pids for query 154430. Only 16 passages ranked.\n",
      "Not enough pids for query 4826. Only 96 passages ranked.\n",
      "Not enough pids for query 432576. Only 68 passages ranked.\n",
      "Not enough pids for query 140937. Only 46 passages ranked.\n",
      "Not enough pids for query 1182290. Only 13 passages ranked.\n",
      "Not enough pids for query 535776. Only 88 passages ranked.\n",
      "Not enough pids for query 1172686. Only 14 passages ranked.\n",
      "Not enough pids for query 535851. Only 5 passages ranked.\n",
      "Not enough pids for query 423562. Only 77 passages ranked.\n",
      "Not enough pids for query 498824. Only 84 passages ranked.\n",
      "Not enough pids for query 1077124. Only 82 passages ranked.\n",
      "Not enough pids for query 9360. Only 1 passages ranked.\n",
      "Not enough pids for query 466282. Only 87 passages ranked.\n",
      "Not enough pids for query 176932. Only 68 passages ranked.\n",
      "Not enough pids for query 1174144. Only 30 passages ranked.\n",
      "Not enough pids for query 461033. Only 8 passages ranked.\n",
      "Not enough pids for query 116440. Only 29 passages ranked.\n",
      "Not enough pids for query 400180. Only 99 passages ranked.\n",
      "Not enough pids for query 415442. Only 16 passages ranked.\n",
      "Not enough pids for query 424208. Only 9 passages ranked.\n",
      "Not enough pids for query 17743. Only 18 passages ranked.\n",
      "Not enough pids for query 197708. Only 20 passages ranked.\n",
      "Not enough pids for query 521897. Only 76 passages ranked.\n",
      "Not enough pids for query 175038. Only 47 passages ranked.\n",
      "Not enough pids for query 411136. Only 71 passages ranked.\n",
      "Not enough pids for query 431335. Only 27 passages ranked.\n",
      "Not enough pids for query 412693. Only 35 passages ranked.\n",
      "Not enough pids for query 421774. Only 56 passages ranked.\n",
      "Not enough pids for query 541315. Only 9 passages ranked.\n",
      "Not enough pids for query 1168327. Only 11 passages ranked.\n",
      "Not enough pids for query 1059878. Only 84 passages ranked.\n",
      "Not enough pids for query 1169509. Only 31 passages ranked.\n",
      "Not enough pids for query 1081798. Only 7 passages ranked.\n",
      "Not enough pids for query 14771. Only 15 passages ranked.\n",
      "Not enough pids for query 114994. Only 60 passages ranked.\n",
      "Not enough pids for query 1183099. Only 25 passages ranked.\n",
      "Not enough pids for query 1169222. Only 17 passages ranked.\n",
      "Not enough pids for query 1168702. Only 45 passages ranked.\n",
      "Not enough pids for query 1143505. Only 39 passages ranked.\n",
      "Not enough pids for query 404317. Only 19 passages ranked.\n",
      "Not enough pids for query 431934. Only 42 passages ranked.\n",
      "Not enough pids for query 934874. Only 17 passages ranked.\n",
      "Not enough pids for query 409116. Only 22 passages ranked.\n",
      "Not enough pids for query 423642. Only 32 passages ranked.\n",
      "Not enough pids for query 140335. Only 47 passages ranked.\n",
      "Not enough pids for query 1173387. Only 12 passages ranked.\n",
      "Not enough pids for query 471625. Only 50 passages ranked.\n",
      "Not enough pids for query 415306. Only 94 passages ranked.\n",
      "Not enough pids for query 140334. Only 66 passages ranked.\n",
      "Not enough pids for query 418750. Only 61 passages ranked.\n",
      "Not enough pids for query 513607. Only 51 passages ranked.\n",
      "Not enough pids for query 201813. Only 12 passages ranked.\n",
      "Not enough pids for query 203505. Only 31 passages ranked.\n",
      "Not enough pids for query 424504. Only 54 passages ranked.\n",
      "Not enough pids for query 485862. Only 55 passages ranked.\n",
      "Not enough pids for query 399109. Only 37 passages ranked.\n",
      "Not enough pids for query 1172706. Only 78 passages ranked.\n",
      "Not enough pids for query 1168494. Only 34 passages ranked.\n",
      "Not enough pids for query 513812. Only 4 passages ranked.\n"
     ]
    }
   ],
   "source": [
    "write_data(all_results,\"/datadrive/ruohan/bm25/ground_truth/bm25_top100.csv\",n=100)"
   ]
  },
  {
   "cell_type": "code",
   "execution_count": 60,
   "metadata": {},
   "outputs": [
    {
     "name": "stdout",
     "output_type": "stream",
     "text": [
      "7\n"
     ]
    }
   ],
   "source": [
    "add_particular_query(\"/datadrive/ruohan/bm25/ground_truth/bm25_top100.csv\",\n",
    "                     \"/datadrive/jianx/data/anserini/run.train9.tsv\",all_qids,all_pids,n=100)"
   ]
  },
  {
   "cell_type": "code",
   "execution_count": 63,
   "metadata": {},
   "outputs": [
    {
     "name": "stdout",
     "output_type": "stream",
     "text": [
      "1\n"
     ]
    }
   ],
   "source": [
    "add_particular_query(\"/datadrive/ruohan/bm25/ground_truth/bm25_top100.csv\",\n",
    "                     \"/datadrive/jianx/data/anserini/run.train9.tsv\",set([140329]),all_pids,n=100)"
   ]
  },
  {
   "cell_type": "code",
   "execution_count": 67,
   "metadata": {},
   "outputs": [
    {
     "name": "stdout",
     "output_type": "stream",
     "text": [
      "1\n"
     ]
    }
   ],
   "source": [
    "add_particular_query(\"/datadrive/ruohan/bm25/ground_truth/bm25_top100.csv\",\n",
    "                     \"/datadrive/jianx/data/results/all_search_rankings_100_100_flat.csv\",set([197820]),all_pids,n=100)"
   ]
  },
  {
   "cell_type": "code",
   "execution_count": 30,
   "metadata": {},
   "outputs": [
    {
     "name": "stdout",
     "output_type": "stream",
     "text": [
      "run.train7.tsv\n",
      "99997\n",
      "run.train3.tsv\n",
      "199997\n",
      "run.train2.tsv\n",
      "299993\n",
      "run.train6.tsv\n",
      "399991\n",
      "run.train1.tsv\n",
      "499988\n",
      "run.train4.tsv\n",
      "599987\n",
      "run.train5.tsv\n",
      "699987\n",
      "run.train8.tsv\n",
      "708716\n"
     ]
    }
   ],
   "source": [
    "folder_path = \"/datadrive/jianx/data/anserini/\"\n",
    "all_paths = os.listdir(folder_path)\n",
    "all_results_without = {}\n",
    "for path in all_paths:\n",
    "    print(path)\n",
    "    load_without_filter(folder_path + path, all_results_without)\n",
    "    print(len(all_results_without))"
   ]
  },
  {
   "cell_type": "code",
   "execution_count": 22,
   "metadata": {},
   "outputs": [
    {
     "name": "stdout",
     "output_type": "stream",
     "text": [
      "440536\n"
     ]
    }
   ],
   "source": [
    "print(len(all_results))"
   ]
  },
  {
   "cell_type": "code",
   "execution_count": 21,
   "metadata": {},
   "outputs": [
    {
     "name": "stdout",
     "output_type": "stream",
     "text": [
      "502939\n"
     ]
    }
   ],
   "source": [
    "print(len(all_qids))"
   ]
  },
  {
   "cell_type": "code",
   "execution_count": 27,
   "metadata": {},
   "outputs": [
    {
     "data": {
      "text/plain": [
       "8841823"
      ]
     },
     "execution_count": 27,
     "metadata": {},
     "output_type": "execute_result"
    }
   ],
   "source": [
    "len(all_pids)"
   ]
  },
  {
   "cell_type": "code",
   "execution_count": null,
   "metadata": {},
   "outputs": [],
   "source": [
    "print(len(all_results))"
   ]
  },
  {
   "cell_type": "markdown",
   "metadata": {},
   "source": [
    "# Alternative baseline model: \n",
    "* Treat passage as \"long\" query \n",
    "* Treat query as \"short\" passage\n",
    "<p> Only need this for 200,000 passages and all candidates queries"
   ]
  },
  {
   "cell_type": "code",
   "execution_count": 69,
   "metadata": {},
   "outputs": [],
   "source": [
    "query_train_mapping = obj_reader(\"/datadrive/jianx/data/annoy/100_ance_query_train_map.dict\")\n",
    "all_qids = set(list(query_train_mapping.values()))"
   ]
  },
  {
   "cell_type": "code",
   "execution_count": 71,
   "metadata": {},
   "outputs": [],
   "source": [
    "test_path = \"/datadrive/ruohan/final_train_test_data/ance_testing_rank100_nqueries50000_npassages20000_bm25.csv\"\n",
    "test_passages = set()\n",
    "with open(test_path, \"r\") as f:\n",
    "    for line in f:\n",
    "        split_line = line.split(\",\")\n",
    "        pid = int(split_line[0])\n",
    "        test_passages.add(pid)"
   ]
  },
  {
   "cell_type": "code",
   "execution_count": 72,
   "metadata": {},
   "outputs": [
    {
     "name": "stdout",
     "output_type": "stream",
     "text": [
      "502939\n",
      "20000\n"
     ]
    }
   ],
   "source": [
    "print(len(all_qids))\n",
    "print(len(test_passages))"
   ]
  },
  {
   "cell_type": "code",
   "execution_count": 93,
   "metadata": {},
   "outputs": [],
   "source": [
    "train_path = \"/datadrive/ruohan/final_train_test_data/ance_training_rank100_nqueries50000_npassages200000_bm25.csv\"\n",
    "train_passages = set()\n",
    "with open(train_path, \"r\") as f:\n",
    "    for line in f:\n",
    "        split_line = line.split(\",\")\n",
    "        pid = int(split_line[0])\n",
    "        train_passages.add(pid)\n",
    "        if len(train_passages) >= 20000:\n",
    "            break"
   ]
  },
  {
   "cell_type": "code",
   "execution_count": 94,
   "metadata": {},
   "outputs": [
    {
     "data": {
      "text/plain": [
       "20000"
      ]
     },
     "execution_count": 94,
     "metadata": {},
     "output_type": "execute_result"
    }
   ],
   "source": [
    "len(train_passages)"
   ]
  },
  {
   "cell_type": "code",
   "execution_count": 73,
   "metadata": {},
   "outputs": [],
   "source": [
    "passage_text_path = \"/datadrive/jianx/data/collection.tsv\"\n",
    "query_text_path = \"/datadrive/jianx/data/queries.train.tsv\""
   ]
  },
  {
   "cell_type": "code",
   "execution_count": 81,
   "metadata": {},
   "outputs": [],
   "source": [
    "def write_selected(input_path, output_path, select_set):\n",
    "    output_dict = {}\n",
    "    with open(input_path, \"r\") as f:\n",
    "        for line in f:\n",
    "            split_line = line.split(\"\\t\")\n",
    "            idx = int(split_line[0])\n",
    "            if idx in select_set:\n",
    "                output_dict[idx] = split_line[1]\n",
    "    if len(select_set) != len(output_dict):\n",
    "        print(\"Only {}/{} have raw text\".format(len(output_dict), len(select_set)))\n",
    "    else:\n",
    "        for idx, text in output_dict.items():\n",
    "            with open(output_path, \"a\") as f:\n",
    "                f.write(\"{}\\t{}\".format(idx, text))"
   ]
  },
  {
   "cell_type": "code",
   "execution_count": 82,
   "metadata": {},
   "outputs": [],
   "source": [
    "test_folder = \"/datadrive/ruohan/bm25/test_data/\"\n",
    "write_selected(passage_text_path, test_folder + \"test_passage.tsv\", test_passages)"
   ]
  },
  {
   "cell_type": "code",
   "execution_count": 83,
   "metadata": {},
   "outputs": [],
   "source": [
    "write_selected(query_text_path, test_folder + \"all_queries.tsv\", all_qids)"
   ]
  },
  {
   "cell_type": "code",
   "execution_count": 95,
   "metadata": {},
   "outputs": [],
   "source": [
    "train_folder = \"/datadrive/ruohan/bm25/train_data/\""
   ]
  },
  {
   "cell_type": "code",
   "execution_count": 96,
   "metadata": {},
   "outputs": [],
   "source": [
    "write_selected(passage_text_path, train_folder + \"train_passage.tsv\", train_passages)"
   ]
  },
  {
   "cell_type": "markdown",
   "metadata": {},
   "source": [
    "### Generate test data with pid,qid,rank"
   ]
  },
  {
   "cell_type": "code",
   "execution_count": 97,
   "metadata": {},
   "outputs": [],
   "source": [
    "baseline_path = \"/home/jianx/anserini/runs/run.msmarco-query.tsv\"\n",
    "output_baseline_path = \"/datadrive/ruohan/final_train_test_data/bm25_inverse_index_baseline.csv\"\n",
    "ground_truth_path = \"/datadrive/ruohan/bm25/ground_truth/bm25_top100.csv\""
   ]
  },
  {
   "cell_type": "code",
   "execution_count": 91,
   "metadata": {},
   "outputs": [],
   "source": [
    "def generate_test_data(baseline_path, output_baseline_path, ground_truth_path):\n",
    "    all_results = {}\n",
    "    with open(ground_truth_path, \"r\") as f:\n",
    "        for line in f:\n",
    "            line_split = line.split(\",\")\n",
    "            qid = int(line_split[0])\n",
    "            pid = int(line_split[1])\n",
    "            rank = int(line_split[2])\n",
    "            if qid not in all_results.keys():\n",
    "                all_results[qid] = {}\n",
    "            all_results[qid][pid] = rank\n",
    "    with open(baseline_path, \"r\") as f:\n",
    "        for line in f:\n",
    "            line_split = line.split(\"\\t\")\n",
    "            pid = int(line_split[0])\n",
    "            qid = int(line_split[1])\n",
    "            rank = all_results[qid].get(pid, 0)\n",
    "            with open(output_baseline_path, \"a\") as f:\n",
    "                f.write(\"{},{},{}\\n\".format(pid, qid, rank))"
   ]
  },
  {
   "cell_type": "code",
   "execution_count": 92,
   "metadata": {},
   "outputs": [],
   "source": [
    "generate_test_data(baseline_path, output_baseline_path, ground_truth_path)"
   ]
  },
  {
   "cell_type": "code",
   "execution_count": 101,
   "metadata": {},
   "outputs": [],
   "source": [
    "generate_test_data(\"/home/jianx/anserini/runs/bm25_test_k1_0.8_b_0.8.tsv\", \n",
    "                   \"/datadrive/ruohan/bm25/results/bm25_test_results_k1_0.8_b_0.8.csv\", ground_truth_path)"
   ]
  },
  {
   "cell_type": "code",
   "execution_count": 98,
   "metadata": {},
   "outputs": [],
   "source": [
    "all_results = {}\n",
    "with open(ground_truth_path, \"r\") as f:\n",
    "    for line in f:\n",
    "        line_split = line.split(\",\")\n",
    "        qid = int(line_split[0])\n",
    "        pid = int(line_split[1])\n",
    "        rank = int(line_split[2])\n",
    "        if qid not in all_results.keys():\n",
    "            all_results[qid] = {}\n",
    "        all_results[qid][pid] = rank"
   ]
  },
  {
   "cell_type": "code",
   "execution_count": 99,
   "metadata": {},
   "outputs": [],
   "source": [
    "obj_writer(all_results, \"/datadrive/ruohan/bm25/ground_truth/bm25_top100.dict\")"
   ]
  },
  {
   "cell_type": "code",
   "execution_count": 100,
   "metadata": {},
   "outputs": [],
   "source": [
    "all_results = obj_reader(\"/datadrive/ruohan/bm25/ground_truth/bm25_top100.dict\")"
   ]
  },
  {
   "cell_type": "markdown",
   "metadata": {},
   "source": [
    "# Compare bm25 baseline performance with ANCE baseline"
   ]
  },
  {
   "cell_type": "code",
   "execution_count": null,
   "metadata": {},
   "outputs": [],
   "source": []
  }
 ],
 "metadata": {
  "kernelspec": {
   "display_name": "Python [conda env:py37_pytorch]",
   "language": "python",
   "name": "conda-env-py37_pytorch-py"
  },
  "language_info": {
   "codemirror_mode": {
    "name": "ipython",
    "version": 3
   },
   "file_extension": ".py",
   "mimetype": "text/x-python",
   "name": "python",
   "nbconvert_exporter": "python",
   "pygments_lexer": "ipython3",
   "version": "3.7.7"
  }
 },
 "nbformat": 4,
 "nbformat_minor": 4
}

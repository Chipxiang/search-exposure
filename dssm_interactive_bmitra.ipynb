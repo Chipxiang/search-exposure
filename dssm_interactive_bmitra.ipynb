{
 "cells": [
  {
   "cell_type": "code",
   "execution_count": 1,
   "metadata": {},
   "outputs": [
    {
     "data": {
      "text/html": [
       "\n",
       "<style>\n",
       "    div#notebook-container    { width: 95%; }\n",
       "    div#menubar-container     { width: 65%; }\n",
       "    div#maintoolbar-container { width: 99%; }\n",
       "</style>\n"
      ],
      "text/plain": [
       "<IPython.core.display.HTML object>"
      ]
     },
     "metadata": {},
     "output_type": "display_data"
    }
   ],
   "source": [
    "import torch\n",
    "import torch.nn as nn\n",
    "from torch import optim\n",
    "import csv\n",
    "import os\n",
    "import pickle\n",
    "import random\n",
    "import datetime\n",
    "import math\n",
    "import numpy as np\n",
    "import fasttext\n",
    "from IPython.display import display, HTML\n",
    "\n",
    "display(HTML(data=\"\"\"\n",
    "<style>\n",
    "    div#notebook-container    { width: 95%; }\n",
    "    div#menubar-container     { width: 65%; }\n",
    "    div#maintoolbar-container { width: 99%; }\n",
    "</style>\n",
    "\"\"\"))\n",
    "\n",
    "def print_message(s):\n",
    "    print(\"[{}] {}\".format(datetime.datetime.utcnow().strftime(\"%b %d, %H:%M:%S\"), s), flush=True)"
   ]
  },
  {
   "cell_type": "code",
   "execution_count": 2,
   "metadata": {},
   "outputs": [],
   "source": [
    "POS_NEG_DICT_PATH = \"/home/jianx/data/qid_pos_neg.dict\"\n",
    "PASSAGE_DICT_PATH = \"/home/jianx/data/passages.dict\"\n",
    "QUERY_TRAIN_DICT_PATH = \"/home/jianx/data/queries_train.dict\"\n",
    "QUERY_EVAL_DICT_PATH = \"/home/jianx/data/queries_eval.dict\"\n",
    "QUERY_DEV_DICT_PATH = \"/home/jianx/data/queries_dev.dict\"\n",
    "TOP_DICT_PATH = \"/home/jianx/data/initial_ranking.dict\"\n",
    "RATING_DICT_PATH = \"/home/jianx/data/rel_scores.dict\"\n",
    "QUERY_TEST_DICT_PATH = \"/home/jianx/data/queries_test.dict\""
   ]
  },
  {
   "cell_type": "code",
   "execution_count": 3,
   "metadata": {},
   "outputs": [],
   "source": [
    "def obj_reader(path):\n",
    "    with open(path, 'rb') as handle:\n",
    "        return pickle.loads(handle.read())\n",
    "\n",
    "\n",
    "def obj_writer(obj, path):\n",
    "    with open(path, 'wb') as handle:\n",
    "        pickle.dump(obj, handle)\n",
    "\n",
    "\n",
    "def load():\n",
    "    pos_neg_dict = obj_reader(POS_NEG_DICT_PATH)\n",
    "    query_dict = obj_reader(QUERY_TRAIN_DICT_PATH)\n",
    "    passage_dict = obj_reader(PASSAGE_DICT_PATH)\n",
    "    top_dict = obj_reader(TOP_DICT_PATH)\n",
    "    rating_dict = obj_reader(RATING_DICT_PATH)\n",
    "    query_test_dict = obj_reader(QUERY_TEST_DICT_PATH)\n",
    "    return pos_neg_dict, query_dict, passage_dict, top_dict, rating_dict, query_test_dict"
   ]
  },
  {
   "cell_type": "code",
   "execution_count": 4,
   "metadata": {},
   "outputs": [
    {
     "name": "stdout",
     "output_type": "stream",
     "text": [
      "[Jul 09, 03:00:44] Loading data\n",
      "[Jul 09, 03:08:29] Data successfully loaded.\n",
      "[Jul 09, 03:08:29] Positive Negative Pair dict size: 400782\n",
      "[Jul 09, 03:08:29] Num of queries: 808731\n",
      "[Jul 09, 03:08:29] Num of passages: 8841823\n"
     ]
    }
   ],
   "source": [
    "print_message(\"Loading data\")\n",
    "pos_neg_dict_g, query_dict_g, passage_dict_g, top_dict_g, rating_dict_g, query_test_dict_g = load()\n",
    "print_message(\"Data successfully loaded.\")\n",
    "print_message(\"Positive Negative Pair dict size: \" + str(len(pos_neg_dict_g)))\n",
    "print_message(\"Num of queries: \" + str(len(query_dict_g)))\n",
    "print_message(\"Num of passages: \" + str(len(passage_dict_g)))"
   ]
  },
  {
   "cell_type": "code",
   "execution_count": 23,
   "metadata": {},
   "outputs": [],
   "source": [
    "NUM_HIDDEN_NODES = 64\n",
    "NUM_HIDDEN_LAYERS = 3\n",
    "DROPOUT_RATE = 0.2\n",
    "\n",
    "class OldDSSM(torch.nn.Module):\n",
    "\n",
    "    def __init__(self, embed_size):\n",
    "        super(OldDSSM, self).__init__()\n",
    "        layers = []\n",
    "        last_dim = VOCAB_LEN\n",
    "        for i in range(NUM_HIDDEN_LAYERS):\n",
    "            layers.append(nn.Linear(last_dim, NUM_HIDDEN_NODES))\n",
    "            layers.append(nn.ReLU())\n",
    "            layers.append(nn.LayerNorm(NUM_HIDDEN_NODES))\n",
    "            layers.append(nn.Dropout(p=DROPOUT_RATE))\n",
    "            last_dim = NUM_HIDDEN_NODES\n",
    "        layers.append(nn.Linear(last_dim, embed_size))\n",
    "        self.model = nn.Sequential(*layers)\n",
    "    def forward(self, x):\n",
    "        return self.model(x)\n",
    "\n",
    "    def parameter_count(self):\n",
    "        return sum(p.numel() for p in self.parameters() if p.requires_grad)\n",
    "\n",
    "# Define the network\n",
    "class DSSM(torch.nn.Module):\n",
    "\n",
    "    def __init__(self, embed_size):\n",
    "        super(DSSM, self).__init__()\n",
    "        self.embed = nn.Embedding(VOCAB_LEN, NUM_HIDDEN_NODES, sparse=True)\n",
    "        layers = []\n",
    "        for i in range(NUM_HIDDEN_LAYERS):\n",
    "            layers.append(nn.Linear(NUM_HIDDEN_NODES, NUM_HIDDEN_NODES))\n",
    "            layers.append(nn.ReLU())\n",
    "            layers.append(nn.LayerNorm(NUM_HIDDEN_NODES))\n",
    "            layers.append(nn.Dropout(p=DROPOUT_RATE))\n",
    "        layers.append(nn.Linear(NUM_HIDDEN_NODES, embed_size))\n",
    "        self.fc = nn.Sequential(*layers)\n",
    "        \n",
    "    def forward(self, x):\n",
    "        y = self.embed(x).sum(dim=1)\n",
    "        y = self.fc(y)\n",
    "        return y\n",
    "\n",
    "    def parameter_count(self):\n",
    "        return sum(p.numel() for p in self.parameters() if p.requires_grad)\n",
    "    \n",
    "class CDSSM(torch.nn.Module):\n",
    "    \n",
    "    def __init__(self, embed_size):\n",
    "        super(CDSSM, self).__init__()\n",
    "        self.embed = nn.Embedding(VOCAB_LEN, NUM_HIDDEN_NODES, sparse=True)\n",
    "        self.conv = nn.Conv1d(NUM_HIDDEN_NODES, NUM_HIDDEN_NODES, kernel_size=3)\n",
    "        layers = []\n",
    "        for i in range(NUM_HIDDEN_LAYERS):\n",
    "            layers.append(nn.Linear(NUM_HIDDEN_NODES, NUM_HIDDEN_NODES))\n",
    "            layers.append(nn.ReLU())\n",
    "            layers.append(nn.LayerNorm(NUM_HIDDEN_NODES))\n",
    "            layers.append(nn.Dropout(p=DROPOUT_RATE))\n",
    "        layers.append(nn.Linear(NUM_HIDDEN_NODES, embed_size))\n",
    "        self.fc = nn.Sequential(*layers)\n",
    "\n",
    "    def forward(self, x):\n",
    "        y = self.embed(x)\n",
    "        y = y.permute(0, 2, 1)\n",
    "        y = self.conv(y)\n",
    "        y, _ = torch.max(y, dim=-1)\n",
    "        y = self.fc(y)\n",
    "        return y\n",
    "    \n",
    "    def parameter_count(self):\n",
    "        return sum(p.numel() for p in self.parameters() if p.requires_grad)\n",
    "\n",
    "class EmbedDSSM(torch.nn.Module):\n",
    "\n",
    "    def __init__(self, embed_size, vocab_count, embedding):\n",
    "        super(EmbedDSSM, self).__init__()\n",
    "        layer_0 = nn.Linear(vocab_count, embed_size)\n",
    "        layer_0.weight = nn.Parameter(embedding.T, requires_grad=True)\n",
    "        layers = [layer_0]\n",
    "#         layers = []\n",
    "        last_dim = embed_size\n",
    "        for i in range(NUM_HIDDEN_LAYERS):\n",
    "#             if i != 0:\n",
    "            layers.append(nn.Linear(last_dim, NUM_HIDDEN_NODES))\n",
    "            layers.append(nn.ReLU())\n",
    "            layers.append(nn.LayerNorm(NUM_HIDDEN_NODES))\n",
    "            layers.append(nn.Dropout(p=DROPOUT_RATE))\n",
    "            last_dim = NUM_HIDDEN_NODES\n",
    "        layers.append(nn.Linear(last_dim, embed_size))\n",
    "        self.model = nn.Sequential(*layers)\n",
    "        self.embedding = embedding\n",
    "    def forward(self, x):\n",
    "#         x = torch.mm(x, self.embedding)\n",
    "        return self.model(x)\n",
    "\n",
    "    def parameter_count(self):\n",
    "        return sum(p.numel() for p in self.parameters() if p.requires_grad)"
   ]
  },
  {
   "cell_type": "code",
   "execution_count": 6,
   "metadata": {},
   "outputs": [],
   "source": [
    "VOCAB_LEN = 100000\n",
    "MAX_QUERY_TERMS = 20\n",
    "MAX_PASSAGE_TERMS = 200\n",
    "\n",
    "def generate_sparse(idx, vocab_len=VOCAB_LEN):\n",
    "    index_tensor = torch.LongTensor([idx])\n",
    "    value_tensor = torch.Tensor([1/len(idx)] * len(idx))\n",
    "    sparse_tensor = torch.sparse.FloatTensor(index_tensor, value_tensor, torch.Size([vocab_len, ]))\n",
    "    return sparse_tensor\n",
    "\n",
    "\n",
    "def mini_batch(batch_size, device, pos_neg_dict, query_dict, passage_dict):\n",
    "    query_list = list(pos_neg_dict.keys())\n",
    "    queries = []\n",
    "    pos = []\n",
    "    neg = []\n",
    "    while len(queries) < batch_size:\n",
    "        qid = random.sample(query_list, 1)[0]\n",
    "        pos_neg_pair = random.sample(pos_neg_dict[qid], 1)\n",
    "        pos_pid = pos_neg_pair[0][0]\n",
    "        neg_pid = pos_neg_pair[0][1]\n",
    "        q_seq = query_dict[qid]\n",
    "        pos_seq = passage_dict[pos_pid]\n",
    "        neg_seq = passage_dict[neg_pid]\n",
    "        if q_seq != [] and pos_seq != [] and neg_seq != []:\n",
    "            if USE_SPARSE_INPUT:\n",
    "                queries.append(generate_sparse(q_seq))\n",
    "                pos.append(generate_sparse(pos_seq))\n",
    "                neg.append(generate_sparse(neg_seq))\n",
    "            else:\n",
    "                queries.append(torch.tensor(q_seq[:MAX_QUERY_TERMS] + [100000]*(MAX_QUERY_TERMS - len(q_seq)), dtype=torch.int64))\n",
    "                pos.append(torch.tensor(pos_seq[:MAX_PASSAGE_TERMS] + [100000]*(MAX_PASSAGE_TERMS - len(pos_seq)), dtype=torch.int64))\n",
    "                neg.append(torch.tensor(neg_seq[:MAX_PASSAGE_TERMS] + [100000]*(MAX_PASSAGE_TERMS - len(neg_seq)), dtype=torch.int64))\n",
    "    labels = [0 for i in range(batch_size)]\n",
    "    return torch.stack(queries).to(device), torch.stack(pos).to(device), torch.stack(neg).to(device), labels\n",
    "\n",
    "\n",
    "def train(net, epoch_size, batch_size, optimizer, device, pos_neg_dict, query_dict,\n",
    "          passage_dict):\n",
    "    criterion = nn.CrossEntropyLoss()\n",
    "    train_loss = 0.0\n",
    "    net.train()\n",
    "    for mb_idx in range(epoch_size):\n",
    "        # Read in a new mini-batch of data!\n",
    "        queries, pos, neg, labels = mini_batch(batch_size, device, pos_neg_dict, query_dict,\n",
    "                                               passage_dict)\n",
    "        optimizer.zero_grad()\n",
    "        q_embed = net(queries)\n",
    "        pos_embed = net(pos)\n",
    "        neg_embed = net(neg)\n",
    "        neg_rand_embed = torch.cat((neg_embed[1:,:], neg_embed[0:1,:]), 0)\n",
    "        out_pos = torch.cosine_similarity(q_embed, pos_embed).unsqueeze(0).T\n",
    "        out_neg = torch.cosine_similarity(q_embed, neg_embed).unsqueeze(0).T\n",
    "        out_neg_rand = torch.cosine_similarity(q_embed, neg_rand_embed).unsqueeze(0).T\n",
    "        out = torch.cat((out_pos, out_neg), -1)\n",
    "        out_rand = torch.cat((out_pos, out_neg_rand), -1)\n",
    "        out = torch.cat((out, out_rand), 0)\n",
    "        out = out * 10\n",
    "        labels = torch.tensor(labels).to(device)\n",
    "        labels = torch.cat((labels, labels), 0)\n",
    "        loss = criterion(out, labels)\n",
    "        loss.backward()\n",
    "        optimizer.step()\n",
    "        train_loss += loss.item()\n",
    "        # print_message(str(mb_idx) + \" iteration: \" + str(train_loss / (mb_idx + 1)))\n",
    "    return train_loss / epoch_size"
   ]
  },
  {
   "cell_type": "code",
   "execution_count": 7,
   "metadata": {},
   "outputs": [],
   "source": [
    "def test_loader(net, device, test_batch, top_dict, query_test_dict, passage_dict, rating_dict):\n",
    "    net.eval()\n",
    "    device = device\n",
    "    qid_list = list(rating_dict.keys())\n",
    "    # sample test_batch of non-empty qids\n",
    "    qids = []\n",
    "    queries = []\n",
    "    while len(qids) < test_batch:\n",
    "        qid = random.sample(qid_list, 1)[0]\n",
    "        q_seq = query_test_dict[qid]\n",
    "        if q_seq != [] and qid not in qids:\n",
    "            qids.append(qid)\n",
    "            if USE_SPARSE_INPUT:\n",
    "                queries.append(generate_sparse(q_seq).to(device))\n",
    "            else:\n",
    "                queries.append(torch.tensor(q_seq[:MAX_QUERY_TERMS] + [100000]*(MAX_QUERY_TERMS - len(q_seq)), dtype=torch.int64).unsqueeze(0).to(device))\n",
    "    # compute cosine similarity\n",
    "    result_dict = {}\n",
    "    for i, qid in enumerate(qids):\n",
    "        top_list = top_dict[qid]\n",
    "#         q_embed = net(queries[i].unsqueeze(0)).detach()\n",
    "        q_embed = net(queries[i]).detach()\n",
    "        q_results = {}\n",
    "        for j, pid in enumerate(top_list):\n",
    "            p_seq = passage_dict[pid]\n",
    "            if not p_seq:\n",
    "                score = -1\n",
    "            else:\n",
    "                if USE_SPARSE_INPUT:\n",
    "#                     p_embed = net(generate_sparse(p_seq).unsqueeze(0).to(device)).detach()\n",
    "#                     score = torch.cosine_similarity(q_embed, p_embed).item()\n",
    "                    p_embed = net(generate_sparse(p_seq).to(device)).detach()\n",
    "                    score = torch.cosine_similarity(q_embed.unsqueeze(0), p_embed.unsqueeze(0)).item()\n",
    "                else:\n",
    "                    p_embed = net(torch.tensor(p_seq[:MAX_PASSAGE_TERMS] + [100000]*(MAX_PASSAGE_TERMS - len(p_seq)), dtype=torch.int64).unsqueeze(0).to(device)).detach()\n",
    "                    score = torch.cosine_similarity(q_embed, p_embed).item()\n",
    "            q_results[pid] = score\n",
    "        result_dict[qid] = q_results\n",
    "    #print_message(sorted(result_dict[qid].items(), key=lambda x: (x[1], [-1, 1][random.randrange(2)]), reverse=True))\n",
    "    return result_dict\n",
    "\n",
    "\n",
    "def get_ndcg_precision_rr(true_dict, test_dict, rank):\n",
    "    sorted_result = sorted(test_dict.items(), key=lambda x: (x[1], [-1,1][random.randrange(2)]), reverse=True)\n",
    "    original_rank = rank\n",
    "    rank = min(rank, len(sorted_result))\n",
    "    cumulative_gain = 0\n",
    "    num_positive = 0\n",
    "    rr = float(\"NaN\")\n",
    "    for i in range(len(sorted_result)):\n",
    "        pid = sorted_result[i][0]\n",
    "        if pid in true_dict:\n",
    "            rr = 1 / (i + 1)\n",
    "            break\n",
    "    for i in range(rank):\n",
    "        pid = sorted_result[i][0]\n",
    "        if pid in true_dict:\n",
    "            num_positive += 1\n",
    "    sorted_result = sorted(test_dict.items(), key=lambda x: x[1], reverse=True)\n",
    "    for i in range(rank):\n",
    "        pid = sorted_result[i][0]\n",
    "        relevance = 0\n",
    "        if pid in true_dict:\n",
    "            relevance = true_dict[pid]\n",
    "        discounted_gain = relevance / math.log2(2 + i)\n",
    "        cumulative_gain += discounted_gain\n",
    "    sorted_ideal = sorted(true_dict.items(), key=lambda x: x[1], reverse=True)\n",
    "    ideal_gain = 0\n",
    "    for i in range(rank):\n",
    "        relevance = 0\n",
    "        if i < len(sorted_ideal):\n",
    "            relevance = sorted_ideal[i][1]\n",
    "        discounted_gain = relevance / math.log2(2 + i)\n",
    "        ideal_gain += discounted_gain\n",
    "    ndcg = 0\n",
    "    if ideal_gain != 0:\n",
    "         ndcg = cumulative_gain / ideal_gain\n",
    "    return ndcg, num_positive / original_rank, rr\n",
    "\n",
    "\n",
    "def test(net, device, test_batch, top_dict, query_test_dict, passage_dict, rating_dict, rank):\n",
    "    result_dict = test_loader(net, device, test_batch, top_dict, query_test_dict, passage_dict, rating_dict)\n",
    "    qids = list(result_dict.keys())\n",
    "    result_ndcg = []\n",
    "    result_prec = []\n",
    "    result_rr = []\n",
    "    for qid in qids:\n",
    "        ndcg, prec, rr = get_ndcg_precision_rr(rating_dict[qid], result_dict[qid], rank)\n",
    "        result_ndcg.append(ndcg)\n",
    "        result_prec.append(prec)\n",
    "        result_rr.append(rr)\n",
    "    avg_ndcg = np.nanmean(result_ndcg)\n",
    "    avg_prec = np.nanmean(result_prec)\n",
    "    avg_rr = np.nanmean(result_rr)\n",
    "    return avg_ndcg, avg_prec, avg_rr"
   ]
  },
  {
   "cell_type": "code",
   "execution_count": 8,
   "metadata": {},
   "outputs": [],
   "source": [
    "# NUM_EPOCHS = 128\n",
    "# NUM_EPOCHS = 2\n",
    "NUM_EPOCHS = 512\n",
    "EPOCH_SIZE = 1024\n",
    "# EPOCH_SIZE = 2\n",
    "BATCH_SIZE = 1024\n",
    "LEARNING_RATE = 0.001\n",
    "EMBED_SIZE = 256\n",
    "USE_SPARSE_INPUT = True"
   ]
  },
  {
   "cell_type": "code",
   "execution_count": 9,
   "metadata": {},
   "outputs": [],
   "source": [
    "# Train word embedding model\n",
    "IN_FILE = \"/home/jianx/data/processed_passages.txt\"\n",
    "def generate_embeddings(in_file, model_file):\n",
    "    embeddings = fasttext.train_unsupervised(in_file, model='skipgram', dim=NUM_HIDDEN_NODES, bucket=10000, minCount=1, minn=1, maxn=0, ws=10, epoch=5)\n",
    "    embeddings.save_model(model_file)\n",
    "def get_pretrained_embeddings(model_file):\n",
    "    model = fasttext.load_model(model_file)\n",
    "    embed_size = model.get_input_matrix().shape[1]\n",
    "    pretrained_embeddings = torch.FloatTensor(model.get_input_matrix())\n",
    "    vocab = model.get_words()\n",
    "    return vocab, pretrained_embeddings"
   ]
  },
  {
   "cell_type": "code",
   "execution_count": 10,
   "metadata": {},
   "outputs": [],
   "source": [
    "# train and save word_embedding model\n",
    "# generate_embeddings(IN_FILE, model_file = \"./results/skipgram.model\")"
   ]
  },
  {
   "cell_type": "code",
   "execution_count": 11,
   "metadata": {},
   "outputs": [
    {
     "name": "stderr",
     "output_type": "stream",
     "text": [
      "Warning : `load_model` does not return WordVectorModel or SupervisedModel any more, but a `FastText` object which is very similar.\n"
     ]
    },
    {
     "name": "stdout",
     "output_type": "stream",
     "text": [
      "100000\n"
     ]
    }
   ],
   "source": [
    "# load pretrained model\n",
    "vocab, pretrained_embeddings = get_pretrained_embeddings(model_file = \"./results/skipgram.model\")\n",
    "vocab_count = pretrained_embeddings.size()[0] - 1\n",
    "print(vocab_count)"
   ]
  },
  {
   "cell_type": "code",
   "execution_count": 12,
   "metadata": {},
   "outputs": [],
   "source": [
    "# pretrained_model = fasttext.load_model(\"./results/skipgram.model\")"
   ]
  },
  {
   "cell_type": "code",
   "execution_count": 13,
   "metadata": {},
   "outputs": [],
   "source": [
    "# original_vocab = set(w.lower() for w in open(IN_FILE).read().split())"
   ]
  },
  {
   "cell_type": "code",
   "execution_count": 14,
   "metadata": {},
   "outputs": [
    {
     "data": {
      "text/plain": [
       "100000"
      ]
     },
     "execution_count": 14,
     "metadata": {},
     "output_type": "execute_result"
    }
   ],
   "source": [
    "pretrained_vocab = set(vocab[1:])\n",
    "len(pretrained_vocab)"
   ]
  },
  {
   "cell_type": "code",
   "execution_count": 15,
   "metadata": {},
   "outputs": [],
   "source": [
    "# len(original_vocab)"
   ]
  },
  {
   "cell_type": "code",
   "execution_count": 16,
   "metadata": {},
   "outputs": [],
   "source": [
    "# diff_vocab = pretrained_vocab.difference(original_vocab)\n",
    "# print(diff_vocab)"
   ]
  },
  {
   "cell_type": "code",
   "execution_count": 17,
   "metadata": {},
   "outputs": [],
   "source": [
    "VOCAB_PATH = \"/home/jianx/data/vocabs_ver2.csv\"\n",
    "with open(VOCAB_PATH, mode='r') as vocab_file:\n",
    "    reader = csv.reader(vocab_file)\n",
    "    old_vocab = {rows[0]:i for i, rows in enumerate(reader)}\n",
    "reorder_index = []\n",
    "for word in pretrained_vocab:\n",
    "    reorder_index.append(old_vocab[word])"
   ]
  },
  {
   "cell_type": "code",
   "execution_count": 18,
   "metadata": {},
   "outputs": [],
   "source": [
    "reorder_embeddings = pretrained_embeddings[reorder_index,:]"
   ]
  },
  {
   "cell_type": "code",
   "execution_count": 19,
   "metadata": {},
   "outputs": [
    {
     "name": "stdout",
     "output_type": "stream",
     "text": [
      "torch.Size([100000, 256])\n"
     ]
    }
   ],
   "source": [
    "print(reorder_embeddings.shape)"
   ]
  },
  {
   "cell_type": "code",
   "execution_count": 21,
   "metadata": {},
   "outputs": [
    {
     "name": "stdout",
     "output_type": "stream",
     "text": [
      "[Jul 09, 03:08:33] cuda:2\n",
      "[Jul 09, 03:08:33] Num of epochs:512\n",
      "[Jul 09, 03:08:33] Epoch size:1024\n",
      "[Jul 09, 03:08:33] Batch size:1024\n",
      "[Jul 09, 03:08:33] Learning rate:0.001\n",
      "[Jul 09, 03:08:33] Embedding size:256\n"
     ]
    }
   ],
   "source": [
    "CURRENT_DEVICE = torch.device(\"cuda:2\")\n",
    "print_message(CURRENT_DEVICE)\n",
    "print_message(\"Num of epochs:{}\".format(NUM_EPOCHS))\n",
    "print_message(\"Epoch size:{}\".format(EPOCH_SIZE))\n",
    "print_message(\"Batch size:{}\".format(BATCH_SIZE))\n",
    "print_message(\"Learning rate:{}\".format(LEARNING_RATE))\n",
    "print_message(\"Embedding size:{}\".format(EMBED_SIZE))\n",
    "RANK = 10\n",
    "TEST_BATCH = 43\n",
    "MODEL_PATH = \"./results/\"\n",
    "if not os.path.exists(MODEL_PATH):\n",
    "    os.makedirs(MODEL_PATH)"
   ]
  },
  {
   "cell_type": "code",
   "execution_count": 24,
   "metadata": {
    "scrolled": false
   },
   "outputs": [
    {
     "name": "stdout",
     "output_type": "stream",
     "text": [
      "EmbedDSSM(\n",
      "  (model): Sequential(\n",
      "    (0): Linear(in_features=100000, out_features=256, bias=True)\n",
      "    (1): Linear(in_features=256, out_features=64, bias=True)\n",
      "    (2): ReLU()\n",
      "    (3): LayerNorm((64,), eps=1e-05, elementwise_affine=True)\n",
      "    (4): Dropout(p=0.2, inplace=False)\n",
      "    (5): Linear(in_features=64, out_features=64, bias=True)\n",
      "    (6): ReLU()\n",
      "    (7): LayerNorm((64,), eps=1e-05, elementwise_affine=True)\n",
      "    (8): Dropout(p=0.2, inplace=False)\n",
      "    (9): Linear(in_features=64, out_features=64, bias=True)\n",
      "    (10): ReLU()\n",
      "    (11): LayerNorm((64,), eps=1e-05, elementwise_affine=True)\n",
      "    (12): Dropout(p=0.2, inplace=False)\n",
      "    (13): Linear(in_features=64, out_features=256, bias=True)\n",
      "  )\n",
      ")\n",
      "[Jul 09, 03:23:00] Epoch:0, loss:0.6551386710489169, NDCG:0.09326635071520552, P:0.11860465116279069, RR:0.2299486292288837\n"
     ]
    },
    {
     "name": "stderr",
     "output_type": "stream",
     "text": [
      "/anaconda/envs/py37_pytorch/lib/python3.7/site-packages/torch/serialization.py:402: UserWarning: Couldn't retrieve source code for container of type EmbedDSSM. It won't be checked for correctness upon loading.\n",
      "  \"type \" + obj.__name__ + \". It won't be checked \"\n"
     ]
    },
    {
     "name": "stdout",
     "output_type": "stream",
     "text": [
      "[Jul 09, 03:29:46] Epoch:1, loss:0.6125801333691925, NDCG:0.08908212281410641, P:0.11395348837209303, RR:0.20716168416472752\n",
      "[Jul 09, 03:36:31] Epoch:2, loss:0.5921671242685989, NDCG:0.08854983521729118, P:0.11162790697674416, RR:0.20155223288660515\n"
     ]
    },
    {
     "ename": "KeyboardInterrupt",
     "evalue": "",
     "output_type": "error",
     "traceback": [
      "\u001b[0;31m---------------------------------------------------------------------------\u001b[0m",
      "\u001b[0;31mKeyboardInterrupt\u001b[0m                         Traceback (most recent call last)",
      "\u001b[0;32m<ipython-input-24-13a4df29674c>\u001b[0m in \u001b[0;36m<module>\u001b[0;34m\u001b[0m\n\u001b[1;32m     10\u001b[0m \u001b[0;32mfor\u001b[0m \u001b[0mep_idx\u001b[0m \u001b[0;32min\u001b[0m \u001b[0mrange\u001b[0m\u001b[0;34m(\u001b[0m\u001b[0mNUM_EPOCHS\u001b[0m\u001b[0;34m)\u001b[0m\u001b[0;34m:\u001b[0m\u001b[0;34m\u001b[0m\u001b[0;34m\u001b[0m\u001b[0m\n\u001b[1;32m     11\u001b[0m     train_loss = train(net, EPOCH_SIZE, BATCH_SIZE, optimizer, CURRENT_DEVICE, pos_neg_dict_g,\n\u001b[0;32m---> 12\u001b[0;31m                        query_dict_g, passage_dict_g)\n\u001b[0m\u001b[1;32m     13\u001b[0m     \u001b[0mavg_ndcg\u001b[0m\u001b[0;34m,\u001b[0m \u001b[0mavg_prec\u001b[0m\u001b[0;34m,\u001b[0m \u001b[0mavg_rr\u001b[0m \u001b[0;34m=\u001b[0m \u001b[0mtest\u001b[0m\u001b[0;34m(\u001b[0m\u001b[0mnet\u001b[0m\u001b[0;34m,\u001b[0m \u001b[0mCURRENT_DEVICE\u001b[0m\u001b[0;34m,\u001b[0m \u001b[0mTEST_BATCH\u001b[0m\u001b[0;34m,\u001b[0m \u001b[0mtop_dict_g\u001b[0m\u001b[0;34m,\u001b[0m \u001b[0mquery_test_dict_g\u001b[0m\u001b[0;34m,\u001b[0m \u001b[0mpassage_dict_g\u001b[0m\u001b[0;34m,\u001b[0m \u001b[0mrating_dict_g\u001b[0m\u001b[0;34m,\u001b[0m \u001b[0mRANK\u001b[0m\u001b[0;34m)\u001b[0m\u001b[0;34m\u001b[0m\u001b[0;34m\u001b[0m\u001b[0m\n\u001b[1;32m     14\u001b[0m     \u001b[0mprint_message\u001b[0m\u001b[0;34m(\u001b[0m\u001b[0;34m\"Epoch:{}, loss:{}, NDCG:{}, P:{}, RR:{}\"\u001b[0m\u001b[0;34m.\u001b[0m\u001b[0mformat\u001b[0m\u001b[0;34m(\u001b[0m\u001b[0mep_idx\u001b[0m\u001b[0;34m,\u001b[0m \u001b[0mtrain_loss\u001b[0m\u001b[0;34m,\u001b[0m \u001b[0mavg_ndcg\u001b[0m\u001b[0;34m,\u001b[0m \u001b[0mavg_prec\u001b[0m\u001b[0;34m,\u001b[0m \u001b[0mavg_rr\u001b[0m\u001b[0;34m)\u001b[0m\u001b[0;34m)\u001b[0m\u001b[0;34m\u001b[0m\u001b[0;34m\u001b[0m\u001b[0m\n",
      "\u001b[0;32m<ipython-input-6-08e07aa3aa63>\u001b[0m in \u001b[0;36mtrain\u001b[0;34m(net, epoch_size, batch_size, optimizer, device, pos_neg_dict, query_dict, passage_dict)\u001b[0m\n\u001b[1;32m     60\u001b[0m         \u001b[0mlabels\u001b[0m \u001b[0;34m=\u001b[0m \u001b[0mtorch\u001b[0m\u001b[0;34m.\u001b[0m\u001b[0mcat\u001b[0m\u001b[0;34m(\u001b[0m\u001b[0;34m(\u001b[0m\u001b[0mlabels\u001b[0m\u001b[0;34m,\u001b[0m \u001b[0mlabels\u001b[0m\u001b[0;34m)\u001b[0m\u001b[0;34m,\u001b[0m \u001b[0;36m0\u001b[0m\u001b[0;34m)\u001b[0m\u001b[0;34m\u001b[0m\u001b[0;34m\u001b[0m\u001b[0m\n\u001b[1;32m     61\u001b[0m         \u001b[0mloss\u001b[0m \u001b[0;34m=\u001b[0m \u001b[0mcriterion\u001b[0m\u001b[0;34m(\u001b[0m\u001b[0mout\u001b[0m\u001b[0;34m,\u001b[0m \u001b[0mlabels\u001b[0m\u001b[0;34m)\u001b[0m\u001b[0;34m\u001b[0m\u001b[0;34m\u001b[0m\u001b[0m\n\u001b[0;32m---> 62\u001b[0;31m         \u001b[0mloss\u001b[0m\u001b[0;34m.\u001b[0m\u001b[0mbackward\u001b[0m\u001b[0;34m(\u001b[0m\u001b[0;34m)\u001b[0m\u001b[0;34m\u001b[0m\u001b[0;34m\u001b[0m\u001b[0m\n\u001b[0m\u001b[1;32m     63\u001b[0m         \u001b[0moptimizer\u001b[0m\u001b[0;34m.\u001b[0m\u001b[0mstep\u001b[0m\u001b[0;34m(\u001b[0m\u001b[0;34m)\u001b[0m\u001b[0;34m\u001b[0m\u001b[0;34m\u001b[0m\u001b[0m\n\u001b[1;32m     64\u001b[0m         \u001b[0mtrain_loss\u001b[0m \u001b[0;34m+=\u001b[0m \u001b[0mloss\u001b[0m\u001b[0;34m.\u001b[0m\u001b[0mitem\u001b[0m\u001b[0;34m(\u001b[0m\u001b[0;34m)\u001b[0m\u001b[0;34m\u001b[0m\u001b[0;34m\u001b[0m\u001b[0m\n",
      "\u001b[0;32m/anaconda/envs/py37_pytorch/lib/python3.7/site-packages/torch/tensor.py\u001b[0m in \u001b[0;36mbackward\u001b[0;34m(self, gradient, retain_graph, create_graph)\u001b[0m\n\u001b[1;32m    196\u001b[0m                 \u001b[0mproducts\u001b[0m\u001b[0;34m.\u001b[0m \u001b[0mDefaults\u001b[0m \u001b[0mto\u001b[0m\u001b[0;31m \u001b[0m\u001b[0;31m`\u001b[0m\u001b[0;31m`\u001b[0m\u001b[0;32mFalse\u001b[0m\u001b[0;31m`\u001b[0m\u001b[0;31m`\u001b[0m\u001b[0;34m.\u001b[0m\u001b[0;34m\u001b[0m\u001b[0;34m\u001b[0m\u001b[0m\n\u001b[1;32m    197\u001b[0m         \"\"\"\n\u001b[0;32m--> 198\u001b[0;31m         \u001b[0mtorch\u001b[0m\u001b[0;34m.\u001b[0m\u001b[0mautograd\u001b[0m\u001b[0;34m.\u001b[0m\u001b[0mbackward\u001b[0m\u001b[0;34m(\u001b[0m\u001b[0mself\u001b[0m\u001b[0;34m,\u001b[0m \u001b[0mgradient\u001b[0m\u001b[0;34m,\u001b[0m \u001b[0mretain_graph\u001b[0m\u001b[0;34m,\u001b[0m \u001b[0mcreate_graph\u001b[0m\u001b[0;34m)\u001b[0m\u001b[0;34m\u001b[0m\u001b[0;34m\u001b[0m\u001b[0m\n\u001b[0m\u001b[1;32m    199\u001b[0m \u001b[0;34m\u001b[0m\u001b[0m\n\u001b[1;32m    200\u001b[0m     \u001b[0;32mdef\u001b[0m \u001b[0mregister_hook\u001b[0m\u001b[0;34m(\u001b[0m\u001b[0mself\u001b[0m\u001b[0;34m,\u001b[0m \u001b[0mhook\u001b[0m\u001b[0;34m)\u001b[0m\u001b[0;34m:\u001b[0m\u001b[0;34m\u001b[0m\u001b[0;34m\u001b[0m\u001b[0m\n",
      "\u001b[0;32m/anaconda/envs/py37_pytorch/lib/python3.7/site-packages/torch/autograd/__init__.py\u001b[0m in \u001b[0;36mbackward\u001b[0;34m(tensors, grad_tensors, retain_graph, create_graph, grad_variables)\u001b[0m\n\u001b[1;32m     98\u001b[0m     Variable._execution_engine.run_backward(\n\u001b[1;32m     99\u001b[0m         \u001b[0mtensors\u001b[0m\u001b[0;34m,\u001b[0m \u001b[0mgrad_tensors\u001b[0m\u001b[0;34m,\u001b[0m \u001b[0mretain_graph\u001b[0m\u001b[0;34m,\u001b[0m \u001b[0mcreate_graph\u001b[0m\u001b[0;34m,\u001b[0m\u001b[0;34m\u001b[0m\u001b[0;34m\u001b[0m\u001b[0m\n\u001b[0;32m--> 100\u001b[0;31m         allow_unreachable=True)  # allow_unreachable flag\n\u001b[0m\u001b[1;32m    101\u001b[0m \u001b[0;34m\u001b[0m\u001b[0m\n\u001b[1;32m    102\u001b[0m \u001b[0;34m\u001b[0m\u001b[0m\n",
      "\u001b[0;31mKeyboardInterrupt\u001b[0m: "
     ]
    }
   ],
   "source": [
    "# net = OldDSSM(embed_size=EMBED_SIZE).to(CURRENT_DEVICE) if USE_SPARSE_INPUT else DSSM(embed_size=EMBED_SIZE).to(CURRENT_DEVICE)\n",
    "# net = CDSSM(embed_size=EMBED_SIZE).to(CURRENT_DEVICE)\n",
    "net = EmbedDSSM(embed_size = EMBED_SIZE, vocab_count=vocab_count, embedding=reorder_embeddings.to(CURRENT_DEVICE)).to(CURRENT_DEVICE)\n",
    "print(net)\n",
    "arg_str = str(NUM_EPOCHS) + \"_\" + str(EPOCH_SIZE) + \"_\" + str(BATCH_SIZE) + \"_\" + str(LEARNING_RATE) + \"_\" + str(\n",
    "    EMBED_SIZE)\n",
    "unique_path = MODEL_PATH + arg_str + \".model\"\n",
    "output_path = MODEL_PATH + arg_str + \".csv\"\n",
    "optimizer = optim.Adagrad(net.parameters(), lr=LEARNING_RATE)\n",
    "for ep_idx in range(NUM_EPOCHS):\n",
    "    train_loss = train(net, EPOCH_SIZE, BATCH_SIZE, optimizer, CURRENT_DEVICE, pos_neg_dict_g,\n",
    "                       query_dict_g, passage_dict_g)\n",
    "    avg_ndcg, avg_prec, avg_rr = test(net, CURRENT_DEVICE, TEST_BATCH, top_dict_g, query_test_dict_g, passage_dict_g, rating_dict_g, RANK)\n",
    "    print_message(\"Epoch:{}, loss:{}, NDCG:{}, P:{}, RR:{}\".format(ep_idx, train_loss, avg_ndcg, avg_prec, avg_rr))\n",
    "    #print_message(\"Epoch:{}, loss:{}\".format(ep_idx, train_loss))\n",
    "    with open(output_path, mode='a+') as output:\n",
    "        output_writer = csv.writer(output)\n",
    "        output_writer.writerow([ep_idx, train_loss, avg_ndcg, avg_prec, avg_rr])\n",
    "    torch.save(net, unique_path)"
   ]
  },
  {
   "cell_type": "code",
   "execution_count": 80,
   "metadata": {},
   "outputs": [
    {
     "name": "stdout",
     "output_type": "stream",
     "text": [
      "OldDSSM(\n",
      "  (model): Sequential(\n",
      "    (0): Linear(in_features=100000, out_features=256, bias=True)\n",
      "    (1): ReLU()\n",
      "    (2): LayerNorm((256,), eps=1e-05, elementwise_affine=True)\n",
      "    (3): Dropout(p=0.1, inplace=False)\n",
      "    (4): Linear(in_features=256, out_features=256, bias=True)\n",
      "  )\n",
      ")\n"
     ]
    }
   ],
   "source": [
    "print(net)"
   ]
  },
  {
   "cell_type": "code",
   "execution_count": 83,
   "metadata": {},
   "outputs": [
    {
     "name": "stdout",
     "output_type": "stream",
     "text": [
      "EmbedDSSM(\n",
      "  (model): Sequential(\n",
      "    (0): Linear(in_features=100000, out_features=256, bias=True)\n",
      "    (1): ReLU()\n",
      "    (2): LayerNorm((256,), eps=1e-05, elementwise_affine=True)\n",
      "    (3): Dropout(p=0.1, inplace=False)\n",
      "    (4): Linear(in_features=256, out_features=256, bias=True)\n",
      "  )\n",
      ")\n"
     ]
    }
   ],
   "source": [
    "print(net)"
   ]
  },
  {
   "cell_type": "code",
   "execution_count": 84,
   "metadata": {},
   "outputs": [
    {
     "data": {
      "text/plain": [
       "tensor([[ 0.5221, -0.5451,  0.3749,  ...,  1.6482,  1.2232, -0.2113],\n",
       "        [ 0.5983,  0.4151,  0.2175,  ...,  1.7437,  0.8343,  0.1126],\n",
       "        [-0.0777, -0.4538,  0.3472,  ...,  1.1939,  1.1405, -0.3364],\n",
       "        ...,\n",
       "        [ 0.5590, -0.2591,  0.8693,  ...,  2.1135,  1.2273, -0.3843],\n",
       "        [ 0.3698, -0.4965,  0.9606,  ...,  1.9393,  0.8110, -0.4801],\n",
       "        [ 0.9214, -0.5344,  0.7617,  ...,  1.4127,  0.5733, -0.2764]],\n",
       "       device='cuda:1', grad_fn=<AddmmBackward>)"
      ]
     },
     "execution_count": 84,
     "metadata": {},
     "output_type": "execute_result"
    }
   ],
   "source": [
    "net(torch.rand(1024,100000).to(CURRENT_DEVICE))"
   ]
  },
  {
   "cell_type": "code",
   "execution_count": 143,
   "metadata": {},
   "outputs": [],
   "source": [
    "class TestEmbed(torch.nn.Module):\n",
    "\n",
    "    def __init__(self, embed_size, vocab_count, embedding):\n",
    "        super(TestEmbed, self).__init__()\n",
    "        layer_0 = nn.Linear(vocab_count, NUM_HIDDEN_NODES)\n",
    "        layer_0.weight = nn.Parameter(embedding.T, requires_grad=True)\n",
    "        layers = [layer_0]\n",
    "#         layers = []\n",
    "        last_dim = NUM_HIDDEN_NODES\n",
    "        for i in range(NUM_HIDDEN_LAYERS):\n",
    "            if i != 0:\n",
    "                layers.append(nn.Linear(last_dim, NUM_HIDDEN_NODES))\n",
    "            layers.append(nn.ReLU())\n",
    "            layers.append(nn.LayerNorm(NUM_HIDDEN_NODES))\n",
    "            layers.append(nn.Dropout(p=DROPOUT_RATE))\n",
    "            last_dim = NUM_HIDDEN_NODES\n",
    "        layers.append(nn.Linear(last_dim, embed_size))\n",
    "        self.model = nn.Sequential(*layers)\n",
    "        self.embedding = embedding\n",
    "    def forward(self, x):\n",
    "#         x = torch.mm(x, self.embedding)\n",
    "        return self.model(x)\n",
    "\n",
    "    def parameter_count(self):\n",
    "        return sum(p.numel() for p in self.parameters() if p.requires_grad)"
   ]
  },
  {
   "cell_type": "code",
   "execution_count": 145,
   "metadata": {},
   "outputs": [
    {
     "data": {
      "text/plain": [
       "torch.Size([1024, 256])"
      ]
     },
     "execution_count": 145,
     "metadata": {},
     "output_type": "execute_result"
    }
   ],
   "source": [
    "net = TestEmbed(256,100000,torch.rand((100000,256)))\n",
    "net(torch.rand(1024,100000)).shape"
   ]
  },
  {
   "cell_type": "code",
   "execution_count": null,
   "metadata": {},
   "outputs": [],
   "source": []
  },
  {
   "cell_type": "code",
   "execution_count": null,
   "metadata": {},
   "outputs": [],
   "source": [
    "# Generate .txt file to run pretrained DSSM model\n",
    "query_path = \"msmarco-test2019-queries.tsv\"\n",
    "\"2019qrels-pass.txt\"\n",
    "\"collection.tsv\""
   ]
  }
 ],
 "metadata": {
  "kernelspec": {
   "display_name": "Python 3",
   "language": "python",
   "name": "python3"
  },
  "language_info": {
   "codemirror_mode": {
    "name": "ipython",
    "version": 3
   },
   "file_extension": ".py",
   "mimetype": "text/x-python",
   "name": "python",
   "nbconvert_exporter": "python",
   "pygments_lexer": "ipython3",
   "version": "3.7.7"
  }
 },
 "nbformat": 4,
 "nbformat_minor": 1
}

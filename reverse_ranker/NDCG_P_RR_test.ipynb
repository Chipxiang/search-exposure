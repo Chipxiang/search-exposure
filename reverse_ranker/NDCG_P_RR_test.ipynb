{
 "cells": [
  {
   "cell_type": "code",
   "execution_count": 1,
   "metadata": {
    "collapsed": true
   },
   "outputs": [],
   "source": [
    "import sys\n",
    "\n",
    "sys.path.insert(0, '/home/jianx/search-exposure/')\n",
    "import torch\n",
    "from annoy import AnnoyIndex\n",
    "import forward_ranker.load_data as load_data\n",
    "import forward_ranker.train as train\n",
    "from forward_ranker.utils import print_message\n",
    "from forward_ranker.test import get_ndcg_precision_rr\n",
    "obj_reader = load_data.obj_reader\n",
    "obj_writer = load_data.obj_writer\n",
    "import pickle\n",
    "import numpy as np\n",
    "import random\n",
    "import math"
   ]
  },
  {
   "cell_type": "code",
   "execution_count": 2,
   "outputs": [],
   "source": [
    "GROUND_TRUTH_PATH = \"/datadrive/jianx/data/results/all_search_rankings_100_100_flat.csv\""
   ],
   "metadata": {
    "collapsed": false,
    "pycharm": {
     "name": "#%%\n"
    }
   }
  },
  {
   "cell_type": "code",
   "execution_count": 3,
   "outputs": [],
   "source": [
    "def load_ground_truth(path=GROUND_TRUTH_PATH):\n",
    "    all_results = {}\n",
    "    with open(path, \"r\") as f:\n",
    "        for line in f:\n",
    "            qid = int(line.split(\",\")[0])\n",
    "            pid = int(line.split(\",\")[1])\n",
    "            rank = int(line.split(\",\")[2])\n",
    "            if pid not in all_results.keys():\n",
    "                all_results[pid] = {}\n",
    "            all_results[pid][qid] = 101 - rank\n",
    "    return all_results"
   ],
   "metadata": {
    "collapsed": false,
    "pycharm": {
     "name": "#%%\n"
    }
   }
  },
  {
   "cell_type": "code",
   "execution_count": 4,
   "outputs": [],
   "source": [
    "ratings = load_ground_truth(GROUND_TRUTH_PATH)"
   ],
   "metadata": {
    "collapsed": false,
    "pycharm": {
     "name": "#%%\n"
    }
   }
  },
  {
   "cell_type": "code",
   "execution_count": 34,
   "outputs": [],
   "source": [
    "baseline_reverse = obj_reader(\"/datadrive/ruohan/reverse_ranker/bug_fixed/forward_baseline_rank_test.pickle\")\n",
    "trained_reverse = obj_reader(\"/datadrive/ruohan/reverse_ranker/bug_fixed/pred_rank_test.pickle\")\n",
    "transformed_reverse = obj_reader(\"/datadrive/ruohan/reverse_ranker/transformation/pred_rank_test.pickle\")"
   ],
   "metadata": {
    "collapsed": false,
    "pycharm": {
     "name": "#%%\n"
    }
   }
  },
  {
   "cell_type": "code",
   "execution_count": 20,
   "outputs": [],
   "source": [
    "def get_reverse_ndcg_precision_rr(true_dict, test_dict, rank):\n",
    "    sorted_result = list(test_dict.items())\n",
    "    original_rank = rank\n",
    "    rank = min(rank, len(sorted_result))\n",
    "    cumulative_gain = 0\n",
    "    num_positive = 0\n",
    "    rr = float(\"NaN\")\n",
    "    for i in range(len(sorted_result)):\n",
    "        pid = sorted_result[i][0]\n",
    "        if pid in true_dict:\n",
    "            rr = 1 / (i + 1)\n",
    "            break\n",
    "    for i in range(rank):\n",
    "        pid = sorted_result[i][0]\n",
    "        if pid in true_dict:\n",
    "            num_positive += 1\n",
    "    for i in range(rank):\n",
    "        pid = sorted_result[i][0]\n",
    "        relevance = 0\n",
    "        if pid in true_dict:\n",
    "            relevance = true_dict[pid]\n",
    "        discounted_gain = relevance / math.log2(2 + i)\n",
    "        cumulative_gain += discounted_gain\n",
    "    sorted_ideal = sorted(true_dict.items(), key=lambda x: x[1], reverse=True)\n",
    "    ideal_gain = 0\n",
    "    for i in range(rank):\n",
    "        relevance = 0\n",
    "        if i < len(sorted_ideal):\n",
    "            relevance = sorted_ideal[i][1]\n",
    "        discounted_gain = relevance / math.log2(2 + i)\n",
    "        ideal_gain += discounted_gain\n",
    "    ndcg = 0\n",
    "    if ideal_gain != 0:\n",
    "         ndcg = cumulative_gain / ideal_gain\n",
    "    return ndcg, num_positive / original_rank, rr\n",
    "\n",
    "def calculate_metrics(rating_dict, result_dict, rank=10):\n",
    "    pids = list(result_dict.keys())\n",
    "    result_ndcg = []\n",
    "    result_prec = []\n",
    "    result_rr = []\n",
    "    for pid in pids:\n",
    "        if pid in rating_dict:\n",
    "            ndcg, prec, rr = get_reverse_ndcg_precision_rr(rating_dict[pid], result_dict[pid], rank)\n",
    "            result_ndcg.append(ndcg)\n",
    "            result_prec.append(prec)\n",
    "            result_rr.append(rr)\n",
    "    avg_ndcg = np.nanmean(result_ndcg)\n",
    "    avg_prec = np.nanmean(result_prec)\n",
    "    avg_rr = np.nanmean(result_rr)\n",
    "    print(\"NDCG@{}: {:.4f}\".format(rank,avg_ndcg),\"Precision@{}: {:.4f}\".format(rank, avg_prec), \"RR: {:.4f}\".format(avg_rr))"
   ],
   "metadata": {
    "collapsed": false,
    "pycharm": {
     "name": "#%%\n"
    }
   }
  },
  {
   "cell_type": "code",
   "execution_count": 33,
   "outputs": [
    {
     "name": "stdout",
     "output_type": "stream",
     "text": [
      "Baseline forward embedding model\n",
      "NDCG@10: 0.6106 Precision@10: 0.3182 RR: 0.7823\n",
      "NDCG@100: 0.6830 Precision@100: 0.0567 RR: 0.7823\n",
      "Append embedding model\n",
      "NDCG@10: 0.7169 Precision@10: 0.3716 RR: 0.8510\n",
      "NDCG@100: 0.7771 Precision@100: 0.0625 RR: 0.8510\n",
      "Transformation model\n",
      "NDCG@10: 0.2047 Precision@10: 0.1030 RR: 0.3943\n",
      "NDCG@100: 0.2693 Precision@100: 0.0243 RR: 0.3943\n"
     ]
    }
   ],
   "source": [
    "print(\"Baseline forward embedding model\")\n",
    "calculate_metrics(ratings, baseline_reverse)\n",
    "calculate_metrics(ratings, baseline_reverse, 100)\n",
    "print(\"Append embedding model\")\n",
    "calculate_metrics(ratings, trained_reverse)\n",
    "calculate_metrics(ratings, trained_reverse, 100)\n",
    "print(\"Transformation model\")\n",
    "calculate_metrics(ratings, transformed_reverse)\n",
    "calculate_metrics(ratings, transformed_reverse, 100)"
   ],
   "metadata": {
    "collapsed": false,
    "pycharm": {
     "name": "#%%\n"
    }
   }
  },
  {
   "cell_type": "code",
   "execution_count": 25,
   "outputs": [
    {
     "name": "stdout",
     "output_type": "stream",
     "text": [
      "NDCG@10: 0.6125 Precision@10: 0.3235 RR: 0.7946\n",
      "NDCG@100: 0.6826 Precision@100: 0.0607 RR: 0.7946\n",
      "NDCG@10: 0.7182 Precision@10: 0.3770 RR: 0.8552\n",
      "NDCG@100: 0.7785 Precision@100: 0.0669 RR: 0.8552\n"
     ]
    }
   ],
   "source": [
    "calculate_metrics(ratings, new_baseline_reverse)\n",
    "calculate_metrics(ratings, new_baseline_reverse,100)\n",
    "\n",
    "calculate_metrics(ratings, new_trained_reverse)\n",
    "calculate_metrics(ratings, new_trained_reverse, 100)"
   ],
   "metadata": {
    "collapsed": false,
    "pycharm": {
     "name": "#%%\n"
    }
   }
  }
 ],
 "metadata": {
  "kernelspec": {
   "display_name": "Python 3",
   "language": "python",
   "name": "python3"
  },
  "language_info": {
   "codemirror_mode": {
    "name": "ipython",
    "version": 2
   },
   "file_extension": ".py",
   "mimetype": "text/x-python",
   "name": "python",
   "nbconvert_exporter": "python",
   "pygments_lexer": "ipython2",
   "version": "2.7.6"
  }
 },
 "nbformat": 4,
 "nbformat_minor": 0
}
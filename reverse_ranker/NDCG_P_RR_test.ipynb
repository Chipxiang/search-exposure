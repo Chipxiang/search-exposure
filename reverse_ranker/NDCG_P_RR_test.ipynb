{
 "cells": [
  {
   "cell_type": "code",
   "execution_count": 1,
   "metadata": {
    "collapsed": true
   },
   "outputs": [],
   "source": [
    "import sys\n",
    "\n",
    "sys.path.insert(0, '/home/jianx/search-exposure/')\n",
    "import torch\n",
    "from annoy import AnnoyIndex\n",
    "import forward_ranker.load_data as load_data\n",
    "import forward_ranker.train as train\n",
    "from forward_ranker.utils import print_message\n",
    "from forward_ranker.test import get_ndcg_precision_rr\n",
    "obj_reader = load_data.obj_reader\n",
    "obj_writer = load_data.obj_writer\n",
    "import pickle\n",
    "import numpy as np\n",
    "import random\n",
    "import math"
   ]
  },
  {
   "cell_type": "code",
   "execution_count": 2,
   "outputs": [],
   "source": [
    "GROUND_TRUTH_PATH = \"/datadrive/jianx/data/results/all_search_rankings_100_100_flat.csv\""
   ],
   "metadata": {
    "collapsed": false,
    "pycharm": {
     "name": "#%%\n"
    }
   }
  },
  {
   "cell_type": "code",
   "execution_count": 3,
   "outputs": [],
   "source": [
    "def load_ground_truth(path=GROUND_TRUTH_PATH):\n",
    "    all_results = {}\n",
    "    with open(path, \"r\") as f:\n",
    "        for line in f:\n",
    "            qid = int(line.split(\",\")[0])\n",
    "            pid = int(line.split(\",\")[1])\n",
    "            rank = int(line.split(\",\")[2])\n",
    "            if pid not in all_results.keys():\n",
    "                all_results[pid] = {}\n",
    "            all_results[pid][qid] = 101 - rank\n",
    "    return all_results"
   ],
   "metadata": {
    "collapsed": false,
    "pycharm": {
     "name": "#%%\n"
    }
   }
  },
  {
   "cell_type": "code",
   "execution_count": 4,
   "outputs": [],
   "source": [
    "ratings = load_ground_truth(GROUND_TRUTH_PATH)"
   ],
   "metadata": {
    "collapsed": false,
    "pycharm": {
     "name": "#%%\n"
    }
   }
  },
  {
   "cell_type": "code",
   "execution_count": 5,
   "outputs": [],
   "source": [
    "baseline_reverse = obj_reader(\"/datadrive/ruohan/reverse_ranker/bug_fixed/forward_baseline_rank_test.pickle\")\n",
    "trained_reverse = obj_reader(\"/datadrive/ruohan/reverse_ranker/bug_fixed/pred_rank_test.pickle\")\n",
    "transformed_reverse = obj_reader(\"/datadrive/ruohan/reverse_ranker/transformation/pred_rank_test.pickle\")"
   ],
   "metadata": {
    "collapsed": false,
    "pycharm": {
     "name": "#%%\n"
    }
   }
  },
  {
   "cell_type": "code",
   "execution_count": 7,
   "outputs": [],
   "source": [
    "baseline_reverse_random = obj_reader(\"/datadrive/ruohan/reverse_ranker/append/layer_6_optim_fixed/forward_baseline_rank_test.pickle\")\n",
    "trained_reverse_random = obj_reader(\"/datadrive/ruohan/reverse_ranker/append/layer_6_optim_fixed/pred_rank_test.pickle\")"
   ],
   "metadata": {
    "collapsed": false,
    "pycharm": {
     "name": "#%%\n"
    }
   }
  },
  {
   "cell_type": "code",
   "execution_count": 8,
   "outputs": [],
   "source": [
    "baseline_reverse_residual = obj_reader(\"/datadrive/ruohan/reverse_ranker/residual/loss15_layer3/forward_baseline_rank_test.pickle\")\n",
    "trained_reverse_residual = obj_reader(\"/datadrive/ruohan/reverse_ranker/residual/loss15_layer3/pred_rank_test.pickle\")"
   ],
   "metadata": {
    "collapsed": false,
    "pycharm": {
     "name": "#%%\n"
    }
   }
  },
  {
   "cell_type": "code",
   "execution_count": 9,
   "outputs": [],
   "source": [
    "def get_reverse_ndcg_precision_rr(true_dict, test_dict, rank):\n",
    "    sorted_result = list(test_dict.items())\n",
    "    original_rank = rank\n",
    "    rank = min(rank, len(sorted_result))\n",
    "    cumulative_gain = 0\n",
    "    num_positive = 0\n",
    "    rr = float(\"NaN\")\n",
    "    for i in range(len(sorted_result)):\n",
    "        pid = sorted_result[i][0]\n",
    "        if pid in true_dict:\n",
    "            rr = 1 / (i + 1)\n",
    "            break\n",
    "    for i in range(rank):\n",
    "        pid = sorted_result[i][0]\n",
    "        if pid in true_dict:\n",
    "            num_positive += 1\n",
    "    for i in range(rank):\n",
    "        pid = sorted_result[i][0]\n",
    "        relevance = 0\n",
    "        if pid in true_dict:\n",
    "            relevance = true_dict[pid]\n",
    "        discounted_gain = relevance / math.log2(2 + i)\n",
    "        cumulative_gain += discounted_gain\n",
    "    sorted_ideal = sorted(true_dict.items(), key=lambda x: x[1], reverse=True)\n",
    "    ideal_gain = 0\n",
    "    for i in range(rank):\n",
    "        relevance = 0\n",
    "        if i < len(sorted_ideal):\n",
    "            relevance = sorted_ideal[i][1]\n",
    "        discounted_gain = relevance / math.log2(2 + i)\n",
    "        ideal_gain += discounted_gain\n",
    "    ndcg = 0\n",
    "    if ideal_gain != 0:\n",
    "         ndcg = cumulative_gain / ideal_gain\n",
    "    return ndcg, num_positive / original_rank, rr\n",
    "\n",
    "def calculate_metrics(rating_dict, result_dict, rank=10):\n",
    "    pids = list(result_dict.keys())\n",
    "    result_ndcg = []\n",
    "    result_prec = []\n",
    "    result_rr = []\n",
    "    for pid in pids:\n",
    "        if pid in rating_dict:\n",
    "            ndcg, prec, rr = get_reverse_ndcg_precision_rr(rating_dict[pid], result_dict[pid], rank)\n",
    "            result_ndcg.append(ndcg)\n",
    "            result_prec.append(prec)\n",
    "            result_rr.append(rr)\n",
    "    avg_ndcg = np.nanmean(result_ndcg)\n",
    "    avg_prec = np.nanmean(result_prec)\n",
    "    avg_rr = np.nanmean(result_rr)\n",
    "    print(\"NDCG@{}: {:.4f}\".format(rank,avg_ndcg),\"Precision@{}: {:.4f}\".format(rank, avg_prec), \"RR: {:.4f}\".format(avg_rr))"
   ],
   "metadata": {
    "collapsed": false,
    "pycharm": {
     "name": "#%%\n"
    }
   }
  },
  {
   "cell_type": "code",
   "execution_count": 10,
   "outputs": [
    {
     "name": "stdout",
     "output_type": "stream",
     "text": [
      "Baseline forward embedding model\n",
      "NDCG@10: 0.6232 Precision@10: 0.3208 RR: 0.7877\n",
      "NDCG@100: 0.6932 Precision@100: 0.0597 RR: 0.7877\n",
      "Append embedding model\n",
      "NDCG@10: 0.7310 Precision@10: 0.3732 RR: 0.8474\n",
      "NDCG@100: 0.7898 Precision@100: 0.0661 RR: 0.8474\n",
      "Transformation model\n",
      "NDCG@10: 0.2047 Precision@10: 0.1030 RR: 0.3943\n",
      "NDCG@100: 0.2693 Precision@100: 0.0243 RR: 0.3943\n"
     ]
    }
   ],
   "source": [
    "print(\"Baseline forward embedding model\")\n",
    "calculate_metrics(ratings, baseline_reverse)\n",
    "calculate_metrics(ratings, baseline_reverse, 100)\n",
    "print(\"Append embedding model\")\n",
    "calculate_metrics(ratings, trained_reverse)\n",
    "calculate_metrics(ratings, trained_reverse, 100)\n",
    "print(\"Transformation model\")\n",
    "calculate_metrics(ratings, transformed_reverse)\n",
    "calculate_metrics(ratings, transformed_reverse, 100)"
   ],
   "metadata": {
    "collapsed": false,
    "pycharm": {
     "name": "#%%\n"
    }
   }
  },
  {
   "cell_type": "code",
   "execution_count": 11,
   "outputs": [
    {
     "name": "stdout",
     "output_type": "stream",
     "text": [
      "Random baseline forward embedding model\n",
      "NDCG@10: 0.6218 Precision@10: 0.3244 RR: 0.7892\n",
      "NDCG@100: 0.6915 Precision@100: 0.0605 RR: 0.7892\n",
      "Random append embedding model\n",
      "NDCG@10: 0.8110 Precision@10: 0.4149 RR: 0.9073\n",
      "NDCG@100: 0.8533 Precision@100: 0.0693 RR: 0.9073\n"
     ]
    }
   ],
   "source": [
    "print(\"Random baseline forward embedding model\")\n",
    "calculate_metrics(ratings, baseline_reverse_random)\n",
    "calculate_metrics(ratings, baseline_reverse_random, 100)\n",
    "print(\"Random append embedding model\")\n",
    "calculate_metrics(ratings, trained_reverse_random)\n",
    "calculate_metrics(ratings, trained_reverse_random, 100)"
   ],
   "metadata": {
    "collapsed": false,
    "pycharm": {
     "name": "#%%\n"
    }
   }
  },
  {
   "cell_type": "code",
   "execution_count": 12,
   "outputs": [
    {
     "name": "stdout",
     "output_type": "stream",
     "text": [
      "Residual baseline forward embedding model\n",
      "NDCG@10: 0.6218 Precision@10: 0.3244 RR: 0.7892\n",
      "NDCG@100: 0.6915 Precision@100: 0.0605 RR: 0.7892\n",
      "Residual embedding model\n",
      "NDCG@10: 0.8204 Precision@10: 0.4183 RR: 0.9096\n",
      "NDCG@100: 0.8597 Precision@100: 0.0694 RR: 0.9096\n"
     ]
    }
   ],
   "source": [
    "print(\"Residual baseline forward embedding model\")\n",
    "calculate_metrics(ratings, baseline_reverse_residual)\n",
    "calculate_metrics(ratings, baseline_reverse_residual, 100)\n",
    "print(\"Residual embedding model\")\n",
    "calculate_metrics(ratings, trained_reverse_residual)\n",
    "calculate_metrics(ratings, trained_reverse_residual, 100)"
   ],
   "metadata": {
    "collapsed": false,
    "pycharm": {
     "name": "#%%\n"
    }
   }
  },
  {
   "cell_type": "code",
   "execution_count": null,
   "outputs": [],
   "source": [
    "calculate_metrics(ratings, new_baseline_reverse)\n",
    "calculate_metrics(ratings, new_baseline_reverse,100)\n",
    "\n",
    "calculate_metrics(ratings, new_trained_reverse)\n",
    "calculate_metrics(ratings, new_trained_reverse, 100)"
   ],
   "metadata": {
    "collapsed": false,
    "pycharm": {
     "name": "#%%\n"
    }
   }
  },
  {
   "cell_type": "code",
   "execution_count": 48,
   "outputs": [
    {
     "name": "stdout",
     "output_type": "stream",
     "text": [
      "2 5 6\n",
      "2 3 4\n",
      "1 1 2\n",
      "1 3 4\n"
     ]
    }
   ],
   "source": [
    "import random\n",
    "train_results = {1:[(1,2),(3,4)],2:[(5,6),(3,4)],3:[(7,8),(3,4)]}\n",
    "train_set = dict(random.sample(list(train_results.items()), 2))\n",
    "for key,value in train_set.items():\n",
    "    for qid,rank in value:\n",
    "        print(key,qid,rank)"
   ],
   "metadata": {
    "collapsed": false,
    "pycharm": {
     "name": "#%%\n"
    }
   }
  }
 ],
 "metadata": {
  "kernelspec": {
   "display_name": "Python 3",
   "language": "python",
   "name": "python3"
  },
  "language_info": {
   "codemirror_mode": {
    "name": "ipython",
    "version": 2
   },
   "file_extension": ".py",
   "mimetype": "text/x-python",
   "name": "python",
   "nbconvert_exporter": "python",
   "pygments_lexer": "ipython2",
   "version": "2.7.6"
  }
 },
 "nbformat": 4,
 "nbformat_minor": 0
}
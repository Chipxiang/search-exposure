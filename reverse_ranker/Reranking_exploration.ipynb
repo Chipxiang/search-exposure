{
 "cells": [
  {
   "cell_type": "code",
   "execution_count": 33,
   "metadata": {},
   "outputs": [],
   "source": [
    "import pickle\n",
    "import numpy as np\n",
    "\n",
    "DEV_RANKING_PATH = \"/datadrive/ruohan/evaluation/best_residual_split_50000_morepos/dev_set.result\"\n",
    "DEV_TOP1000_PATH = \"/datadrive/ruohan/data/top1000.dev\"\n",
    "PASSAGE_MAP_PATH = \"/datadrive/jianx/data/annoy/100_ance_passage_map.dict\"\n",
    "TEST_RANKING_PATH = \"/datadrive/ruohan/evaluation/best_append_no_split/test_set.result\"\n",
    "QUERY_TEST_REVERSE_MAP_PATH = \"/home/jianx/results/test-query_qid2offset.pickle\"\n",
    "TOP_DICT_PATH = \"/datadrive/jianx/data/initial_ranking.dict\"\n",
    "RATING_DICT_PATH = \"/datadrive/jianx/data/rel_scores.dict\""
   ]
  },
  {
   "cell_type": "code",
   "execution_count": 2,
   "metadata": {},
   "outputs": [],
   "source": [
    "def obj_reader(path):\n",
    "    with open(path, 'rb') as handle:\n",
    "        return pickle.load(handle, encoding=\"bytes\")"
   ]
  },
  {
   "cell_type": "code",
   "execution_count": 3,
   "metadata": {},
   "outputs": [],
   "source": [
    "def load_top1000(path):\n",
    "    with open(path, \"r\") as file:\n",
    "        top_dict = {}\n",
    "        for line in file:\n",
    "            tokens = line.split(\"\\t\")\n",
    "            qid = int(tokens[0])\n",
    "            pid = int(tokens[1])\n",
    "            if qid not in top_dict:\n",
    "                top_dict[qid] = []\n",
    "            top_dict[qid].append(pid)\n",
    "    return top_dict"
   ]
  },
  {
   "cell_type": "code",
   "execution_count": 4,
   "metadata": {},
   "outputs": [],
   "source": [
    "def transform_full_retrieval(full_retrieval, query_mapping, passage_mapping):\n",
    "    query_mapping = {val + 502939: key for key, val in query_mapping.items()}\n",
    "    rank_true_pid = {query_mapping[key]:val for key, val in full_retrieval.items()}\n",
    "    for qid, pids in rank_true_pid.items():\n",
    "        temp = [passage_mapping[pid] for pid in pids]\n",
    "        rank_true_pid[qid] = temp\n",
    "    return rank_true_pid"
   ]
  },
  {
   "cell_type": "code",
   "execution_count": 38,
   "metadata": {},
   "outputs": [],
   "source": [
    "def compute_coverage_rate(full_retrieval, top1000, topk):\n",
    "    results = []\n",
    "    for qid, pids in full_retrieval.items():\n",
    "        full_retrieval_set = set(pids[:topk])\n",
    "        top1000_set = set(top1000[qid])\n",
    "        results.append(len(full_retrieval_set & top1000_set) / topk)\n",
    "    print(\"Average Coverage Rate: {}\".format(np.mean(results)))\n",
    "    return results"
   ]
  },
  {
   "cell_type": "code",
   "execution_count": 48,
   "metadata": {},
   "outputs": [],
   "source": [
    "def compute_coverage_rate_test(full_retrieval, top1000, topk, rel_scores, inter_option):\n",
    "    results = []\n",
    "    results_n_rel = []\n",
    "    avg_rel_n = 0\n",
    "    for qid, pids in full_retrieval.items():\n",
    "        temp_rel_dict = rel_scores[qid]\n",
    "        avg_rel_n += len(temp_rel_dict)\n",
    "        full_retrieval_set = set(pids[:topk])\n",
    "        top1000_set = set(top1000[qid])\n",
    "        inter_set = list(full_retrieval_set & top1000_set)\n",
    "        results.append(len(inter_set) / topk)\n",
    "        count = 0\n",
    "        if inter_option:\n",
    "            for pid in inter_set:\n",
    "                if pid in temp_rel_dict:\n",
    "                    count += 1      \n",
    "        else:\n",
    "            for pid in list(full_retrieval_set):\n",
    "                if pid in temp_rel_dict:\n",
    "                    count += 1\n",
    "        results_n_rel.append(count)\n",
    "    print(\"Average # of Relevant Passages: {}\".format(avg_rel_n / len(results)))\n",
    "    print(\"Average Coverage Rate: {} Average Relevant Passages: {}\".format(np.mean(results), np.mean(results_n_rel)))\n",
    "    return results, results_n_rel"
   ]
  },
  {
   "cell_type": "code",
   "execution_count": 16,
   "metadata": {},
   "outputs": [],
   "source": [
    "passage_mapping = obj_reader(PASSAGE_MAP_PATH)\n",
    "full_retrieval_rank = obj_reader(DEV_RANKING_PATH)[\"ranking\"]\n",
    "query_mapping = obj_reader(\"/datadrive/data/preprocessed_data_with_dev/qid2offset.pickle\")\n",
    "top_1000_results = load_top1000(DEV_TOP1000_PATH)\n",
    "rank_true_pid = transform_full_retrieval(full_retrieval_rank, query_mapping, passage_mapping)"
   ]
  },
  {
   "cell_type": "code",
   "execution_count": 29,
   "metadata": {},
   "outputs": [],
   "source": [
    "test_rank = obj_reader(TEST_RANKING_PATH)[\"ranking\"]\n",
    "query_test_mapping = obj_reader(QUERY_TEST_REVERSE_MAP_PATH)\n",
    "test_top1000 = obj_reader(TOP_DICT_PATH)\n",
    "rank_true_pid_test = transform_full_retrieval(test_rank, query_test_mapping, passage_mapping)"
   ]
  },
  {
   "cell_type": "code",
   "execution_count": 34,
   "metadata": {},
   "outputs": [],
   "source": [
    "test_rel_scores = obj_reader(RATING_DICT_PATH)"
   ]
  },
  {
   "cell_type": "markdown",
   "metadata": {},
   "source": [
    "## Dev Set"
   ]
  },
  {
   "cell_type": "code",
   "execution_count": 39,
   "metadata": {},
   "outputs": [
    {
     "name": "stdout",
     "output_type": "stream",
     "text": [
      "Average Coverage Rate: 0.32498997134670493\n"
     ]
    }
   ],
   "source": [
    "results_100 = compute_coverage_rate(rank_true_pid, top_1000_results, 100)"
   ]
  },
  {
   "cell_type": "code",
   "execution_count": 40,
   "metadata": {},
   "outputs": [
    {
     "name": "stdout",
     "output_type": "stream",
     "text": [
      "Average Coverage Rate: 0.6120630372492837\n"
     ]
    }
   ],
   "source": [
    "results_10 = compute_coverage_rate(rank_true_pid, top_1000_results, 10)"
   ]
  },
  {
   "cell_type": "code",
   "execution_count": 59,
   "metadata": {},
   "outputs": [
    {
     "name": "stdout",
     "output_type": "stream",
     "text": [
      "Average Coverage Rate: 0.72774594078319\n"
     ]
    }
   ],
   "source": [
    "results_10 = compute_coverage_rate(rank_true_pid, top_1000_results, 3)"
   ]
  },
  {
   "cell_type": "markdown",
   "metadata": {},
   "source": [
    "## Test Set"
   ]
  },
  {
   "cell_type": "code",
   "execution_count": 49,
   "metadata": {},
   "outputs": [
    {
     "name": "stdout",
     "output_type": "stream",
     "text": [
      "Average # of Relevant Passages: 95.3953488372093\n",
      "Average Coverage Rate: 0.35441860465116276 Average Relevant Passages: 25.41860465116279\n",
      "Average # of Relevant Passages: 95.3953488372093\n",
      "Average Coverage Rate: 0.6860465116279071 Average Relevant Passages: 6.558139534883721\n"
     ]
    }
   ],
   "source": [
    "results_100_test = compute_coverage_rate_test(rank_true_pid_test, test_top1000, 100, test_rel_scores, False)\n",
    "results_10_test = compute_coverage_rate_test(rank_true_pid_test, test_top1000, 10, test_rel_scores, False)"
   ]
  },
  {
   "cell_type": "code",
   "execution_count": 50,
   "metadata": {},
   "outputs": [
    {
     "name": "stdout",
     "output_type": "stream",
     "text": [
      "Average # of Relevant Passages: 95.3953488372093\n",
      "Average Coverage Rate: 0.35441860465116276 Average Relevant Passages: 20.511627906976745\n",
      "Average # of Relevant Passages: 95.3953488372093\n",
      "Average Coverage Rate: 0.6860465116279071 Average Relevant Passages: 5.953488372093023\n"
     ]
    }
   ],
   "source": [
    "results_100_test = compute_coverage_rate_test(rank_true_pid_test, test_top1000, 100, test_rel_scores, True)\n",
    "results_10_test = compute_coverage_rate_test(rank_true_pid_test, test_top1000, 10, test_rel_scores, True)"
   ]
  }
 ],
 "metadata": {
  "kernelspec": {
   "display_name": "Python [conda env:py37_pytorch]",
   "language": "python",
   "name": "conda-env-py37_pytorch-py"
  },
  "language_info": {
   "codemirror_mode": {
    "name": "ipython",
    "version": 3
   },
   "file_extension": ".py",
   "mimetype": "text/x-python",
   "name": "python",
   "nbconvert_exporter": "python",
   "pygments_lexer": "ipython3",
   "version": "3.7.7"
  }
 },
 "nbformat": 4,
 "nbformat_minor": 4
}

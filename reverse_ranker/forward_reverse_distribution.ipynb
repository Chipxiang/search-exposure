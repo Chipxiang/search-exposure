{
 "cells": [
  {
   "cell_type": "markdown",
   "metadata": {},
   "source": [
    "## Load Data"
   ]
  },
  {
   "cell_type": "code",
   "execution_count": 13,
   "metadata": {},
   "outputs": [],
   "source": [
    "import sys\n",
    "\n",
    "sys.path.insert(0, '/home/jianx/search-exposure/')\n",
    "import faiss\n",
    "import forward_ranker.load_data as load_data\n",
    "from forward_ranker.utils import print_message\n",
    "import csv\n",
    "import random\n",
    "import numpy as np\n",
    "import matplotlib.pyplot as plt\n",
    "import pandas as pd\n",
    "\n",
    "PASSAGE_DICT_PATH = \"/datadrive/jianx/data/passages.dict\"\n",
    "QUERY_TRAIN_DICT_PATH = \"/datadrive/jianx/data/queries_train.dict\"\n",
    "\n",
    "# Queries plain text: queries.train.tsv\n",
    "# Passages plain text: collection.tsv\n",
    "QUERIES_TEXT_PATH = \"/datadrive/jianx/data/queries.train.tsv\"\n",
    "PASSAGES_TEXT_PATH = \"/datadrive/jianx/data/collection.tsv\""
   ]
  },
  {
   "cell_type": "code",
   "execution_count": 2,
   "metadata": {},
   "outputs": [],
   "source": [
    "obj_reader = load_data.obj_reader\n",
    "obj_writer = load_data.obj_writer\n",
    "\n",
    "RANK = 10"
   ]
  },
  {
   "cell_type": "code",
   "execution_count": 3,
   "metadata": {},
   "outputs": [
    {
     "name": "stdout",
     "output_type": "stream",
     "text": [
      "[Aug 09, 23:21:20] Loading embeddings.\n"
     ]
    }
   ],
   "source": [
    "print_message(\"Loading embeddings.\")\n",
    "passage_embeddings = obj_reader(\"/home/jianx/results/passage_0__emb_p__data_obj_0.pb\")\n",
    "query_train_embeddings = obj_reader(\"/home/jianx/results/query_0__emb_p__data_obj_0.pb\")\n",
    "query_train_mapping = obj_reader(\"/datadrive/jianx/data/annoy/100_ance_query_train_map.dict\")\n",
    "pid_mapping = obj_reader(\"/datadrive/jianx/data/annoy/100_ance_passage_map.dict\")"
   ]
  },
  {
   "cell_type": "code",
   "execution_count": 4,
   "metadata": {},
   "outputs": [],
   "source": [
    "dim = passage_embeddings.shape[1]\n",
    "passage_index = faiss.IndexFlatIP(dim)\n",
    "passage_index.add(passage_embeddings)\n",
    "query_index = faiss.IndexFlatIP(dim)\n",
    "query_index.add(query_train_embeddings)"
   ]
  },
  {
   "cell_type": "code",
   "execution_count": 5,
   "metadata": {},
   "outputs": [],
   "source": [
    "def load_tsv_dict(path):\n",
    "    with open(path) as file:\n",
    "        line = file.readline()\n",
    "        my_dict = {}\n",
    "        while line:\n",
    "            tokens = line.split(\"\\t\")\n",
    "            indexid = int(tokens[0])\n",
    "            text = tokens[1].rstrip()\n",
    "            my_dict[indexid] = text\n",
    "            line = file.readline()\n",
    "    return my_dict"
   ]
  },
  {
   "cell_type": "code",
   "execution_count": 6,
   "metadata": {},
   "outputs": [],
   "source": [
    "queries_text_dict = load_tsv_dict(QUERIES_TEXT_PATH)\n",
    "passages_text_dict = load_tsv_dict(PASSAGES_TEXT_PATH)"
   ]
  },
  {
   "cell_type": "code",
   "execution_count": 7,
   "metadata": {},
   "outputs": [],
   "source": [
    "pid_reverse_mapping = obj_reader(\"/datadrive/data/preprocessed_data_with_test/pid2offset.pickle\")"
   ]
  },
  {
   "cell_type": "code",
   "execution_count": 461,
   "metadata": {},
   "outputs": [],
   "source": [
    "# qid_reverse_mapping = obj_reader(\"/datadrive/data/preprocessed_data_with_test/train-query_qid2offset.pickle\")\n",
    "qid_reverse_mapping = {v: k for k, v in query_train_mapping.items()}"
   ]
  },
  {
   "cell_type": "code",
   "execution_count": 7,
   "metadata": {},
   "outputs": [],
   "source": [
    "# Randomly pick a passage\n",
    "# pick top 100 nearest queries\n",
    "# For each query, \n",
    "# find nearest 100 passages\n",
    "# record rank if the original passage is within top 100\n",
    "# otherwise, record as 0"
   ]
  },
  {
   "cell_type": "code",
   "execution_count": 69,
   "metadata": {},
   "outputs": [],
   "source": [
    "TRUE_PATH = \"/datadrive/jianx/data/results/all_search_rankings_100_100_flat.csv\""
   ]
  },
  {
   "cell_type": "code",
   "execution_count": 428,
   "metadata": {},
   "outputs": [],
   "source": [
    "def load_true_dict(k = 100, path = TRUE_PATH):\n",
    "    true_dict = {}\n",
    "    with open(path, \"r\") as file:\n",
    "        for line in file:\n",
    "            qid = int(line.split(\",\")[0])\n",
    "            pid = int(line.split(\",\")[1])\n",
    "            rank = int(line.split(\",\")[2])\n",
    "            if rank > k:\n",
    "                continue\n",
    "            if pid not in true_dict.keys():\n",
    "                true_dict[pid] = {}\n",
    "            true_dict[pid][qid] = rank\n",
    "    return true_dict\n",
    "def load_forward_dict(k = 100, path = TRUE_PATH):\n",
    "    true_dict = {}\n",
    "    with open(path, \"r\") as file:\n",
    "        for line in file:\n",
    "            qid = int(line.split(\",\")[0])\n",
    "            pid = int(line.split(\",\")[1])\n",
    "            rank = int(line.split(\",\")[2])\n",
    "            if rank > k:\n",
    "                continue\n",
    "            if qid not in true_dict.keys():\n",
    "                true_dict[qid] = {}\n",
    "            true_dict[qid][pid] = rank\n",
    "    return true_dict"
   ]
  },
  {
   "cell_type": "code",
   "execution_count": 429,
   "metadata": {},
   "outputs": [],
   "source": [
    "forward_dict_100 = load_forward_dict(k=100)"
   ]
  },
  {
   "cell_type": "code",
   "execution_count": 430,
   "metadata": {},
   "outputs": [],
   "source": [
    "forward_dict_10 = load_forward_dict(k=10)"
   ]
  },
  {
   "cell_type": "code",
   "execution_count": 82,
   "metadata": {},
   "outputs": [],
   "source": [
    "true_dict_100 = load_true_dict(k=100)"
   ]
  },
  {
   "cell_type": "code",
   "execution_count": 83,
   "metadata": {},
   "outputs": [],
   "source": [
    "true_dict_10 = load_true_dict(k=10)"
   ]
  },
  {
   "cell_type": "code",
   "execution_count": 84,
   "metadata": {},
   "outputs": [],
   "source": [
    "PRED_PATH = \"/datadrive/jianx/data/train_data/ance_training_rank100_10000.csv\""
   ]
  },
  {
   "cell_type": "code",
   "execution_count": 265,
   "metadata": {},
   "outputs": [],
   "source": [
    "def load_pred_dict(k = 100, path = PRED_PATH):\n",
    "    pred_dict = {}\n",
    "    with open(path, \"r\") as file:\n",
    "        for line in file:\n",
    "            qid = int(line.split(\",\")[1])\n",
    "            pid = int(line.split(\",\")[0])\n",
    "            rank = int(line.split(\",\")[2])\n",
    "            if pid not in pred_dict.keys():\n",
    "                pred_dict[pid] = {}\n",
    "            if len(pred_dict[pid]) < k:\n",
    "                pred_dict[pid][qid] = rank\n",
    "    return pred_dict"
   ]
  },
  {
   "cell_type": "code",
   "execution_count": 266,
   "metadata": {},
   "outputs": [],
   "source": [
    "pred_dict_100 = load_pred_dict(k=100)\n",
    "pred_dict_10 = load_pred_dict(k=10)"
   ]
  },
  {
   "cell_type": "markdown",
   "metadata": {},
   "source": [
    "## Explore Examples"
   ]
  },
  {
   "cell_type": "code",
   "execution_count": 11,
   "metadata": {},
   "outputs": [],
   "source": [
    "def display_random_example(RANK, RANK_f, output = None, random_option = None):\n",
    "    if random_option:\n",
    "        rd_index = random_option\n",
    "    else:\n",
    "        rd_index = random.randint(0, passage_embeddings.shape[0])\n",
    "    p_embed = passage_embeddings[rd_index]\n",
    "    pid = pid_mapping[rd_index]\n",
    "    print(\"{} ({}):{}\".format(pid, rd_index, passages_text_dict[pid]))\n",
    "    near_scores_q, near_queries = query_index.search(np.array([p_embed]), RANK)\n",
    "    rank_list = {}\n",
    "    score_list = {}\n",
    "    for i in range(RANK):\n",
    "        q = near_queries[0,i]\n",
    "        qid = query_train_mapping[q]\n",
    "        print(\"{}: {}\".format(qid, queries_text_dict[qid]))\n",
    "        near_scores_p, near_passages = passage_index.search(np.array([query_train_embeddings[q]]), RANK_f)\n",
    "        temp_rank = None\n",
    "        for j in range(RANK_f):\n",
    "            if rd_index == near_passages[0,j]:\n",
    "                temp_rank = j\n",
    "                temp_score = near_scores_p[0,j]\n",
    "                break\n",
    "        if not temp_rank:\n",
    "            temp_rank = 1000\n",
    "            temp_score = -1000\n",
    "            print(\"Not in top {}\".format(RANK_f))\n",
    "        else:\n",
    "            print(temp_rank, temp_score)\n",
    "        rank_list[qid] = [temp_rank,i]\n",
    "        score_list[qid] = temp_score\n",
    "    if output:\n",
    "        return rank_list, score_list"
   ]
  },
  {
   "cell_type": "code",
   "execution_count": 260,
   "metadata": {},
   "outputs": [],
   "source": [
    "def evaluate_reverse_ranker(pred_rank = pred_dict, true_rank = true_dict, k = 100):\n",
    "    top_true = []\n",
    "    top_pred = []\n",
    "    for pid, qids in pred_rank.items():\n",
    "        n_top_true = len(true_rank.get(pid, {}))\n",
    "        temp_pred = np.fromiter(qids.values(), dtype=int)\n",
    "        n_top_pred = sum((temp_pred != 0) & (temp_pred <= k))\n",
    "        top_true.append(n_top_true)\n",
    "        top_pred.append(n_top_pred)\n",
    "    return top_true, top_pred"
   ]
  },
  {
   "cell_type": "code",
   "execution_count": 255,
   "metadata": {},
   "outputs": [],
   "source": [
    "def evaluate_ground_truth(true_rank = true_dict):\n",
    "    top_true = []\n",
    "    for pid, qids in true_rank.items():\n",
    "        n_top_true = len(qids)\n",
    "        top_true.append(n_top_true)\n",
    "    return top_true"
   ]
  },
  {
   "cell_type": "code",
   "execution_count": 174,
   "metadata": {},
   "outputs": [],
   "source": [
    "top_true_all = evaluate_ground_truth()"
   ]
  },
  {
   "cell_type": "code",
   "execution_count": 234,
   "metadata": {},
   "outputs": [
    {
     "data": {
      "text/plain": [
       "7.325811351898482"
      ]
     },
     "execution_count": 234,
     "metadata": {},
     "output_type": "execute_result"
    }
   ],
   "source": [
    "np.mean(top_true_all)"
   ]
  },
  {
   "cell_type": "code",
   "execution_count": 184,
   "metadata": {},
   "outputs": [
    {
     "data": {
      "text/plain": [
       "5.688182176910802"
      ]
     },
     "execution_count": 184,
     "metadata": {},
     "output_type": "execute_result"
    }
   ],
   "source": [
    "query_train_embeddings.shape[0] * 100 / passage_embeddings.shape[0]"
   ]
  },
  {
   "cell_type": "code",
   "execution_count": 186,
   "metadata": {},
   "outputs": [
    {
     "name": "stdout",
     "output_type": "stream",
     "text": [
      "502939 8841823\n"
     ]
    }
   ],
   "source": [
    "print(query_train_embeddings.shape[0], passage_embeddings.shape[0])"
   ]
  },
  {
   "cell_type": "code",
   "execution_count": 182,
   "metadata": {},
   "outputs": [
    {
     "data": {
      "text/plain": [
       "6865301"
      ]
     },
     "execution_count": 182,
     "metadata": {},
     "output_type": "execute_result"
    }
   ],
   "source": [
    "len(top_true_all)"
   ]
  },
  {
   "cell_type": "code",
   "execution_count": 183,
   "metadata": {},
   "outputs": [
    {
     "data": {
      "text/plain": [
       "5.688182176910802"
      ]
     },
     "execution_count": 183,
     "metadata": {},
     "output_type": "execute_result"
    }
   ],
   "source": [
    "sum(top_true_all) / len(passages_text_dict)"
   ]
  },
  {
   "cell_type": "code",
   "execution_count": 267,
   "metadata": {},
   "outputs": [],
   "source": [
    "top_true_100, top_pred_100 = evaluate_reverse_ranker(pred_dict_100, true_dict_100, k=100)"
   ]
  },
  {
   "cell_type": "code",
   "execution_count": 268,
   "metadata": {},
   "outputs": [
    {
     "name": "stdout",
     "output_type": "stream",
     "text": [
      "Top 100:\n",
      "Ground Truth: 6.2648 Forward Baseline: 5.2285\n",
      "Coverage rate: 0.8345837057847019\n"
     ]
    }
   ],
   "source": [
    "print(\"Top 100:\")\n",
    "print(\"Ground Truth: {} Forward Baseline: {}\".format(np.mean(top_true_100), np.mean(top_pred_100)))\n",
    "print(\"Coverage rate: {}\".format(np.mean(top_pred_100)/np.mean(top_true_100)))"
   ]
  },
  {
   "cell_type": "code",
   "execution_count": 269,
   "metadata": {},
   "outputs": [],
   "source": [
    "top_true_10, top_pred_10 = evaluate_reverse_ranker(pred_dict_10, true_dict_10, k=10)"
   ]
  },
  {
   "cell_type": "code",
   "execution_count": 270,
   "metadata": {},
   "outputs": [
    {
     "name": "stdout",
     "output_type": "stream",
     "text": [
      "Top 10:\n",
      "Ground Truth: 0.6259 Forward Baseline: 0.5042\n",
      "Coverage rate: 0.8055599936092027\n"
     ]
    }
   ],
   "source": [
    "print(\"Top 10:\")\n",
    "print(\"Ground Truth: {} Forward Baseline: {}\".format(np.mean(top_true_10), np.mean(top_pred_10)))\n",
    "print(\"Coverage rate: {}\".format(np.mean(top_pred_10)/np.mean(top_true_10)))"
   ]
  },
  {
   "cell_type": "code",
   "execution_count": 277,
   "metadata": {},
   "outputs": [
    {
     "data": {
      "text/plain": [
       "0.9269"
      ]
     },
     "execution_count": 277,
     "metadata": {},
     "output_type": "execute_result"
    }
   ],
   "source": [
    "sum(np.array(top_true_10) == np.array(top_pred_10)) / len(top_true_10)"
   ]
  },
  {
   "cell_type": "code",
   "execution_count": 9,
   "metadata": {},
   "outputs": [],
   "source": [
    "eg_pid = 1704661\n",
    "eg_pid_original = pid_reverse_mapping[eg_pid]"
   ]
  },
  {
   "cell_type": "code",
   "execution_count": 12,
   "metadata": {},
   "outputs": [
    {
     "name": "stdout",
     "output_type": "stream",
     "text": [
      "1704661 (5855717):There was no better parental bribe in the '90s than a trip to McDonald's, if only for the promise of a Happy Meal toy. If you clean your room, we'll go to McDonald's. Done. If you do well on your spelling test, we'll go to McDonald's. You got it, Mom. If you don't fight with your brother for an entire week, we'll go to McDonald's.\n",
      "333808: how old do you have to be to work at mcdonalds\n",
      "Not in top 100\n",
      "333879: how old do you have to work at mcdonalds\n",
      "Not in top 100\n",
      "333207: how old do i have to be to work at mcdonald's\n",
      "Not in top 100\n",
      "333930: how old do you need to be to work at mcdonalds\n",
      "Not in top 100\n",
      "333865: how old do you have to be to work mcdonalds\n",
      "Not in top 100\n",
      "28091: at what age can you work at mcdonalds\n",
      "Not in top 100\n",
      "908942: what toy is in the happy meal at mcdonalds\n",
      "Not in top 100\n",
      "337263: how old to work at mcdonalds\n",
      "Not in top 100\n",
      "551005: what age do you have to be to work at mcdonalds\n",
      "Not in top 100\n",
      "443019: los cabos mexico where i can stay with kids and swim with dolphins\n",
      "Not in top 100\n",
      "550123: what age can a child choose not to see parent\n",
      "Not in top 100\n",
      "765098: what is legal age children can refuse to visitation\n",
      "Not in top 100\n",
      "1175610: if you are truant in your school attendance, your driving privelege is suspended until you have proof you have attended school for how many consecutive days\n",
      "Not in top 100\n",
      "357164: how to endorse a check made out to my child\n",
      "Not in top 100\n",
      "945501: when do you take your children to the dentist\n",
      "Not in top 100\n",
      "444271: macy's pays how much for fireworks\n",
      "Not in top 100\n",
      "27892: at what age can a child choose to stop seeing non custodial parent\n",
      "Not in top 100\n",
      "337264: how old to work at papa murphy's\n",
      "Not in top 100\n",
      "499182: skyrim is playing through the speakers instead of headphones\n",
      "Not in top 100\n",
      "952183: when is the best time to apply for the free 15 hour childcare for two year olds\n",
      "Not in top 100\n",
      "686544: what is a healthy snack for kids\n",
      "Not in top 100\n",
      "550611: what age did mlk becomes spokesman for the montgomery boycott\n",
      "Not in top 100\n",
      "28329: at what age do you start taking your child to the dentist\n",
      "Not in top 100\n",
      "566289: what are stimulant drugs for kids\n",
      "Not in top 100\n",
      "96383: compromise is\n",
      "Not in top 100\n",
      "957313: when was dave and busters established\n",
      "Not in top 100\n",
      "1018644: which resort is better for kids las cabos or puerto vallarta\n",
      "Not in top 100\n",
      "378415: how to say thank you for a proposal effort\n",
      "Not in top 100\n",
      "248202: how long do you have to pay child support pa\n",
      "Not in top 100\n",
      "737430: what is dapper\n",
      "Not in top 100\n",
      "958945: when was mommy dearest made\n",
      "Not in top 100\n",
      "460140: mr. french has been denied a job as a nanny solely because he is a male. this provides an example of\n",
      "Not in top 100\n",
      "62712: can a minor move out with parental consent\n",
      "Not in top 100\n",
      "866059: what kind is tdap given to adults\n",
      "Not in top 100\n",
      "551527: what age is it okay to leave kids home alone\n",
      "Not in top 100\n",
      "334642: how old is child to bring to dentist\n",
      "Not in top 100\n",
      "936160: when can a minor consent to treatment without parental consent in california\n",
      "Not in top 100\n",
      "222549: how do you give money to your kids without pay taxes\n",
      "Not in top 100\n",
      "114475: cusack danny glover movie\n",
      "Not in top 100\n",
      "1170373: stimulation is a noninvasive technique that involves stimulating the brain without subjecting depressed individuals to the undesired effects or trauma of ect.\n",
      "Not in top 100\n",
      "551580: what age is quack videos for\n",
      "Not in top 100\n",
      "333096: how old can urine be to be used for drug test for cocaine\n",
      "Not in top 100\n",
      "953914: when john adams gives henry clay a position in exchange for votes, this becomes known as the:\n",
      "Not in top 100\n",
      "9033: _____________ is clay that has been watered down to the consistency of paint. it was used primarily by the greeks to decorate and glue pieces together.\n",
      "Not in top 100\n",
      "115869: dazzle definition\n",
      "Not in top 100\n",
      "321036: how much is a mcdonald's franchise\n",
      "Not in top 100\n",
      "1140432: where to celebrate birthday dc no bars\n",
      "Not in top 100\n",
      "327462: how much should i charge to mind neighbours child before school\n",
      "Not in top 100\n",
      "955967: when to take toddler to dentist\n",
      "Not in top 100\n",
      "568466: what are the consequences of kids who's parents refuse to have them vaccinated\n",
      "Not in top 100\n",
      "116594: default is defined as failing to make payments on your loans for _____ days.\n",
      "Not in top 100\n",
      "337253: how old to work at family dollar\n",
      "Not in top 100\n",
      "189821: foods that trigger adhd in children\n",
      "Not in top 100\n",
      "550804: what age do kids stop daycare\n",
      "Not in top 100\n",
      "649285: what does the McKinney Vento Act say about the enrollment of homeless children in schools?\n"
     ]
    },
    {
     "ename": "KeyboardInterrupt",
     "evalue": "",
     "output_type": "error",
     "traceback": [
      "\u001b[0;31m---------------------------------------------------------------------------\u001b[0m",
      "\u001b[0;31mKeyboardInterrupt\u001b[0m                         Traceback (most recent call last)",
      "\u001b[0;32m<ipython-input-12-4e98d5f32f50>\u001b[0m in \u001b[0;36m<module>\u001b[0;34m\u001b[0m\n\u001b[0;32m----> 1\u001b[0;31m \u001b[0mrankings_eg\u001b[0m\u001b[0;34m,\u001b[0m \u001b[0mscores_eg\u001b[0m \u001b[0;34m=\u001b[0m \u001b[0mdisplay_random_example\u001b[0m\u001b[0;34m(\u001b[0m\u001b[0;36m100\u001b[0m\u001b[0;34m,\u001b[0m\u001b[0;36m100\u001b[0m\u001b[0;34m,\u001b[0m\u001b[0;32mTrue\u001b[0m\u001b[0;34m,\u001b[0m\u001b[0meg_pid_original\u001b[0m\u001b[0;34m)\u001b[0m\u001b[0;34m\u001b[0m\u001b[0;34m\u001b[0m\u001b[0m\n\u001b[0m",
      "\u001b[0;32m<ipython-input-11-040f36153795>\u001b[0m in \u001b[0;36mdisplay_random_example\u001b[0;34m(RANK, RANK_f, output, random_option)\u001b[0m\n\u001b[1;32m     14\u001b[0m         \u001b[0mqid\u001b[0m \u001b[0;34m=\u001b[0m \u001b[0mquery_train_mapping\u001b[0m\u001b[0;34m[\u001b[0m\u001b[0mq\u001b[0m\u001b[0;34m]\u001b[0m\u001b[0;34m\u001b[0m\u001b[0;34m\u001b[0m\u001b[0m\n\u001b[1;32m     15\u001b[0m         \u001b[0mprint\u001b[0m\u001b[0;34m(\u001b[0m\u001b[0;34m\"{}: {}\"\u001b[0m\u001b[0;34m.\u001b[0m\u001b[0mformat\u001b[0m\u001b[0;34m(\u001b[0m\u001b[0mqid\u001b[0m\u001b[0;34m,\u001b[0m \u001b[0mqueries_text_dict\u001b[0m\u001b[0;34m[\u001b[0m\u001b[0mqid\u001b[0m\u001b[0;34m]\u001b[0m\u001b[0;34m)\u001b[0m\u001b[0;34m)\u001b[0m\u001b[0;34m\u001b[0m\u001b[0;34m\u001b[0m\u001b[0m\n\u001b[0;32m---> 16\u001b[0;31m         \u001b[0mnear_scores_p\u001b[0m\u001b[0;34m,\u001b[0m \u001b[0mnear_passages\u001b[0m \u001b[0;34m=\u001b[0m \u001b[0mpassage_index\u001b[0m\u001b[0;34m.\u001b[0m\u001b[0msearch\u001b[0m\u001b[0;34m(\u001b[0m\u001b[0mnp\u001b[0m\u001b[0;34m.\u001b[0m\u001b[0marray\u001b[0m\u001b[0;34m(\u001b[0m\u001b[0;34m[\u001b[0m\u001b[0mquery_train_embeddings\u001b[0m\u001b[0;34m[\u001b[0m\u001b[0mq\u001b[0m\u001b[0;34m]\u001b[0m\u001b[0;34m]\u001b[0m\u001b[0;34m)\u001b[0m\u001b[0;34m,\u001b[0m \u001b[0mRANK_f\u001b[0m\u001b[0;34m)\u001b[0m\u001b[0;34m\u001b[0m\u001b[0;34m\u001b[0m\u001b[0m\n\u001b[0m\u001b[1;32m     17\u001b[0m         \u001b[0mtemp_rank\u001b[0m \u001b[0;34m=\u001b[0m \u001b[0;32mNone\u001b[0m\u001b[0;34m\u001b[0m\u001b[0;34m\u001b[0m\u001b[0m\n\u001b[1;32m     18\u001b[0m         \u001b[0;32mfor\u001b[0m \u001b[0mj\u001b[0m \u001b[0;32min\u001b[0m \u001b[0mrange\u001b[0m\u001b[0;34m(\u001b[0m\u001b[0mRANK_f\u001b[0m\u001b[0;34m)\u001b[0m\u001b[0;34m:\u001b[0m\u001b[0;34m\u001b[0m\u001b[0;34m\u001b[0m\u001b[0m\n",
      "\u001b[0;32m~/.local/lib/python3.7/site-packages/faiss/__init__.py\u001b[0m in \u001b[0;36mreplacement_search\u001b[0;34m(self, x, k)\u001b[0m\n\u001b[1;32m    164\u001b[0m         self.search_c(n, swig_ptr(x),\n\u001b[1;32m    165\u001b[0m                       \u001b[0mk\u001b[0m\u001b[0;34m,\u001b[0m \u001b[0mswig_ptr\u001b[0m\u001b[0;34m(\u001b[0m\u001b[0mdistances\u001b[0m\u001b[0;34m)\u001b[0m\u001b[0;34m,\u001b[0m\u001b[0;34m\u001b[0m\u001b[0;34m\u001b[0m\u001b[0m\n\u001b[0;32m--> 166\u001b[0;31m                       swig_ptr(labels))\n\u001b[0m\u001b[1;32m    167\u001b[0m         \u001b[0;32mreturn\u001b[0m \u001b[0mdistances\u001b[0m\u001b[0;34m,\u001b[0m \u001b[0mlabels\u001b[0m\u001b[0;34m\u001b[0m\u001b[0;34m\u001b[0m\u001b[0m\n\u001b[1;32m    168\u001b[0m \u001b[0;34m\u001b[0m\u001b[0m\n",
      "\u001b[0;32m~/.local/lib/python3.7/site-packages/faiss/swigfaiss.py\u001b[0m in \u001b[0;36msearch\u001b[0;34m(self, n, x, k, distances, labels)\u001b[0m\n\u001b[1;32m   1458\u001b[0m \u001b[0;34m\u001b[0m\u001b[0m\n\u001b[1;32m   1459\u001b[0m     \u001b[0;32mdef\u001b[0m \u001b[0msearch\u001b[0m\u001b[0;34m(\u001b[0m\u001b[0mself\u001b[0m\u001b[0;34m,\u001b[0m \u001b[0mn\u001b[0m\u001b[0;34m,\u001b[0m \u001b[0mx\u001b[0m\u001b[0;34m,\u001b[0m \u001b[0mk\u001b[0m\u001b[0;34m,\u001b[0m \u001b[0mdistances\u001b[0m\u001b[0;34m,\u001b[0m \u001b[0mlabels\u001b[0m\u001b[0;34m)\u001b[0m\u001b[0;34m:\u001b[0m\u001b[0;34m\u001b[0m\u001b[0;34m\u001b[0m\u001b[0m\n\u001b[0;32m-> 1460\u001b[0;31m         \u001b[0;32mreturn\u001b[0m \u001b[0m_swigfaiss\u001b[0m\u001b[0;34m.\u001b[0m\u001b[0mIndexFlat_search\u001b[0m\u001b[0;34m(\u001b[0m\u001b[0mself\u001b[0m\u001b[0;34m,\u001b[0m \u001b[0mn\u001b[0m\u001b[0;34m,\u001b[0m \u001b[0mx\u001b[0m\u001b[0;34m,\u001b[0m \u001b[0mk\u001b[0m\u001b[0;34m,\u001b[0m \u001b[0mdistances\u001b[0m\u001b[0;34m,\u001b[0m \u001b[0mlabels\u001b[0m\u001b[0;34m)\u001b[0m\u001b[0;34m\u001b[0m\u001b[0;34m\u001b[0m\u001b[0m\n\u001b[0m\u001b[1;32m   1461\u001b[0m \u001b[0;34m\u001b[0m\u001b[0m\n\u001b[1;32m   1462\u001b[0m     \u001b[0;32mdef\u001b[0m \u001b[0mrange_search\u001b[0m\u001b[0;34m(\u001b[0m\u001b[0mself\u001b[0m\u001b[0;34m,\u001b[0m \u001b[0mn\u001b[0m\u001b[0;34m,\u001b[0m \u001b[0mx\u001b[0m\u001b[0;34m,\u001b[0m \u001b[0mradius\u001b[0m\u001b[0;34m,\u001b[0m \u001b[0mresult\u001b[0m\u001b[0;34m)\u001b[0m\u001b[0;34m:\u001b[0m\u001b[0;34m\u001b[0m\u001b[0;34m\u001b[0m\u001b[0m\n",
      "\u001b[0;31mKeyboardInterrupt\u001b[0m: "
     ]
    }
   ],
   "source": [
    "# 1704661 (5855717)\n",
    "rankings_eg, scores_eg = display_random_example(100,100,True,eg_pid_original)"
   ]
  },
  {
   "cell_type": "code",
   "execution_count": 167,
   "metadata": {},
   "outputs": [
    {
     "data": {
      "text/plain": [
       "{}"
      ]
     },
     "execution_count": 167,
     "metadata": {},
     "output_type": "execute_result"
    }
   ],
   "source": [
    "true_dict_100.get(1704661,{})"
   ]
  },
  {
   "cell_type": "code",
   "execution_count": 50,
   "metadata": {},
   "outputs": [
    {
     "name": "stdout",
     "output_type": "stream",
     "text": [
      "2736776:The donut or temp spare tire became popular in the 90s as a temporary replacement for blown or damaged tires. Made for light travel and, ideally, short distances, the temp spare can get you out of a tough spot and back on track to safety if you have trouble on the road.\n",
      "1180119: how long does temporary spare tire last\n",
      "Not in top 10\n",
      "681888: what is a donut?\n",
      "Not in top 10\n",
      "674107: what is a bald tire?\n",
      "Not in top 10\n",
      "848033: what is the standard donut size\n",
      "Not in top 10\n",
      "948791: when donuts were invented\n",
      "Not in top 10\n",
      "681886: what is a donut peach\n",
      "Not in top 10\n",
      "681875: what is a donabe\n",
      "Not in top 10\n",
      "1157346: what is a trivet for\n",
      "Not in top 10\n",
      "700257: what is a skort\n",
      "Not in top 10\n",
      "1147514: daylight donuts originated where\n",
      "Not in top 10\n"
     ]
    }
   ],
   "source": [
    "display_random_example(10)"
   ]
  },
  {
   "cell_type": "code",
   "execution_count": 168,
   "metadata": {},
   "outputs": [
    {
     "data": {
      "text/plain": [
       "{681888: 91, 674107: 60}"
      ]
     },
     "execution_count": 168,
     "metadata": {},
     "output_type": "execute_result"
    }
   ],
   "source": [
    "true_dict_100.get(2736776, {})"
   ]
  },
  {
   "cell_type": "code",
   "execution_count": 54,
   "metadata": {},
   "outputs": [
    {
     "name": "stdout",
     "output_type": "stream",
     "text": [
      "2755790:65.77 Acres Union Mills, Rutherford County, North Carolina. $1,399,000. The Discovery Center @ Queens Gap is an 8000 square foot, custom designed, multi-purpose facility on 65 prime mountain acres, located in the Blue Ridge Mountains, just off US Hwy 221 & I-40, near Asheville, Marion and Rutherfordton NC.\n",
      "1003638: where was the cumberland iron works rolling mill in stewart county tennessee\n",
      "30 709.9934\n",
      "996511: where is the madison mills area in columbus ohio\n",
      "49 707.7818\n",
      "1182301: hoa fee in quail meadow, martin downs golf club\n",
      "Not in top 100\n",
      "548186: wells fargo locations in colonial heights va\n",
      "33 707.6195\n",
      "804142: what is the address for the winn-dixie on fort caroline road\n",
      "42 707.25574\n",
      "474874: phone number to central sunbelt federal credit union on westover drive in hattiesburg mississippi\n",
      "Not in top 100\n",
      "980420: where is concord mills?\n",
      "33 707.1439\n",
      "1171571: price of gmc canyon pickup\n",
      "Not in top 100\n",
      "727955: what is caresource bronze indiana\n",
      "28 706.8163\n",
      "604058: what county is cedar mill oregon is\n",
      "66 706.8052\n"
     ]
    }
   ],
   "source": [
    "display_random_example(10,100)"
   ]
  },
  {
   "cell_type": "code",
   "execution_count": 169,
   "metadata": {},
   "outputs": [
    {
     "data": {
      "text/plain": [
       "{1156009: 46,\n",
       " 613183: 94,\n",
       " 1167312: 31,\n",
       " 982861: 54,\n",
       " 518327: 92,\n",
       " 991500: 94,\n",
       " 430523: 91,\n",
       " 845683: 67,\n",
       " 996511: 50,\n",
       " 805250: 84,\n",
       " 1141298: 65,\n",
       " 979344: 95,\n",
       " 982639: 9,\n",
       " 601537: 77,\n",
       " 181640: 87,\n",
       " 1003781: 56,\n",
       " 980179: 28,\n",
       " 621600: 15,\n",
       " 480396: 33,\n",
       " 727955: 29,\n",
       " 606025: 98,\n",
       " 611884: 36,\n",
       " 393904: 68,\n",
       " 96580: 88,\n",
       " 1141878: 43,\n",
       " 93542: 31,\n",
       " 436276: 69,\n",
       " 604010: 42,\n",
       " 442892: 82,\n",
       " 897164: 84,\n",
       " 966981: 73,\n",
       " 604757: 89,\n",
       " 980536: 84,\n",
       " 514721: 17,\n",
       " 57987: 33,\n",
       " 92859: 66,\n",
       " 603163: 49,\n",
       " 989180: 48,\n",
       " 995369: 54,\n",
       " 845731: 76,\n",
       " 979871: 74,\n",
       " 274290: 47,\n",
       " 604521: 70,\n",
       " 1163540: 10,\n",
       " 612173: 69,\n",
       " 604632: 78,\n",
       " 804142: 43,\n",
       " 302211: 26,\n",
       " 965893: 63,\n",
       " 980420: 34,\n",
       " 1151571: 34,\n",
       " 275671: 29,\n",
       " 604703: 20,\n",
       " 605002: 7,\n",
       " 99414: 61,\n",
       " 512433: 23,\n",
       " 100198: 67,\n",
       " 82233: 31,\n",
       " 486215: 62,\n",
       " 1140584: 37,\n",
       " 230806: 93,\n",
       " 897636: 57,\n",
       " 991194: 53,\n",
       " 604511: 81,\n",
       " 613613: 38,\n",
       " 604679: 85,\n",
       " 606054: 81,\n",
       " 99049: 53,\n",
       " 285515: 91,\n",
       " 480688: 73,\n",
       " 1167383: 8,\n",
       " 606415: 100,\n",
       " 604058: 67,\n",
       " 548186: 34,\n",
       " 99905: 29,\n",
       " 491247: 88,\n",
       " 604674: 83,\n",
       " 604541: 92,\n",
       " 615072: 89,\n",
       " 613955: 22,\n",
       " 989317: 84,\n",
       " 845553: 81,\n",
       " 518043: 70,\n",
       " 887322: 28,\n",
       " 477489: 98,\n",
       " 610379: 100,\n",
       " 980643: 97,\n",
       " 1158250: 19,\n",
       " 610380: 68,\n",
       " 1003638: 31,\n",
       " 607507: 17,\n",
       " 535414: 77,\n",
       " 61419: 92}"
      ]
     },
     "execution_count": 169,
     "metadata": {},
     "output_type": "execute_result"
    }
   ],
   "source": [
    "true_dict_100.get(2755790, {})"
   ]
  },
  {
   "cell_type": "code",
   "execution_count": 55,
   "metadata": {},
   "outputs": [
    {
     "name": "stdout",
     "output_type": "stream",
     "text": [
      "6793030:Health Savings Account Advantages: Contributions to the HSA are 100% deductible (up to the legal limit) â just like an IRA. Withdrawals to pay qualified medical expenses, including dental and vision, are never taxed.\n",
      "687187: what is a hsa health savings account\n",
      "Not in top 100\n",
      "617273: what deductible qualifies for a HSA\n",
      "66 707.3962\n",
      "832817: what is the minimum deductible for an hsa\n",
      "Not in top 100\n",
      "50888: benefits of hsa accounts\n",
      "26 706.4033\n",
      "838847: what is the penalty for using hsa distributions to pay non-qualified expenses\n",
      "Not in top 100\n",
      "1032527: who is eligible for a health savings account\n",
      "15 706.23895\n",
      "22977: are hsa accounts tax free\n",
      "15 705.8961\n",
      "24154: are payments made for medical expenses from hsa taxable income\n",
      "Not in top 100\n",
      "686454: what is a health care savings account\n",
      "Not in top 100\n",
      "755985: what is hsa medical insurance\n",
      "Not in top 100\n"
     ]
    }
   ],
   "source": [
    "display_random_example(10,100)"
   ]
  },
  {
   "cell_type": "code",
   "execution_count": 170,
   "metadata": {},
   "outputs": [
    {
     "data": {
      "text/plain": [
       "{412533: 16,\n",
       " 50888: 27,\n",
       " 389100: 99,\n",
       " 156605: 18,\n",
       " 22977: 16,\n",
       " 412534: 47,\n",
       " 617273: 67,\n",
       " 1032527: 16,\n",
       " 22912: 33,\n",
       " 440224: 67,\n",
       " 50265: 22}"
      ]
     },
     "execution_count": 170,
     "metadata": {},
     "output_type": "execute_result"
    }
   ],
   "source": [
    "true_dict_100.get(6793030, {})"
   ]
  },
  {
   "cell_type": "code",
   "execution_count": 96,
   "metadata": {},
   "outputs": [
    {
     "name": "stdout",
     "output_type": "stream",
     "text": [
      "7920566 (6326271):Clarke County is a county located in the U.S. state of Mississippi. As of the 2010 census, the population was 16,732. Its county seat is Quitman. Clarke County is named for Joshua G. Clarke, the first Mississippi state chancellor and judge. The county is part of the Meridian, MS Micropolitan Statistical Area.\n",
      "604486: what county is coleman tx\n",
      "33 707.8198\n",
      "94481: coleman texas is in what county\n",
      "69 706.96155\n",
      "839828: what is the population of coleman tx\n",
      "24 706.86816\n",
      "839844: what is the population of cullman county alabama\n",
      "67 706.8543\n",
      "611735: what county is quitman tx in\n",
      "52 706.74396\n",
      "604836: what county is cullman alabama\n",
      "58 706.7277\n",
      "611734: what county is quitman tx\n",
      "55 706.5894\n",
      "477447: population of clark county\n",
      "27 706.4069\n",
      "986616: where is lincoln county\n",
      "Not in top 100\n",
      "604771: what county is creighton pa\n",
      "Not in top 100\n",
      "604485: what county is coleman ok in\n",
      "40 705.62384\n",
      "601875: what county chinle az\n",
      "7 705.43024\n",
      "603925: what county is carlton ga\n",
      "Not in top 100\n",
      "604298: what county is clanton in\n",
      "Not in top 100\n",
      "1140689: where is the carlisle county ky courthouse\n",
      "48 705.2258\n",
      "608094: what county is kyle texas\n",
      "Not in top 100\n",
      "608095: what county is kyle tx\n",
      "Not in top 100\n",
      "603914: what county is carlisle ky in\n",
      "45 705.1041\n",
      "990179: where is parke county indiana\n",
      "Not in top 100\n",
      "607984: what county is kettleman city ca in\n",
      "93 704.9426\n",
      "1159670: chapman kansas population\n",
      "10 704.91815\n",
      "477486: population of cooke county texas\n",
      "Not in top 100\n",
      "113016: crowell is seat of what county\n",
      "Not in top 100\n",
      "604415: what county is clinch georgia\n",
      "45 704.6386\n",
      "1168390: cahokia was the largest settlement of the mississippi people\n",
      "Not in top 100\n",
      "1158196: clackamas county population\n",
      "38 704.45746\n",
      "608518: what county is lehighton in\n",
      "Not in top 100\n",
      "604532: what county is colton in\n",
      "Not in top 100\n",
      "980427: where is conecuh county\n",
      "42 704.2976\n",
      "604404: what county is clewiston\n",
      "Not in top 100\n",
      "987577: where is mckean county pa\n",
      "79 704.2361\n",
      "603000: what county is belle fourche sd in\n",
      "Not in top 100\n",
      "477437: population of christian county kentucky\n",
      "Not in top 100\n",
      "608918: what county is lynchburg oh in\n",
      "Not in top 100\n",
      "990794: where is poplar wisconsin\n",
      "Not in top 100\n",
      "613219: what county is starke in\n",
      "Not in top 100\n",
      "595875: what city is clarion county in pa\n",
      "Not in top 100\n",
      "604072: what county is celina, ohio\n",
      "Not in top 100\n",
      "611141: what county is pembroke,nc located\n",
      "82 704.05884\n",
      "611115: what county is pearl in mississippi in\n",
      "Not in top 100\n",
      "604329: what county is claude texas in\n",
      "Not in top 100\n",
      "603774: what county is cabela's hoffman estates il\n",
      "Not in top 100\n",
      "986757: where is locke ny\n",
      "Not in top 100\n",
      "477450: population of clark county nevada\n",
      "Not in top 100\n",
      "1163868: what county is hindman ky in\n",
      "Not in top 100\n",
      "991253: where is quitman, ms\n",
      "35 703.822\n",
      "472829: pembroke nc what county\n",
      "86 703.82196\n",
      "603490: what county is briarcliff manor in\n",
      "Not in top 100\n",
      "608051: what county is kinston, nc in\n",
      "Not in top 100\n",
      "1008007: which county sherman oaks is located\n",
      "Not in top 100\n",
      "1164029: what county is cordele ga\n",
      "Not in top 100\n",
      "986618: where is lincoln county mich\n",
      "Not in top 100\n",
      "604299: what county is clanton, al in\n",
      "Not in top 100\n",
      "980080: where is clark county jail in wisconsin\n",
      "Not in top 100\n",
      "990565: where is pike county al\n",
      "Not in top 100\n",
      "614225: what county is wallace\n",
      "Not in top 100\n",
      "604318: what county is clarkston mi in\n",
      "Not in top 100\n",
      "604533: what county is colton in?\n",
      "Not in top 100\n",
      "1174284: largest town accomack county\n",
      "Not in top 100\n",
      "607900: what county is kck\n",
      "Not in top 100\n",
      "477953: population of milwaukee county\n",
      "Not in top 100\n",
      "93657: clymer pa population\n",
      "88 703.5793\n",
      "603906: what county is cardiff\n",
      "Not in top 100\n",
      "957193: when was coke founded\n",
      "Not in top 100\n",
      "604106: what county is chadwick mo in\n",
      "Not in top 100\n",
      "604237: what county is chipley fl\n",
      "Not in top 100\n",
      "604320: what county is clarkston wa\n",
      "Not in top 100\n",
      "93002: claiborne county tn population\n",
      "Not in top 100\n",
      "980288: where is cole county mo\n",
      "Not in top 100\n",
      "605236: what county is drake colorado\n",
      "Not in top 100\n",
      "986474: where is lehighton pa\n",
      "Not in top 100\n",
      "1164037: what county is clewiston in?\n",
      "Not in top 100\n",
      "839818: what is the population of cecil,wi\n",
      "Not in top 100\n",
      "604312: what county is clarkia, idaho in\n",
      "Not in top 100\n",
      "477321: population of belle fourche sd\n",
      "Not in top 100\n",
      "614460: what county is welch, mn in\n",
      "Not in top 100\n",
      "604331: what county is clawson, mi in\n",
      "Not in top 100\n",
      "604834: what county is culleoka tn in\n",
      "Not in top 100\n",
      "608519: what county is lehighton, pa in\n",
      "Not in top 100\n",
      "604317: what county is clarkson, nebraska in\n",
      "Not in top 100\n",
      "602558: what county is armstrong creek, wi\n",
      "Not in top 100\n",
      "1007835: which county is chaska mn\n",
      "Not in top 100\n",
      "1171776: population of hickman county ky\n",
      "Not in top 100\n",
      "980389: where is comal county in missouri\n",
      "Not in top 100\n",
      "604847: what county is cumberland wisconsin in\n",
      "Not in top 100\n",
      "952585: when is the carlton county fair\n",
      "Not in top 100\n",
      "980101: where is claxton, ga\n",
      "Not in top 100\n",
      "477409: population of cass county nebraska\n",
      "Not in top 100\n",
      "477862: population of lynchburg\n",
      "Not in top 100\n",
      "604846: what county is cumberland wi\n",
      "Not in top 100\n",
      "985665: where is kaufman county\n",
      "Not in top 100\n",
      "986619: where is lincoln county wa\n",
      "Not in top 100\n",
      "1141289: where is charlotte county,\n",
      "Not in top 100\n",
      "1163804: what county is lincolnwood\n",
      "Not in top 100\n",
      "603910: what county is carl junction mo\n",
      "Not in top 100\n",
      "1003638: where was the cumberland iron works rolling mill in stewart county tennessee\n",
      "Not in top 100\n",
      "604811: what county is crowley, tx\n",
      "Not in top 100\n",
      "794318: what is scotland county laurinburg nc target population\n",
      "Not in top 100\n",
      "611763: what county is randleman nc\n",
      "Not in top 100\n",
      "603953: what county is carney oklahoma in\n",
      "Not in top 100\n"
     ]
    }
   ],
   "source": [
    "# 7920566 (6326271)\n",
    "rankings, scores = display_random_example(100,100,True,6326271)"
   ]
  },
  {
   "cell_type": "code",
   "execution_count": 94,
   "metadata": {},
   "outputs": [
    {
     "name": "stdout",
     "output_type": "stream",
     "text": [
      "2798791 (2021611):Hannity, a Fox News programming staple since 2008, will be replaced by a new, yet-to-be-named animated news and current events show produced by Seth MacFarlane, creator and producer of Family Guy, and American Dad. âThis is a business,â remarked Ailes, when questioned outside Fox News Headquarters in New York. â Hannity was great, it performed well, but numbers were going down. People get tired of hearing the same old complaints. Maybe weâll open up a spot for Sean if Hillary gets elected.\n",
      "495428: shameless is on what channel\n",
      "Not in top 100\n",
      "1137347: who was sunshine on hee haw\n",
      "Not in top 100\n",
      "1145268: what tv shows has seth macfarlane been on\n",
      "19 705.90704\n",
      "1046863: who played johnny fontaine in godfather\n",
      "Not in top 100\n",
      "1053593: who was charles henry wilson from hull\n",
      "Not in top 100\n",
      "495431: shameless what channel\n",
      "95 705.12744\n",
      "956431: when was Aerosmith and Tom hanks were on saturday night live\n",
      "Not in top 100\n",
      "1046451: who played calamity jane in deadwood\n",
      "Not in top 100\n",
      "1044719: who narrates dark net showtime\n",
      "Not in top 100\n",
      "1139071: who created the show saturday night live?yyyyyyyyyyyyyyyyyyyyyyyyyyyyyyyyyyy\n",
      "Not in top 100\n",
      "114475: cusack danny glover movie\n",
      "Not in top 100\n",
      "205664: host of the first season of american idol\n",
      "Not in top 100\n",
      "9777: abc/wb sitcom that featured tia and tamera mowry\n",
      "Not in top 100\n",
      "1048609: who plays starchild in glee\n",
      "Not in top 100\n",
      "1038239: who is sean hannity?\n",
      "Not in top 100\n",
      "1038439: who is simon haley\n",
      "Not in top 100\n",
      "1163128: cast of hush\n",
      "Not in top 100\n",
      "12268: aetna ceo says obamacare in death spiral\n",
      "Not in top 100\n",
      "1043449: who made the batmobile for tv\n",
      "Not in top 100\n",
      "894316: what show was morgan fairchild on\n",
      "89 704.1521\n",
      "794534: what is sean hannity's viewership\n",
      "91 704.089\n",
      "892896: what season of family guy is wasted talent\n",
      "Not in top 100\n",
      "1032165: who is directing kong skull island\n",
      "Not in top 100\n",
      "1038301: who is seth macfarlane\n",
      "Not in top 100\n",
      "1047824: who plays cody on suite life on deck\n",
      "Not in top 100\n",
      "1046437: who played boss drew carey show\n",
      "Not in top 100\n",
      "1048044: who plays holtzman in ghostbusters\n",
      "Not in top 100\n",
      "1046549: who played daniel faraday on tv series lost\n",
      "Not in top 100\n",
      "1046837: who played jenny on charmed\n",
      "Not in top 100\n",
      "1031204: who is ceo of underwriters labs?\n",
      "Not in top 100\n",
      "1047342: who played the headless horseman with johnny depp\n",
      "Not in top 100\n",
      "1046407: who played becky on full house\n",
      "Not in top 100\n",
      "1046862: who played johnny dollar\n",
      "Not in top 100\n",
      "737817: what is debbie wasserman schultz the chairman of the dnc campaign\n",
      "Not in top 100\n",
      "928883: what years did bob saget host afv\n",
      "Not in top 100\n",
      "1048040: who plays henry turner\n",
      "Not in top 100\n",
      "1036521: who is nick hanauer\n",
      "Not in top 100\n",
      "894271: what show is ashley benson on\n",
      "Not in top 100\n",
      "1048599: who plays sonny on days of our lives\n",
      "Not in top 100\n",
      "1045931: who owns the television show jeopardy\n",
      "Not in top 100\n",
      "541295: was young and hungry cancelled\n",
      "Not in top 100\n",
      "1041132: who is the new host of american idol\n",
      "Not in top 100\n",
      "1052552: who stars in the hunger games:mockingjay\n",
      "Not in top 100\n",
      "446143: maude was a spin off of what show\n",
      "Not in top 100\n",
      "1138819: who is archer fate ubl\n",
      "Not in top 100\n",
      "1048153: who plays jon snow\n",
      "Not in top 100\n",
      "1052437: who starred in rage at dawn\n",
      "Not in top 100\n",
      "1048246: who plays lobster boy in ahs\n",
      "Not in top 100\n",
      "1025894: who created the series wentworth\n",
      "Not in top 100\n",
      "1026807: who directed sherlock bbc\n",
      "Not in top 100\n",
      "402242: is american horror story canceled\n",
      "Not in top 100\n",
      "1146346: what series are on hbo right now\n",
      "Not in top 100\n",
      "10897: actor who played tony on 24\n",
      "Not in top 100\n",
      "191360: fox sitcom about a bachelor who has a son with a baby\n",
      "Not in top 100\n",
      "83476: cast of nicky ricky dicky and dawn\n",
      "Not in top 100\n",
      "1048407: who plays nute scamander\n",
      "Not in top 100\n",
      "1048874: who plays young captain jack sparrow in dead men tell no tales\n",
      "Not in top 100\n",
      "92184: chris harrison executive producer\n",
      "61 703.12286\n",
      "1032918: who is founder of weather channel\n",
      "Not in top 100\n",
      "1055620: who was the actor that played nelson on full house\n",
      "Not in top 100\n",
      "1031787: who is current fed chairman\n",
      "Not in top 100\n",
      "1046439: who played brighton sheffield on the nanny\n",
      "Not in top 100\n",
      "1048222: who plays leanne harvey on house of cards\n",
      "Not in top 100\n",
      "83271: cast of american gods on starz\n",
      "Not in top 100\n",
      "1048094: who plays jacob nighthorse\n",
      "Not in top 100\n",
      "881890: what news anchor was fired for lying\n",
      "Not in top 100\n",
      "1047091: who played peterman on seinfeld\n",
      "Not in top 100\n",
      "1046447: who played bull hurley\n",
      "Not in top 100\n",
      "1035559: who is madge rothschild?\n",
      "Not in top 100\n",
      "879552: what movies was glenn headley in\n",
      "Not in top 100\n",
      "1037454: who is reddit co-founder\n",
      "Not in top 100\n",
      "1043330: who made gideon in the flash\n",
      "Not in top 100\n",
      "1040244: who is the founder of breitbart\n",
      "Not in top 100\n",
      "1025934: who created the work impression: sunrise?\n",
      "Not in top 100\n",
      "937246: when did andrew witty become ceo of gsk\n",
      "Not in top 100\n",
      "4644: Is Claudia Jordan still on dish network?\n",
      "Not in top 100\n",
      "1041523: who is the producer of nbc news\n",
      "Not in top 100\n",
      "1048399: who plays neil caffrey\n",
      "Not in top 100\n",
      "1046656: who played flagg on tv series mash\n",
      "Not in top 100\n",
      "83521: cast of show matlock\n",
      "Not in top 100\n",
      "206787: how Irving is being satirical in the story called the devil and tom walker\n",
      "Not in top 100\n",
      "1024099: who are the creators of uber\n",
      "Not in top 100\n",
      "1046742: who played henry blake on mash\n",
      "Not in top 100\n",
      "836287: what is the new tv series with a gay son\n",
      "Not in top 100\n",
      "1054127: who was gremlins producer\n",
      "Not in top 100\n",
      "880804: what nationality is patrick süskind, famous author of the novel 'perfume'?\n",
      "Not in top 100\n",
      "794601: what is sebastian gorka's title at white house\n",
      "Not in top 100\n",
      "894300: what show stars christopher connelly and jodie foster\n",
      "Not in top 100\n",
      "1025902: who created the spawn comic book\n",
      "Not in top 100\n",
      "1059398: who wrote ugly for fantasia\n",
      "Not in top 100\n",
      "261792: how long has the simpsons been running\n",
      "Not in top 100\n",
      "83439: cast of maverick tv series\n",
      "Not in top 100\n",
      "1037952: who is running cnn\n",
      "Not in top 100\n",
      "1046748: who played hot lips houlihan on the original movie mash\n",
      "Not in top 100\n",
      "1031490: who is cnn's white house correspondent\n",
      "Not in top 100\n",
      "525948: tyler the creator yonkers\n",
      "Not in top 100\n",
      "1037356: who is rachel w. from nissan commercials\n",
      "Not in top 100\n",
      "1047462: who played trapper john on mash?\n",
      "Not in top 100\n",
      "1028509: who hosts the family feud\n",
      "Not in top 100\n",
      "1175775: huck scandal character\n",
      "Not in top 100\n"
     ]
    }
   ],
   "source": [
    "# 2798791 (2021611)\n",
    "rankings2, scores2 = display_random_example(100,100,True)"
   ]
  },
  {
   "cell_type": "code",
   "execution_count": 100,
   "metadata": {},
   "outputs": [
    {
     "name": "stdout",
     "output_type": "stream",
     "text": [
      "3916969 (2609168):Kepler-62f is only 40 percent larger than Earth, making it the exoplanet closest to the size of our planet known in the habitable zone of another star. Kepler-62f is likely to have a rocky composition.\n",
      "1154318: what is kepler exoplanet data\n",
      "11 709.018\n",
      "763065: what is kepler planet\n",
      "19 707.66364\n",
      "1149176: what is the smallest outer planet\n",
      "92 706.6144\n",
      "1017509: which planet is the brightest in the sky\n",
      "Not in top 100\n",
      "742270: what is earth's outer core thickness\n",
      "Not in top 100\n",
      "1017495: which planet is closest in size to earth\n",
      "80 705.4254\n",
      "1017513: which planet is the hottest in the solar system\n",
      "Not in top 100\n",
      "1017507: which planet is the brightest\n",
      "Not in top 100\n",
      "476117: pluto is the largest solar system object outside neptune\n",
      "Not in top 100\n",
      "1011978: which is the coldest planet\n",
      "Not in top 100\n",
      "209109: how big is earth's core\n",
      "Not in top 100\n",
      "235392: how hot are our planets\n",
      "Not in top 100\n",
      "820879: what is the farthest planet\n",
      "Not in top 100\n",
      "1017535: which planets are mostly ice\n",
      "Not in top 100\n",
      "209469: how big is the planet earth?\n",
      "Not in top 100\n",
      "811409: what is the closest dwarf planet to earth\n",
      "Not in top 100\n",
      "732075: what is coldest planet\n",
      "Not in top 100\n",
      "458267: most likely planets or moons to have life\n",
      "Not in top 100\n",
      "811056: what is the circumference of earth at the equator\n",
      "Not in top 100\n",
      "887171: what planet is brightest by the moon right now\n",
      "Not in top 100\n",
      "1017515: which planet is the smallest\n",
      "Not in top 100\n",
      "1017499: which planet is coldest\n",
      "Not in top 100\n",
      "302613: how much bigger is jupiter than earth area\n",
      "Not in top 100\n",
      "887172: what planet is closest to earth\n",
      "Not in top 100\n",
      "742261: what is earth's diameter in miles\n",
      "Not in top 100\n",
      "536268: venus size compared to earth\n",
      "Not in top 100\n",
      "212530: how deep is the exosphere\n",
      "Not in top 100\n",
      "823133: what is the furthest feature in our universe\n",
      "Not in top 100\n",
      "811436: what is the closest planet to the earth\n",
      "Not in top 100\n",
      "1646: 7th planet is closest to the sun\n",
      "Not in top 100\n",
      "512681: temperature of the exosphere\n",
      "Not in top 100\n",
      "851028: what is the thickness of the earth's outer core\n",
      "Not in top 100\n",
      "837602: what is the only dwarf planet to exist inside of the asteroid belt?\n",
      "Not in top 100\n",
      "931239: what's the closest planet to the earth\n",
      "Not in top 100\n",
      "909814: what two planets with the same surface as the earth\n",
      "Not in top 100\n",
      "533137: uranus is the what largest planet\n",
      "Not in top 100\n",
      "1017522: which planet takes the shortest time to orbit the earth\n",
      "Not in top 100\n",
      "1017497: which planet is closest to the asteroid belt\n",
      "Not in top 100\n",
      "776107: what is neptune size relative to earth (diameter-miles/km)\n",
      "Not in top 100\n",
      "887216: what planets formed the light gases of the outer solar nebula\n",
      "Not in top 100\n",
      "827131: what is the largest dwarf planet\n",
      "Not in top 100\n",
      "177308: earth is about the same size as\n",
      "Not in top 100\n",
      "847156: what is the smallest  planet ever discovered\n",
      "Not in top 100\n",
      "811042: what is the circle circumference of the earth\n",
      "Not in top 100\n",
      "825247: what is the hottest planet?\n",
      "Not in top 100\n",
      "739219: what is diameter of earth\n",
      "Not in top 100\n",
      "475750: planet earth is tilted approximately how many degrees\n",
      "Not in top 100\n",
      "887186: what planet is the largest in our solar system\n",
      "Not in top 100\n",
      "1149746: what is the planet's albedo?\n",
      "Not in top 100\n",
      "887207: what planets are inner space\n",
      "Not in top 100\n",
      "811923: what is the comparative size of the moon to the earth\n",
      "Not in top 100\n",
      "430781: is venus the hottest planet in the solar system\n",
      "Not in top 100\n",
      "847244: what is the smallest planet in the universe?\n",
      "Not in top 100\n",
      "1017486: which planet has the hottest surface temperature?\n",
      "Not in top 100\n",
      "828414: what is the light element found mostly in the outer planets\n",
      "Not in top 100\n",
      "816080: what is the diameter of the asteroid vesta\n",
      "Not in top 100\n",
      "835595: what is the name of the second biggest planet in our solar system?\n",
      "Not in top 100\n",
      "232488: how far is the mesosphere from earth surface\n",
      "Not in top 100\n",
      "835651: what is the name of the star that is closest to earth\n",
      "Not in top 100\n",
      "887208: what planets are known as gas giants\n",
      "Not in top 100\n",
      "200481: heaviest planet\n",
      "Not in top 100\n",
      "824222: what is the habitable zone of earth data\n",
      "Not in top 100\n",
      "53371: biggest planet to smallest planet\n",
      "Not in top 100\n",
      "209015: how big is betelgeuse\n",
      "Not in top 100\n",
      "209380: how big is the earth in circumference?\n",
      "Not in top 100\n",
      "847028: what is the size of planet neptune\n",
      "Not in top 100\n",
      "419090: is neptune the biggest planet\n",
      "Not in top 100\n",
      "1017504: which planet is smaller than earth\n",
      "Not in top 100\n",
      "209087: how big is earth\n",
      "Not in top 100\n",
      "209556: how big is xenoblade chronicles on disc\n",
      "Not in top 100\n",
      "475758: planet opposite orbit\n",
      "Not in top 100\n",
      "235549: how hot is the earth's inner core\n",
      "Not in top 100\n",
      "512651: temperature of planets\n",
      "Not in top 100\n",
      "1017472: which planet do most known extrasolar planets most resemble apex\n",
      "Not in top 100\n",
      "811574: what is the coldest planet called\n",
      "Not in top 100\n",
      "1139629: which planet has a tilted axis of rotation similar to that of earth. which means i has seasons. brainly\n",
      "Not in top 100\n",
      "820868: what is the farthest atmospheric zone from earth\n",
      "Not in top 100\n",
      "827323: what is the largest planet in solar system\n",
      "Not in top 100\n",
      "918737: what was lord kelvin estimate for the age of earth\n",
      "Not in top 100\n",
      "1017512: which planet is the goldilocks zone\n",
      "Not in top 100\n",
      "209175: how big is kennedy space\n",
      "Not in top 100\n",
      "827324: what is the largest planet known\n",
      "Not in top 100\n",
      "426074: is the crust the coolest part of earth\n",
      "Not in top 100\n",
      "1012807: which layer is earth's thinnest?\n",
      "Not in top 100\n",
      "209383: how big is the earth round\n",
      "Not in top 100\n",
      "569162: what are the dimensions of a keg\n",
      "Not in top 100\n",
      "834498: what is the name of a solar system planet that is like the earth?\n",
      "Not in top 100\n",
      "847000: what is the size of earths amfser\n",
      "Not in top 100\n",
      "887187: what planet is the largest in the universe\n",
      "Not in top 100\n",
      "515932: the equator divides the earth into halves called\n",
      "Not in top 100\n",
      "209532: how big is venus compared to earth\n",
      "Not in top 100\n",
      "409014: is earth the fifth largest planet\n",
      "Not in top 100\n",
      "209530: how big is uranus to earth\n",
      "Not in top 100\n",
      "321874: how much is coolsculpt for abdomen\n",
      "Not in top 100\n",
      "209458: how big is the observable universe\n",
      "Not in top 100\n",
      "209171: how big is kangaroo island\n",
      "Not in top 100\n",
      "932176: what's the largest planet in the solar system\n",
      "Not in top 100\n",
      "1017536: which planets are mostly made up of atmosphere\n",
      "Not in top 100\n",
      "765792: what is lighter a aluminum boat or fiberglass boat\n",
      "Not in top 100\n",
      "1017528: which planet's gravitational pull is closest to that of earth?\n",
      "Not in top 100\n"
     ]
    }
   ],
   "source": [
    "# rankings3, scores3\n",
    "rankings3, scores3 = display_random_example(100,100,True)"
   ]
  },
  {
   "cell_type": "markdown",
   "metadata": {},
   "source": [
    "## Visualization"
   ]
  },
  {
   "cell_type": "code",
   "execution_count": 97,
   "metadata": {},
   "outputs": [],
   "source": [
    "def visualize_score_rank(rankings, scores):\n",
    "    rankings = list(rankings.values())\n",
    "    scores = list(scores.values())\n",
    "    rank_list = []\n",
    "    score_list = []\n",
    "    rank_list_p = []\n",
    "    for i in range(len(rankings)):\n",
    "        if rankings[i][0] != 1000:\n",
    "            rank_list.append(rankings[i][0])\n",
    "            score_list.append(scores[i])\n",
    "            rank_list_p.append(rankings[i][1])\n",
    "    plt.xlabel(\"Dot Product\")\n",
    "    plt.ylabel(\"Rank\")\n",
    "    plt.scatter(score_list, rank_list)\n",
    "    plt.show()\n",
    "    plt.xlabel(\"Rank in Nearest Neighbor List\")\n",
    "    plt.ylabel(\"Rank\")\n",
    "    plt.scatter(rank_list_p, rank_list)\n",
    "    plt.show()"
   ]
  },
  {
   "cell_type": "code",
   "execution_count": 98,
   "metadata": {},
   "outputs": [
    {
     "data": {
      "image/png": "[encoded data removed]",
      "text/plain": [
       "<Figure size 432x288 with 1 Axes>"
      ]
     },
     "metadata": {
      "needs_background": "light"
     },
     "output_type": "display_data"
    },
    {
     "data": {
      "image/png": "[encoded data removed]",
      "text/plain": [
       "<Figure size 432x288 with 1 Axes>"
      ]
     },
     "metadata": {
      "needs_background": "light"
     },
     "output_type": "display_data"
    }
   ],
   "source": [
    "# 7920566 (6326271)\n",
    "visualize_score_rank(rankings2, scores2)"
   ]
  },
  {
   "cell_type": "code",
   "execution_count": 99,
   "metadata": {},
   "outputs": [
    {
     "data": {
      "image/png": "[encoded data removed]",
      "text/plain": [
       "<Figure size 432x288 with 1 Axes>"
      ]
     },
     "metadata": {
      "needs_background": "light"
     },
     "output_type": "display_data"
    },
    {
     "data": {
      "image/png": "[encoded data removed]",
      "text/plain": [
       "<Figure size 432x288 with 1 Axes>"
      ]
     },
     "metadata": {
      "needs_background": "light"
     },
     "output_type": "display_data"
    }
   ],
   "source": [
    "# 7920566 (6326271)\n",
    "visualize_score_rank(rankings, scores)"
   ]
  },
  {
   "cell_type": "code",
   "execution_count": 278,
   "metadata": {},
   "outputs": [],
   "source": [
    "def rank_vs_rank(pred_dict = pred_dict_100, k = 100):\n",
    "    near_rank = []\n",
    "    reverse_rank = []\n",
    "    for pid, qids in pred_dict.items():\n",
    "        ranking = list(qids.values())\n",
    "        for i, rank in enumerate(ranking):\n",
    "            if i >= k:\n",
    "                break\n",
    "            if rank != 0:\n",
    "                near_rank.append(i)\n",
    "                reverse_rank.append(rank)\n",
    "    plt.xlabel(\"Rank in Nearest Neighbor List\")\n",
    "    plt.ylabel(\"Retrieval Rank\")\n",
    "    plt.scatter(near_rank, reverse_rank, s=0.01)\n",
    "    plt.show()\n",
    "    plt.hist(reverse_rank, bins = 100)\n",
    "    plt.show()\n",
    "    return near_rank, reverse_rank"
   ]
  },
  {
   "cell_type": "code",
   "execution_count": 279,
   "metadata": {},
   "outputs": [
    {
     "data": {
      "image/png": "[encoded data removed]",
      "text/plain": [
       "<Figure size 432x288 with 1 Axes>"
      ]
     },
     "metadata": {
      "needs_background": "light"
     },
     "output_type": "display_data"
    },
    {
     "data": {
      "image/png": "[encoded data removed]",
      "text/plain": [
       "<Figure size 432x288 with 1 Axes>"
      ]
     },
     "metadata": {
      "needs_background": "light"
     },
     "output_type": "display_data"
    }
   ],
   "source": [
    "near_rank, reverse_rank = rank_vs_rank(k=100)"
   ]
  },
  {
   "cell_type": "code",
   "execution_count": 280,
   "metadata": {},
   "outputs": [
    {
     "data": {
      "image/png": "[encoded data removed]",
      "text/plain": [
       "<Figure size 432x288 with 1 Axes>"
      ]
     },
     "metadata": {
      "needs_background": "light"
     },
     "output_type": "display_data"
    },
    {
     "data": {
      "image/png": "[encoded data removed]",
      "text/plain": [
       "<Figure size 432x288 with 1 Axes>"
      ]
     },
     "metadata": {
      "needs_background": "light"
     },
     "output_type": "display_data"
    }
   ],
   "source": [
    "near_rank, reverse_rank = rank_vs_rank(k=10)"
   ]
  },
  {
   "cell_type": "markdown",
   "metadata": {},
   "source": [
    "# 2-D Visualization: PCA, t-SNE"
   ]
  },
  {
   "cell_type": "code",
   "execution_count": 281,
   "metadata": {},
   "outputs": [],
   "source": [
    "from sklearn.decomposition import PCA"
   ]
  },
  {
   "cell_type": "code",
   "execution_count": 358,
   "metadata": {},
   "outputs": [],
   "source": [
    "from sklearn.manifold import MDS\n",
    "from sklearn.manifold import TSNE"
   ]
  },
  {
   "cell_type": "code",
   "execution_count": 282,
   "metadata": {},
   "outputs": [
    {
     "name": "stdout",
     "output_type": "stream",
     "text": [
      "(9344762, 768)\n"
     ]
    }
   ],
   "source": [
    "all_embeddings = np.concatenate((passage_embeddings, query_train_embeddings), axis = 0)\n",
    "print(all_embeddings.shape)"
   ]
  },
  {
   "cell_type": "code",
   "execution_count": 283,
   "metadata": {},
   "outputs": [
    {
     "data": {
      "text/plain": [
       "PCA(copy=True, iterated_power='auto', n_components=2, random_state=None,\n",
       "    svd_solver='auto', tol=0.0, whiten=False)"
      ]
     },
     "execution_count": 283,
     "metadata": {},
     "output_type": "execute_result"
    }
   ],
   "source": [
    "pca = PCA(n_components=2)\n",
    "pca.fit(all_embeddings)"
   ]
  },
  {
   "cell_type": "code",
   "execution_count": 284,
   "metadata": {},
   "outputs": [
    {
     "name": "stdout",
     "output_type": "stream",
     "text": [
      "PCA Explained Variance: 7.9731%\n"
     ]
    }
   ],
   "source": [
    "print(\"PCA Explained Variance: {}%\".format(np.round(sum(pca.explained_variance_ratio_)*100, 4)))"
   ]
  },
  {
   "cell_type": "code",
   "execution_count": 285,
   "metadata": {},
   "outputs": [],
   "source": [
    "all_embeddings_pca = pca.transform(all_embeddings)"
   ]
  },
  {
   "cell_type": "code",
   "execution_count": 286,
   "metadata": {},
   "outputs": [
    {
     "data": {
      "text/plain": [
       "(9344762, 2)"
      ]
     },
     "execution_count": 286,
     "metadata": {},
     "output_type": "execute_result"
    }
   ],
   "source": [
    "all_embeddings_pca.shape"
   ]
  },
  {
   "cell_type": "code",
   "execution_count": 289,
   "metadata": {},
   "outputs": [],
   "source": [
    "passages_pca = all_embeddings_pca[:passage_embeddings.shape[0],:]"
   ]
  },
  {
   "cell_type": "code",
   "execution_count": 294,
   "metadata": {},
   "outputs": [],
   "source": [
    "queries_pca = all_embeddings_pca[passage_embeddings.shape[0]:,:]"
   ]
  },
  {
   "cell_type": "code",
   "execution_count": 724,
   "metadata": {},
   "outputs": [],
   "source": [
    "def pca_visualization(pid, true_dict=true_dict_100, forward_dict = forward_dict_100, query_index=query_index, \n",
    "                      passage_index=passage_index,original_passage_embed=passage_embeddings,\n",
    "                      original_query_embed=query_train_embeddings, query_embed=queries_pca, \n",
    "                      passage_embed=passages_pca, pid_mapping=pid_reverse_mapping, \n",
    "                      qid_mapping=qid_reverse_mapping, qid_forward_mapping=query_train_mapping, k=100, n=5, m=5):\n",
    "    pid_embed = pid_mapping[pid]\n",
    "    expose_dict = true_dict.get(pid)\n",
    "    expose_dict = {k: v for k, v in sorted(expose_dict.items(), key=lambda item: item[1])}\n",
    "    expose_qids = list(expose_dict.keys())\n",
    "    p_embed = original_passage_embed[pid_embed,:]\n",
    "    _, near_qids = query_index.search(np.array([p_embed]), k)\n",
    "    passage_2d = passage_embed[pid_embed]\n",
    "    expose_x = []\n",
    "    expose_y = []\n",
    "    expose_qids_map = []\n",
    "    for i, qid in enumerate(expose_qids):\n",
    "        qid = qid_mapping[qid]\n",
    "        expose_qids_map.append(qid)\n",
    "        temp = query_embed[qid]\n",
    "        expose_x.append(temp[0])\n",
    "        expose_y.append(temp[1])\n",
    "    near_passages_expose = []\n",
    "    for qid in expose_qids[:m]:\n",
    "        temp = forward_dict.get(qid)\n",
    "        temp = {k: v for k, v in sorted(temp.items(), key=lambda item: item[1])}\n",
    "        print(temp)\n",
    "        near_pids = list(temp.keys())\n",
    "        near_pids = [pid_mapping[i] for i in near_pids]\n",
    "        near_passages_expose.append(list(near_pids))\n",
    "    near_x = []\n",
    "    near_y = []\n",
    "    for i, qid in enumerate(list(near_qids[0])):\n",
    "        temp = query_embed[qid]\n",
    "        near_x.append(temp[0])\n",
    "        near_y.append(temp[1]) \n",
    "    near_passages = []\n",
    "    for qid in list(near_qids[0])[:n]:\n",
    "        qid_map = qid_forward_mapping[qid]\n",
    "        temp = forward_dict.get(qid_map)\n",
    "        temp = {k: v for k, v in sorted(temp.items(), key=lambda item: item[1])}\n",
    "#         print(temp)\n",
    "        near_pids = list(temp.keys())\n",
    "        near_pids = [pid_mapping[i] for i in near_pids]\n",
    "        near_passages.append(list(near_pids))\n",
    "    plt.scatter(expose_x, expose_y, label=\"Exposing Queries\")\n",
    "    plt.scatter(near_x, near_y, label=\"Nearest Queries\")\n",
    "    plt.scatter(passage_2d[0], passage_2d[1], label=\"Passage\", s=100)\n",
    "    plt.legend(loc='center left', bbox_to_anchor=(1, 0.5))\n",
    "    plt.show()\n",
    "    return expose_qids_map, list(near_qids[0]), near_passages, near_passages_expose"
   ]
  },
  {
   "cell_type": "code",
   "execution_count": 739,
   "metadata": {},
   "outputs": [],
   "source": [
    "def mds_visualization(pid, expose_qids, nearest_qids, near_pids, near_pids_expose, \n",
    "                      passage_embed=passage_embeddings, query_embed=query_train_embeddings, \n",
    "                      pid_mapping=pid_reverse_mapping, circle_option=None, large_option=True):\n",
    "    pid_embed = pid_mapping[pid]\n",
    "    p_embed = np.array([passage_embed[pid_embed,:]])\n",
    "    expose_embed = query_embed[expose_qids,:]\n",
    "    n_expose = len(expose_qids)\n",
    "    nearest_embed = query_embed[nearest_qids,:]\n",
    "    n_nearest = len(nearest_qids)\n",
    "    all_embed = np.concatenate((expose_embed, nearest_embed, p_embed), axis=0).astype(np.float64)\n",
    "    for i, pids in enumerate(near_pids):\n",
    "        temp = passage_embed[pids,:]\n",
    "        all_embed = np.concatenate((all_embed, temp), axis=0).astype(np.float64)\n",
    "    n_near = all_embed.shape[0]\n",
    "    for i, pids in enumerate(near_pids_expose):\n",
    "        temp = passage_embed[pids,:]\n",
    "        all_embed = np.concatenate((all_embed, temp), axis=0).astype(np.float64)    \n",
    "    all_embed = MDS(n_components=2, random_state=500, max_iter=1000).fit_transform(all_embed)\n",
    "    ax = plt.gca()\n",
    "    if circle_option:\n",
    "        n_near_near = len(near_pids)\n",
    "        n_near_expose = len(near_pids_expose)\n",
    "        k = len(near_pids[0])\n",
    "        kk = len(near_pids_expose[0])\n",
    "        for i in range(n_near_near):\n",
    "            p_x = all_embed[n_expose+i,0]\n",
    "            p_y = all_embed[n_expose+i,1]\n",
    "            x = all_embed[n_expose+n_nearest+k*(i+1),0]\n",
    "            y = all_embed[n_expose+n_nearest+k*(i+1),1]\n",
    "            r = np.sqrt((y-p_y)**2 + (x-p_x)**2)\n",
    "            print(i,r)\n",
    "            circle = plt.Circle((p_x, p_y), r, color='#17becf', fill=False)\n",
    "            ax.add_artist(circle)\n",
    "        temp_near_expose = all_embed[n_near:,:]\n",
    "        for i in range(n_near_expose):\n",
    "            p_x = all_embed[i,0]\n",
    "            p_y = all_embed[i,1]\n",
    "            x = all_embed[n_near+kk*(i+1)-1,0]\n",
    "            y = all_embed[n_near+kk*(i+1)-1,1]\n",
    "            x_1 = all_embed[n_expose+n_nearest,0]\n",
    "            y_1 = all_embed[n_expose+n_nearest,1]\n",
    "            r = np.sqrt((y-p_y)**2 + (x-p_x)**2)\n",
    "            r_1 = np.sqrt((y_1-p_y)**2 + (x_1-p_x)**2)\n",
    "            r = max(r,r_1)\n",
    "            print(n_near+kk*(i+1)-1,r)\n",
    "            circle = plt.Circle((p_x, p_y), r, color='#9467bd', fill=False)\n",
    "            ax.add_artist(circle)\n",
    "    \n",
    "#     ax.cla() # clear things for fresh plot\n",
    "    ax.scatter(all_embed[:n_expose,0], all_embed[:n_expose,1], label=\"Exposing Queries\", c=\"#9467bd\")\n",
    "    ax.scatter(all_embed[n_expose:n_expose+n_nearest,0], all_embed[n_expose:n_expose+n_nearest,1], \n",
    "                label=\"Nearest Queries\", marker=\"s\", c=\"#17becf\")\n",
    "    ax.scatter(all_embed[n_expose+n_nearest,0], all_embed[n_expose+n_nearest,1], \n",
    "                label=\"Passage\", marker=\"v\", s=200, c=\"#1f77b4\")\n",
    "    if large_option:\n",
    "        ax.scatter(all_embed[n_expose+n_nearest+1:n_near,0], all_embed[n_expose+n_nearest+1:n_near,1], \n",
    "                    label=\"Nearest Passages of Nearest Queries\", marker=\"D\", c=\"#d62728\")\n",
    "        ax.scatter(all_embed[n_near:,0], all_embed[n_near:,1], \n",
    "                    label=\"Nearest Passages of Exposing Queries\", marker=\"*\", c=\"#bcbd22\")\n",
    "    ax.legend(loc='center left', bbox_to_anchor=(1, 0.5))\n",
    "    return all_embed"
   ]
  },
  {
   "cell_type": "code",
   "execution_count": 726,
   "metadata": {},
   "outputs": [
    {
     "name": "stdout",
     "output_type": "stream",
     "text": [
      "{459272: 1, 459270: 2, 2775015: 3, 3924971: 4, 2983521: 5, 7104800: 6, 2755790: 7, 4771441: 8, 3924974: 9, 1187329: 10}\n",
      "{6495742: 1, 6495740: 2, 3416360: 3, 3565879: 4, 4598607: 5, 6436870: 6, 8802937: 7, 2755790: 8, 547339: 9, 7483740: 10}\n",
      "{3106532: 1, 3106534: 2, 3106529: 3, 3106530: 4, 3106537: 5, 3106536: 6, 4128612: 7, 3924971: 8, 2755790: 9, 1684651: 10}\n",
      "{239649: 1, 4933213: 2, 239643: 3, 239647: 4, 239644: 5, 8244664: 6, 4933214: 7, 8249702: 8, 2963871: 9, 2755790: 10}\n"
     ]
    },
    {
     "data": {
      "image/png": "[encoded data removed]",
      "text/plain": [
       "<Figure size 432x288 with 1 Axes>"
      ]
     },
     "metadata": {
      "needs_background": "light"
     },
     "output_type": "display_data"
    }
   ],
   "source": [
    "expose_qids2, nearest_qids2, near_passages2, near_p_expose2 = pca_visualization(2755790, true_dict=true_dict_10, \n",
    "                                                                                forward_dict = forward_dict_10, k=10,n=10,m=4)"
   ]
  },
  {
   "cell_type": "code",
   "execution_count": 735,
   "metadata": {},
   "outputs": [
    {
     "name": "stdout",
     "output_type": "stream",
     "text": [
      "0 1.4492918687298444\n",
      "1 2.324677408600749\n",
      "2 1.2501641486425263\n",
      "3 4.836121970835527\n",
      "4 1.1265613439381048\n",
      "5 1.7926739113222538\n",
      "6 4.418562871126422\n",
      "7 1.1516790510708903\n",
      "8 1.5729627845681877\n",
      "9 2.315461490353533\n",
      "124 6.82073495605636\n",
      "134 10.811618027739206\n",
      "144 6.997481095640262\n",
      "154 6.729858618905693\n"
     ]
    },
    {
     "data": {
      "image/png": "[encoded data removed]",
      "text/plain": [
       "<Figure size 432x288 with 1 Axes>"
      ]
     },
     "metadata": {
      "needs_background": "light"
     },
     "output_type": "display_data"
    }
   ],
   "source": [
    "all_embed2 = mds_visualization(2755790, expose_qids2, nearest_qids2, near_passages2, near_p_expose2, circle_option=True)"
   ]
  },
  {
   "cell_type": "code",
   "execution_count": 741,
   "metadata": {},
   "outputs": [
    {
     "data": {
      "image/png": "[encoded data removed]",
      "text/plain": [
       "<Figure size 432x288 with 1 Axes>"
      ]
     },
     "metadata": {
      "needs_background": "light"
     },
     "output_type": "display_data"
    }
   ],
   "source": [
    "all_embed2 = mds_visualization(2755790, expose_qids2, nearest_qids2, near_passages2, near_p_expose2, circle_option=None)"
   ]
  },
  {
   "cell_type": "code",
   "execution_count": 732,
   "metadata": {},
   "outputs": [
    {
     "name": "stdout",
     "output_type": "stream",
     "text": [
      "{459272: 1, 459270: 2, 2775015: 3, 3924971: 4, 2983521: 5, 7104800: 6, 2755790: 7, 4771441: 8, 3924974: 9, 1187329: 10, 3918288: 11, 3924980: 12, 4771444: 13, 6103005: 14, 6103004: 15, 459279: 16, 4726080: 17, 3924436: 18, 225795: 19, 1303233: 20, 3924973: 21, 4492614: 22, 8494912: 23, 239647: 24, 2775017: 25, 3924433: 26, 1407409: 27, 4949099: 28, 725397: 29, 5770211: 30, 6852146: 31, 8062987: 32, 3943314: 33, 479092: 34, 7644858: 35, 207870: 36, 5245455: 37, 2983518: 38, 7764935: 39, 1187321: 40, 6921652: 41, 7433200: 42, 6295953: 43, 811103: 44, 4563849: 45, 4436088: 46, 7359791: 47, 5257487: 48, 6921653: 49, 1070605: 50, 1187324: 51, 4492612: 52, 1303231: 53, 4050078: 54, 4492615: 55, 1340118: 56, 5117914: 57, 546889: 58, 544713: 59, 2693650: 60, 3106537: 61, 2421784: 62, 327627: 63, 321018: 64, 8243149: 65, 8243147: 66, 2983407: 67, 3943313: 68, 4563841: 69, 3322503: 70, 6787243: 71, 2691402: 72, 6404088: 73, 4933213: 74, 7505958: 75, 7641241: 76, 7518938: 77, 723632: 78, 1630907: 79, 7866481: 80, 8626744: 81, 1839509: 82, 657406: 83, 1166130: 84, 3911451: 85, 1160878: 86, 2983522: 87, 8063445: 88, 838856: 89, 1583680: 90, 7855067: 91, 6033488: 92, 7943812: 93, 2445510: 94, 6670770: 95, 1849938: 96, 3924438: 97, 3748158: 98, 191452: 99, 2358942: 100}\n",
      "{6495742: 1, 6495740: 2, 3416360: 3, 3565879: 4, 4598607: 5, 6436870: 6, 8802937: 7, 2755790: 8, 547339: 9, 7483740: 10, 6415628: 11, 2203014: 12, 8208176: 13, 8587766: 14, 1449108: 15, 6131778: 16, 6810467: 17, 6351998: 18, 2738861: 19, 547337: 20, 544713: 21, 459279: 22, 3682732: 23, 4592438: 24, 4776023: 25, 2742584: 26, 5319980: 27, 2738860: 28, 4254343: 29, 8830358: 30, 1952721: 31, 394146: 32, 448012: 33, 2211407: 34, 140038: 35, 8307816: 36, 6825598: 37, 7733048: 38, 7655087: 39, 2544539: 40, 5897819: 41, 1482360: 42, 2199673: 43, 5966972: 44, 510632: 45, 6783422: 46, 7520066: 47, 1952726: 48, 3106532: 49, 8744531: 50, 288851: 51, 7972790: 52, 5581556: 53, 3546771: 54, 2998061: 55, 1704200: 56, 8209773: 57, 1251225: 58, 7433200: 59, 8138741: 60, 5737367: 61, 2357906: 62, 8121223: 63, 2856284: 64, 743710: 65, 798500: 66, 6195369: 67, 4768564: 68, 543553: 69, 3170502: 70, 1415063: 71, 8320482: 72, 7521063: 73, 8788370: 74, 5974494: 75, 4973554: 76, 8156774: 77, 4897589: 78, 8063824: 79, 4140706: 80, 5737364: 81, 2236384: 82, 728689: 83, 203241: 84, 2544536: 85, 2357905: 86, 5242145: 87, 7764935: 88, 1007856: 89, 8500033: 90, 543551: 91, 1007858: 92, 4619756: 93, 1219489: 94, 270118: 95, 4052374: 96, 2357912: 97, 1144363: 98, 8156769: 99, 7670687: 100}\n",
      "{3106532: 1, 3106534: 2, 3106529: 3, 3106530: 4, 3106537: 5, 3106536: 6, 4128612: 7, 3924971: 8, 2755790: 9, 1684651: 10, 7615326: 11, 7786743: 12, 9321: 13, 5872035: 14, 3924974: 15, 6041183: 16, 2775015: 17, 1523093: 18, 5294000: 19, 3434527: 20, 7947968: 21, 2775017: 22, 755954: 23, 188186: 24, 4128614: 25, 6988884: 26, 6143690: 27, 3924980: 28, 2878806: 29, 4128611: 30, 7487920: 31, 2998061: 32, 5873047: 33, 6454666: 34, 3194296: 35, 1825648: 36, 4554073: 37, 7487921: 38, 4600391: 39, 2434456: 40, 188188: 41, 1523088: 42, 5923361: 43, 6050704: 44, 1144363: 45, 1957654: 46, 6715008: 47, 6948675: 48, 3686408: 49, 4698383: 50, 8039230: 51, 8060969: 52, 4971790: 53, 3893028: 54, 3611323: 55, 8061653: 56, 2414306: 57, 6705741: 58, 9323: 59, 6948669: 60, 1665876: 61, 1558874: 62, 4051346: 63, 4051350: 64, 982461: 65, 654396: 66, 6041181: 67, 5394404: 68, 188189: 69, 1046741: 70, 1746157: 71, 788374: 72, 174668: 73, 1684649: 74, 5432690: 75, 2742584: 76, 7668108: 77, 1765471: 78, 7487917: 79, 4358622: 80, 3924436: 81, 910684: 82, 5688448: 83, 8060290: 84, 7289222: 85, 6134289: 86, 6921652: 87, 4635193: 88, 8567703: 89, 7428853: 90, 6948673: 91, 6562397: 92, 1684647: 93, 510633: 94, 1125706: 95, 349390: 96, 8204505: 97, 4961559: 98, 3357274: 99, 638881: 100}\n",
      "{239649: 1, 4933213: 2, 239643: 3, 239647: 4, 239644: 5, 8244664: 6, 4933214: 7, 8249702: 8, 2963871: 9, 2755790: 10, 8249697: 11, 4933220: 12, 4771441: 13, 239650: 14, 239645: 15, 4771444: 16, 2496059: 17, 3918288: 18, 1065551: 19, 4933219: 20, 1751008: 21, 1303230: 22, 4933215: 23, 459270: 24, 239651: 25, 6889594: 26, 7946591: 27, 2693650: 28, 1617549: 29, 1665379: 30, 2983518: 31, 1303233: 32, 8249699: 33, 5455509: 34, 7463647: 35, 6928410: 36, 6740862: 37, 1926278: 38, 8490171: 39, 1440532: 40, 245205: 41, 4033546: 42, 8689455: 43, 5875367: 44, 7087408: 45, 6757299: 46, 3924632: 47, 3036819: 48, 1966101: 49, 1065545: 50, 1879565: 51, 974601: 52, 1560291: 53, 7287448: 54, 5882094: 55, 7763978: 56, 5304081: 57, 7287449: 58, 3279687: 59, 1248440: 60, 3906166: 61, 2043282: 62, 1094528: 63, 2983521: 64, 1245516: 65, 187473: 66, 1017910: 67, 1102176: 68, 7471006: 69, 5009453: 70, 7121204: 71, 6986761: 72, 547266: 73, 3206334: 74, 1091080: 75, 4806517: 76, 2198279: 77, 2764276: 78, 1043592: 79, 391830: 80, 1253550: 81, 7563645: 82, 2827381: 83, 3068712: 84, 6670770: 85, 1844530: 86, 2963866: 87, 3220571: 88, 6103005: 89, 2931239: 90, 4070855: 91, 1901396: 92, 1879569: 93, 1153407: 94, 948399: 95, 1560290: 96, 5385219: 97, 4365714: 98, 4651201: 99, 230775: 100}\n",
      "{1984373: 1, 2191605: 2, 174668: 3, 8279196: 4, 5671276: 5, 6055095: 6, 3915947: 7, 2604185: 8, 1984379: 9, 2191604: 10, 26514: 11, 3915945: 12, 4007316: 13, 3915949: 14, 2755790: 15, 8715656: 16, 731695: 17, 3915948: 18, 6675582: 19, 2000966: 20, 2073379: 21, 3739588: 22, 4848854: 23, 7043203: 24, 3552422: 25, 8557622: 26, 2178116: 27, 2000970: 28, 1074819: 29, 7842926: 30, 4251239: 31, 5327236: 32, 7287211: 33, 2522912: 34, 4387491: 35, 6040294: 36, 5570671: 37, 6675580: 38, 6694010: 39, 3909570: 40, 215858: 41, 8207411: 42, 3552423: 43, 5081649: 44, 3552420: 45, 4830306: 46, 7836106: 47, 4103841: 48, 5379669: 49, 4793579: 50, 8768825: 51, 4718703: 52, 8279197: 53, 4553082: 54, 1900589: 55, 4761437: 56, 3592150: 57, 8672697: 58, 1209152: 59, 7204258: 60, 7847257: 61, 3915950: 62, 630993: 63, 4718702: 64, 8805312: 65, 8768826: 66, 8677617: 67, 4561306: 68, 8360922: 69, 5379675: 70, 3511900: 71, 1464157: 72, 2554902: 73, 7452066: 74, 7756085: 75, 7463647: 76, 395776: 77, 7475550: 78, 8778968: 79, 2530004: 80, 4085267: 81, 4939419: 82, 1624535: 83, 6039699: 84, 4552411: 85, 2071126: 86, 284599: 87, 2000964: 88, 1304124: 89, 2867371: 90, 2198084: 91, 7487920: 92, 3034086: 93, 365114: 94, 4158387: 95, 3569929: 96, 26519: 97, 7041923: 98, 7730215: 99, 5322506: 100}\n"
     ]
    },
    {
     "data": {
      "image/png": "[encoded data removed]",
      "text/plain": [
       "<Figure size 432x288 with 1 Axes>"
      ]
     },
     "metadata": {
      "needs_background": "light"
     },
     "output_type": "display_data"
    }
   ],
   "source": [
    "expose_qids, nearest_qids, near_passages, near_p_expose = pca_visualization(2755790)"
   ]
  },
  {
   "cell_type": "code",
   "execution_count": 740,
   "metadata": {},
   "outputs": [
    {
     "data": {
      "image/png": "[encoded data removed]",
      "text/plain": [
       "<Figure size 432x288 with 1 Axes>"
      ]
     },
     "metadata": {
      "needs_background": "light"
     },
     "output_type": "display_data"
    }
   ],
   "source": [
    "all_embed = mds_visualization(2755790, expose_qids, nearest_qids, near_passages, near_p_expose, large_option=False)"
   ]
  },
  {
   "cell_type": "code",
   "execution_count": 766,
   "metadata": {},
   "outputs": [],
   "source": [
    "def quick_display(pid, expose_qids, nearest_qids, q_map=query_train_mapping, \n",
    "                  p_map=pid_mapping, q_text=queries_text_dict, p_text=passages_text_dict):\n",
    "    passage = p_text[pid]\n",
    "    print(\"{}:{}\".format(pid, passage))\n",
    "    print(\"---------------------------------------------------------\")\n",
    "    expose_qids = [q_map[i] for i in expose_qids]\n",
    "    nearest_qids = [q_map[i] for i in nearest_qids]\n",
    "    common_qids = set(expose_qids) & set(nearest_qids)\n",
    "    print(\"Matched exposing queries:{}/{}  {}\".format(len(common_qids), len(expose_qids), len(common_qids)/len(expose_qids)))\n",
    "    print(\"---------------------------------------------------------\")\n",
    "    for qid in common_qids:\n",
    "        print(q_text[qid])\n",
    "    print(\"-------------------------\")\n",
    "    print(\"Wrong queries:\")\n",
    "    print(\"-------------------------\")\n",
    "    for qid in expose_qids:\n",
    "        if qid not in common_qids:\n",
    "            print(q_text[qid])"
   ]
  },
  {
   "cell_type": "code",
   "execution_count": 767,
   "metadata": {},
   "outputs": [
    {
     "name": "stdout",
     "output_type": "stream",
     "text": [
      "2755790:65.77 Acres Union Mills, Rutherford County, North Carolina. $1,399,000. The Discovery Center @ Queens Gap is an 8000 square foot, custom designed, multi-purpose facility on 65 prime mountain acres, located in the Blue Ridge Mountains, just off US Hwy 221 & I-40, near Asheville, Marion and Rutherfordton NC.\n",
      "---------------------------------------------------------\n",
      "Matched exposing queries:34/93  0.3655913978494624\n",
      "---------------------------------------------------------\n",
      "what county is corinth,tx in\n",
      "how much are hollow scream tickets in virginia\n",
      "cadence bank locations in mississippi\n",
      "what county is cornelius oregon in\n",
      "esther price, cincinnati oh\n",
      "price is right in las cruces nm\n",
      "where is cape union mart in cresta\n",
      "what county is hurdle mills nc\n",
      "what county is union gap wa in\n",
      "what is caresource bronze indiana\n",
      "what planting zone is colville wa\n",
      "what county is cedar mill oregon is\n",
      "the orchards, mt. joy, pa\n",
      "where is the madison mills area in columbus ohio\n",
      "what county is corrales nm in\n",
      "concord mills mall hours of operation\n",
      "what is the address for the winn-dixie on fort caroline road\n",
      "price of gas at smiths in kingman az\n",
      "temperature in union mills, nc\n",
      "canyon strive cf pricing\n",
      "what county is stallings, nc\n",
      "corrin smash price\n",
      "what county is union mills nc\n",
      "where is concord mills?\n",
      "what county is deep gap nc\n",
      "what county is royal oak, mi\n",
      "wells fargo branch office in monument, co\n",
      "what is the county for corinth,tx\n",
      "where is clinton road fort mill sc\n",
      "wells fargo locations in colonial heights va\n",
      "closing costs indiana\n",
      "where is the plantation in waycross georgia\n",
      "where was the cumberland iron works rolling mill in stewart county tennessee\n",
      "what county is columbia heights, mn in\n",
      "-------------------------\n",
      "Wrong queries:\n",
      "-------------------------\n",
      "website:cy fair soils in houston, tx\n",
      "where is fines creek nc\n",
      "what district is queens?\n",
      "the cheer connection fort worth\n",
      "civic price coin\n",
      "how many breweries in fort collins\n",
      "what county is rich square nc in\n",
      "what county is the francis scott key bridge in in md\n",
      "what county is cashiers in\n",
      "where are the wincos grocery store located?\n",
      "how many acres in quarter section\n",
      "where is newco in st. charles, mo\n",
      "what county is big stone gap va located in\n",
      "where is quail hollow golf course in charlotte\n",
      "convert square miles\n",
      "where is fort mills sc\n",
      "where is the dump on charles city road\n",
      "where was the french connection filmed at was the queens?\n",
      "what state is ceres township in\n",
      "cooks county syrup tax\n",
      "recovering costs for jury service queensland\n",
      "where are navy federal coin machines in texas\n",
      "where is cashiers north carolina\n",
      "city of westminster land charges\n",
      "what is the sales tax rate for chowan, nc\n",
      "cortland zipcode\n",
      "in what county is burns harbor indiana located\n",
      "what county is norcross, ga in?\n",
      "largest county fair in the united states\n",
      "what county is colmesneil\n",
      "where are the windsor ruins in mississippi?\n",
      "where is childress, texas ?\n",
      "what is the sales tax rate in pickens county, ga?\n",
      "what counties in mn charge conservation fee\n",
      "vale nc sales tax\n",
      "what county is conyers georgia\n",
      "what county is collins ms in\n",
      "what county is fort mills, sc\n",
      "what is the sales tax for conover nc\n",
      "longest yard sale cincinnati ohio\n",
      "what is the area code for congers ny\n",
      "what square in savannah is in forrest gump\n",
      "where is corinth, ms located.\n",
      "where is norcross georgia located\n",
      "concession fee recovery\n",
      "salaries in prince william county\n",
      "what county is crab orchard wv\n",
      "what county universal city tx\n",
      "is us navy crane indiana\n",
      "how many homes have chip and joanna gaines remodeled in waco texas\n",
      "the price is right at civic center\n",
      "cam newton carolina panthers net worth\n",
      "how far is cornelius, north carolina from wilmington nc\n",
      "where is reynolds plantation in georgia\n",
      "where is court of appeal fourth district\n",
      "what county is fort collins, co in\n",
      "population of corinth, ms\n",
      "what county is georges mills in\n",
      "what county is norcross ga in?\n"
     ]
    }
   ],
   "source": [
    "quick_display(2755790, expose_qids, nearest_qids)"
   ]
  },
  {
   "cell_type": "code",
   "execution_count": null,
   "metadata": {},
   "outputs": [],
   "source": []
  }
 ],
 "metadata": {
  "kernelspec": {
   "display_name": "Python 3",
   "language": "python",
   "name": "python3"
  },
  "language_info": {
   "codemirror_mode": {
    "name": "ipython",
    "version": 3
   },
   "file_extension": ".py",
   "mimetype": "text/x-python",
   "name": "python",
   "nbconvert_exporter": "python",
   "pygments_lexer": "ipython3",
   "version": "3.7.7"
  }
 },
 "nbformat": 4,
 "nbformat_minor": 4
}

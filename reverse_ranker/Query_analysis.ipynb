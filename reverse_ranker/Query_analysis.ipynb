{
 "cells": [
  {
   "cell_type": "code",
   "execution_count": 1,
   "metadata": {
    "collapsed": true
   },
   "outputs": [],
   "source": [
    "import sys\n",
    "\n",
    "sys.path.insert(0, '/home/jianx/search-exposure/')\n",
    "import torch\n",
    "from annoy import AnnoyIndex\n",
    "import forward_ranker.load_data as load_data\n",
    "import forward_ranker.train as train\n",
    "from forward_ranker.utils import print_message\n",
    "from forward_ranker.test import get_ndcg_precision_rr\n",
    "obj_reader = load_data.obj_reader\n",
    "obj_writer = load_data.obj_writer\n",
    "import pickle\n",
    "import numpy as np\n",
    "import pandas as pd\n",
    "import random\n",
    "import math\n",
    "import  matplotlib.pyplot as plt"
   ]
  },
  {
   "cell_type": "code",
   "execution_count": 2,
   "outputs": [],
   "source": [
    "vocabs = {}\n",
    "with open(\"/datadrive/jianx/data/queries.train.tsv\",\"r\") as f:\n",
    "    for line in f:\n",
    "        qid = line.split(\"\\t\")[0]\n",
    "        query = line.split(\"\\t\")[1]\n",
    "        for word in query.split(\" \"):\n",
    "            if word not in vocabs:\n",
    "                vocabs[word] = 0\n",
    "            vocabs[word] += 1"
   ],
   "metadata": {
    "collapsed": false,
    "pycharm": {
     "name": "#%%\n"
    }
   }
  },
  {
   "cell_type": "code",
   "execution_count": 18,
   "outputs": [],
   "source": [
    "query_length_dict = {}\n",
    "with open(\"/datadrive/jianx/data/queries.train.tsv\",\"r\") as f:\n",
    "    for line in f:\n",
    "        qid = int(line.split(\"\\t\")[0])\n",
    "        query = line.split(\"\\t\")[1]\n",
    "        query_length_dict[qid] = len(query.split(\" \"))"
   ],
   "metadata": {
    "collapsed": false,
    "pycharm": {
     "name": "#%%\n"
    }
   }
  },
  {
   "cell_type": "code",
   "execution_count": 12,
   "outputs": [],
   "source": [
    "query_term_freq_dict = {}\n",
    "with open(\"/datadrive/jianx/data/queries.train.tsv\",\"r\") as f:\n",
    "    for line in f:\n",
    "        qid = int(line.split(\"\\t\")[0])\n",
    "        query = line.split(\"\\t\")[1]\n",
    "        freq = 0\n",
    "        for word in query.split(\" \"):\n",
    "            freq += vocabs[word]\n",
    "        query_term_freq_dict[qid] = freq"
   ],
   "metadata": {
    "collapsed": false,
    "pycharm": {
     "name": "#%%\n"
    }
   }
  },
  {
   "cell_type": "code",
   "execution_count": 20,
   "outputs": [],
   "source": [
    "baseline_full = obj_reader(\"/datadrive/ruohan/reverse_ranker/residual/loss15_layer3/forward_baseline_rank_test.pickle\")\n",
    "append_full = obj_reader(\"/datadrive/ruohan/reverse_ranker/append/layer3_no_split/pred_rank_test.pickle\")\n",
    "residual_full = obj_reader(\"/datadrive/ruohan/reverse_ranker/residual/loss15_layer3/pred_rank_test.pickle\")"
   ],
   "metadata": {
    "collapsed": false,
    "pycharm": {
     "name": "#%%\n"
    }
   }
  },
  {
   "cell_type": "code",
   "execution_count": 8,
   "outputs": [],
   "source": [
    "all_results = {}\n",
    "with open(\"/datadrive/jianx/data/results/all_search_rankings_100_100_flat.csv\", \"r\") as f:\n",
    "    for line in f:\n",
    "        qid = int(line.split(\",\")[0])\n",
    "        pid = int(line.split(\",\")[1])\n",
    "        rank = int(line.split(\",\")[2])\n",
    "        if pid not in all_results.keys():\n",
    "            all_results[pid] = {}\n",
    "        all_results[pid][qid] = rank"
   ],
   "metadata": {
    "collapsed": false,
    "pycharm": {
     "name": "#%%\n"
    }
   }
  },
  {
   "cell_type": "code",
   "execution_count": 15,
   "outputs": [],
   "source": [
    "def get_match_mis_length_freq(true_dict, test_dict):\n",
    "    pids = list(test_dict.keys())\n",
    "    matched_freq = 0\n",
    "    matched_len = 0\n",
    "    num_matches = 0\n",
    "    missed_freq = 0\n",
    "    missed_len = 0\n",
    "    num_misses = 0\n",
    "    for pid in pids:\n",
    "        if pid in true_dict:\n",
    "            for qid in test_dict[pid]:\n",
    "                if qid in true_dict[pid]:\n",
    "                    matched_freq += query_term_freq_dict[qid]/query_length_dict[qid]\n",
    "                    matched_len  += query_length_dict[qid]\n",
    "                    num_matches += 1\n",
    "            for qid in true_dict[pid]:\n",
    "                if qid not in test_dict[pid]:\n",
    "                    missed_freq += query_term_freq_dict[qid]/query_length_dict[qid]\n",
    "                    missed_len  += query_length_dict[qid]\n",
    "                    num_misses += 1\n",
    "    print(\"Matched avg frequency:{} Missed avg frequency:{}\".format(matched_freq/num_matches, missed_freq/num_misses))\n",
    "    print(\"Matched avg length:{} Missed avg length:{}\".format(matched_len/num_matches, missed_len/num_misses))"
   ],
   "metadata": {
    "collapsed": false,
    "pycharm": {
     "name": "#%%\n"
    }
   }
  },
  {
   "cell_type": "code",
   "execution_count": 21,
   "outputs": [
    {
     "name": "stdout",
     "output_type": "stream",
     "text": [
      "Baseline\n",
      "Matched avg frequency:61878.203359315325 Missed avg frequency:60585.50024997981\n",
      "Matched avg length:6.093338178553488 Missed avg length:5.45666029318037\n",
      "Append\n",
      "Matched avg frequency:60952.804382117785 Missed avg frequency:76191.42379751215\n",
      "Matched avg length:6.029226505416982 Missed avg length:5.114575363427697\n",
      "Residual\n",
      "Matched avg frequency:60874.24922742646 Missed avg frequency:78419.13318750002\n",
      "Matched avg length:6.031645038985719 Missed avg length:5.029738302934179\n"
     ]
    }
   ],
   "source": [
    "print(\"Baseline\")\n",
    "get_match_mis_length_freq(all_results, baseline_full)\n",
    "print(\"Append\")\n",
    "get_match_mis_length_freq(all_results, append_full)\n",
    "print(\"Residual\")\n",
    "get_match_mis_length_freq(all_results, residual_full)"
   ],
   "metadata": {
    "collapsed": false,
    "pycharm": {
     "name": "#%%\n"
    }
   }
  }
 ],
 "metadata": {
  "kernelspec": {
   "name": "conda-env-py37_pytorch-py",
   "language": "python",
   "display_name": "Python [conda env:py37_pytorch]"
  },
  "language_info": {
   "codemirror_mode": {
    "name": "ipython",
    "version": 2
   },
   "file_extension": ".py",
   "mimetype": "text/x-python",
   "name": "python",
   "nbconvert_exporter": "python",
   "pygments_lexer": "ipython2",
   "version": "2.7.6"
  }
 },
 "nbformat": 4,
 "nbformat_minor": 0
}
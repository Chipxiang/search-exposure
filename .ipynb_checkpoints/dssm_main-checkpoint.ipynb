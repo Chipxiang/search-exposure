{
 "cells": [
  {
   "cell_type": "code",
   "execution_count": 1,
   "metadata": {},
   "outputs": [],
   "source": [
    "import sys\n",
    "sys.path.insert(0, '/home/jianx/search-exposure/')\n",
    "from network import DSSM\n",
    "from train import train\n",
    "from load_data import load\n",
    "from gpu_allocator import select_device\n",
    "from gpu_allocator import cleanup_gpu_list\n",
    "import torch\n",
    "import csv\n",
    "from test import test\n",
    "from test import test_loader\n",
    "from test import get_ndcg_precision_rr\n",
    "import random\n",
    "from train import generate_sparse"
   ]
  },
  {
   "cell_type": "code",
   "execution_count": 2,
   "metadata": {
    "pycharm": {
     "name": "#%%\n"
    }
   },
   "outputs": [
    {
     "name": "stdout",
     "output_type": "stream",
     "text": [
      "Num of epochs: 2\n",
      "Epoch size: 100\n",
      "Batch size: 100\n",
      "Learning rate: 0.1\n",
      "Embedding size: 128\n"
     ]
    }
   ],
   "source": [
    "num_epochs = 2\n",
    "epoch_size = 100\n",
    "batch_size = 100\n",
    "learning_rate = 0.1\n",
    "embed_size = 128\n",
    "\n",
    "print(\"Num of epochs:\", num_epochs)\n",
    "print(\"Epoch size:\", epoch_size)\n",
    "print(\"Batch size:\", batch_size)\n",
    "print(\"Learning rate:\", learning_rate)\n",
    "print(\"Embedding size:\", embed_size)\n",
    "rank = 10\n",
    "test_batch =43\n",
    "MODEL_PATH = \"/home/jianx/data/results/\""
   ]
  },
  {
   "cell_type": "code",
   "execution_count": 3,
   "metadata": {
    "pycharm": {
     "name": "#%%\n"
    }
   },
   "outputs": [
    {
     "name": "stdout",
     "output_type": "stream",
     "text": [
      "Loading data\n",
      "Data successfully loaded.\n",
      "Positive Negative Pair dict size: 400782\n",
      "Num of queries: 808731\n",
      "Num of passages: 8841823\n"
     ]
    }
   ],
   "source": [
    "print(\"Loading data\")\n",
    "pos_neg_dict, query_dict, passage_dict, top_dict, rating_dict, query_test_dict = load()\n",
    "print(\"Data successfully loaded.\")\n",
    "print(\"Positive Negative Pair dict size: \" + str(len(pos_neg_dict)))\n",
    "print(\"Num of queries: \" + str(len(query_dict)))\n",
    "print(\"Num of passages: \" + str(len(passage_dict)))"
   ]
  },
  {
   "cell_type": "code",
   "execution_count": 2,
   "metadata": {
    "pycharm": {
     "name": "#%%\n"
    }
   },
   "outputs": [],
   "source": [
    "CURRENT_DEVICE = torch.device(\"cuda:0\")\n",
    "net = torch.load(\"/home/jianx/data/results/100_1500_100_0.1_256.model\").to(CURRENT_DEVICE)"
   ]
  },
  {
   "cell_type": "code",
   "execution_count": 3,
   "metadata": {
    "pycharm": {
     "name": "#%%\n"
    }
   },
   "outputs": [
    {
     "ename": "NameError",
     "evalue": "name 'test_batch' is not defined",
     "output_type": "error",
     "traceback": [
      "\u001b[0;31m---------------------------------------------------------------------------\u001b[0m",
      "\u001b[0;31mNameError\u001b[0m                                 Traceback (most recent call last)",
      "\u001b[0;32m<ipython-input-3-550ed3690dbf>\u001b[0m in \u001b[0;36m<module>\u001b[0;34m\u001b[0m\n\u001b[0;32m----> 1\u001b[0;31m \u001b[0mresult_dict\u001b[0m \u001b[0;34m=\u001b[0m \u001b[0mtest_loader\u001b[0m\u001b[0;34m(\u001b[0m\u001b[0mnet\u001b[0m\u001b[0;34m,\u001b[0m \u001b[0mCURRENT_DEVICE\u001b[0m\u001b[0;34m,\u001b[0m \u001b[0mtest_batch\u001b[0m\u001b[0;34m,\u001b[0m \u001b[0mtop_dict\u001b[0m\u001b[0;34m,\u001b[0m \u001b[0mquery_test_dict\u001b[0m\u001b[0;34m,\u001b[0m \u001b[0mpassage_dict\u001b[0m\u001b[0;34m,\u001b[0m \u001b[0mrating_dict\u001b[0m\u001b[0;34m)\u001b[0m\u001b[0;34m\u001b[0m\u001b[0;34m\u001b[0m\u001b[0m\n\u001b[0m\u001b[1;32m      2\u001b[0m \u001b[0mqids\u001b[0m \u001b[0;34m=\u001b[0m \u001b[0mlist\u001b[0m\u001b[0;34m(\u001b[0m\u001b[0mresult_dict\u001b[0m\u001b[0;34m.\u001b[0m\u001b[0mkeys\u001b[0m\u001b[0;34m(\u001b[0m\u001b[0;34m)\u001b[0m\u001b[0;34m)\u001b[0m\u001b[0;34m\u001b[0m\u001b[0;34m\u001b[0m\u001b[0m\n",
      "\u001b[0;31mNameError\u001b[0m: name 'test_batch' is not defined"
     ]
    }
   ],
   "source": [
    "result_dict = test_loader(net, CURRENT_DEVICE, test_batch, top_dict, query_test_dict, passage_dict, rating_dict)\n",
    "qids = list(result_dict.keys())"
   ]
  },
  {
   "cell_type": "code",
   "execution_count": 15,
   "metadata": {
    "pycharm": {
     "name": "#%%\n"
    }
   },
   "outputs": [],
   "source": [
    "with open('/home/jianx/data/results/result.teIn', 'w+') as f:\n",
    "    for qid in qids:\n",
    "        for rank, item in enumerate(sorted(result_dict[qid].items(), key=lambda x: (x[1], [-1, 1][random.randrange(2)]), reverse=True)):\n",
    "            f.write(\"{} Q0 {} {} {} run-id\\n\".format(qid, item[0],rank+1, item[1]))"
   ]
  },
  {
   "cell_type": "code",
   "execution_count": 37,
   "metadata": {
    "pycharm": {
     "name": "#%%\n"
    }
   },
   "outputs": [
    {
     "data": {
      "text/plain": [
       "(array([8095., 3888., 2621., 2021., 1361.,  996.,  875.,  735.,  683.,\n",
       "         593.,  625.,  513.,  472.,  488.,  476.,  461.,  437.,  399.,\n",
       "         362.,  368.,  254.,  242.,  191.,  177.,  138.,  155.,  137.,\n",
       "         105.,  141.,  123.,  125.,  128.,  124.,  144.,  140.,  135.,\n",
       "         135.,  163.,  139.,  145.,  140.,  111.,  107.,  113.,   75.,\n",
       "          78.,   54.,   59.,   61.,   70.,   59.,   67.,   43.,   68.,\n",
       "          45.,   55.,   38.,   45.,   49.,   50.,   41.,   51.,   39.,\n",
       "          45.,   52.,   50.,   47.,   44.,   57.,   65.,   70.,   75.,\n",
       "          64.,   78.,   67.,   83.,   90.,   58.,   66.,   70.,   57.,\n",
       "          49.,   39.,   44.,   48.,   47.,   41.,   42.,   45.,   30.,\n",
       "          43.,   45.,   35.,   29.,   39.,   38.,   35.,   27.,   31.,\n",
       "          33.,   31.,   20.,   40.,   30.,   24.,   39.,   42.,   22.,\n",
       "          39.,   30.,   22.,   26.,   34.,   32.,   32.,   35.,   31.,\n",
       "          28.,   34.,   22.,   24.,   33.,   33.,   35.,   34.,   37.,\n",
       "          30.,   34.,   36.,   35.,   35.,   35.,   30.,   31.,   30.,\n",
       "          40.,   32.,   37.,   46.,   45.,   53.,   51.,   47.,   52.,\n",
       "          53.,   60.,   84.,   63.,   75.,   78.,   67.,   80.,   63.,\n",
       "          60.,   60.,   60.,   61.,   46.,   56.,   48.,   44.,   59.,\n",
       "          52.,   54.,   44.,   49.,   43.,   53.,   53.,   42.,   54.,\n",
       "          60.,   60.,   57.,   64.,   70.,   63.,   70.,   52.,   85.,\n",
       "          87.,   93.,  102.,  105.,  118.,  144.,  166.,  206.,  194.,\n",
       "         162.,  183.,  146.,  158.,  159.,  174.,  213.,  249.,  343.,\n",
       "         473., 1011.]),\n",
       " array([-9.99998808e-01, -9.89998833e-01, -9.79998858e-01, -9.69998883e-01,\n",
       "        -9.59998908e-01, -9.49998933e-01, -9.39998958e-01, -9.29998983e-01,\n",
       "        -9.19999008e-01, -9.09999033e-01, -8.99999058e-01, -8.89999083e-01,\n",
       "        -8.79999108e-01, -8.69999133e-01, -8.59999158e-01, -8.49999183e-01,\n",
       "        -8.39999208e-01, -8.29999233e-01, -8.19999259e-01, -8.09999284e-01,\n",
       "        -7.99999309e-01, -7.89999334e-01, -7.79999359e-01, -7.69999384e-01,\n",
       "        -7.59999409e-01, -7.49999434e-01, -7.39999459e-01, -7.29999484e-01,\n",
       "        -7.19999509e-01, -7.09999534e-01, -6.99999559e-01, -6.89999584e-01,\n",
       "        -6.79999609e-01, -6.69999634e-01, -6.59999659e-01, -6.49999684e-01,\n",
       "        -6.39999709e-01, -6.29999734e-01, -6.19999759e-01, -6.09999784e-01,\n",
       "        -5.99999809e-01, -5.89999834e-01, -5.79999859e-01, -5.69999884e-01,\n",
       "        -5.59999909e-01, -5.49999934e-01, -5.39999959e-01, -5.29999985e-01,\n",
       "        -5.20000010e-01, -5.10000035e-01, -5.00000060e-01, -4.90000085e-01,\n",
       "        -4.80000110e-01, -4.70000135e-01, -4.60000160e-01, -4.50000185e-01,\n",
       "        -4.40000210e-01, -4.30000235e-01, -4.20000260e-01, -4.10000285e-01,\n",
       "        -4.00000310e-01, -3.90000335e-01, -3.80000360e-01, -3.70000385e-01,\n",
       "        -3.60000410e-01, -3.50000435e-01, -3.40000460e-01, -3.30000485e-01,\n",
       "        -3.20000510e-01, -3.10000535e-01, -3.00000560e-01, -2.90000585e-01,\n",
       "        -2.80000610e-01, -2.70000635e-01, -2.60000660e-01, -2.50000685e-01,\n",
       "        -2.40000710e-01, -2.30000736e-01, -2.20000761e-01, -2.10000786e-01,\n",
       "        -2.00000811e-01, -1.90000836e-01, -1.80000861e-01, -1.70000886e-01,\n",
       "        -1.60000911e-01, -1.50000936e-01, -1.40000961e-01, -1.30000986e-01,\n",
       "        -1.20001011e-01, -1.10001036e-01, -1.00001061e-01, -9.00010860e-02,\n",
       "        -8.00011110e-02, -7.00011361e-02, -6.00011611e-02, -5.00011861e-02,\n",
       "        -4.00012112e-02, -3.00012362e-02, -2.00012612e-02, -1.00012863e-02,\n",
       "        -1.31130219e-06,  9.99866366e-03,  1.99986386e-02,  2.99986136e-02,\n",
       "         3.99985886e-02,  4.99985635e-02,  5.99985385e-02,  6.99985135e-02,\n",
       "         7.99984884e-02,  8.99984634e-02,  9.99984384e-02,  1.09998413e-01,\n",
       "         1.19998388e-01,  1.29998363e-01,  1.39998338e-01,  1.49998313e-01,\n",
       "         1.59998288e-01,  1.69998263e-01,  1.79998238e-01,  1.89998213e-01,\n",
       "         1.99998188e-01,  2.09998163e-01,  2.19998138e-01,  2.29998113e-01,\n",
       "         2.39998088e-01,  2.49998063e-01,  2.59998038e-01,  2.69998013e-01,\n",
       "         2.79997988e-01,  2.89997963e-01,  2.99997938e-01,  3.09997913e-01,\n",
       "         3.19997888e-01,  3.29997863e-01,  3.39997838e-01,  3.49997813e-01,\n",
       "         3.59997787e-01,  3.69997762e-01,  3.79997737e-01,  3.89997712e-01,\n",
       "         3.99997687e-01,  4.09997662e-01,  4.19997637e-01,  4.29997612e-01,\n",
       "         4.39997587e-01,  4.49997562e-01,  4.59997537e-01,  4.69997512e-01,\n",
       "         4.79997487e-01,  4.89997462e-01,  4.99997437e-01,  5.09997412e-01,\n",
       "         5.19997387e-01,  5.29997362e-01,  5.39997337e-01,  5.49997312e-01,\n",
       "         5.59997287e-01,  5.69997262e-01,  5.79997237e-01,  5.89997212e-01,\n",
       "         5.99997187e-01,  6.09997162e-01,  6.19997137e-01,  6.29997112e-01,\n",
       "         6.39997087e-01,  6.49997061e-01,  6.59997036e-01,  6.69997011e-01,\n",
       "         6.79996986e-01,  6.89996961e-01,  6.99996936e-01,  7.09996911e-01,\n",
       "         7.19996886e-01,  7.29996861e-01,  7.39996836e-01,  7.49996811e-01,\n",
       "         7.59996786e-01,  7.69996761e-01,  7.79996736e-01,  7.89996711e-01,\n",
       "         7.99996686e-01,  8.09996661e-01,  8.19996636e-01,  8.29996611e-01,\n",
       "         8.39996586e-01,  8.49996561e-01,  8.59996536e-01,  8.69996511e-01,\n",
       "         8.79996486e-01,  8.89996461e-01,  8.99996436e-01,  9.09996411e-01,\n",
       "         9.19996386e-01,  9.29996361e-01,  9.39996336e-01,  9.49996310e-01,\n",
       "         9.59996285e-01,  9.69996260e-01,  9.79996235e-01,  9.89996210e-01,\n",
       "         9.99996185e-01]),\n",
       " <a list of 200 Patch objects>)"
      ]
     },
     "execution_count": 37,
     "metadata": {},
     "output_type": "execute_result"
    },
    {
     "data": {
      "image/png": "[encoded data removed]",
      "text/plain": [
       "<Figure size 432x288 with 1 Axes>"
      ]
     },
     "metadata": {
      "needs_background": "light"
     },
     "output_type": "display_data"
    }
   ],
   "source": [
    "import pandas as pd\n",
    "import matplotlib.pyplot as plt\n",
    "all_scores = []\n",
    "for i in qids:\n",
    "    for item in sorted(result_dict[i].items(), key=lambda x: (x[1], [-1, 1][random.randrange(2)]), reverse=True):\n",
    "        all_scores.append(item[1])\n",
    "plt.hist(all_scores, bins=200)"
   ]
  },
  {
   "cell_type": "code",
   "execution_count": 51,
   "metadata": {
    "pycharm": {
     "name": "#%%\n"
    }
   },
   "outputs": [
    {
     "name": "stdout",
     "output_type": "stream",
     "text": [
      "[5978021, 5288186, 2211418, 4370203, 8031509, 6010960, 684093, 684084, 6773977, 5568229]\n"
     ]
    }
   ],
   "source": [
    "top_pids = []\n",
    "qid = 1\n",
    "for i in range(10):\n",
    "    top_pids.append(sorted(result_dict[qids[qid]].items(), key=lambda x: (x[1], [-1, 1][random.randrange(2)]), reverse=True)[i][0])\n",
    "print(top_pids)"
   ]
  },
  {
   "cell_type": "code",
   "execution_count": 52,
   "metadata": {
    "pycharm": {
     "name": "#%%\n"
    }
   },
   "outputs": [
    {
     "data": {
      "text/plain": [
       "(array([763.,  32.,  22.,   9.,  10.,   5.,  15.,  13.,  20., 111.]),\n",
       " array([-9.99860346e-01, -7.99874693e-01, -5.99889040e-01, -3.99903387e-01,\n",
       "        -1.99917734e-01,  6.79194927e-05,  2.00053573e-01,  4.00039226e-01,\n",
       "         6.00024879e-01,  8.00010532e-01,  9.99996185e-01]),\n",
       " <a list of 10 Patch objects>)"
      ]
     },
     "execution_count": 52,
     "metadata": {},
     "output_type": "execute_result"
    },
    {
     "data": {
      "image/png": "[encoded data removed]",
      "text/plain": [
       "<Figure size 432x288 with 1 Axes>"
      ]
     },
     "metadata": {
      "needs_background": "light"
     },
     "output_type": "display_data"
    }
   ],
   "source": [
    "result0 = pd.DataFrame.from_dict(sorted(result_dict[qids[11]].items(), key=lambda x: (x[1], [-1, 1][random.randrange(2)]), reverse=True))\n",
    "plt.hist(result0[1])"
   ]
  },
  {
   "cell_type": "code",
   "execution_count": 13,
   "metadata": {
    "pycharm": {
     "name": "#%%\n"
    }
   },
   "outputs": [
    {
     "name": "stdout",
     "output_type": "stream",
     "text": [
      "0.40996147699064384 0.10788812067881834 0.2926017011553549\n"
     ]
    }
   ],
   "source": [
    "import numpy as np\n",
    "result_ndcg = []\n",
    "result_prec = []\n",
    "result_rr = []\n",
    "for qid in qids:\n",
    "    ndcg, prec, rr = get_ndcg_precision_rr(rating_dict[qid], result_dict[qid], 10)\n",
    "    result_ndcg.append(ndcg)\n",
    "    result_prec.append(prec)\n",
    "    result_rr.append(rr)\n",
    "avg_ndcg = np.nanmean(result_ndcg)\n",
    "avg_prec = np.nanmean(result_prec)\n",
    "avg_rr = np.nanmean(result_rr)\n",
    "print(avg_ndcg,avg_prec,avg_rr)"
   ]
  },
  {
   "cell_type": "code",
   "execution_count": 30,
   "metadata": {
    "pycharm": {
     "name": "#%%\n"
    }
   },
   "outputs": [
    {
     "name": "stdout",
     "output_type": "stream",
     "text": [
      "-0.8975946307182312\n",
      "tensor([-3.0296e+03, -5.2848e+04,  2.3425e-02,  6.3025e-02, -1.0471e-01,\n",
      "        -1.2495e+03,  2.3125e+04,  6.2536e-02,  1.3906e-01,  2.3375e+04,\n",
      "        -2.5828e+04,  4.8552e+02, -4.4572e+03, -2.1202e+04, -2.2999e-02,\n",
      "         9.1718e-02, -4.9721e+04, -4.0220e+03,  3.5009e-01, -2.2760e+04,\n",
      "        -1.8646e+04,  1.6650e+03, -4.0550e+04, -2.2024e+04,  5.0473e+04,\n",
      "        -4.8476e+04,  1.4154e+04, -1.0826e+03, -6.3183e+03,  1.4134e-01,\n",
      "        -8.9433e+03,  3.2223e+04, -9.0528e+03,  5.4107e+04,  4.3253e+04,\n",
      "        -1.0032e+04, -9.7527e+03, -4.7771e+04,  2.5884e+04, -7.8262e+03,\n",
      "         2.0455e-01,  5.1378e+04,  9.3307e+03,  6.5136e+03,  1.5810e+04,\n",
      "         1.3519e-02, -1.0916e+04, -9.4892e+02,  4.7940e+03,  8.1336e+03,\n",
      "        -3.5506e+04,  5.5301e+04, -2.1024e+04, -7.8287e+03,  2.0133e+04,\n",
      "         5.7350e+03,  4.4025e+04,  2.8542e-02,  2.8935e+04,  2.3223e+04,\n",
      "        -4.4460e+04, -1.4056e+04,  4.0348e+04,  8.1690e+03, -2.3161e-02,\n",
      "         9.8422e+03,  7.1057e+03, -9.1942e+03, -2.2423e+04, -8.0939e+03,\n",
      "         4.2322e+04,  5.0241e+04, -2.5472e+04,  3.2095e+04, -8.9436e+03,\n",
      "        -1.9132e+04,  1.0760e-01, -5.8193e+03,  1.6190e-01,  3.4069e+04,\n",
      "        -4.6795e+04,  9.4634e+03, -4.8962e-02,  6.5380e+03,  1.0304e+04,\n",
      "        -4.9744e+04,  1.3808e+04,  3.5927e-01,  2.7472e+04,  4.7626e+04,\n",
      "        -2.1491e+04, -3.8948e+04,  7.4074e+03,  3.9344e+04,  1.0179e+04,\n",
      "        -1.4754e+04,  1.5857e+03, -4.9744e+04, -9.0342e-01,  2.1288e+04,\n",
      "         4.7359e+04,  1.3875e+00, -9.5215e+03,  2.1155e+04,  4.0580e+04,\n",
      "        -4.3081e+04, -4.2061e+04,  5.2997e+02,  1.5925e-02, -3.7329e+04,\n",
      "         3.5345e+04,  1.4694e-02, -3.5823e+04,  2.2858e+04, -4.7012e+04,\n",
      "         2.6937e+04,  5.3057e+04, -4.2511e+04, -3.1509e+03, -4.0389e+04,\n",
      "         7.6298e-04, -4.8525e+04,  1.5963e+04, -4.5677e+03,  3.5625e+02,\n",
      "        -7.2132e+03,  4.7744e+04,  3.1560e+04, -4.3249e+04,  1.6687e+04,\n",
      "         8.6056e-02,  4.5908e+03, -4.9157e+03,  2.1283e+04,  1.1730e-01,\n",
      "        -3.1044e+04,  1.0141e+04, -5.0848e+04, -6.5922e+03, -1.8340e+04,\n",
      "        -4.6900e+04,  1.0329e-01, -1.3038e+04, -4.1153e+04,  1.6818e+04,\n",
      "         2.6289e+04, -5.0982e+03,  1.0356e+04,  4.8277e+04,  2.6474e+04,\n",
      "         6.6768e+03,  6.3278e+03,  1.8699e+04,  9.0486e+03,  1.4566e+02,\n",
      "        -1.7359e+04, -4.7979e-02, -4.9756e+04, -4.5747e-01,  5.3286e+04,\n",
      "         1.1778e+04,  1.2050e+04,  3.4422e+04,  2.1904e+04,  1.1007e+04,\n",
      "         3.7828e+03,  4.3447e+04,  2.9360e+03,  6.2490e+03,  1.0563e+04,\n",
      "         3.6384e+03, -2.9015e+04, -1.5869e+03,  4.0812e+04,  3.7580e+04,\n",
      "         2.0917e-01,  4.4111e+03,  4.0250e+04,  2.0930e-01, -5.6291e+04,\n",
      "         3.6062e+04, -2.5000e+04,  3.2612e-02, -2.4053e+04,  3.3958e+04,\n",
      "         2.7531e+04, -1.8132e+04, -1.2532e+04,  1.2572e-01,  1.5689e+04,\n",
      "        -1.1542e+04,  5.2027e+04, -2.3579e+04, -1.9040e-01, -4.7717e+03,\n",
      "         4.7475e+04, -9.8799e+03,  2.3048e+04, -8.3453e+03, -4.3272e+04,\n",
      "        -3.6756e+04, -1.7406e+04, -4.9682e+03, -1.6301e+04, -1.9611e-01,\n",
      "         5.1864e+04,  4.6349e+04,  5.6984e+04,  4.6794e-02, -7.5599e-02,\n",
      "        -2.2177e-01, -1.2275e+04, -5.6982e+04, -1.0564e-01,  9.7305e-02,\n",
      "         3.3499e+04,  3.0186e-03, -2.9046e+04,  4.6723e+04, -2.0410e+04,\n",
      "        -4.7558e-03, -1.5339e+04, -4.7001e-02, -2.5583e+04, -3.5751e+03,\n",
      "        -2.1029e-01, -7.0473e+03,  5.9210e+04, -3.3012e-03,  1.7953e+04,\n",
      "        -1.7747e+03,  1.1340e-01,  3.1822e+04, -3.9843e+02, -3.0053e+04,\n",
      "        -6.4501e-02, -1.8719e+03, -1.7350e+03,  1.6333e+04,  1.9489e+04,\n",
      "        -4.3442e+04, -1.3882e+03,  3.6777e+04,  2.4744e+04, -1.1511e+04,\n",
      "        -1.1171e+04,  4.4891e+03, -2.3507e+04,  2.0668e+04, -4.6430e+04,\n",
      "        -4.1521e+04, -2.7394e+04, -1.3146e+04,  5.2022e+04,  3.0565e+04,\n",
      "        -2.1610e+04], device='cuda:0')\n",
      "tensor([ 1.0556e+05,  2.2740e+05,  1.7599e-02,  4.7898e-02, -8.0411e-02,\n",
      "        -6.1186e+04, -1.5594e+05,  4.8673e-02,  1.0582e-01, -4.1300e+04,\n",
      "         1.0240e+05, -6.0655e+04, -6.3560e+03,  1.1556e+05, -1.7786e-02,\n",
      "         7.0112e-02,  1.6768e+05, -2.1145e+04,  2.6550e-01,  9.9007e+04,\n",
      "        -4.9371e+03,  4.0963e+04,  1.2323e+05,  1.3447e+03, -1.8159e+05,\n",
      "         2.0458e+05, -1.1286e+03, -7.7397e+04, -4.6056e+04,  1.0795e-01,\n",
      "        -3.3751e+04, -5.5082e+04,  4.8833e+03, -1.7931e+05, -1.1999e+05,\n",
      "         4.7733e+04,  5.0250e+04,  1.7207e+05, -3.4460e+04, -5.6201e+04,\n",
      "         1.5328e-01, -1.3980e+05, -1.4223e+03,  2.4119e+04, -1.2746e+05,\n",
      "         1.1099e-02,  1.2676e+05, -2.2154e+03, -2.5340e+04,  5.1240e+04,\n",
      "         9.6266e+04, -2.0559e+05,  7.7350e+04,  1.2108e+05, -7.5114e+04,\n",
      "        -9.1533e+04, -2.1070e+05,  2.2284e-02, -4.1726e+04, -2.3239e+04,\n",
      "         1.8905e+05,  3.7238e+04, -1.8577e+05, -5.1023e+04, -1.7622e-02,\n",
      "         2.4466e+04, -7.5012e+04, -5.6963e+04,  2.8190e+04, -2.3409e+04,\n",
      "        -1.7287e+05, -1.3504e+05,  1.6441e+05, -9.5778e+04, -2.1489e+04,\n",
      "         5.3484e+04,  8.1971e-02,  6.7922e+04,  1.2471e-01, -8.2469e+04,\n",
      "         1.6778e+05,  2.7922e+04, -3.7753e-02,  6.5503e+04,  6.7322e+04,\n",
      "         1.4869e+05, -9.9660e+04,  2.7250e-01, -1.0293e+05, -2.1970e+05,\n",
      "         1.4491e+05,  8.7969e+04, -9.6749e+04, -1.3620e+05, -1.0338e+05,\n",
      "        -2.8709e+04,  8.8748e+04,  2.0228e+05, -6.6668e-01, -3.9450e+04,\n",
      "        -1.6301e+05,  1.0511e+00,  7.0320e+04, -2.0460e+04, -1.9834e+05,\n",
      "         1.4721e+05,  8.6417e+04,  3.7553e+04,  1.3067e-02,  1.8559e+05,\n",
      "        -8.9837e+04,  1.1489e-02,  1.5139e+05,  1.8131e+04,  1.7114e+05,\n",
      "        -7.4014e+04, -2.1869e+05,  1.9359e+05,  7.8076e+03,  1.5246e+05,\n",
      "         6.2822e-05,  1.4616e+05, -1.1088e+05, -2.7023e+04,  6.7067e+04,\n",
      "        -1.0774e+03, -1.3909e+05, -6.4696e+04,  1.1406e+05, -1.6557e+04,\n",
      "         6.6743e-02, -6.8869e+04, -5.2885e+04, -1.6041e+05,  8.9828e-02,\n",
      "         3.5875e+04, -1.2995e+05,  1.6350e+05,  9.1161e+04, -9.7916e+03,\n",
      "         1.8850e+05,  7.9480e-02, -4.1903e+04,  1.8008e+05, -1.0471e+04,\n",
      "        -4.0425e+04, -4.6087e+04,  2.9838e+03, -1.8091e+05, -5.6073e+04,\n",
      "         1.7562e+04, -7.5239e+04, -8.2790e+04,  1.8622e+04,  5.2326e+04,\n",
      "         3.0964e+04, -3.7035e-02,  2.1358e+05, -3.5113e-01, -2.0151e+05,\n",
      "        -8.6062e+03, -3.9334e+04, -1.3773e+05, -7.7069e+04, -9.3118e+04,\n",
      "        -6.7300e+04, -2.0318e+05, -8.6757e+03, -2.0689e+03,  6.6503e+04,\n",
      "        -5.2686e+04,  1.4368e+05, -3.4352e+04, -1.0470e+05, -1.3600e+05,\n",
      "         1.6029e-01,  6.4470e+04, -1.1840e+05,  1.5898e-01,  1.8565e+05,\n",
      "        -7.1998e+04,  1.1360e+05,  2.5197e-02,  8.9124e+04, -1.0430e+05,\n",
      "        -7.4749e+04,  9.4840e+04,  9.3336e+04,  9.5708e-02, -6.2513e+04,\n",
      "        -1.3008e+04, -1.9861e+05,  1.3140e+04, -1.4562e-01,  1.0990e+05,\n",
      "        -2.2360e+05, -6.0285e+04, -1.3696e+05,  6.6690e+03,  1.7422e+05,\n",
      "         1.7797e+05,  1.1952e+05,  7.4974e+04,  4.8000e+04, -1.5004e-01,\n",
      "        -2.1692e+05, -1.7630e+05, -2.0196e+05,  3.5729e-02, -5.7692e-02,\n",
      "        -1.6844e-01,  8.7184e+04,  2.2184e+05, -8.0766e-02,  7.3860e-02,\n",
      "        -4.1346e+04,  2.9068e-03,  9.0280e+04, -2.0829e+05,  1.0549e+05,\n",
      "        -3.3814e-03,  7.4630e+04, -3.6944e-02,  1.2233e+05, -5.6840e+04,\n",
      "        -1.6174e-01,  1.1197e+05, -2.1638e+05, -2.1802e-03, -1.3340e+05,\n",
      "        -6.1177e+04,  8.6598e-02, -1.3329e+05, -3.0224e+04,  1.5933e+05,\n",
      "        -4.9096e-02,  8.9787e+04,  1.0542e+05,  6.4239e+03, -1.0303e+05,\n",
      "         2.1460e+05, -7.9980e+04, -1.5738e+05, -6.5582e+04, -1.2411e+04,\n",
      "         1.0056e+05,  6.3385e+04,  9.3114e+04, -1.0800e+05,  1.9368e+05,\n",
      "         1.2165e+05,  1.5749e+05,  8.4102e+04, -2.2553e+05, -3.8760e+04,\n",
      "        -2.0406e+03], device='cuda:0')\n"
     ]
    }
   ],
   "source": [
    "test_qid = 1133167\n",
    "test_pid = 6112590\n",
    "test_q_embed = net(generate_sparse(query_test_dict[test_qid]).to(CURRENT_DEVICE)).detach()\n",
    "test_p_embed = net(generate_sparse(passage_dict[test_pid]).to(CURRENT_DEVICE)).detach()\n",
    "test_score = torch.cosine_similarity(test_q_embed.unsqueeze(0), test_p_embed.unsqueeze(0)).item()\n",
    "print(test_score)\n",
    "print(test_p_embed)\n",
    "\n",
    "print(test_q_embed)"
   ]
  }
 ],
 "metadata": {
  "kernelspec": {
   "display_name": "Python 3",
   "language": "python",
   "name": "python3"
  },
  "language_info": {
   "codemirror_mode": {
    "name": "ipython",
    "version": 3
   },
   "file_extension": ".py",
   "mimetype": "text/x-python",
   "name": "python",
   "nbconvert_exporter": "python",
   "pygments_lexer": "ipython3",
   "version": "3.7.7"
  }
 },
 "nbformat": 4,
 "nbformat_minor": 1
}

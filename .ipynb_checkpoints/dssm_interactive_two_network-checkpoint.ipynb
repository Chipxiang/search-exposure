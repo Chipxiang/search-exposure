{
 "cells": [
  {
   "cell_type": "code",
   "execution_count": 2,
   "metadata": {},
   "outputs": [
    {
     "data": {
      "text/html": [
       "\n",
       "<style>\n",
       "    div#notebook-container    { width: 95%; }\n",
       "    div#menubar-container     { width: 65%; }\n",
       "    div#maintoolbar-container { width: 99%; }\n",
       "</style>\n"
      ],
      "text/plain": [
       "<IPython.core.display.HTML object>"
      ]
     },
     "metadata": {},
     "output_type": "display_data"
    }
   ],
   "source": [
    "import torch\n",
    "import torch.nn as nn\n",
    "from torch import optim\n",
    "import csv\n",
    "import os\n",
    "import pickle\n",
    "import random\n",
    "import datetime\n",
    "import math\n",
    "import numpy as np\n",
    "import fasttext\n",
    "from IPython.display import display, HTML\n",
    "\n",
    "display(HTML(data=\"\"\"\n",
    "<style>\n",
    "    div#notebook-container    { width: 95%; }\n",
    "    div#menubar-container     { width: 65%; }\n",
    "    div#maintoolbar-container { width: 99%; }\n",
    "</style>\n",
    "\"\"\"))\n",
    "\n",
    "def print_message(s):\n",
    "    print(\"[{}] {}\".format(datetime.datetime.utcnow().strftime(\"%b %d, %H:%M:%S\"), s), flush=True)"
   ]
  },
  {
   "cell_type": "code",
   "execution_count": 3,
   "metadata": {},
   "outputs": [],
   "source": [
    "POS_NEG_DICT_PATH = \"/home/jianx/data/qid_pos_neg.dict\"\n",
    "PASSAGE_DICT_PATH = \"/home/jianx/data/passages.dict\"\n",
    "QUERY_TRAIN_DICT_PATH = \"/home/jianx/data/queries_train.dict\"\n",
    "QUERY_EVAL_DICT_PATH = \"/home/jianx/data/queries_eval.dict\"\n",
    "QUERY_DEV_DICT_PATH = \"/home/jianx/data/queries_dev.dict\"\n",
    "TOP_DICT_PATH = \"/home/jianx/data/initial_ranking.dict\"\n",
    "RATING_DICT_PATH = \"/home/jianx/data/rel_scores.dict\"\n",
    "QUERY_TEST_DICT_PATH = \"/home/jianx/data/queries_test.dict\""
   ]
  },
  {
   "cell_type": "code",
   "execution_count": 4,
   "metadata": {},
   "outputs": [],
   "source": [
    "def obj_reader(path):\n",
    "    with open(path, 'rb') as handle:\n",
    "        return pickle.loads(handle.read())\n",
    "\n",
    "\n",
    "def obj_writer(obj, path):\n",
    "    with open(path, 'wb') as handle:\n",
    "        pickle.dump(obj, handle)\n",
    "\n",
    "\n",
    "def load():\n",
    "    pos_neg_dict = obj_reader(POS_NEG_DICT_PATH)\n",
    "    query_dict = obj_reader(QUERY_TRAIN_DICT_PATH)\n",
    "    passage_dict = obj_reader(PASSAGE_DICT_PATH)\n",
    "    top_dict = obj_reader(TOP_DICT_PATH)\n",
    "    rating_dict = obj_reader(RATING_DICT_PATH)\n",
    "    query_test_dict = obj_reader(QUERY_TEST_DICT_PATH)\n",
    "    return pos_neg_dict, query_dict, passage_dict, top_dict, rating_dict, query_test_dict"
   ]
  },
  {
   "cell_type": "code",
   "execution_count": 5,
   "metadata": {},
   "outputs": [
    {
     "name": "stdout",
     "output_type": "stream",
     "text": [
      "[Jul 08, 23:27:31] Loading data\n",
      "[Jul 08, 23:35:04] Data successfully loaded.\n",
      "[Jul 08, 23:35:04] Positive Negative Pair dict size: 400782\n",
      "[Jul 08, 23:35:04] Num of queries: 808731\n",
      "[Jul 08, 23:35:04] Num of passages: 8841823\n"
     ]
    }
   ],
   "source": [
    "print_message(\"Loading data\")\n",
    "pos_neg_dict_g, query_dict_g, passage_dict_g, top_dict_g, rating_dict_g, query_test_dict_g = load()\n",
    "print_message(\"Data successfully loaded.\")\n",
    "print_message(\"Positive Negative Pair dict size: \" + str(len(pos_neg_dict_g)))\n",
    "print_message(\"Num of queries: \" + str(len(query_dict_g)))\n",
    "print_message(\"Num of passages: \" + str(len(passage_dict_g)))"
   ]
  },
  {
   "cell_type": "code",
   "execution_count": 147,
   "metadata": {},
   "outputs": [],
   "source": [
    "NUM_HIDDEN_NODES = 256\n",
    "NUM_HIDDEN_LAYERS = 1\n",
    "DROPOUT_RATE = 0.1\n",
    "\n",
    "class OldDSSM(torch.nn.Module):\n",
    "\n",
    "    def __init__(self, embed_size):\n",
    "        super(OldDSSM, self).__init__()\n",
    "        layers = []\n",
    "        last_dim = VOCAB_LEN\n",
    "        for i in range(NUM_HIDDEN_LAYERS):\n",
    "            layers.append(nn.Linear(last_dim, NUM_HIDDEN_NODES))\n",
    "            layers.append(nn.ReLU())\n",
    "            layers.append(nn.LayerNorm(NUM_HIDDEN_NODES))\n",
    "            layers.append(nn.Dropout(p=DROPOUT_RATE))\n",
    "            last_dim = NUM_HIDDEN_NODES\n",
    "        layers.append(nn.Linear(last_dim, embed_size))\n",
    "        self.model = nn.Sequential(*layers)\n",
    "    def forward(self, x):\n",
    "        return self.model(x)\n",
    "\n",
    "    def parameter_count(self):\n",
    "        return sum(p.numel() for p in self.parameters() if p.requires_grad)\n",
    "\n",
    "# Define the network\n",
    "class DSSM(torch.nn.Module):\n",
    "\n",
    "    def __init__(self, embed_size):\n",
    "        super(DSSM, self).__init__()\n",
    "        self.embed = nn.Embedding(VOCAB_LEN, NUM_HIDDEN_NODES, sparse=True)\n",
    "        layers = []\n",
    "        for i in range(NUM_HIDDEN_LAYERS):\n",
    "            layers.append(nn.Linear(NUM_HIDDEN_NODES, NUM_HIDDEN_NODES))\n",
    "            layers.append(nn.ReLU())\n",
    "            layers.append(nn.LayerNorm(NUM_HIDDEN_NODES))\n",
    "            layers.append(nn.Dropout(p=DROPOUT_RATE))\n",
    "        layers.append(nn.Linear(NUM_HIDDEN_NODES, embed_size))\n",
    "        self.fc = nn.Sequential(*layers)\n",
    "        \n",
    "    def forward(self, x):\n",
    "        y = self.embed(x).sum(dim=1)\n",
    "        y = self.fc(y)\n",
    "        return y\n",
    "\n",
    "    def parameter_count(self):\n",
    "        return sum(p.numel() for p in self.parameters() if p.requires_grad)\n",
    "    \n",
    "class CDSSM(torch.nn.Module):\n",
    "    \n",
    "    def __init__(self, embed_size):\n",
    "        super(CDSSM, self).__init__()\n",
    "        self.embed = nn.Embedding(VOCAB_LEN, NUM_HIDDEN_NODES, sparse=True)\n",
    "        self.conv = nn.Conv1d(NUM_HIDDEN_NODES, NUM_HIDDEN_NODES, kernel_size=3)\n",
    "        layers = []\n",
    "        for i in range(NUM_HIDDEN_LAYERS):\n",
    "            layers.append(nn.Linear(NUM_HIDDEN_NODES, NUM_HIDDEN_NODES))\n",
    "            layers.append(nn.ReLU())\n",
    "            layers.append(nn.LayerNorm(NUM_HIDDEN_NODES))\n",
    "            layers.append(nn.Dropout(p=DROPOUT_RATE))\n",
    "        layers.append(nn.Linear(NUM_HIDDEN_NODES, embed_size))\n",
    "        self.fc = nn.Sequential(*layers)\n",
    "\n",
    "    def forward(self, x):\n",
    "        y = self.embed(x)\n",
    "        y = y.permute(0, 2, 1)\n",
    "        y = self.conv(y)\n",
    "        y, _ = torch.max(y, dim=-1)\n",
    "        y = self.fc(y)\n",
    "        return y\n",
    "    \n",
    "    def parameter_count(self):\n",
    "        return sum(p.numel() for p in self.parameters() if p.requires_grad)\n",
    "\n",
    "class EmbedDSSM(torch.nn.Module):\n",
    "\n",
    "    def __init__(self, embed_size, vocab_count, embedding):\n",
    "        super(EmbedDSSM, self).__init__()\n",
    "        layer_0 = nn.Linear(vocab_count, NUM_HIDDEN_NODES)\n",
    "        layer_0.weight = nn.Parameter(embedding.T, requires_grad=True)\n",
    "        layers = [layer_0]\n",
    "#         layers = []\n",
    "        last_dim = NUM_HIDDEN_NODES\n",
    "        for i in range(NUM_HIDDEN_LAYERS):\n",
    "            if i != 0:\n",
    "                layers.append(nn.Linear(last_dim, NUM_HIDDEN_NODES))\n",
    "            layers.append(nn.ReLU())\n",
    "            layers.append(nn.LayerNorm(NUM_HIDDEN_NODES))\n",
    "            layers.append(nn.Dropout(p=DROPOUT_RATE))\n",
    "            last_dim = NUM_HIDDEN_NODES\n",
    "        layers.append(nn.Linear(last_dim, embed_size))\n",
    "        self.model = nn.Sequential(*layers)\n",
    "        self.embedding = embedding\n",
    "    def forward(self, x):\n",
    "#         x = torch.mm(x, self.embedding)\n",
    "        return self.model(x)\n",
    "\n",
    "    def parameter_count(self):\n",
    "        return sum(p.numel() for p in self.parameters() if p.requires_grad)"
   ]
  },
  {
   "cell_type": "code",
   "execution_count": 148,
   "metadata": {},
   "outputs": [],
   "source": [
    "VOCAB_LEN = 100000\n",
    "MAX_QUERY_TERMS = 20\n",
    "MAX_PASSAGE_TERMS = 200\n",
    "\n",
    "def generate_sparse(idx, vocab_len=VOCAB_LEN):\n",
    "    index_tensor = torch.LongTensor([idx])\n",
    "    value_tensor = torch.Tensor([1/len(idx)] * len(idx))\n",
    "    sparse_tensor = torch.sparse.FloatTensor(index_tensor, value_tensor, torch.Size([vocab_len, ]))\n",
    "    return sparse_tensor\n",
    "\n",
    "\n",
    "def mini_batch(batch_size, device, pos_neg_dict, query_dict, passage_dict):\n",
    "    query_list = list(pos_neg_dict.keys())\n",
    "    queries = []\n",
    "    pos = []\n",
    "    neg = []\n",
    "    while len(queries) < batch_size:\n",
    "        qid = random.sample(query_list, 1)[0]\n",
    "        pos_neg_pair = random.sample(pos_neg_dict[qid], 1)\n",
    "        pos_pid = pos_neg_pair[0][0]\n",
    "        neg_pid = pos_neg_pair[0][1]\n",
    "        q_seq = query_dict[qid]\n",
    "        pos_seq = passage_dict[pos_pid]\n",
    "        neg_seq = passage_dict[neg_pid]\n",
    "        if q_seq != [] and pos_seq != [] and neg_seq != []:\n",
    "            if USE_SPARSE_INPUT:\n",
    "                queries.append(generate_sparse(q_seq))\n",
    "                pos.append(generate_sparse(pos_seq))\n",
    "                neg.append(generate_sparse(neg_seq))\n",
    "            else:\n",
    "                queries.append(torch.tensor(q_seq[:MAX_QUERY_TERMS] + [100000]*(MAX_QUERY_TERMS - len(q_seq)), dtype=torch.int64))\n",
    "                pos.append(torch.tensor(pos_seq[:MAX_PASSAGE_TERMS] + [100000]*(MAX_PASSAGE_TERMS - len(pos_seq)), dtype=torch.int64))\n",
    "                neg.append(torch.tensor(neg_seq[:MAX_PASSAGE_TERMS] + [100000]*(MAX_PASSAGE_TERMS - len(neg_seq)), dtype=torch.int64))\n",
    "    labels = [0 for i in range(batch_size)]\n",
    "    return torch.stack(queries).to(device), torch.stack(pos).to(device), torch.stack(neg).to(device), labels\n",
    "\n",
    "\n",
    "def train(net, net_q, epoch_size, batch_size, optimizer, optimizer_q, device, pos_neg_dict, query_dict,\n",
    "          passage_dict):\n",
    "    criterion = nn.CrossEntropyLoss()\n",
    "    train_loss = 0.0\n",
    "    net.train()\n",
    "    net.q()\n",
    "    for mb_idx in range(epoch_size):\n",
    "        # Read in a new mini-batch of data!\n",
    "        queries, pos, neg, labels = mini_batch(batch_size, device, pos_neg_dict, query_dict,\n",
    "                                               passage_dict)\n",
    "        optimizer.zero_grad()\n",
    "        q_embed = net_q(queries)\n",
    "        pos_embed = net(pos)\n",
    "        neg_embed = net(neg)\n",
    "        neg_rand_embed = torch.cat((neg_embed[1:,:], neg_embed[0:1,:]), 0)\n",
    "        out_pos = torch.cosine_similarity(q_embed, pos_embed).unsqueeze(0).T\n",
    "        out_neg = torch.cosine_similarity(q_embed, neg_embed).unsqueeze(0).T\n",
    "        out_neg_rand = torch.cosine_similarity(q_embed, neg_rand_embed).unsqueeze(0).T\n",
    "        out = torch.cat((out_pos, out_neg), -1)\n",
    "        out_rand = torch.cat((out_pos, out_neg_rand), -1)\n",
    "        out = torch.cat((out, out_rand), 0)\n",
    "        out = out * 10\n",
    "        labels = torch.tensor(labels).to(device)\n",
    "        labels = torch.cat((labels, labels), 0)\n",
    "        loss = criterion(out, labels)\n",
    "        loss.backward()\n",
    "        optimizer.step()\n",
    "        optimizer_q.step()\n",
    "        train_loss += loss.item()\n",
    "        # print_message(str(mb_idx) + \" iteration: \" + str(train_loss / (mb_idx + 1)))\n",
    "    return train_loss / epoch_size"
   ]
  },
  {
   "cell_type": "code",
   "execution_count": 149,
   "metadata": {},
   "outputs": [],
   "source": [
    "def test_loader(net, net_q, device, test_batch, top_dict, query_test_dict, passage_dict, rating_dict):\n",
    "    net.eval()\n",
    "    device = device\n",
    "    qid_list = list(rating_dict.keys())\n",
    "    # sample test_batch of non-empty qids\n",
    "    qids = []\n",
    "    queries = []\n",
    "    while len(qids) < test_batch:\n",
    "        qid = random.sample(qid_list, 1)[0]\n",
    "        q_seq = query_test_dict[qid]\n",
    "        if q_seq != [] and qid not in qids:\n",
    "            qids.append(qid)\n",
    "            if USE_SPARSE_INPUT:\n",
    "                queries.append(generate_sparse(q_seq).to(device))\n",
    "            else:\n",
    "                queries.append(torch.tensor(q_seq[:MAX_QUERY_TERMS] + [100000]*(MAX_QUERY_TERMS - len(q_seq)), dtype=torch.int64).unsqueeze(0).to(device))\n",
    "    # compute cosine similarity\n",
    "    result_dict = {}\n",
    "    for i, qid in enumerate(qids):\n",
    "        top_list = top_dict[qid]\n",
    "#         q_embed = net(queries[i].unsqueeze(0)).detach()\n",
    "        q_embed = net_q(queries[i]).detach()\n",
    "        q_results = {}\n",
    "        for j, pid in enumerate(top_list):\n",
    "            p_seq = passage_dict[pid]\n",
    "            if not p_seq:\n",
    "                score = -1\n",
    "            else:\n",
    "                if USE_SPARSE_INPUT:\n",
    "#                     p_embed = net(generate_sparse(p_seq).unsqueeze(0).to(device)).detach()\n",
    "#                     score = torch.cosine_similarity(q_embed, p_embed).item()\n",
    "                    p_embed = net(generate_sparse(p_seq).to(device)).detach()\n",
    "                    score = torch.cosine_similarity(q_embed.unsqueeze(0), p_embed.unsqueeze(0)).item()\n",
    "                else:\n",
    "                    p_embed = net(torch.tensor(p_seq[:MAX_PASSAGE_TERMS] + [100000]*(MAX_PASSAGE_TERMS - len(p_seq)), dtype=torch.int64).unsqueeze(0).to(device)).detach()\n",
    "                    score = torch.cosine_similarity(q_embed, p_embed).item()\n",
    "            q_results[pid] = score\n",
    "        result_dict[qid] = q_results\n",
    "    #print_message(sorted(result_dict[qid].items(), key=lambda x: (x[1], [-1, 1][random.randrange(2)]), reverse=True))\n",
    "    return result_dict\n",
    "\n",
    "\n",
    "def get_ndcg_precision_rr(true_dict, test_dict, rank):\n",
    "    sorted_result = sorted(test_dict.items(), key=lambda x: (x[1], [-1,1][random.randrange(2)]), reverse=True)\n",
    "    original_rank = rank\n",
    "    rank = min(rank, len(sorted_result))\n",
    "    cumulative_gain = 0\n",
    "    num_positive = 0\n",
    "    rr = float(\"NaN\")\n",
    "    for i in range(len(sorted_result)):\n",
    "        pid = sorted_result[i][0]\n",
    "        if pid in true_dict:\n",
    "            rr = 1 / (i + 1)\n",
    "            break\n",
    "    for i in range(rank):\n",
    "        pid = sorted_result[i][0]\n",
    "        if pid in true_dict:\n",
    "            num_positive += 1\n",
    "    sorted_result = sorted(test_dict.items(), key=lambda x: x[1], reverse=True)\n",
    "    for i in range(rank):\n",
    "        pid = sorted_result[i][0]\n",
    "        relevance = 0\n",
    "        if pid in true_dict:\n",
    "            relevance = true_dict[pid]\n",
    "        discounted_gain = relevance / math.log2(2 + i)\n",
    "        cumulative_gain += discounted_gain\n",
    "    sorted_ideal = sorted(true_dict.items(), key=lambda x: x[1], reverse=True)\n",
    "    ideal_gain = 0\n",
    "    for i in range(rank):\n",
    "        relevance = 0\n",
    "        if i < len(sorted_ideal):\n",
    "            relevance = sorted_ideal[i][1]\n",
    "        discounted_gain = relevance / math.log2(2 + i)\n",
    "        ideal_gain += discounted_gain\n",
    "    ndcg = 0\n",
    "    if ideal_gain != 0:\n",
    "         ndcg = cumulative_gain / ideal_gain\n",
    "    return ndcg, num_positive / original_rank, rr\n",
    "\n",
    "\n",
    "def test(net, net_q, device, test_batch, top_dict, query_test_dict, passage_dict, rating_dict, rank):\n",
    "    result_dict = test_loader(net, net_q, device, test_batch, top_dict, query_test_dict, passage_dict, rating_dict)\n",
    "    qids = list(result_dict.keys())\n",
    "    result_ndcg = []\n",
    "    result_prec = []\n",
    "    result_rr = []\n",
    "    for qid in qids:\n",
    "        ndcg, prec, rr = get_ndcg_precision_rr(rating_dict[qid], result_dict[qid], rank)\n",
    "        result_ndcg.append(ndcg)\n",
    "        result_prec.append(prec)\n",
    "        result_rr.append(rr)\n",
    "    avg_ndcg = np.nanmean(result_ndcg)\n",
    "    avg_prec = np.nanmean(result_prec)\n",
    "    avg_rr = np.nanmean(result_rr)\n",
    "    return avg_ndcg, avg_prec, avg_rr"
   ]
  },
  {
   "cell_type": "code",
   "execution_count": 154,
   "metadata": {},
   "outputs": [],
   "source": [
    "# NUM_EPOCHS = 128\n",
    "# NUM_EPOCHS = 2\n",
    "NUM_EPOCHS = 256\n",
    "EPOCH_SIZE = 1024\n",
    "# EPOCH_SIZE = 2\n",
    "BATCH_SIZE = 1024\n",
    "LEARNING_RATE = 0.001\n",
    "EMBED_SIZE = 256\n",
    "USE_SPARSE_INPUT = True"
   ]
  },
  {
   "cell_type": "code",
   "execution_count": 100,
   "metadata": {},
   "outputs": [],
   "source": [
    "# Train word embedding model\n",
    "IN_FILE = \"/home/jianx/data/processed_passages.txt\"\n",
    "def generate_embeddings(in_file, model_file):\n",
    "    embeddings = fasttext.train_unsupervised(in_file, model='skipgram', dim=NUM_HIDDEN_NODES, bucket=10000, minCount=1, minn=1, maxn=0, ws=10, epoch=5)\n",
    "    embeddings.save_model(model_file)\n",
    "def get_pretrained_embeddings(model_file):\n",
    "    model = fasttext.load_model(model_file)\n",
    "    embed_size = model.get_input_matrix().shape[1]\n",
    "    pretrained_embeddings = torch.FloatTensor(model.get_input_matrix())\n",
    "    vocab = model.get_words()\n",
    "    return vocab, pretrained_embeddings"
   ]
  },
  {
   "cell_type": "code",
   "execution_count": 101,
   "metadata": {},
   "outputs": [],
   "source": [
    "# train and save word_embedding model\n",
    "# generate_embeddings(IN_FILE, model_file = \"./results/skipgram.model\")"
   ]
  },
  {
   "cell_type": "code",
   "execution_count": 102,
   "metadata": {},
   "outputs": [
    {
     "name": "stderr",
     "output_type": "stream",
     "text": [
      "Warning : `load_model` does not return WordVectorModel or SupervisedModel any more, but a `FastText` object which is very similar.\n"
     ]
    },
    {
     "name": "stdout",
     "output_type": "stream",
     "text": [
      "100000\n"
     ]
    }
   ],
   "source": [
    "# load pretrained model\n",
    "vocab, pretrained_embeddings = get_pretrained_embeddings(model_file = \"./results/skipgram.model\")\n",
    "vocab_count = pretrained_embeddings.size()[0] - 1\n",
    "print(vocab_count)"
   ]
  },
  {
   "cell_type": "code",
   "execution_count": 103,
   "metadata": {},
   "outputs": [],
   "source": [
    "# pretrained_model = fasttext.load_model(\"./results/skipgram.model\")"
   ]
  },
  {
   "cell_type": "code",
   "execution_count": 104,
   "metadata": {},
   "outputs": [],
   "source": [
    "# original_vocab = set(w.lower() for w in open(IN_FILE).read().split())"
   ]
  },
  {
   "cell_type": "code",
   "execution_count": 1,
   "metadata": {},
   "outputs": [
    {
     "ename": "NameError",
     "evalue": "name 'vocab' is not defined",
     "output_type": "error",
     "traceback": [
      "\u001b[0;31m---------------------------------------------------------------------------\u001b[0m",
      "\u001b[0;31mNameError\u001b[0m                                 Traceback (most recent call last)",
      "\u001b[0;32m<ipython-input-1-cce3651cb2b0>\u001b[0m in \u001b[0;36m<module>\u001b[0;34m\u001b[0m\n\u001b[0;32m----> 1\u001b[0;31m \u001b[0mpretrained_vocab\u001b[0m \u001b[0;34m=\u001b[0m \u001b[0mset\u001b[0m\u001b[0;34m(\u001b[0m\u001b[0mvocab\u001b[0m\u001b[0;34m[\u001b[0m\u001b[0;36m1\u001b[0m\u001b[0;34m:\u001b[0m\u001b[0;34m]\u001b[0m\u001b[0;34m)\u001b[0m\u001b[0;34m\u001b[0m\u001b[0;34m\u001b[0m\u001b[0m\n\u001b[0m\u001b[1;32m      2\u001b[0m \u001b[0mlen\u001b[0m\u001b[0;34m(\u001b[0m\u001b[0mpretrained_vocab\u001b[0m\u001b[0;34m)\u001b[0m\u001b[0;34m\u001b[0m\u001b[0;34m\u001b[0m\u001b[0m\n",
      "\u001b[0;31mNameError\u001b[0m: name 'vocab' is not defined"
     ]
    }
   ],
   "source": [
    "pretrained_vocab = set(vocab[1:])\n",
    "len(pretrained_vocab)"
   ]
  },
  {
   "cell_type": "code",
   "execution_count": 106,
   "metadata": {},
   "outputs": [],
   "source": [
    "# len(original_vocab)"
   ]
  },
  {
   "cell_type": "code",
   "execution_count": 107,
   "metadata": {},
   "outputs": [],
   "source": [
    "# diff_vocab = pretrained_vocab.difference(original_vocab)\n",
    "# print(diff_vocab)"
   ]
  },
  {
   "cell_type": "code",
   "execution_count": 108,
   "metadata": {},
   "outputs": [],
   "source": [
    "VOCAB_PATH = \"/home/jianx/data/vocabs_ver2.csv\"\n",
    "with open(VOCAB_PATH, mode='r') as vocab_file:\n",
    "    reader = csv.reader(vocab_file)\n",
    "    old_vocab = {rows[0]:i for i, rows in enumerate(reader)}\n",
    "reorder_index = []\n",
    "for word in pretrained_vocab:\n",
    "    reorder_index.append(old_vocab[word])"
   ]
  },
  {
   "cell_type": "code",
   "execution_count": 109,
   "metadata": {},
   "outputs": [],
   "source": [
    "reorder_embeddings = pretrained_embeddings[reorder_index,:]"
   ]
  },
  {
   "cell_type": "code",
   "execution_count": 151,
   "metadata": {},
   "outputs": [
    {
     "name": "stdout",
     "output_type": "stream",
     "text": [
      "torch.Size([100000, 256])\n"
     ]
    }
   ],
   "source": [
    "print(reorder_embeddings.shape)"
   ]
  },
  {
   "cell_type": "code",
   "execution_count": 155,
   "metadata": {},
   "outputs": [
    {
     "name": "stdout",
     "output_type": "stream",
     "text": [
      "[Jul 07, 19:49:42] cuda:1\n",
      "[Jul 07, 19:49:42] Num of epochs:64\n",
      "[Jul 07, 19:49:42] Epoch size:1024\n",
      "[Jul 07, 19:49:42] Batch size:1024\n",
      "[Jul 07, 19:49:42] Learning rate:0.001\n",
      "[Jul 07, 19:49:42] Embedding size:256\n"
     ]
    }
   ],
   "source": [
    "CURRENT_DEVICE = torch.device(\"cuda:1\")\n",
    "print_message(CURRENT_DEVICE)\n",
    "print_message(\"Num of epochs:{}\".format(NUM_EPOCHS))\n",
    "print_message(\"Epoch size:{}\".format(EPOCH_SIZE))\n",
    "print_message(\"Batch size:{}\".format(BATCH_SIZE))\n",
    "print_message(\"Learning rate:{}\".format(LEARNING_RATE))\n",
    "print_message(\"Embedding size:{}\".format(EMBED_SIZE))\n",
    "RANK = 10\n",
    "TEST_BATCH = 43\n",
    "MODEL_PATH = \"./results/\"\n",
    "if not os.path.exists(MODEL_PATH):\n",
    "    os.makedirs(MODEL_PATH)"
   ]
  },
  {
   "cell_type": "code",
   "execution_count": 156,
   "metadata": {
    "scrolled": false
   },
   "outputs": [
    {
     "name": "stdout",
     "output_type": "stream",
     "text": [
      "EmbedDSSM(\n",
      "  (model): Sequential(\n",
      "    (0): Linear(in_features=100000, out_features=256, bias=True)\n",
      "    (1): ReLU()\n",
      "    (2): LayerNorm((256,), eps=1e-05, elementwise_affine=True)\n",
      "    (3): Dropout(p=0.1, inplace=False)\n",
      "    (4): Linear(in_features=256, out_features=256, bias=True)\n",
      "  )\n",
      ")\n",
      "[Jul 07, 19:57:29] Epoch:0, loss:0.37849752375041135, NDCG:0.2558852167916278, P:0.3186046511627907, RR:0.5552409637120662\n"
     ]
    },
    {
     "name": "stderr",
     "output_type": "stream",
     "text": [
      "/anaconda/envs/py37_pytorch/lib/python3.7/site-packages/torch/serialization.py:402: UserWarning: Couldn't retrieve source code for container of type EmbedDSSM. It won't be checked for correctness upon loading.\n",
      "  \"type \" + obj.__name__ + \". It won't be checked \"\n"
     ]
    },
    {
     "name": "stdout",
     "output_type": "stream",
     "text": [
      "[Jul 07, 20:04:48] Epoch:1, loss:0.349938079045387, NDCG:0.26018638126657456, P:0.32558139534883723, RR:0.5599370721831018\n",
      "[Jul 07, 20:12:06] Epoch:2, loss:0.33656011361745186, NDCG:0.2668231574636913, P:0.3325581395348837, RR:0.5873960879774833\n",
      "[Jul 07, 20:19:26] Epoch:3, loss:0.3274084331933409, NDCG:0.26927051449187855, P:0.33488372093023255, RR:0.5984655273193868\n",
      "[Jul 07, 20:26:46] Epoch:4, loss:0.3206791755219456, NDCG:0.2667286704842434, P:0.3302325581395349, RR:0.5984217338258974\n",
      "[Jul 07, 20:34:06] Epoch:5, loss:0.314588021079544, NDCG:0.2717002008573091, P:0.3395348837209302, RR:0.5974438015756648\n",
      "[Jul 07, 20:41:25] Epoch:6, loss:0.3096695248677861, NDCG:0.2761163239919541, P:0.34418604651162793, RR:0.6129024472600659\n",
      "[Jul 07, 20:48:41] Epoch:7, loss:0.3056095273059327, NDCG:0.2771257721390561, P:0.34651162790697676, RR:0.5985329312391371\n",
      "[Jul 07, 20:55:58] Epoch:8, loss:0.30217500691651367, NDCG:0.27606909897141463, P:0.34418604651162793, RR:0.5994583957810321\n",
      "[Jul 07, 21:03:14] Epoch:9, loss:0.29819702613167465, NDCG:0.2786382158516817, P:0.3488372093023256, RR:0.5993443954025052\n",
      "[Jul 07, 21:10:31] Epoch:10, loss:0.2947583442146424, NDCG:0.27901817160956605, P:0.34883720930232565, RR:0.6031077181666674\n",
      "[Jul 07, 21:17:49] Epoch:11, loss:0.29208453817409463, NDCG:0.28241934810187963, P:0.35581395348837214, RR:0.6054148892526108\n",
      "[Jul 07, 21:25:07] Epoch:12, loss:0.28882053249981254, NDCG:0.2851091664677119, P:0.36046511627906974, RR:0.6068131316804425\n",
      "[Jul 07, 21:32:26] Epoch:13, loss:0.28702750854426995, NDCG:0.2874485704376553, P:0.36279069767441857, RR:0.6057593854510832\n",
      "[Jul 07, 21:39:46] Epoch:14, loss:0.28529891154903453, NDCG:0.2868107119618854, P:0.36046511627906974, RR:0.5952365868462209\n",
      "[Jul 07, 21:47:06] Epoch:15, loss:0.2822691287728958, NDCG:0.28639474200702986, P:0.36046511627906974, RR:0.5864609294268558\n",
      "[Jul 07, 21:54:25] Epoch:16, loss:0.28033612319268286, NDCG:0.28748101935558973, P:0.3627906976744186, RR:0.5838125208989813\n",
      "[Jul 07, 22:01:46] Epoch:17, loss:0.27794939136947505, NDCG:0.2898289101722505, P:0.36511627906976746, RR:0.5838437933855171\n",
      "[Jul 07, 22:09:07] Epoch:18, loss:0.276357094568084, NDCG:0.29160275421133497, P:0.36744186046511623, RR:0.5855245969250015\n",
      "[Jul 07, 22:16:23] Epoch:19, loss:0.2747137091209879, NDCG:0.29110827766801484, P:0.36511627906976746, RR:0.584222807702749\n",
      "[Jul 07, 22:23:43] Epoch:20, loss:0.2726123354077572, NDCG:0.2932411087975096, P:0.3697674418604651, RR:0.584364916955021\n",
      "[Jul 07, 22:31:02] Epoch:21, loss:0.2713409650459653, NDCG:0.2912319070622621, P:0.3651162790697674, RR:0.5851435826890841\n",
      "[Jul 07, 22:38:19] Epoch:22, loss:0.2691528493887745, NDCG:0.2920258804372844, P:0.36744186046511623, RR:0.5850058560465854\n",
      "[Jul 07, 22:45:39] Epoch:23, loss:0.2678120749333175, NDCG:0.2929551633628906, P:0.36744186046511623, RR:0.5872655093540907\n",
      "[Jul 07, 22:52:44] Epoch:24, loss:0.26684101660794113, NDCG:0.2927227479137043, P:0.3697674418604651, RR:0.5873014373224024\n",
      "[Jul 07, 23:00:03] Epoch:25, loss:0.2655533283104887, NDCG:0.29386065537078676, P:0.36744186046511634, RR:0.588211582974417\n",
      "[Jul 07, 23:07:26] Epoch:26, loss:0.2637490085180616, NDCG:0.2948747532751826, P:0.36744186046511623, RR:0.5896182421129197\n",
      "[Jul 07, 23:14:48] Epoch:27, loss:0.2620570497238077, NDCG:0.2958573930801455, P:0.3674418604651163, RR:0.5912726977979601\n",
      "[Jul 07, 23:22:09] Epoch:28, loss:0.2612453574402025, NDCG:0.2967612492158531, P:0.3674418604651163, RR:0.5921435268184639\n",
      "[Jul 07, 23:29:30] Epoch:29, loss:0.25995645378134213, NDCG:0.29753682180899166, P:0.36511627906976746, RR:0.5951681225288937\n",
      "[Jul 07, 23:36:49] Epoch:30, loss:0.2588139121799031, NDCG:0.29653972202860396, P:0.36279069767441857, RR:0.592454485164681\n",
      "[Jul 07, 23:44:06] Epoch:31, loss:0.25729946252249647, NDCG:0.2977756092121153, P:0.36744186046511634, RR:0.593530202061912\n",
      "[Jul 07, 23:51:24] Epoch:32, loss:0.25702366685436573, NDCG:0.2980842964475544, P:0.3674418604651163, RR:0.5954291514019536\n"
     ]
    },
    {
     "ename": "KeyboardInterrupt",
     "evalue": "",
     "output_type": "error",
     "traceback": [
      "\u001b[0;31m---------------------------------------------------------------------------\u001b[0m",
      "\u001b[0;31mKeyboardInterrupt\u001b[0m                         Traceback (most recent call last)",
      "\u001b[0;32m<ipython-input-156-13a4df29674c>\u001b[0m in \u001b[0;36m<module>\u001b[0;34m\u001b[0m\n\u001b[1;32m     10\u001b[0m \u001b[0;32mfor\u001b[0m \u001b[0mep_idx\u001b[0m \u001b[0;32min\u001b[0m \u001b[0mrange\u001b[0m\u001b[0;34m(\u001b[0m\u001b[0mNUM_EPOCHS\u001b[0m\u001b[0;34m)\u001b[0m\u001b[0;34m:\u001b[0m\u001b[0;34m\u001b[0m\u001b[0;34m\u001b[0m\u001b[0m\n\u001b[1;32m     11\u001b[0m     train_loss = train(net, EPOCH_SIZE, BATCH_SIZE, optimizer, CURRENT_DEVICE, pos_neg_dict_g,\n\u001b[0;32m---> 12\u001b[0;31m                        query_dict_g, passage_dict_g)\n\u001b[0m\u001b[1;32m     13\u001b[0m     \u001b[0mavg_ndcg\u001b[0m\u001b[0;34m,\u001b[0m \u001b[0mavg_prec\u001b[0m\u001b[0;34m,\u001b[0m \u001b[0mavg_rr\u001b[0m \u001b[0;34m=\u001b[0m \u001b[0mtest\u001b[0m\u001b[0;34m(\u001b[0m\u001b[0mnet\u001b[0m\u001b[0;34m,\u001b[0m \u001b[0mCURRENT_DEVICE\u001b[0m\u001b[0;34m,\u001b[0m \u001b[0mTEST_BATCH\u001b[0m\u001b[0;34m,\u001b[0m \u001b[0mtop_dict_g\u001b[0m\u001b[0;34m,\u001b[0m \u001b[0mquery_test_dict_g\u001b[0m\u001b[0;34m,\u001b[0m \u001b[0mpassage_dict_g\u001b[0m\u001b[0;34m,\u001b[0m \u001b[0mrating_dict_g\u001b[0m\u001b[0;34m,\u001b[0m \u001b[0mRANK\u001b[0m\u001b[0;34m)\u001b[0m\u001b[0;34m\u001b[0m\u001b[0;34m\u001b[0m\u001b[0m\n\u001b[1;32m     14\u001b[0m     \u001b[0mprint_message\u001b[0m\u001b[0;34m(\u001b[0m\u001b[0;34m\"Epoch:{}, loss:{}, NDCG:{}, P:{}, RR:{}\"\u001b[0m\u001b[0;34m.\u001b[0m\u001b[0mformat\u001b[0m\u001b[0;34m(\u001b[0m\u001b[0mep_idx\u001b[0m\u001b[0;34m,\u001b[0m \u001b[0mtrain_loss\u001b[0m\u001b[0;34m,\u001b[0m \u001b[0mavg_ndcg\u001b[0m\u001b[0;34m,\u001b[0m \u001b[0mavg_prec\u001b[0m\u001b[0;34m,\u001b[0m \u001b[0mavg_rr\u001b[0m\u001b[0;34m)\u001b[0m\u001b[0;34m)\u001b[0m\u001b[0;34m\u001b[0m\u001b[0;34m\u001b[0m\u001b[0m\n",
      "\u001b[0;32m<ipython-input-148-08e07aa3aa63>\u001b[0m in \u001b[0;36mtrain\u001b[0;34m(net, epoch_size, batch_size, optimizer, device, pos_neg_dict, query_dict, passage_dict)\u001b[0m\n\u001b[1;32m     44\u001b[0m         \u001b[0;31m# Read in a new mini-batch of data!\u001b[0m\u001b[0;34m\u001b[0m\u001b[0;34m\u001b[0m\u001b[0;34m\u001b[0m\u001b[0m\n\u001b[1;32m     45\u001b[0m         queries, pos, neg, labels = mini_batch(batch_size, device, pos_neg_dict, query_dict,\n\u001b[0;32m---> 46\u001b[0;31m                                                passage_dict)\n\u001b[0m\u001b[1;32m     47\u001b[0m         \u001b[0moptimizer\u001b[0m\u001b[0;34m.\u001b[0m\u001b[0mzero_grad\u001b[0m\u001b[0;34m(\u001b[0m\u001b[0;34m)\u001b[0m\u001b[0;34m\u001b[0m\u001b[0;34m\u001b[0m\u001b[0m\n\u001b[1;32m     48\u001b[0m         \u001b[0mq_embed\u001b[0m \u001b[0;34m=\u001b[0m \u001b[0mnet\u001b[0m\u001b[0;34m(\u001b[0m\u001b[0mqueries\u001b[0m\u001b[0;34m)\u001b[0m\u001b[0;34m\u001b[0m\u001b[0;34m\u001b[0m\u001b[0m\n",
      "\u001b[0;32m<ipython-input-148-08e07aa3aa63>\u001b[0m in \u001b[0;36mmini_batch\u001b[0;34m(batch_size, device, pos_neg_dict, query_dict, passage_dict)\u001b[0m\n\u001b[1;32m     25\u001b[0m         \u001b[0;32mif\u001b[0m \u001b[0mq_seq\u001b[0m \u001b[0;34m!=\u001b[0m \u001b[0;34m[\u001b[0m\u001b[0;34m]\u001b[0m \u001b[0;32mand\u001b[0m \u001b[0mpos_seq\u001b[0m \u001b[0;34m!=\u001b[0m \u001b[0;34m[\u001b[0m\u001b[0;34m]\u001b[0m \u001b[0;32mand\u001b[0m \u001b[0mneg_seq\u001b[0m \u001b[0;34m!=\u001b[0m \u001b[0;34m[\u001b[0m\u001b[0;34m]\u001b[0m\u001b[0;34m:\u001b[0m\u001b[0;34m\u001b[0m\u001b[0;34m\u001b[0m\u001b[0m\n\u001b[1;32m     26\u001b[0m             \u001b[0;32mif\u001b[0m \u001b[0mUSE_SPARSE_INPUT\u001b[0m\u001b[0;34m:\u001b[0m\u001b[0;34m\u001b[0m\u001b[0;34m\u001b[0m\u001b[0m\n\u001b[0;32m---> 27\u001b[0;31m                 \u001b[0mqueries\u001b[0m\u001b[0;34m.\u001b[0m\u001b[0mappend\u001b[0m\u001b[0;34m(\u001b[0m\u001b[0mgenerate_sparse\u001b[0m\u001b[0;34m(\u001b[0m\u001b[0mq_seq\u001b[0m\u001b[0;34m)\u001b[0m\u001b[0;34m)\u001b[0m\u001b[0;34m\u001b[0m\u001b[0;34m\u001b[0m\u001b[0m\n\u001b[0m\u001b[1;32m     28\u001b[0m                 \u001b[0mpos\u001b[0m\u001b[0;34m.\u001b[0m\u001b[0mappend\u001b[0m\u001b[0;34m(\u001b[0m\u001b[0mgenerate_sparse\u001b[0m\u001b[0;34m(\u001b[0m\u001b[0mpos_seq\u001b[0m\u001b[0;34m)\u001b[0m\u001b[0;34m)\u001b[0m\u001b[0;34m\u001b[0m\u001b[0;34m\u001b[0m\u001b[0m\n\u001b[1;32m     29\u001b[0m                 \u001b[0mneg\u001b[0m\u001b[0;34m.\u001b[0m\u001b[0mappend\u001b[0m\u001b[0;34m(\u001b[0m\u001b[0mgenerate_sparse\u001b[0m\u001b[0;34m(\u001b[0m\u001b[0mneg_seq\u001b[0m\u001b[0;34m)\u001b[0m\u001b[0;34m)\u001b[0m\u001b[0;34m\u001b[0m\u001b[0;34m\u001b[0m\u001b[0m\n",
      "\u001b[0;32m<ipython-input-148-08e07aa3aa63>\u001b[0m in \u001b[0;36mgenerate_sparse\u001b[0;34m(idx, vocab_len)\u001b[0m\n\u001b[1;32m      6\u001b[0m     \u001b[0mindex_tensor\u001b[0m \u001b[0;34m=\u001b[0m \u001b[0mtorch\u001b[0m\u001b[0;34m.\u001b[0m\u001b[0mLongTensor\u001b[0m\u001b[0;34m(\u001b[0m\u001b[0;34m[\u001b[0m\u001b[0midx\u001b[0m\u001b[0;34m]\u001b[0m\u001b[0;34m)\u001b[0m\u001b[0;34m\u001b[0m\u001b[0;34m\u001b[0m\u001b[0m\n\u001b[1;32m      7\u001b[0m     \u001b[0mvalue_tensor\u001b[0m \u001b[0;34m=\u001b[0m \u001b[0mtorch\u001b[0m\u001b[0;34m.\u001b[0m\u001b[0mTensor\u001b[0m\u001b[0;34m(\u001b[0m\u001b[0;34m[\u001b[0m\u001b[0;36m1\u001b[0m\u001b[0;34m/\u001b[0m\u001b[0mlen\u001b[0m\u001b[0;34m(\u001b[0m\u001b[0midx\u001b[0m\u001b[0;34m)\u001b[0m\u001b[0;34m]\u001b[0m \u001b[0;34m*\u001b[0m \u001b[0mlen\u001b[0m\u001b[0;34m(\u001b[0m\u001b[0midx\u001b[0m\u001b[0;34m)\u001b[0m\u001b[0;34m)\u001b[0m\u001b[0;34m\u001b[0m\u001b[0;34m\u001b[0m\u001b[0m\n\u001b[0;32m----> 8\u001b[0;31m     \u001b[0msparse_tensor\u001b[0m \u001b[0;34m=\u001b[0m \u001b[0mtorch\u001b[0m\u001b[0;34m.\u001b[0m\u001b[0msparse\u001b[0m\u001b[0;34m.\u001b[0m\u001b[0mFloatTensor\u001b[0m\u001b[0;34m(\u001b[0m\u001b[0mindex_tensor\u001b[0m\u001b[0;34m,\u001b[0m \u001b[0mvalue_tensor\u001b[0m\u001b[0;34m,\u001b[0m \u001b[0mtorch\u001b[0m\u001b[0;34m.\u001b[0m\u001b[0mSize\u001b[0m\u001b[0;34m(\u001b[0m\u001b[0;34m[\u001b[0m\u001b[0mvocab_len\u001b[0m\u001b[0;34m,\u001b[0m \u001b[0;34m]\u001b[0m\u001b[0;34m)\u001b[0m\u001b[0;34m)\u001b[0m\u001b[0;34m\u001b[0m\u001b[0;34m\u001b[0m\u001b[0m\n\u001b[0m\u001b[1;32m      9\u001b[0m     \u001b[0;32mreturn\u001b[0m \u001b[0msparse_tensor\u001b[0m\u001b[0;34m\u001b[0m\u001b[0;34m\u001b[0m\u001b[0m\n\u001b[1;32m     10\u001b[0m \u001b[0;34m\u001b[0m\u001b[0m\n",
      "\u001b[0;31mKeyboardInterrupt\u001b[0m: "
     ]
    }
   ],
   "source": [
    "# net = OldDSSM(embed_size=EMBED_SIZE).to(CURRENT_DEVICE) if USE_SPARSE_INPUT else DSSM(embed_size=EMBED_SIZE).to(CURRENT_DEVICE)\n",
    "# net = CDSSM(embed_size=EMBED_SIZE).to(CURRENT_DEVICE)\n",
    "net = EmbedDSSM(embed_size = EMBED_SIZE, vocab_count=vocab_count, embedding=reorder_embeddings.to(CURRENT_DEVICE)).to(CURRENT_DEVICE)\n",
    "print(net)\n",
    "arg_str = str(NUM_EPOCHS) + \"_\" + str(EPOCH_SIZE) + \"_\" + str(BATCH_SIZE) + \"_\" + str(LEARNING_RATE) + \"_\" + str(\n",
    "    EMBED_SIZE)\n",
    "unique_path = MODEL_PATH + arg_str + \".model\"\n",
    "q_net_path = MODEL_PATH + arg_str + \"query.model\"\n",
    "output_path = MODEL_PATH + arg_str + \".csv\"\n",
    "optimizer = optim.Adagrad(net.parameters(), lr=LEARNING_RATE)\n",
    "optimizer_q = optim.Adagrad(net.parameters(), lr=LEARNING_RATE)\n",
    "for ep_idx in range(NUM_EPOCHS):\n",
    "    train_loss = train(net, net_q, EPOCH_SIZE, BATCH_SIZE, optimizer, optimizer_q, CURRENT_DEVICE, pos_neg_dict_g,\n",
    "                       query_dict_g, passage_dict_g)\n",
    "    avg_ndcg, avg_prec, avg_rr = test(net, net_q, CURRENT_DEVICE, TEST_BATCH, top_dict_g, query_test_dict_g, passage_dict_g, rating_dict_g, RANK)\n",
    "    print_message(\"Epoch:{}, loss:{}, NDCG:{}, P:{}, RR:{}\".format(ep_idx, train_loss, avg_ndcg, avg_prec, avg_rr))\n",
    "    #print_message(\"Epoch:{}, loss:{}\".format(ep_idx, train_loss))\n",
    "    with open(output_path, mode='a+') as output:\n",
    "        output_writer = csv.writer(output)\n",
    "        output_writer.writerow([ep_idx, train_loss, avg_ndcg, avg_prec, avg_rr])\n",
    "    torch.save(net, unique_path)\n",
    "    torch.save(net_q, q_net_path)"
   ]
  },
  {
   "cell_type": "code",
   "execution_count": 80,
   "metadata": {},
   "outputs": [
    {
     "name": "stdout",
     "output_type": "stream",
     "text": [
      "OldDSSM(\n",
      "  (model): Sequential(\n",
      "    (0): Linear(in_features=100000, out_features=256, bias=True)\n",
      "    (1): ReLU()\n",
      "    (2): LayerNorm((256,), eps=1e-05, elementwise_affine=True)\n",
      "    (3): Dropout(p=0.1, inplace=False)\n",
      "    (4): Linear(in_features=256, out_features=256, bias=True)\n",
      "  )\n",
      ")\n"
     ]
    }
   ],
   "source": [
    "print(net)"
   ]
  },
  {
   "cell_type": "code",
   "execution_count": 83,
   "metadata": {},
   "outputs": [
    {
     "name": "stdout",
     "output_type": "stream",
     "text": [
      "EmbedDSSM(\n",
      "  (model): Sequential(\n",
      "    (0): Linear(in_features=100000, out_features=256, bias=True)\n",
      "    (1): ReLU()\n",
      "    (2): LayerNorm((256,), eps=1e-05, elementwise_affine=True)\n",
      "    (3): Dropout(p=0.1, inplace=False)\n",
      "    (4): Linear(in_features=256, out_features=256, bias=True)\n",
      "  )\n",
      ")\n"
     ]
    }
   ],
   "source": [
    "print(net)"
   ]
  },
  {
   "cell_type": "code",
   "execution_count": 84,
   "metadata": {},
   "outputs": [
    {
     "data": {
      "text/plain": [
       "tensor([[ 0.5221, -0.5451,  0.3749,  ...,  1.6482,  1.2232, -0.2113],\n",
       "        [ 0.5983,  0.4151,  0.2175,  ...,  1.7437,  0.8343,  0.1126],\n",
       "        [-0.0777, -0.4538,  0.3472,  ...,  1.1939,  1.1405, -0.3364],\n",
       "        ...,\n",
       "        [ 0.5590, -0.2591,  0.8693,  ...,  2.1135,  1.2273, -0.3843],\n",
       "        [ 0.3698, -0.4965,  0.9606,  ...,  1.9393,  0.8110, -0.4801],\n",
       "        [ 0.9214, -0.5344,  0.7617,  ...,  1.4127,  0.5733, -0.2764]],\n",
       "       device='cuda:1', grad_fn=<AddmmBackward>)"
      ]
     },
     "execution_count": 84,
     "metadata": {},
     "output_type": "execute_result"
    }
   ],
   "source": [
    "net(torch.rand(1024,100000).to(CURRENT_DEVICE))"
   ]
  },
  {
   "cell_type": "code",
   "execution_count": 143,
   "metadata": {},
   "outputs": [],
   "source": [
    "class TestEmbed(torch.nn.Module):\n",
    "\n",
    "    def __init__(self, embed_size, vocab_count, embedding):\n",
    "        super(TestEmbed, self).__init__()\n",
    "        layer_0 = nn.Linear(vocab_count, NUM_HIDDEN_NODES)\n",
    "        layer_0.weight = nn.Parameter(embedding.T, requires_grad=True)\n",
    "        layers = [layer_0]\n",
    "#         layers = []\n",
    "        last_dim = NUM_HIDDEN_NODES\n",
    "        for i in range(NUM_HIDDEN_LAYERS):\n",
    "            if i != 0:\n",
    "                layers.append(nn.Linear(last_dim, NUM_HIDDEN_NODES))\n",
    "            layers.append(nn.ReLU())\n",
    "            layers.append(nn.LayerNorm(NUM_HIDDEN_NODES))\n",
    "            layers.append(nn.Dropout(p=DROPOUT_RATE))\n",
    "            last_dim = NUM_HIDDEN_NODES\n",
    "        layers.append(nn.Linear(last_dim, embed_size))\n",
    "        self.model = nn.Sequential(*layers)\n",
    "        self.embedding = embedding\n",
    "    def forward(self, x):\n",
    "#         x = torch.mm(x, self.embedding)\n",
    "        return self.model(x)\n",
    "\n",
    "    def parameter_count(self):\n",
    "        return sum(p.numel() for p in self.parameters() if p.requires_grad)"
   ]
  },
  {
   "cell_type": "code",
   "execution_count": 145,
   "metadata": {},
   "outputs": [
    {
     "data": {
      "text/plain": [
       "torch.Size([1024, 256])"
      ]
     },
     "execution_count": 145,
     "metadata": {},
     "output_type": "execute_result"
    }
   ],
   "source": [
    "net = TestEmbed(256,100000,torch.rand((100000,256)))\n",
    "net(torch.rand(1024,100000)).shape"
   ]
  },
  {
   "cell_type": "code",
   "execution_count": null,
   "metadata": {},
   "outputs": [],
   "source": []
  }
 ],
 "metadata": {
  "kernelspec": {
   "display_name": "Python 3",
   "language": "python",
   "name": "python3"
  },
  "language_info": {
   "codemirror_mode": {
    "name": "ipython",
    "version": 3
   },
   "file_extension": ".py",
   "mimetype": "text/x-python",
   "name": "python",
   "nbconvert_exporter": "python",
   "pygments_lexer": "ipython3",
   "version": "3.7.7"
  }
 },
 "nbformat": 4,
 "nbformat_minor": 1
}
